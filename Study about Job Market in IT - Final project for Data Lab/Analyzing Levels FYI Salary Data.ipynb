{
  "nbformat": 4,
  "nbformat_minor": 0,
  "metadata": {
    "colab": {
      "name": "Analyzing Levels FYI Salary Data.ipynb",
      "provenance": [],
      "collapsed_sections": []
    },
    "kernelspec": {
      "name": "python3",
      "display_name": "Python 3"
    },
    "language_info": {
      "name": "python"
    }
  },
  "cells": [
    {
      "cell_type": "markdown",
      "source": [
        "Importo lo que necesito del codigo:"
      ],
      "metadata": {
        "id": "765_OFq4QWkC"
      }
    },
    {
      "cell_type": "code",
      "source": [
        "import pandas as pd\n",
        "import numpy as np\n",
        "import matplotlib.pyplot as plt\n",
        "from google.colab import drive\n",
        "import seaborn as sns\n",
        "\n",
        "drive.mount('/content/drive')\n",
        "\n",
        "file_name='/content/drive/My Drive/Levels_Fyi_Salary_Data.csv' \n",
        "\n",
        "df=pd.read_csv(file_name)"
      ],
      "metadata": {
        "colab": {
          "base_uri": "https://localhost:8080/"
        },
        "id": "2z4FEz1vQbjy",
        "outputId": "0c2f7f42-5f90-4304-8f4e-d1f0702e69a0"
      },
      "execution_count": null,
      "outputs": [
        {
          "output_type": "stream",
          "name": "stdout",
          "text": [
            "Mounted at /content/drive\n"
          ]
        }
      ]
    },
    {
      "cell_type": "markdown",
      "source": [
        "Acondiciono los datos"
      ],
      "metadata": {
        "id": "oWTXzy8sQmIz"
      }
    },
    {
      "cell_type": "code",
      "source": [
        "#Me quedo solo con las columnas de compañia, salario base, origen etnico y años.\n",
        "\n",
        "df_eth=df[['timestamp','company','basesalary','Race','Education','yearsatcompany','title']]\n",
        "\n",
        "#Paso a minusculas algunas columnas\n",
        "\n",
        "df_eth['title']=df_eth['title'].str.lower()\n",
        "\n",
        "df_eth['Education']=df_eth['Education'].str.lower()\n",
        "\n",
        "df_eth['company']=df_eth['company'].str.lower()\n",
        "\n",
        "#Dropeo los Nans.\n",
        "\n",
        "df_eth=df_eth[df_eth['Race'].str.contains('nan')==False]\n",
        "\n",
        "df_eth=df_eth[df_eth['Education'].str.contains('nan')==False]\n",
        "\n",
        "df_eth=df_eth[df_eth['Education'].str.contains('nan')==False]\n",
        "\n",
        "df_eth.reset_index(drop=True,inplace=True)\n",
        "\n",
        "#De la columna del tiempo me interesan solo los años asique creo una funcion para estandarizarla.\n",
        "#Donde 'df' es el dataset, 'col' el nombre de la columna, 'wi' la palabra a reemplazar.\n",
        "def replacer(df,col,w1,w2,w3):\n",
        "    for i in df.index:\n",
        "        if w1 in df.loc[i,col]:\n",
        "            df.loc[i,col]=w1\n",
        "        if w2 in df.loc[i,col]:\n",
        "            df.loc[i,col]=w2\n",
        "        if w3 in df.loc[i,col]:\n",
        "            df.loc[i,col]=w3\n",
        "    return df\n",
        "\n",
        "df_eth=replacer(df_eth,'timestamp','2019','2020','2021')\n",
        "\n",
        "#De la columna de compañias me interesan unicamente las que tienen por lo menos datos de mas de una cantidad T de empleados, por lo tanto la filtro con la siguiente funcion.\n",
        "#Donde 'df' es el dataset, 'col' la columna a filtrar, 'T' el umbral con los datos.\n",
        "def remover(df,col,T):\n",
        "    t_dict=df_eth['company'].value_counts().to_dict()\n",
        "    f_dict=df_eth['company'].value_counts().to_dict()\n",
        "    for key, values in t_dict.items():\n",
        "        if values <= T:\n",
        "            del f_dict[key]\n",
        "    df=df.loc[df[col].isin(list(f_dict.keys()))]\n",
        "    return df\n",
        "    \n",
        "df_eth=remover(df_eth,'company',200)\n",
        "\n",
        "#Armo un dataset con el salario clasificado en 3 grupos \n",
        "#Donde 'df' es el dataset, 'col' la columna a filtrar, 'Ti' los parametros que limitan los grupos de salarios.\n",
        "def filter_s(df,col,T1,T2,T3,T4):\n",
        "  df1=df.copy()\n",
        "  for i in df1.index:\n",
        "    if T1<=int(df1.loc[i,col])<T2:\n",
        "        df1.loc[i,col]='A'\n",
        "    elif T2<=int(df1.loc[i,col])<T3:\n",
        "        df1.loc[i,col]='B'\n",
        "    elif T3<=int(df1.loc[i,col])<=T4:\n",
        "        df1.loc[i,col]='C'\n",
        "  return df1\n",
        "\n",
        "\n",
        "df_eth_s=filter_s(df_eth,'basesalary',9000,30000,140000,600000)\n",
        "print(df_eth_s)\n",
        "#Borro Two Or More\n",
        "\n",
        "df_eth=df_eth[df_eth['Race'].str.contains('Two Or More')==False]\n",
        "\n"
      ],
      "metadata": {
        "colab": {
          "base_uri": "https://localhost:8080/"
        },
        "id": "jhQBLfUqQnp3",
        "outputId": "bf0dc389-8890-4801-b3a5-d230fc61fbff"
      },
      "execution_count": null,
      "outputs": [
        {
          "output_type": "stream",
          "name": "stderr",
          "text": [
            "/usr/local/lib/python3.7/dist-packages/ipykernel_launcher.py:7: SettingWithCopyWarning: \n",
            "A value is trying to be set on a copy of a slice from a DataFrame.\n",
            "Try using .loc[row_indexer,col_indexer] = value instead\n",
            "\n",
            "See the caveats in the documentation: https://pandas.pydata.org/pandas-docs/stable/user_guide/indexing.html#returning-a-view-versus-a-copy\n",
            "  import sys\n",
            "/usr/local/lib/python3.7/dist-packages/ipykernel_launcher.py:9: SettingWithCopyWarning: \n",
            "A value is trying to be set on a copy of a slice from a DataFrame.\n",
            "Try using .loc[row_indexer,col_indexer] = value instead\n",
            "\n",
            "See the caveats in the documentation: https://pandas.pydata.org/pandas-docs/stable/user_guide/indexing.html#returning-a-view-versus-a-copy\n",
            "  if __name__ == '__main__':\n",
            "/usr/local/lib/python3.7/dist-packages/ipykernel_launcher.py:11: SettingWithCopyWarning: \n",
            "A value is trying to be set on a copy of a slice from a DataFrame.\n",
            "Try using .loc[row_indexer,col_indexer] = value instead\n",
            "\n",
            "See the caveats in the documentation: https://pandas.pydata.org/pandas-docs/stable/user_guide/indexing.html#returning-a-view-versus-a-copy\n",
            "  # This is added back by InteractiveShellApp.init_path()\n"
          ]
        },
        {
          "output_type": "stream",
          "name": "stdout",
          "text": [
            "      timestamp    company basesalary         Race          Education  \\\n",
            "0          2020     google          C        Asian                phd   \n",
            "1          2020  microsoft          B  Two Or More  bachelor's degree   \n",
            "2          2020     google          C        Asian  bachelor's degree   \n",
            "3          2020  microsoft          C        Asian    master's degree   \n",
            "5          2020     amazon          C        Asian  bachelor's degree   \n",
            "...         ...        ...        ...          ...                ...   \n",
            "21673      2020   facebook          C        White  bachelor's degree   \n",
            "21676      2021   facebook          C        Asian  bachelor's degree   \n",
            "21677      2021     google          C        Asian    master's degree   \n",
            "21679      2021   facebook          C        Black    master's degree   \n",
            "21680      2021   facebook          C        Asian    master's degree   \n",
            "\n",
            "       yearsatcompany                         title  \n",
            "0                 5.0             software engineer  \n",
            "1                 2.0             software engineer  \n",
            "2                 6.0             software engineer  \n",
            "3                 4.0             software engineer  \n",
            "5                 3.0             software engineer  \n",
            "...               ...                           ...  \n",
            "21673             6.0  software engineering manager  \n",
            "21676             7.0  software engineering manager  \n",
            "21677            14.0               product manager  \n",
            "21679             2.0  software engineering manager  \n",
            "21680             0.0               product manager  \n",
            "\n",
            "[9871 rows x 7 columns]\n"
          ]
        }
      ]
    },
    {
      "cell_type": "code",
      "source": [
        "print(df_eth['company'].value_counts())"
      ],
      "metadata": {
        "colab": {
          "base_uri": "https://localhost:8080/"
        },
        "id": "dDzUunOVin3D",
        "outputId": "d004b294-6d27-42ff-e313-0b6f3ecc12ad"
      },
      "execution_count": null,
      "outputs": [
        {
          "output_type": "stream",
          "name": "stdout",
          "text": [
            "amazon            2508\n",
            "microsoft         1580\n",
            "google            1268\n",
            "facebook           971\n",
            "apple              586\n",
            "oracle             398\n",
            "ibm                351\n",
            "intel              323\n",
            "cisco              312\n",
            "salesforce         290\n",
            "capital one        267\n",
            "vmware             244\n",
            "jpmorgan chase     231\n",
            "deloitte           201\n",
            "Name: company, dtype: int64\n"
          ]
        }
      ]
    },
    {
      "cell_type": "markdown",
      "source": [
        "Calculo el porcentaje total de etnias en el mundo laboral IT y el porcentaje por etnia en cada compañia."
      ],
      "metadata": {
        "id": "sNASQeIKWjky"
      }
    },
    {
      "cell_type": "code",
      "source": [
        "#Calculo el total de empleados\n",
        "t_emp2=len(df_eth['Race'])\n",
        "\n",
        "def eth_total_employes(df,et):\n",
        "  df=df[df['Race'].str.contains(et)!=False].copy()\n",
        "  t=df['Race'].value_counts().to_dict()\n",
        "  k=t[et]\n",
        "  return k\n",
        "\n",
        "#Defino la funcion para calcular el total de empleados por cada etnia\n",
        "def employes(df,col,comps):\n",
        "  if comps==[]:\n",
        "    pass\n",
        "  else: \n",
        "    df=df.loc[df[col].isin(comps)].copy()\n",
        "  t_emp=df[col].value_counts().to_dict()\n",
        "  return t_emp\n",
        "\n",
        "def eth_employes(df,col,et,comps):\n",
        "    if comps==[]:\n",
        "      pass\n",
        "    else: \n",
        "      df=df.loc[df[col].isin(comps)].copy()\n",
        "    df=df[df['Race'].str.contains(et)!=False]\n",
        "    #Cuento la cantidad por empresa.\n",
        "    et_employes=df['Race'].value_counts()\n",
        "    return et_employes\n",
        "\n",
        "#Defino la función para calcular el porcentaje de empleados por compañia.\n",
        "\n",
        "#Donde 'et' la etnia que quiero analizar y t_emp el total de empleados.\n",
        "def percentage(df,et,t_emp,comps):\n",
        "  if comps==[]: \n",
        "    pass\n",
        "  else: \n",
        "    df=df.loc[df['company'].isin(comps)].copy()\n",
        "  eth_dict={} #Diccionario donde voy a guardar el porcentaje. \n",
        "  df_as=df[df['Race'].str.contains(et)!=False] #Separo el dataset por etnias\n",
        "  etv=df_as['company'].value_counts()\n",
        "  for i in etv.index:\n",
        "      p=round((etv[i]/t_emp[i])*100,0)\n",
        "      eth_dict[i]=p\n",
        "  return eth_dict\n",
        "\n",
        "#Aplico\n",
        "\n",
        "comps=['google','ibm','microsoft','apple','amazon']\n",
        "\n",
        "t_emp=employes(df_eth,'company',comps)\n",
        "#Asiatico\n",
        "t_as_emp=eth_employes(df_eth,'company','Asian',comps)\n",
        "p_as_emp=percentage(df_eth,'Asian',t_emp,comps)\n",
        "#Hispano\n",
        "t_hi_emp=eth_employes(df_eth,'company','Hispanic',comps)\n",
        "p_hi_emp=percentage(df_eth,'Hispanic',t_emp,comps)\n",
        "#¿Americano? \n",
        "t_wh_emp=eth_employes(df_eth,'company','White',comps)\n",
        "p_wh_emp=percentage(df_eth,'White',t_emp,comps)\n",
        "#Afroamericano\n",
        "t_bl_emp=eth_employes(df_eth,'company','Black',comps)\n",
        "p_bl_emp=percentage(df_eth,'Black',t_emp,comps)\n",
        "#Mestizo\n",
        "#t_hb_emp=eth_employes(df_eth,'company','Two Or More',comps)\n",
        "#p_hb_emp=percentage(df_eth,'Two Or More',t_emp,comps)\n",
        "\n",
        "#Creo un dataframe con la info obtenida\n",
        "companies=[]\n",
        "for i in p_as_emp.keys():\n",
        "  companies.append(i)\n",
        "for i in p_hi_emp.keys():\n",
        "  companies.append(i)\n",
        "for i in p_wh_emp.keys():\n",
        "  companies.append(i)\n",
        "for i in p_bl_emp.keys():\n",
        "  companies.append(i)\n",
        "\n",
        "\n",
        "percentage=[]\n",
        "for i in p_as_emp.values():\n",
        "  percentage.append(i)\n",
        "for i in p_hi_emp.values():\n",
        "  percentage.append(i)\n",
        "for i in p_wh_emp.values():\n",
        "  percentage.append(i)\n",
        "for i in p_bl_emp.values():\n",
        "  percentage.append(i)\n",
        "\n",
        "et=[]\n",
        "for i in range(len(p_as_emp.keys())):\n",
        "  et.append('Asiático')\n",
        "for i in range(len(p_hi_emp.keys())):\n",
        "  et.append('Hispano')\n",
        "for i in range(len(p_wh_emp.keys())):\n",
        "  et.append('Norteamericano')\n",
        "for i in range(len(p_bl_emp.keys())):\n",
        "  et.append('Afroamericano')\n",
        "\n",
        "data={'compañias':companies,'Porcentaje':percentage,'Etnia':et}\n",
        "\n",
        "df_per=pd.DataFrame(data)\n",
        "\n",
        "df_per.sort_values('Porcentaje',ascending=False,inplace=True)\n",
        "\n",
        "#Estudio los casos totales\n",
        "\n",
        "#Asiaticos\n",
        "total_as=eth_total_employes(df_eth,'Asian')\n",
        "#Hispanos\n",
        "total_hi=eth_total_employes(df_eth,'Hispanic')\n",
        "#Americanos\n",
        "total_am=eth_total_employes(df_eth,'White')\n",
        "#Afroamericanos\n",
        "total_af=eth_total_employes(df_eth,'Black')\n",
        "#Mestizos\n",
        "#total_hb=eth_total_employes(df_eth,'Two Or More')\n",
        "\n",
        "\n",
        "\n",
        "total=[100*total_as/t_emp2,100*total_hi/t_emp2,100*total_am/t_emp2,100*total_af/t_emp2]\n",
        "\n",
        "total.sort(reverse=True)\n",
        "\n",
        "#Realizo los calculos para los grupos salariales\n",
        "#Donde 'df' es el datasetm, 'col' la columna a filtrar(salario), 'w1' la palabra a filtrar(en este caso la etnia),  A,B y C los nombres de los grupos salariales.\n",
        "def filter1(df,col,w):\n",
        "  #Filtro el dataset por etnia\n",
        "  df=df[df['Race'].str.contains(w)!=False]\n",
        "  #Filtro por sueldo. \n",
        "  A=df[df[col].str.contains('A')!=False]\n",
        "  B=df[df[col].str.contains('B')!=False]\n",
        "  C=df[df[col].str.contains('C')!=False]\n",
        "  x1=A['basesalary'].value_counts().to_dict()\n",
        "  x2=B['basesalary'].value_counts().to_dict()\n",
        "  x3=C['basesalary'].value_counts().to_dict()\n",
        "  try:\n",
        "    A1=x1['A']\n",
        "  except:\n",
        "    A1=0\n",
        "  try:\n",
        "    B1=x2['B']\n",
        "  except:\n",
        "    B1=0\n",
        "  try:\n",
        "    C1=x3['C']\n",
        "  except:\n",
        "    C1=0\n",
        "  t=(A1+B1+C1)  #Calculo el total para obtener el resultado en porcentaje.\n",
        "  l=[] #Lista donde voy a guardar la cantidad por cada grupo salarial.\n",
        "  l.append((A1/t)*100)\n",
        "  l.append((B1/t)*100)\n",
        "  l.append((C1/t)*100)\n",
        "  return l\n",
        "\n",
        "#Aplico para cada etnia\n",
        "#Asiatico\n",
        "s_as=filter1(df_eth_s,'basesalary','Asian')\n",
        "#Hispano\n",
        "s_hi=filter1(df_eth_s,'basesalary','Hispanic')\n",
        "#Americano\n",
        "s_wh=filter1(df_eth_s,'basesalary','White')\n",
        "#Afroamericano\n",
        "s_bl=filter1(df_eth_s,'basesalary','Black')\n",
        "\n",
        "#Creo un dataset con la informacion obtenida\n",
        "companies2=[]\n",
        "et2=[]\n",
        "salary=['A (750-2.500)USD','B  (2.500-11.500)USD','C (11.500-50.000)USD','A (750-2.500)USD','B  (2.500-11.500)USD','C (11.500-50.000)USD','A (750-2.500)USD','B  (2.500-11.500)USD','C (11.500-50.000)USD','A (750-2.500)USD','B  (2.500-11.500)USD','C (11.500-50.000)USD']\n",
        "for i in s_as:\n",
        "  companies2.append(i)\n",
        "  et2.append('Asiatico')\n",
        "for i in s_hi :\n",
        "  companies2.append(i)\n",
        "  et2.append('Hispano')\n",
        "for i in s_wh:\n",
        "  companies2.append(i)\n",
        "  et2.append('Norteamericano')\n",
        "for i in s_bl:\n",
        "  companies2.append(i)\n",
        "  et2.append('Afroamericano')\n",
        "\n",
        "data_s={'Grupo salarial':salary,'Etnia':et2,'Porcentaje':companies2}\n",
        "\n",
        "df_sal=pd.DataFrame(data_s)\n",
        "\n",
        "df_sal['Porcentaje'].sort_values(ascending=False)\n",
        "\n",
        "#Mismo pero por compañia\n",
        "#Donde 'df' es el datasetm, 'col' la columna a filtrar(salario), 'w1' la palabra a filtrar(en este caso la etnia),  A,B y C los nombres de los grupos salariales\n",
        "#y 'com' el nombre de la compañia.\n",
        "def filter2(df,col,w,com):\n",
        "  #Filtro el dataset por compañia\n",
        "  df=df[df['company'].str.contains(com)!=False]  \n",
        "  #Filtro el dataset por etnia\n",
        "  df=df[df['Race'].str.contains(w)!=False]\n",
        "  #Filtro por sueldo. \n",
        "  A=df[df[col].str.contains('A')!=False]\n",
        "  B=df[df[col].str.contains('B')!=False]\n",
        "  C=df[df[col].str.contains('C')!=False]\n",
        "  x1=A['basesalary'].value_counts().to_dict()\n",
        "  x2=B['basesalary'].value_counts().to_dict()\n",
        "  x3=C['basesalary'].value_counts().to_dict()\n",
        "  try:\n",
        "    A1=x1['A']\n",
        "  except:\n",
        "    A1=0\n",
        "  try:\n",
        "    B1=x2['B']\n",
        "  except:\n",
        "    B1=0\n",
        "  try:\n",
        "    C1=x3['C']\n",
        "  except:\n",
        "    C1=0\n",
        "  t=(A1+B1+C1)  #Calculo el total para obtener el resultado en porcentaje.\n",
        "  l=[] #Lista donde voy a guardar la cantidad por cada grupo salarial.\n",
        "  l.append((A1/t)*100)\n",
        "  l.append((B1/t)*100)\n",
        "  l.append((C1/t)*100)\n",
        "  return l\n",
        "\n",
        "#Aplico para cada etnia\n",
        "#Asiatico\n",
        "s_as2=filter2(df_eth_s,'basesalary','Asian','google')\n",
        "#Hispano\n",
        "s_hi2=filter2(df_eth_s,'basesalary','Hispanic','google')\n",
        "#Americano\n",
        "s_wh2=filter2(df_eth_s,'basesalary','White','google')\n",
        "#Afroamericano\n",
        "s_bl2=filter2(df_eth_s,'basesalary','Black','google')\n",
        "\n",
        "\n",
        "#Creo un dataset con la informacion obtenida\n",
        "companies22=[]\n",
        "et22=[]\n",
        "salary2=['A','B','C','A','B','C','A','B','C','A','B','C']\n",
        "for i in s_as2:\n",
        "  companies22.append(i)\n",
        "  et22.append('Asiatico')\n",
        "for i in s_hi2 :\n",
        "  companies22.append(i)\n",
        "  et22.append('Hispano')\n",
        "for i in s_wh2:\n",
        "  companies22.append(i)\n",
        "  et22.append('Norteamericano')\n",
        "for i in s_bl2:\n",
        "  companies22.append(i)\n",
        "  et22.append('Afroamericano')\n",
        "\n",
        "data_s2={'Grupo salarial':salary2,'Etnia':et22,'Porcentaje':companies22}\n",
        "\n",
        "df_sal2=pd.DataFrame(data_s)\n",
        "\n",
        "#Estudio salario en igualdad de condiciones.\n",
        "def equi(df,years,grade,position,comps):\n",
        "  if comps==[]: \n",
        "    pass\n",
        "  else: \n",
        "    df=df.loc[df['company'].isin(comps)].copy()\n",
        "  df=df.loc[df['yearsatcompany'].isin(years)].copy()\n",
        "  try:\n",
        "    df=df[df['Education'].str.contains(grade)!=False].copy()\n",
        "  except:\n",
        "    print(\"En las compañias seleccionadas y con los años de experiencia indicados no hay gente con ese grado de eduacion.\")\n",
        "  try:\n",
        "    df=df[df['title'].str.contains(position)!=False].copy()\n",
        "  except:\n",
        "    print(\"En las compañias seleccionadas, con los años de experiencia y el grado academico indicados no hay gente en esa posicion. \")\n",
        "  #print(df)\n",
        "  print(df['title'].value_counts())\n",
        "  et=df['Race'].value_counts().to_dict()\n",
        "  et_l=[] #Lista donde voy a guardar las etnias.\n",
        "  total_l=[] #Lista donde voy a guardar los valores de cada etnia.\n",
        "  for i in et:\n",
        "    et_l.append(i)\n",
        "    total_l.append(et[i])\n",
        "  total=np.sum(total_l)\n",
        "  percent_d={}\n",
        "  for i in et:\n",
        "    percent_d[i]=round(100*et[i]/total,0)\n",
        "  means=[] #Aca voy a guardar los promedios de los salarios\n",
        "  if 'Asian' in et_l:\n",
        "    df_as=df[df['Race'].str.contains('Asian')].copy()\n",
        "    mean_as=round(np.mean(df_as['basesalary']),0)\n",
        "    means.append(mean_as)\n",
        "  else:\n",
        "    pass\n",
        "  if 'Hispanic' in et_l:\n",
        "    df_hi=df[df['Race'].str.contains('Hispanic')].copy()\n",
        "    mean_hi=round(np.mean(df_hi['basesalary']),0)\n",
        "    means.append(mean_hi)\n",
        "  else:\n",
        "    pass\n",
        "  if 'White' in et_l:\n",
        "    df_am=df[df['Race'].str.contains('White')].copy()\n",
        "    mean_am=round(np.mean(df_am['basesalary']),0)\n",
        "    means.append(mean_am)\n",
        "  else:\n",
        "    pass\n",
        "  if 'Black' in et_l:\n",
        "    df_af=df[df['Race'].str.contains('Black')].copy()\n",
        "    mean_af=round(np.mean(df_af['basesalary']),0)\n",
        "    means.append(mean_af)\n",
        "  else:\n",
        "    pass\n",
        "  if 'Two Or More' in et_l:\n",
        "    df_hb=df[df['Race'].str.contains('Two Or More')].copy()\n",
        "    mean_hb=round(np.mean(df_hb['basesalary']),0)\n",
        "    means.append(mean_hb)\n",
        "  else:\n",
        "    pass\n",
        "  return percent_d,means"
      ],
      "metadata": {
        "id": "JYP-G6YJXDYw"
      },
      "execution_count": null,
      "outputs": []
    },
    {
      "cell_type": "markdown",
      "source": [
        "Primero observo la distribución total del trabajo IT segun el origen etni"
      ],
      "metadata": {
        "id": "5enDGFObXt7e"
      }
    },
    {
      "cell_type": "code",
      "source": [
        "#Parametros graficos\n",
        "color='rocket'\n",
        "tamaño_titulo=20\n",
        "tamaño_labels=18\n",
        "tamaño_leyendas=14\n"
      ],
      "metadata": {
        "id": "62mTqzYX-kCc"
      },
      "execution_count": null,
      "outputs": []
    },
    {
      "cell_type": "code",
      "source": [
        "\n",
        "#etnias=['Asiaticos','Hispanos','Norte-Americanos','Afroamericanos','Mestizos']\n",
        "etnias=['Asiáticos','Norteamericanos','Hispanos','Afroamericanos']\n",
        "fig, axs = plt.subplots(figsize = (18, 6))\n",
        "sns.barplot(x=[i for i in range(len(total))],y=[i for i in total],palette=color,zorder=3)\n",
        "axs.set_xticks([i for i in range(len(total))]) \n",
        "axs.set_xticklabels(etnias,rotation = 0,fontsize=tamaño_labels) \n",
        "axs.set_ylabel('Porcentaje(%)',fontsize=20)\n",
        "axs.set_title('Distribución de empleados por origen étnico',fontsize=tamaño_titulo)\n",
        "axs.grid(zorder=0.5)\n",
        "#axs[1,2].set_title('Porcentaje total por compañia ')\n",
        "fig2 =axs.get_figure()\n",
        "fig2.savefig(\"Distribución de empleados por origen étnico.png\")\n"
      ],
      "metadata": {
        "colab": {
          "base_uri": "https://localhost:8080/",
          "height": 404
        },
        "id": "iYs1Np50YHzE",
        "outputId": "fadc63e3-83ab-4419-bf84-3a7667db535d"
      },
      "execution_count": null,
      "outputs": [
        {
          "output_type": "display_data",
          "data": {
            "text/plain": [
              "<Figure size 1296x432 with 1 Axes>"
            ],
            "image/png": "[encoded data removed]"
          },
          "metadata": {
            "needs_background": "light"
          }
        }
      ]
    },
    {
      "cell_type": "markdown",
      "source": [
        "Estudio la distribución etnica por compañia"
      ],
      "metadata": {
        "id": "pSD2-ReJpQt1"
      }
    },
    {
      "cell_type": "code",
      "source": [
        "fig, axs = plt.subplots(figsize = (28, 12))\n",
        "sns.barplot(x='compañias', y='Porcentaje', hue='Etnia', data=df_per,zorder=3,palette='rocket')\n",
        "axs.set_xticklabels(['Amazon','Apple','Microsoft','Google','IBM'],rotation = 0,fontsize=28) \n",
        "axs.set_title('Distribución de empleados por origen etnico',fontsize=30)\n",
        "axs.set_xlabel('')\n",
        "axs.set_ylabel('Porcentaje(%)',fontsize=28)\n",
        "axs.legend(loc='upper right',fontsize=15)\n",
        "axs.grid(zorder=0.5)\n",
        "fig3 =axs.get_figure()\n",
        "fig3.savefig(\"Distribución de empleados por origen étnico, por compañia.png\")\n"
      ],
      "metadata": {
        "colab": {
          "base_uri": "https://localhost:8080/",
          "height": 518
        },
        "id": "lAPZZE4c4sF6",
        "outputId": "270b8ca1-5b35-4b56-816b-42f9dbade20d"
      },
      "execution_count": null,
      "outputs": [
        {
          "output_type": "display_data",
          "data": {
            "text/plain": [
              "<Figure size 2016x864 with 1 Axes>"
            ],
            "image/png": "[encoded data removed]"
          },
          "metadata": {
            "needs_background": "light"
          }
        }
      ]
    },
    {
      "cell_type": "markdown",
      "source": [
        "Estudio la etnia por grupos salariales."
      ],
      "metadata": {
        "id": "jBDpHUFRGm0_"
      }
    },
    {
      "cell_type": "code",
      "source": [
        "fig, axs = plt.subplots(figsize = (25, 8))\n",
        "sns.barplot(x='Etnia', y='Porcentaje', hue='Grupo salarial', data=df_sal,zorder=3,palette='rocket')\n",
        "axs.set_xticklabels(['Asiaticos','Hispanos','Norteamericanos','Afroamericanos'],rotation = 0,fontsize=28) \n",
        "axs.set_title('Distribución de grupos salariales según origen étnico',fontsize=30)\n",
        "axs.set_xlabel('')\n",
        "axs.set_ylabel('Porcentaje(%)',fontsize=28)\n",
        "axs.legend(loc='upper left',fontsize=tamaño_leyendas)\n",
        "axs.grid(zorder=0.5)\n",
        "fig4 =axs.get_figure()\n",
        "fig4.savefig(\"Distribución por grupo salarial.png\")\n"
      ],
      "metadata": {
        "colab": {
          "base_uri": "https://localhost:8080/",
          "height": 409
        },
        "id": "bF_VyxnMNUcd",
        "outputId": "f7203389-75a2-4544-d7d8-9dc0d790088f"
      },
      "execution_count": null,
      "outputs": [
        {
          "output_type": "display_data",
          "data": {
            "text/plain": [
              "<Figure size 1800x576 with 1 Axes>"
            ],
            "image/png": "[encoded data removed]"
          },
          "metadata": {
            "needs_background": "light"
          }
        }
      ]
    },
    {
      "cell_type": "markdown",
      "source": [
        "Mismo estudio para compañias especificas."
      ],
      "metadata": {
        "id": "JNfEgUjHOPb5"
      }
    },
    {
      "cell_type": "code",
      "source": [
        "fig, axs = plt.subplots(figsize = (19, 8))\n",
        "sns.barplot(x='Etnia', y='Porcentaje', hue='Grupo salarial', data=df_sal2,zorder=3,palette='rocket')\n",
        "axs.set_xticklabels(['Asiaticos','Hispanos','Norteamericanos','Afroamericanos'],rotation = 45,fontsize=tamaño_labels) \n",
        "axs.set_title('Distribución de grupos salariales segun el origen etnico en Google',fontsize=tamaño_titulo)\n",
        "#axs.set_xlabel('')\n",
        "axs.set_ylabel('Porcentaje',fontsize=tamaño_labels)\n",
        "axs.legend(loc='upper right',fontsize=tamaño_leyendas)\n",
        "axs.grid(zorder=0.5)"
      ],
      "metadata": {
        "colab": {
          "base_uri": "https://localhost:8080/",
          "height": 611
        },
        "id": "nIKy3kV2Psjg",
        "outputId": "d5c2c301-7407-4251-9430-5eeefba019c6"
      },
      "execution_count": null,
      "outputs": [
        {
          "output_type": "display_data",
          "data": {
            "text/plain": [
              "<Figure size 1368x576 with 1 Axes>"
            ],
            "image/png": "[encoded data removed]"
          },
          "metadata": {
            "needs_background": "light"
          }
        }
      ]
    },
    {
      "cell_type": "markdown",
      "source": [
        "Analizo el sueldo en igualdad de condiciones por compañia."
      ],
      "metadata": {
        "id": "2sXXJp-GRL1f"
      }
    },
    {
      "cell_type": "code",
      "source": [
        "#etnias=['Asiaticos','Norteamericanos','Hispanos','Afroamericanos']\n",
        "fig, axs = plt.subplots(figsize = (18, 6))\n",
        "sns.barplot(x=[i for i in range(len(percent_d))],y=[i for i in means],palette=color,zorder=3)\n",
        "axs.set_xticks([i for i in range(len(percent_d))]) \n",
        "#axs.set_xticklabels(['Asiaticos','Norteamericanos','Hispanos'],rotation = 0,fontsize=tamaño_labels) \n",
        "axs.set_title('Comparación salarial en igualdad de condiciones',fontsize=tamaño_titulo)\n",
        "axs.grid(zorder=0.5)"
      ],
      "metadata": {
        "colab": {
          "base_uri": "https://localhost:8080/",
          "height": 396
        },
        "id": "hzRTxJs8RQNJ",
        "outputId": "c95cb52f-b191-4845-d806-886cba713293"
      },
      "execution_count": null,
      "outputs": [
        {
          "output_type": "display_data",
          "data": {
            "text/plain": [
              "<Figure size 1296x432 with 1 Axes>"
            ],
            "image/png": "[encoded data removed]"
          },
          "metadata": {
            "needs_background": "light"
          }
        }
      ]
    },
    {
      "cell_type": "code",
      "source": [
        "years=1.0\n",
        "grade=\"bachelor\"\n",
        "position='technical program manager'\n",
        "companies=['amazon']\n",
        "\n",
        "percent_d,means= equi(df_eth,[years],grade,position,companies)\n",
        "\n",
        "\n",
        "\n",
        "print(percent_d)\n",
        "print(means)\n",
        "\n"
      ],
      "metadata": {
        "colab": {
          "base_uri": "https://localhost:8080/"
        },
        "id": "cY-6pn-1ROw6",
        "outputId": "bb954fd8-6c87-403d-baf3-98eea62265d4"
      },
      "execution_count": null,
      "outputs": [
        {
          "output_type": "stream",
          "name": "stdout",
          "text": [
            "technical program manager    4\n",
            "Name: title, dtype: int64\n",
            "{'Asian': 50.0, 'White': 50.0}\n",
            "[138500.0, 134000.0]\n"
          ]
        }
      ]
    },
    {
      "cell_type": "markdown",
      "source": [
        "Gráfico general"
      ],
      "metadata": {
        "id": "-nD9cgv6SDsw"
      }
    },
    {
      "cell_type": "code",
      "source": [
        "\n",
        "#Amazon\n",
        "companiesam=[]\n",
        "etam=[]\n",
        "salaryam=[]\n",
        "j=0\n",
        "for i in percent_d:\n",
        "  companiesam.append('Amazon')\n",
        "  etam.append(i)\n",
        "  salaryam.append(round(means[j]/12,0))\n",
        "  j+=1\n",
        "\n",
        "data_sam={'Salario':salaryam,'Etnia':etam,'compañia':companiesam}\n",
        "print(data_sam)\n",
        "df_salam=pd.DataFrame(data_sam)"
      ],
      "metadata": {
        "colab": {
          "base_uri": "https://localhost:8080/"
        },
        "id": "8_KB3STlSMr-",
        "outputId": "e5bac6a3-00ad-4549-811b-1f1b120942b5"
      },
      "execution_count": null,
      "outputs": [
        {
          "output_type": "stream",
          "name": "stdout",
          "text": [
            "{'Salario': [13958.0, 8750.0, 11250.0], 'Etnia': ['Asian', 'Black', 'White'], 'compañia': ['Amazon', 'Amazon', 'Amazon']}\n"
          ]
        }
      ]
    },
    {
      "cell_type": "code",
      "source": [
        "#Google\n",
        "companiesg=[]\n",
        "etg=[]\n",
        "salaryg=[]\n",
        "j=0\n",
        "for i in percent_d:\n",
        "  companiesg.append('Google')\n",
        "  etg.append(i)\n",
        "  salaryg.append(round(means[j]/12,0))\n",
        "  j+=1\n",
        "\n",
        "data_sg={'Salario':salaryg,'Etnia':etg,'compañia':companiesg}\n",
        "\n",
        "df_salg=pd.DataFrame(data_sg)\n",
        "\n",
        "print(df_salg)"
      ],
      "metadata": {
        "colab": {
          "base_uri": "https://localhost:8080/"
        },
        "id": "kUBiun_fd5Ba",
        "outputId": "81768aac-d6d0-41e8-a007-9b7fd13adea4"
      },
      "execution_count": null,
      "outputs": [
        {
          "output_type": "stream",
          "name": "stdout",
          "text": [
            "   Salario  Etnia compañia\n",
            "0  11111.0  Asian   Google\n",
            "1   8458.0  White   Google\n"
          ]
        }
      ]
    },
    {
      "cell_type": "code",
      "source": [
        "#ApplE\n",
        "companiesa=[]\n",
        "eta=[]\n",
        "salarya=[]\n",
        "j=0\n",
        "for i in percent_d:\n",
        "  companiesa.append('Apple')\n",
        "  eta.append(i)\n",
        "  salarya.append(round(means[j]/12,0))\n",
        "  j+=1\n",
        "\n",
        "data_sa={'Salario':salarya,'Etnia':eta,'compañia':companiesa}\n",
        "\n",
        "df_sala=pd.DataFrame(data_sa)\n",
        "print(df_sala)"
      ],
      "metadata": {
        "colab": {
          "base_uri": "https://localhost:8080/"
        },
        "id": "7pCLbW_Jd7zF",
        "outputId": "61e0d1f6-7d30-4835-b218-de91c1a114a2"
      },
      "execution_count": null,
      "outputs": [
        {
          "output_type": "stream",
          "name": "stdout",
          "text": [
            "   Salario  Etnia compañia\n",
            "0  17500.0  White    Apple\n",
            "1  18333.0  Asian    Apple\n"
          ]
        }
      ]
    },
    {
      "cell_type": "code",
      "source": [
        "#IBM\n",
        "companiesi=[]\n",
        "eti=[]\n",
        "salaryi=[]\n",
        "j=0\n",
        "for i in percent_d:\n",
        "  companiesi.append('IBM')\n",
        "  eti.append(i)\n",
        "  salaryi.append(round(means[j]/12,0))\n",
        "  j+=1\n",
        "\n",
        "data_si={'Salario':salaryi,'Etnia':eti,'compañia':companiesi}\n",
        "\n",
        "df_sali=pd.DataFrame(data_si)"
      ],
      "metadata": {
        "id": "uwSb_w-peATm"
      },
      "execution_count": null,
      "outputs": []
    },
    {
      "cell_type": "code",
      "source": [
        "#Microsoft\n",
        "companiesm=[]\n",
        "etm=[]\n",
        "salarym=[]\n",
        "j=0\n",
        "for i in percent_d:\n",
        "  companiesm.append('Microsoft')\n",
        "  etm.append(i)\n",
        "  salarym.append(round(means[j]/12,0))\n",
        "  j+=1\n",
        "\n",
        "data_sm={'Salario':salarym,'Etnia':etm,'compañia':companiesm}\n",
        "\n",
        "df_salm=pd.DataFrame(data_sm)\n",
        "print(df_salm)"
      ],
      "metadata": {
        "colab": {
          "base_uri": "https://localhost:8080/"
        },
        "id": "2VBFkneveIZb",
        "outputId": "24a661dc-1037-4d82-fdd8-a2d9c7094f9e"
      },
      "execution_count": null,
      "outputs": [
        {
          "output_type": "stream",
          "name": "stdout",
          "text": [
            "   Salario  Etnia   compañia\n",
            "0  11542.0  Asian  Microsoft\n",
            "1  11167.0  White  Microsoft\n"
          ]
        }
      ]
    },
    {
      "cell_type": "code",
      "source": [
        "\n",
        "\n",
        "finalDf = pd.concat([df_salg,df_salam,df_salm,df_sala,df_sali],ignore_index=True)\n",
        "\n",
        "finalDf['Etnia']=finalDf['Etnia'].replace(to_replace=['Asian','White','Black','Hispanic'],value=['Asiático','Norteamericano','Afroamericano','Hispano'])\n",
        "finalDf['Salario'].sort_values()\n",
        "print(finalDf)"
      ],
      "metadata": {
        "colab": {
          "base_uri": "https://localhost:8080/"
        },
        "id": "nszsJyzHS0m0",
        "outputId": "fc4a632a-2f01-4dac-fe70-16918d594896"
      },
      "execution_count": null,
      "outputs": [
        {
          "output_type": "stream",
          "name": "stdout",
          "text": [
            "   Salario           Etnia   compañia\n",
            "0  11111.0        Asiático     Google\n",
            "1   8458.0  Norteamericano     Google\n",
            "2  13958.0        Asiático     Amazon\n",
            "3   8750.0   Afroamericano     Amazon\n",
            "4  11250.0  Norteamericano     Amazon\n",
            "5  11542.0        Asiático  Microsoft\n",
            "6  11167.0  Norteamericano  Microsoft\n",
            "7  17500.0  Norteamericano      Apple\n",
            "8  18333.0        Asiático      Apple\n"
          ]
        }
      ]
    },
    {
      "cell_type": "markdown",
      "source": [
        "Grafico para este caso para software engineer"
      ],
      "metadata": {
        "id": "wuKULgSRwZhl"
      }
    },
    {
      "cell_type": "code",
      "source": [
        "labels=['Asiáticos','Norteamericanos','Hispanos','Afroamericanos']\n",
        "fig, axs = plt.subplots(figsize = (9, 4))\n",
        "sns.barplot(x='compañia', y='Salario', hue='Etnia', data=finalDf,zorder=3,palette='rocket')\n",
        "axs.set_xticklabels(['Google','Amazon','Microsoft','Apple'],rotation =0,fontsize=tamaño_labels) \n",
        "axs.set_title('Comparación salarial bajo igualdad de condiciones ',fontsize=18)\n",
        "axs.set_xlabel('')\n",
        "axs.set_ylabel('Salario mensual(USD)',fontsize=tamaño_labels)\n",
        "axs.legend(loc='upper center',fontsize=9)\n",
        "axs.grid(zorder=0.5)\n",
        "fig5 =axs.get_figure()\n",
        "fig5.savefig(\"Comparación en igualdad de condiciones TPM.png\")"
      ],
      "metadata": {
        "colab": {
          "base_uri": "https://localhost:8080/",
          "height": 487
        },
        "id": "ewlIPuedwbMh",
        "outputId": "2df1baf7-2d07-42a2-c792-32588df3ee5f"
      },
      "execution_count": null,
      "outputs": [
        {
          "output_type": "error",
          "ename": "NameError",
          "evalue": "ignored",
          "traceback": [
            "\u001b[0;31m---------------------------------------------------------------------------\u001b[0m",
            "\u001b[0;31mNameError\u001b[0m                                 Traceback (most recent call last)",
            "\u001b[0;32m<ipython-input-4-6af748c17d57>\u001b[0m in \u001b[0;36m<module>\u001b[0;34m()\u001b[0m\n\u001b[1;32m      1\u001b[0m \u001b[0mlabels\u001b[0m\u001b[0;34m=\u001b[0m\u001b[0;34m[\u001b[0m\u001b[0;34m'Asiáticos'\u001b[0m\u001b[0;34m,\u001b[0m\u001b[0;34m'Norteamericanos'\u001b[0m\u001b[0;34m,\u001b[0m\u001b[0;34m'Hispanos'\u001b[0m\u001b[0;34m,\u001b[0m\u001b[0;34m'Afroamericanos'\u001b[0m\u001b[0;34m]\u001b[0m\u001b[0;34m\u001b[0m\u001b[0;34m\u001b[0m\u001b[0m\n\u001b[1;32m      2\u001b[0m \u001b[0mfig\u001b[0m\u001b[0;34m,\u001b[0m \u001b[0maxs\u001b[0m \u001b[0;34m=\u001b[0m \u001b[0mplt\u001b[0m\u001b[0;34m.\u001b[0m\u001b[0msubplots\u001b[0m\u001b[0;34m(\u001b[0m\u001b[0mfigsize\u001b[0m \u001b[0;34m=\u001b[0m \u001b[0;34m(\u001b[0m\u001b[0;36m9\u001b[0m\u001b[0;34m,\u001b[0m \u001b[0;36m4\u001b[0m\u001b[0;34m)\u001b[0m\u001b[0;34m)\u001b[0m\u001b[0;34m\u001b[0m\u001b[0;34m\u001b[0m\u001b[0m\n\u001b[0;32m----> 3\u001b[0;31m \u001b[0msns\u001b[0m\u001b[0;34m.\u001b[0m\u001b[0mbarplot\u001b[0m\u001b[0;34m(\u001b[0m\u001b[0mx\u001b[0m\u001b[0;34m=\u001b[0m\u001b[0;34m'compañia'\u001b[0m\u001b[0;34m,\u001b[0m \u001b[0my\u001b[0m\u001b[0;34m=\u001b[0m\u001b[0;34m'Salario'\u001b[0m\u001b[0;34m,\u001b[0m \u001b[0mhue\u001b[0m\u001b[0;34m=\u001b[0m\u001b[0;34m'Etnia'\u001b[0m\u001b[0;34m,\u001b[0m \u001b[0mdata\u001b[0m\u001b[0;34m=\u001b[0m\u001b[0mfinalDf\u001b[0m\u001b[0;34m,\u001b[0m\u001b[0mzorder\u001b[0m\u001b[0;34m=\u001b[0m\u001b[0;36m3\u001b[0m\u001b[0;34m,\u001b[0m\u001b[0mpalette\u001b[0m\u001b[0;34m=\u001b[0m\u001b[0;34m'rocket'\u001b[0m\u001b[0;34m)\u001b[0m\u001b[0;34m\u001b[0m\u001b[0;34m\u001b[0m\u001b[0m\n\u001b[0m\u001b[1;32m      4\u001b[0m \u001b[0;31m#axs.set_xticklabels(['Google','Amazon','Microsoft','Apple'],rotation =0,fontsize=tamaño_labels)\u001b[0m\u001b[0;34m\u001b[0m\u001b[0;34m\u001b[0m\u001b[0;34m\u001b[0m\u001b[0m\n\u001b[1;32m      5\u001b[0m \u001b[0maxs\u001b[0m\u001b[0;34m.\u001b[0m\u001b[0mset_title\u001b[0m\u001b[0;34m(\u001b[0m\u001b[0;34m'Comparación salarial bajo igualdad de condiciones '\u001b[0m\u001b[0;34m,\u001b[0m\u001b[0mfontsize\u001b[0m\u001b[0;34m=\u001b[0m\u001b[0;36m18\u001b[0m\u001b[0;34m)\u001b[0m\u001b[0;34m\u001b[0m\u001b[0;34m\u001b[0m\u001b[0m\n",
            "\u001b[0;31mNameError\u001b[0m: name 'finalDf' is not defined"
          ]
        },
        {
          "output_type": "display_data",
          "data": {
            "text/plain": [
              "<Figure size 648x288 with 1 Axes>"
            ],
            "image/png": "[encoded data removed]"
          },
          "metadata": {
            "needs_background": "light"
          }
        }
      ]
    }
  ]
}