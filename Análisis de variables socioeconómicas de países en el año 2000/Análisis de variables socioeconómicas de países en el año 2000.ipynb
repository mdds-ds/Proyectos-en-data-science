{
 "cells": [
  {
   "cell_type": "markdown",
   "metadata": {},
   "source": [
    "# Análisis de variables socioeconómicas de países en el año 2000"
   ]
  },
  {
   "cell_type": "markdown",
   "metadata": {},
   "source": [
    "El archivo paises.csv contiene datos de tres variables (esperanza de\n",
    "vida, PBI per capita y emisiones de CO2 por persona), para un conjunto\n",
    "de países, en el año 2000. Los datos se encuentran normalizados, de\n",
    "modo que cada variable tiene media cero y la diferencia entre el mínimo\n",
    "y el máximo de cada variable es 1."
   ]
  },
  {
   "cell_type": "code",
   "execution_count": 2,
   "metadata": {},
   "outputs": [],
   "source": [
    "import numpy as np\n",
    "import pandas as pd\n",
    "from matplotlib import pyplot as plt\n",
    "from sklearn.datasets import make_blobs\n",
    "from sklearn.cluster import KMeans\n",
    "from sklearn.cluster import DBSCAN\n",
    "from scipy.linalg import block_diag\n",
    "import scipy.cluster.hierarchy as shc\n",
    "from sklearn.cluster import AgglomerativeClustering\n",
    "from scipy.cluster.hierarchy import dendrogram, linkage, fcluster"
   ]
  },
  {
   "cell_type": "code",
   "execution_count": 4,
   "metadata": {},
   "outputs": [
    {
     "name": "stdout",
     "output_type": "stream",
     "text": [
      "          x1        x2        x3\n",
      "0   0.145273  0.037368 -0.025006\n",
      "1   0.359848  0.604507  0.749228\n",
      "2  -0.166468 -0.258156 -0.171219\n",
      "3   0.031912 -0.062716 -0.138407\n",
      "4  -0.640152 -0.308476 -0.233906\n",
      "5   0.347702  0.662889  0.760741\n",
      "6   0.157418  0.054048  0.004927\n",
      "7   0.250536  0.437701  0.176467\n",
      "8   0.133127 -0.149177 -0.111928\n",
      "9  -0.077399 -0.171139 -0.128621\n",
      "10 -0.134080 -0.218123 -0.174673\n",
      "11 -0.607764 -0.321264 -0.227862\n",
      "12  0.064301 -0.065496 -0.115957\n",
      "13 -0.053108 -0.254820 -0.178702\n",
      "14 -0.198857 -0.337111 -0.239259\n",
      "15  0.246487  0.343178  0.103937\n",
      "16  0.141224  0.006787 -0.049759\n"
     ]
    }
   ],
   "source": [
    "Paises = pd.read_csv(\"paises.csv\") #Datos ya normalizados\n",
    "datosPaises = Paises.to_numpy()\n",
    "X = datosPaises\n",
    "print(Paises)"
   ]
  },
  {
   "cell_type": "code",
   "execution_count": 5,
   "metadata": {},
   "outputs": [
    {
     "name": "stdout",
     "output_type": "stream",
     "text": [
      "[[0.07857834 0.06999123 0.05732113]\n",
      " [0.06999123 0.09820594 0.08693768]\n",
      " [0.05732113 0.08693768 0.08837945]]\n"
     ]
    }
   ],
   "source": [
    "cov = np.transpose(X)@X/len(X) #calculo matriz de covarianzas\n",
    "print(cov)"
   ]
  },
  {
   "cell_type": "code",
   "execution_count": 8,
   "metadata": {},
   "outputs": [
    {
     "name": "stdout",
     "output_type": "stream",
     "text": [
      "[0.23312334 0.0273206  0.0047198 ]\n",
      "[[ 0.50463301  0.8333216   0.225656  ]\n",
      " [ 0.63716902 -0.18312054 -0.74865379]\n",
      " [ 0.58254713 -0.52157643  0.62337538]]\n"
     ]
    }
   ],
   "source": [
    "e = np.linalg.eig(cov)\n",
    "print(e[0])\n",
    "print(e[1])\n",
    "#Los autovalores ya están ordenados de mayor a menor."
   ]
  },
  {
   "cell_type": "code",
   "execution_count": 7,
   "metadata": {},
   "outputs": [
    {
     "name": "stdout",
     "output_type": "stream",
     "text": [
      "[[ 0.08255153  0.12725883 -0.01078224]\n",
      " [ 1.00322472 -0.20160854  0.09568556]\n",
      " [-0.34823753 -0.00214418  0.04897161]\n",
      " [-0.10448523  0.11026777 -0.03212618]\n",
      " [-0.65585456 -0.35496478 -0.05932362]\n",
      " [ 1.0410015  -0.22842559  0.05641369]\n",
      " [ 0.11674653  0.11871313 -0.00186982]\n",
      " [ 0.50811886  0.03658369 -0.16114655]\n",
      " [-0.09307375  0.19663381  0.07194941]\n",
      " [-0.22303103  0.03392647  0.03047904]\n",
      " [-0.30839715  0.0193165   0.02415614]\n",
      " [-0.64413753 -0.3287853  -0.038673  ]\n",
      " [-0.07683409  0.12605769 -0.00874142]\n",
      " [-0.29326588  0.09561364  0.06738954]\n",
      " [-0.45452621  0.02081221  0.05835785]\n",
      " [ 0.40359611  0.08834926 -0.13650871]\n",
      " [ 0.04660371  0.14239538 -0.0042313 ]]\n"
     ]
    }
   ],
   "source": [
    "U = e[1]\n",
    "Z = X@U\n",
    "print(Z)"
   ]
  },
  {
   "cell_type": "code",
   "execution_count": 9,
   "metadata": {},
   "outputs": [
    {
     "name": "stdout",
     "output_type": "stream",
     "text": [
      "[0.87916749 0.10303296 0.01779955]\n"
     ]
    }
   ],
   "source": [
    "var_total = sum(e[0])\n",
    "proporcion = e[0]/var_total\n",
    "print(proporcion)"
   ]
  },
  {
   "cell_type": "markdown",
   "metadata": {},
   "source": [
    "La primera componente explica aproximadamente el 87.9% de la varianza total, pero las dos primeras componentes juntas explican aproximadamente el 98.2% de la varianza total. Basta con las dos primeras componentes para explicar al menos un 95% de la varianza total."
   ]
  },
  {
   "cell_type": "code",
   "execution_count": 10,
   "metadata": {},
   "outputs": [
    {
     "data": {
      "text/plain": [
       "0.9822004452623769"
      ]
     },
     "execution_count": 10,
     "metadata": {},
     "output_type": "execute_result"
    }
   ],
   "source": [
    "proporcion[0]+proporcion[1]"
   ]
  },
  {
   "cell_type": "code",
   "execution_count": 11,
   "metadata": {},
   "outputs": [
    {
     "data": {
      "text/plain": [
       "<matplotlib.collections.PathCollection at 0x28daba99a00>"
      ]
     },
     "execution_count": 11,
     "metadata": {},
     "output_type": "execute_result"
    },
    {
     "data": {
      "image/png": "[encoded data removed]",
      "text/plain": [
       "<Figure size 432x288 with 1 Axes>"
      ]
     },
     "metadata": {
      "needs_background": "light"
     },
     "output_type": "display_data"
    }
   ],
   "source": [
    "z1 = Z[:,0]\n",
    "z2 = Z[:,1]\n",
    "plt.scatter(z1,z2) #Gráfico de dispersión"
   ]
  },
  {
   "cell_type": "code",
   "execution_count": 12,
   "metadata": {},
   "outputs": [
    {
     "data": {
      "text/plain": [
       "<matplotlib.collections.PathCollection at 0x28dabb952e0>"
      ]
     },
     "execution_count": 12,
     "metadata": {},
     "output_type": "execute_result"
    },
    {
     "data": {
      "image/png": "[encoded data removed]",
      "text/plain": [
       "<Figure size 432x288 with 1 Axes>"
      ]
     },
     "metadata": {
      "needs_background": "light"
     },
     "output_type": "display_data"
    }
   ],
   "source": [
    "Z_b = np.c_[z1,z2]\n",
    "# Defino KMeans\n",
    "kmeans4 = KMeans(n_clusters=4)\n",
    "# Asigno cada observación a un cluster\n",
    "clustersKmeans = kmeans4.fit_predict(Z_b)\n",
    "plt.scatter(z1,z2,c=clustersKmeans)"
   ]
  },
  {
   "cell_type": "code",
   "execution_count": 13,
   "metadata": {},
   "outputs": [
    {
     "data": {
      "text/plain": [
       "<matplotlib.lines.Line2D at 0x28dabbd8070>"
      ]
     },
     "execution_count": 13,
     "metadata": {},
     "output_type": "execute_result"
    },
    {
     "data": {
      "image/png": "[encoded data removed]",
      "text/plain": [
       "<Figure size 720x576 with 1 Axes>"
      ]
     },
     "metadata": {
      "needs_background": "light"
     },
     "output_type": "display_data"
    }
   ],
   "source": [
    "Criterios = linkage(Z_b, method='single', metric='euclidean')\n",
    "corte = 0.25\n",
    "plt.figure(figsize=(10,8))\n",
    "dendrogram(Criterios,orientation='top') \n",
    "plt.axhline(linestyle='--', y=corte)   #Línea de corte"
   ]
  },
  {
   "cell_type": "markdown",
   "metadata": {},
   "source": [
    "La línea de corte corta cuatro veces, por lo que se obtienen 4 clusters distintos."
   ]
  },
  {
   "cell_type": "code",
   "execution_count": 14,
   "metadata": {},
   "outputs": [
    {
     "name": "stdout",
     "output_type": "stream",
     "text": [
      "[4 1 4 4 2 1 4 3 4 4 4 2 4 4 4 3 4]\n"
     ]
    },
    {
     "data": {
      "text/plain": [
       "<matplotlib.collections.PathCollection at 0x28dabc6f910>"
      ]
     },
     "execution_count": 14,
     "metadata": {},
     "output_type": "execute_result"
    },
    {
     "data": {
      "image/png": "[encoded data removed]",
      "text/plain": [
       "<Figure size 432x288 with 1 Axes>"
      ]
     },
     "metadata": {
      "needs_background": "light"
     },
     "output_type": "display_data"
    }
   ],
   "source": [
    "clusters = fcluster(Criterios, corte, criterion = 'distance')\n",
    "print(clusters) #Clasifico los puntos en 4 clusters\n",
    "\n",
    "plt.scatter(z1,z2,c=clusters)"
   ]
  },
  {
   "cell_type": "markdown",
   "metadata": {},
   "source": [
    "Notar que este gráfico se corresponde con el propuesto por el dendrograma, que decía que habrían 3 clusters con 2 puntos cada uno y un cluster más grande con 11 puntos."
   ]
  }
 ],
 "metadata": {
  "kernelspec": {
   "display_name": "Python 3",
   "language": "python",
   "name": "python3"
  },
  "language_info": {
   "codemirror_mode": {
    "name": "ipython",
    "version": 3
   },
   "file_extension": ".py",
   "mimetype": "text/x-python",
   "name": "python",
   "nbconvert_exporter": "python",
   "pygments_lexer": "ipython3",
   "version": "3.8.5"
  }
 },
 "nbformat": 4,
 "nbformat_minor": 4
}
