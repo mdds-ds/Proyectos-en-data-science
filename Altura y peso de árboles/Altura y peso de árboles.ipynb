{
 "cells": [
  {
   "cell_type": "markdown",
   "metadata": {},
   "source": [
    "# Altura y peso de árboles"
   ]
  },
  {
   "cell_type": "markdown",
   "metadata": {},
   "source": [
    "Para estudiar la relacion entre la edad y el peso de una especie de arboles se pesan distintos ejemplares de distintas edades medidas en años, obteniendose los valores que figuran en el archivo pesoArboles.csv."
   ]
  },
  {
   "cell_type": "code",
   "execution_count": 1,
   "metadata": {},
   "outputs": [
    {
     "name": "stdout",
     "output_type": "stream",
     "text": [
      "       t          y\n",
      "0    3.0  14.432164\n",
      "1    3.5  17.908407\n",
      "2    4.0  21.589654\n",
      "3    4.5  25.460048\n",
      "4    5.0  29.506636\n",
      "5    5.5  33.718594\n",
      "6    6.0  38.086709\n",
      "7    6.5  42.603021\n",
      "8    7.0  47.260569\n",
      "9    7.5  52.053204\n",
      "10   8.0  56.975438\n",
      "11   8.5  62.022346\n",
      "12   9.0  67.189469\n",
      "13   9.5  72.472750\n",
      "14  10.0  77.868479\n",
      "15  10.5  83.373246\n",
      "16  11.0  88.983903\n"
     ]
    },
    {
     "data": {
      "text/plain": [
       "[<matplotlib.lines.Line2D at 0x19a718d6940>]"
      ]
     },
     "execution_count": 1,
     "metadata": {},
     "output_type": "execute_result"
    },
    {
     "data": {
      "image/png": "[encoded data removed]",
      "text/plain": [
       "<Figure size 432x288 with 1 Axes>"
      ]
     },
     "metadata": {
      "needs_background": "light"
     },
     "output_type": "display_data"
    }
   ],
   "source": [
    "import numpy as np\n",
    "from scipy.linalg import block_diag\n",
    "import matplotlib.pyplot as plt\n",
    "import pandas as pd\n",
    "import scipy.cluster.hierarchy as shc\n",
    "datos = pd.read_csv(\"pesoArboles.csv\")\n",
    "datosNP = datos.to_numpy()\n",
    "print(datos)\n",
    "t = datosNP[:,0]\n",
    "y = datosNP[:,1]\n",
    "plt.plot(t,y,\"b*\")"
   ]
  },
  {
   "cell_type": "code",
   "execution_count": 2,
   "metadata": {},
   "outputs": [
    {
     "data": {
      "text/plain": [
       "[<matplotlib.lines.Line2D at 0x19a719ccb20>]"
      ]
     },
     "execution_count": 2,
     "metadata": {},
     "output_type": "execute_result"
    },
    {
     "data": {
      "image/png": "[encoded data removed]",
      "text/plain": [
       "<Figure size 432x288 with 1 Axes>"
      ]
     },
     "metadata": {
      "needs_background": "light"
     },
     "output_type": "display_data"
    }
   ],
   "source": [
    "z = np.log(y)\n",
    "x = np.log(t)\n",
    "plt.plot(x,z,'r*')"
   ]
  },
  {
   "cell_type": "code",
   "execution_count": 3,
   "metadata": {},
   "outputs": [
    {
     "name": "stdout",
     "output_type": "stream",
     "text": [
      "[[1.         1.09861229]\n",
      " [1.         1.25276297]\n",
      " [1.         1.38629436]\n",
      " [1.         1.5040774 ]\n",
      " [1.         1.60943791]\n",
      " [1.         1.70474809]\n",
      " [1.         1.79175947]\n",
      " [1.         1.87180218]\n",
      " [1.         1.94591015]\n",
      " [1.         2.01490302]\n",
      " [1.         2.07944154]\n",
      " [1.         2.14006616]\n",
      " [1.         2.19722458]\n",
      " [1.         2.2512918 ]\n",
      " [1.         2.30258509]\n",
      " [1.         2.35137526]\n",
      " [1.         2.39789527]]\n",
      "[[17.         31.90018754]\n",
      " [31.90018754 62.39816358]] [ 63.89409845 123.44936855]\n",
      "alfa 1.1314021116321027 beta= 1.3999999999470865\n"
     ]
    }
   ],
   "source": [
    "# Ajuste sin pesos (ordinario)\n",
    "unos = np.ones(len(t))\n",
    "At = np.array([unos, x])\n",
    "A = np.transpose(At)\n",
    "print(A)\n",
    "# Ecuaciones Normales\n",
    "AtA = np.dot(At, A)\n",
    "Atz = np.dot(At, z)\n",
    "print(AtA,Atz)\n",
    "v = np.linalg.solve(AtA, Atz)\n",
    "alfa=v[0]\n",
    "beta=v[1]\n",
    "print(\"alfa\",v[0],\"beta=\",v[1]) # alfa* , beta*"
   ]
  },
  {
   "cell_type": "code",
   "execution_count": 4,
   "metadata": {},
   "outputs": [
    {
     "name": "stdout",
     "output_type": "stream",
     "text": [
      "Recta de regresión lineal  \n",
      "1.4 x + 1.131\n"
     ]
    },
    {
     "data": {
      "text/plain": [
       "[<matplotlib.lines.Line2D at 0x19a71c84fa0>]"
      ]
     },
     "execution_count": 4,
     "metadata": {},
     "output_type": "execute_result"
    },
    {
     "data": {
      "image/png": "[encoded data removed]",
      "text/plain": [
       "<Figure size 432x288 with 1 Axes>"
      ]
     },
     "metadata": {
      "needs_background": "light"
     },
     "output_type": "display_data"
    }
   ],
   "source": [
    "v = np.flipud(v)  #da \"vuelta\" el vector del elemento  n al 0\n",
    "p = np.poly1d(v)  # debemos pasar los coef. desde el de mayor grado al menor\n",
    "print(\"Recta de regresión lineal\",p)\n",
    "plt.plot(x,z,'*g')\n",
    "zRL = np.polyval(p,x)\n",
    "plt.plot(x,zRL)"
   ]
  },
  {
   "cell_type": "code",
   "execution_count": 5,
   "metadata": {},
   "outputs": [
    {
     "name": "stdout",
     "output_type": "stream",
     "text": [
      "a= 3.1000000004371064 b= 1.3999999999470865\n"
     ]
    },
    {
     "data": {
      "text/plain": [
       "[<matplotlib.lines.Line2D at 0x19a71cef340>]"
      ]
     },
     "execution_count": 5,
     "metadata": {},
     "output_type": "execute_result"
    },
    {
     "data": {
      "image/png": "[encoded data removed]",
      "text/plain": [
       "<Figure size 432x288 with 1 Axes>"
      ]
     },
     "metadata": {
      "needs_background": "light"
     },
     "output_type": "display_data"
    }
   ],
   "source": [
    "b=beta\n",
    "a=np.exp(alfa)\n",
    "print('a=',a,'b=',b)\n",
    "yRL=a*t**b\n",
    "t_graf=np.linspace(2,12,50)\n",
    "y_graf=a*t_graf**b\n",
    "plt.plot(t,y,'r*')\n",
    "plt.plot(t_graf,y_graf,'b')"
   ]
  },
  {
   "cell_type": "code",
   "execution_count": 7,
   "metadata": {},
   "outputs": [
    {
     "name": "stdout",
     "output_type": "stream",
     "text": [
      "[ 208.2873531   320.71104128  466.11315854  648.2140294   870.64157099\n",
      " 1136.94359213 1450.59738036 1815.01737276 2233.56142096 2709.53599774\n",
      " 3246.20058201 3846.77141079 4514.42470688 5252.29949691 6063.50008095\n",
      " 6951.09821861 7918.13507498]\n",
      "[[ 49652.05248838 107412.93651489]\n",
      " [107412.93651489 235328.80973817]] [206554.54814738 450987.55681051]\n",
      "alfa con pesos 1.1314021116515247 beta con pesos= 1.3999999999381236\n"
     ]
    }
   ],
   "source": [
    "#Ajusto pero ahora con CMGeneralizados\n",
    "pesos=y**2  # z=h(y)=ln (y) entonces   w=(1/h'(y))^2=(1/(1/y))^2=y^2\n",
    "print(pesos)\n",
    "W=np.diag(pesos)\n",
    "AtWA = At@W@A\n",
    "AtWz = At@W@z\n",
    "print(AtWA,AtWz)\n",
    "v_G = np.linalg.solve(AtWA, AtWz)\n",
    "alfa_G=v_G[0]\n",
    "beta_G=v_G[1]\n",
    "print(\"alfa con pesos\",v_G[0],\"beta con pesos=\",v_G[1])"
   ]
  },
  {
   "cell_type": "code",
   "execution_count": 8,
   "metadata": {},
   "outputs": [
    {
     "name": "stdout",
     "output_type": "stream",
     "text": [
      "Recta de regresión lineal con pesos  \n",
      "1.4 x + 1.131\n"
     ]
    },
    {
     "data": {
      "text/plain": [
       "[<matplotlib.lines.Line2D at 0x19a71d1b340>]"
      ]
     },
     "execution_count": 8,
     "metadata": {},
     "output_type": "execute_result"
    },
    {
     "data": {
      "image/png": "[encoded data removed]",
      "text/plain": [
       "<Figure size 432x288 with 1 Axes>"
      ]
     },
     "metadata": {
      "needs_background": "light"
     },
     "output_type": "display_data"
    }
   ],
   "source": [
    "v_G = np.flipud(v_G) #da \"vuelta\" el vector del elemento  n al 0\n",
    "p_G = np.poly1d(v_G)  # debemos pasar los coef. desde el de mayor grado al menor\n",
    "print(\"Recta de regresión lineal con pesos\",p_G)\n",
    "plt.plot(x,z,'*r')\n",
    "zRL_G = np.polyval(p_G,x)\n",
    "plt.plot(x,zRL_G)"
   ]
  },
  {
   "cell_type": "code",
   "execution_count": 9,
   "metadata": {},
   "outputs": [
    {
     "name": "stdout",
     "output_type": "stream",
     "text": [
      "a_G= 3.1000000004973147 b_G= 1.3999999999381236\n"
     ]
    },
    {
     "data": {
      "text/plain": [
       "[<matplotlib.lines.Line2D at 0x19a72d6a730>]"
      ]
     },
     "execution_count": 9,
     "metadata": {},
     "output_type": "execute_result"
    },
    {
     "data": {
      "image/png": "[encoded data removed]",
      "text/plain": [
       "<Figure size 432x288 with 1 Axes>"
      ]
     },
     "metadata": {
      "needs_background": "light"
     },
     "output_type": "display_data"
    }
   ],
   "source": [
    "b_G=beta_G\n",
    "a_G=np.exp(alfa_G)\n",
    "print('a_G=',a_G,'b_G=',b_G)\n",
    "yRL=a_G*t**b_G\n",
    "t_graf=np.linspace(2,12,50)\n",
    "y_graf=a_G*t_graf**b_G\n",
    "plt.plot(t,y,'r*')\n",
    "plt.plot(t_graf,y_graf,'b')"
   ]
  },
  {
   "cell_type": "code",
   "execution_count": 10,
   "metadata": {},
   "outputs": [
    {
     "name": "stdout",
     "output_type": "stream",
     "text": [
      "a= 3.1000000004371064 b= 1.3999999999470865\n",
      "a_G= 3.1000000004973147 b_G= 1.3999999999381236\n"
     ]
    },
    {
     "data": {
      "text/plain": [
       "[<matplotlib.lines.Line2D at 0x19a72dd0370>]"
      ]
     },
     "execution_count": 10,
     "metadata": {},
     "output_type": "execute_result"
    },
    {
     "data": {
      "image/png": "[encoded data removed]",
      "text/plain": [
       "<Figure size 432x288 with 1 Axes>"
      ]
     },
     "metadata": {
      "needs_background": "light"
     },
     "output_type": "display_data"
    }
   ],
   "source": [
    "# En un mismo gráfico, grafico los datos y los ajustes:\n",
    "#DATOS:\n",
    "plt.plot(t,y,\"b*\")\n",
    "\n",
    "#CM:\n",
    "b=beta\n",
    "a=np.exp(alfa)\n",
    "print('a=',a,'b=',b)\n",
    "yRL=a*t**b\n",
    "t_graf=np.linspace(2,12,50)\n",
    "y_graf=a*t_graf**b\n",
    "plt.plot(t,y,'r*')\n",
    "plt.plot(t_graf,y_graf,'b')\n",
    "\n",
    "#CMG:\n",
    "b_G=beta_G\n",
    "a_G=np.exp(alfa_G)\n",
    "print('a_G=',a_G,'b_G=',b_G)\n",
    "yRL=a_G*t**b_G\n",
    "t_graf=np.linspace(2,12,50)\n",
    "y_graf=a_G*t_graf**b_G\n",
    "plt.plot(t,y,'r*')\n",
    "plt.plot(t_graf,y_graf,'b')"
   ]
  },
  {
   "cell_type": "code",
   "execution_count": 11,
   "metadata": {},
   "outputs": [
    {
     "name": "stdout",
     "output_type": "stream",
     "text": [
      "El error por CM fue 3.1225511065713363e-09\n",
      "El error por CMG fue -1.169837560155429e-10\n"
     ]
    }
   ],
   "source": [
    "#Calculo norma 2 de los vectores y concluyo con cual se obtuvo menor error:\n",
    "Error_CM = (y**2 - (a*t**b)**2)\n",
    "print(\"El error por CM fue\",sum(Error_CM))\n",
    "Error_CMG = (y**2 - (a_G*t**b_G)**2)\n",
    "print(\"El error por CMG fue\",sum(Error_CMG)) #Se obtiene una norma más chica con CMG."
   ]
  },
  {
   "cell_type": "code",
   "execution_count": null,
   "metadata": {},
   "outputs": [],
   "source": []
  }
 ],
 "metadata": {
  "kernelspec": {
   "display_name": "Python 3",
   "language": "python",
   "name": "python3"
  },
  "language_info": {
   "codemirror_mode": {
    "name": "ipython",
    "version": 3
   },
   "file_extension": ".py",
   "mimetype": "text/x-python",
   "name": "python",
   "nbconvert_exporter": "python",
   "pygments_lexer": "ipython3",
   "version": "3.8.5"
  }
 },
 "nbformat": 4,
 "nbformat_minor": 4
}
