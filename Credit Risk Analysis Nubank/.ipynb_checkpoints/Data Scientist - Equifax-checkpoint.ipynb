{
 "cells": [
  {
   "cell_type": "code",
   "execution_count": 1,
   "id": "cab3a245",
   "metadata": {},
   "outputs": [],
   "source": [
    "import pandas as pd\n",
    "import seaborn as sns\n",
    "import matplotlib.pyplot as plt\n",
    "\n",
    "tabla1 = pd.read_csv(\"Tabla1_ejercicio.csv\", sep = \";\")\n",
    "tabla2 = pd.read_csv(\"Tabla2_ejercicio.csv\", sep = \";\")"
   ]
  },
  {
   "cell_type": "markdown",
   "id": "140b9835",
   "metadata": {},
   "source": [
    "# Información sobre las bases  \n",
    "\n",
    "\n",
    "## Tabla 1  \n",
    "### Campos:  \n",
    "● pers_id: identificador único del cliente  \n",
    "● sexo: sexo del cliente  \n",
    "● edad: edad del cliente  \n",
    "● ingreso: ingreso estimado del cliente  \n",
    "● situacion_lab: categoría ocupacional del cliente    \n",
    "\n",
    "## Tabla 2  \n",
    "### Campos:  \n",
    "● pers_id: identificador único del cliente  \n",
    "● score: score de riesgo del cliente  \n",
    "● periodo: periodo al cual corresponde la información del score de riesgo  \n",
    "\n",
    "## Ejercicio  \n",
    "El área de negocios de una empresa necesita información sobre los ítems que se detallan a\n",
    "continuación, para la venta de un nuevo producto.  \n",
    "● Cantidad de personas con y sin ocupación  \n",
    "● Teniendo en cuenta la última información disponible para cada persona, sacar el score\n",
    "promedio por categoría ocupacional.  \n",
    "● Ingreso y score máximo y promedio, según sexo."
   ]
  },
  {
   "cell_type": "code",
   "execution_count": 2,
   "id": "b386265b",
   "metadata": {},
   "outputs": [
    {
     "data": {
      "text/html": [
       "<div>\n",
       "<style scoped>\n",
       "    .dataframe tbody tr th:only-of-type {\n",
       "        vertical-align: middle;\n",
       "    }\n",
       "\n",
       "    .dataframe tbody tr th {\n",
       "        vertical-align: top;\n",
       "    }\n",
       "\n",
       "    .dataframe thead th {\n",
       "        text-align: right;\n",
       "    }\n",
       "</style>\n",
       "<table border=\"1\" class=\"dataframe\">\n",
       "  <thead>\n",
       "    <tr style=\"text-align: right;\">\n",
       "      <th></th>\n",
       "      <th>pers_id</th>\n",
       "      <th>sexo</th>\n",
       "      <th>edad</th>\n",
       "      <th>ingreso</th>\n",
       "      <th>situacion_lab</th>\n",
       "    </tr>\n",
       "  </thead>\n",
       "  <tbody>\n",
       "    <tr>\n",
       "      <th>0</th>\n",
       "      <td>71906556521</td>\n",
       "      <td>F</td>\n",
       "      <td>47</td>\n",
       "      <td>35926.28125</td>\n",
       "      <td>Sin_situacion_declarada</td>\n",
       "    </tr>\n",
       "    <tr>\n",
       "      <th>1</th>\n",
       "      <td>73861260912</td>\n",
       "      <td>F</td>\n",
       "      <td>41</td>\n",
       "      <td>16231.12207</td>\n",
       "      <td>Sin_situacion_declarada</td>\n",
       "    </tr>\n",
       "    <tr>\n",
       "      <th>2</th>\n",
       "      <td>24939194469</td>\n",
       "      <td>F</td>\n",
       "      <td>40</td>\n",
       "      <td>25068.96484</td>\n",
       "      <td>Relacion_dependencia</td>\n",
       "    </tr>\n",
       "    <tr>\n",
       "      <th>3</th>\n",
       "      <td>21033369421</td>\n",
       "      <td>F</td>\n",
       "      <td>52</td>\n",
       "      <td>30239.54883</td>\n",
       "      <td>Jubilado</td>\n",
       "    </tr>\n",
       "    <tr>\n",
       "      <th>4</th>\n",
       "      <td>45334163605</td>\n",
       "      <td>F</td>\n",
       "      <td>46</td>\n",
       "      <td>12654.58203</td>\n",
       "      <td>Relacion_dependencia</td>\n",
       "    </tr>\n",
       "    <tr>\n",
       "      <th>...</th>\n",
       "      <td>...</td>\n",
       "      <td>...</td>\n",
       "      <td>...</td>\n",
       "      <td>...</td>\n",
       "      <td>...</td>\n",
       "    </tr>\n",
       "    <tr>\n",
       "      <th>4995</th>\n",
       "      <td>77317158601</td>\n",
       "      <td>M</td>\n",
       "      <td>55</td>\n",
       "      <td>22806.19336</td>\n",
       "      <td>Relacion_dependencia</td>\n",
       "    </tr>\n",
       "    <tr>\n",
       "      <th>4996</th>\n",
       "      <td>7865860477</td>\n",
       "      <td>M</td>\n",
       "      <td>42</td>\n",
       "      <td>34291.91016</td>\n",
       "      <td>Relacion_dependencia</td>\n",
       "    </tr>\n",
       "    <tr>\n",
       "      <th>4997</th>\n",
       "      <td>2875330898</td>\n",
       "      <td>M</td>\n",
       "      <td>55</td>\n",
       "      <td>19692.85938</td>\n",
       "      <td>Sin_situacion_declarada</td>\n",
       "    </tr>\n",
       "    <tr>\n",
       "      <th>4998</th>\n",
       "      <td>57646643429</td>\n",
       "      <td>M</td>\n",
       "      <td>33</td>\n",
       "      <td>37955.50781</td>\n",
       "      <td>Relacion_dependencia</td>\n",
       "    </tr>\n",
       "    <tr>\n",
       "      <th>4999</th>\n",
       "      <td>92370836565</td>\n",
       "      <td>M</td>\n",
       "      <td>41</td>\n",
       "      <td>92338.20313</td>\n",
       "      <td>Relacion_dependencia</td>\n",
       "    </tr>\n",
       "  </tbody>\n",
       "</table>\n",
       "<p>5000 rows × 5 columns</p>\n",
       "</div>"
      ],
      "text/plain": [
       "          pers_id sexo  edad      ingreso            situacion_lab\n",
       "0     71906556521    F    47  35926.28125  Sin_situacion_declarada\n",
       "1     73861260912    F    41  16231.12207  Sin_situacion_declarada\n",
       "2     24939194469    F    40  25068.96484     Relacion_dependencia\n",
       "3     21033369421    F    52  30239.54883                 Jubilado\n",
       "4     45334163605    F    46  12654.58203     Relacion_dependencia\n",
       "...           ...  ...   ...          ...                      ...\n",
       "4995  77317158601    M    55  22806.19336     Relacion_dependencia\n",
       "4996   7865860477    M    42  34291.91016     Relacion_dependencia\n",
       "4997   2875330898    M    55  19692.85938  Sin_situacion_declarada\n",
       "4998  57646643429    M    33  37955.50781     Relacion_dependencia\n",
       "4999  92370836565    M    41  92338.20313     Relacion_dependencia\n",
       "\n",
       "[5000 rows x 5 columns]"
      ]
     },
     "execution_count": 2,
     "metadata": {},
     "output_type": "execute_result"
    }
   ],
   "source": [
    "tabla1"
   ]
  },
  {
   "cell_type": "code",
   "execution_count": 3,
   "id": "e5032af4",
   "metadata": {},
   "outputs": [
    {
     "data": {
      "text/html": [
       "<div>\n",
       "<style scoped>\n",
       "    .dataframe tbody tr th:only-of-type {\n",
       "        vertical-align: middle;\n",
       "    }\n",
       "\n",
       "    .dataframe tbody tr th {\n",
       "        vertical-align: top;\n",
       "    }\n",
       "\n",
       "    .dataframe thead th {\n",
       "        text-align: right;\n",
       "    }\n",
       "</style>\n",
       "<table border=\"1\" class=\"dataframe\">\n",
       "  <thead>\n",
       "    <tr style=\"text-align: right;\">\n",
       "      <th></th>\n",
       "      <th>pers_id</th>\n",
       "      <th>periodo</th>\n",
       "      <th>score</th>\n",
       "    </tr>\n",
       "  </thead>\n",
       "  <tbody>\n",
       "    <tr>\n",
       "      <th>0</th>\n",
       "      <td>27817725</td>\n",
       "      <td>201906</td>\n",
       "      <td>814</td>\n",
       "    </tr>\n",
       "    <tr>\n",
       "      <th>1</th>\n",
       "      <td>37570691</td>\n",
       "      <td>201906</td>\n",
       "      <td>597</td>\n",
       "    </tr>\n",
       "    <tr>\n",
       "      <th>2</th>\n",
       "      <td>40181240</td>\n",
       "      <td>201906</td>\n",
       "      <td>251</td>\n",
       "    </tr>\n",
       "    <tr>\n",
       "      <th>3</th>\n",
       "      <td>52105045</td>\n",
       "      <td>201906</td>\n",
       "      <td>617</td>\n",
       "    </tr>\n",
       "    <tr>\n",
       "      <th>4</th>\n",
       "      <td>63502595</td>\n",
       "      <td>201906</td>\n",
       "      <td>392</td>\n",
       "    </tr>\n",
       "    <tr>\n",
       "      <th>...</th>\n",
       "      <td>...</td>\n",
       "      <td>...</td>\n",
       "      <td>...</td>\n",
       "    </tr>\n",
       "    <tr>\n",
       "      <th>14992</th>\n",
       "      <td>99788780024</td>\n",
       "      <td>201912</td>\n",
       "      <td>513</td>\n",
       "    </tr>\n",
       "    <tr>\n",
       "      <th>14993</th>\n",
       "      <td>99897294254</td>\n",
       "      <td>201912</td>\n",
       "      <td>904</td>\n",
       "    </tr>\n",
       "    <tr>\n",
       "      <th>14994</th>\n",
       "      <td>99938763350</td>\n",
       "      <td>201912</td>\n",
       "      <td>1</td>\n",
       "    </tr>\n",
       "    <tr>\n",
       "      <th>14995</th>\n",
       "      <td>99938763350</td>\n",
       "      <td>201912</td>\n",
       "      <td>1</td>\n",
       "    </tr>\n",
       "    <tr>\n",
       "      <th>14996</th>\n",
       "      <td>99958693785</td>\n",
       "      <td>201912</td>\n",
       "      <td>642</td>\n",
       "    </tr>\n",
       "  </tbody>\n",
       "</table>\n",
       "<p>14997 rows × 3 columns</p>\n",
       "</div>"
      ],
      "text/plain": [
       "           pers_id  periodo  score\n",
       "0         27817725   201906    814\n",
       "1         37570691   201906    597\n",
       "2         40181240   201906    251\n",
       "3         52105045   201906    617\n",
       "4         63502595   201906    392\n",
       "...            ...      ...    ...\n",
       "14992  99788780024   201912    513\n",
       "14993  99897294254   201912    904\n",
       "14994  99938763350   201912      1\n",
       "14995  99938763350   201912      1\n",
       "14996  99958693785   201912    642\n",
       "\n",
       "[14997 rows x 3 columns]"
      ]
     },
     "execution_count": 3,
     "metadata": {},
     "output_type": "execute_result"
    }
   ],
   "source": [
    "tabla2"
   ]
  },
  {
   "cell_type": "code",
   "execution_count": 4,
   "id": "e471a288",
   "metadata": {},
   "outputs": [
    {
     "data": {
      "text/html": [
       "<div>\n",
       "<style scoped>\n",
       "    .dataframe tbody tr th:only-of-type {\n",
       "        vertical-align: middle;\n",
       "    }\n",
       "\n",
       "    .dataframe tbody tr th {\n",
       "        vertical-align: top;\n",
       "    }\n",
       "\n",
       "    .dataframe thead th {\n",
       "        text-align: right;\n",
       "    }\n",
       "</style>\n",
       "<table border=\"1\" class=\"dataframe\">\n",
       "  <thead>\n",
       "    <tr style=\"text-align: right;\">\n",
       "      <th></th>\n",
       "      <th>pers_id</th>\n",
       "      <th>edad</th>\n",
       "      <th>ingreso</th>\n",
       "    </tr>\n",
       "  </thead>\n",
       "  <tbody>\n",
       "    <tr>\n",
       "      <th>count</th>\n",
       "      <td>5.000000e+03</td>\n",
       "      <td>5000.000000</td>\n",
       "      <td>5000.000000</td>\n",
       "    </tr>\n",
       "    <tr>\n",
       "      <th>mean</th>\n",
       "      <td>5.027691e+10</td>\n",
       "      <td>46.064000</td>\n",
       "      <td>47912.280930</td>\n",
       "    </tr>\n",
       "    <tr>\n",
       "      <th>std</th>\n",
       "      <td>2.890366e+10</td>\n",
       "      <td>9.481471</td>\n",
       "      <td>50765.829568</td>\n",
       "    </tr>\n",
       "    <tr>\n",
       "      <th>min</th>\n",
       "      <td>2.781772e+07</td>\n",
       "      <td>19.000000</td>\n",
       "      <td>5000.000000</td>\n",
       "    </tr>\n",
       "    <tr>\n",
       "      <th>25%</th>\n",
       "      <td>2.511301e+10</td>\n",
       "      <td>41.000000</td>\n",
       "      <td>20862.320800</td>\n",
       "    </tr>\n",
       "    <tr>\n",
       "      <th>50%</th>\n",
       "      <td>5.112347e+10</td>\n",
       "      <td>46.000000</td>\n",
       "      <td>33270.734375</td>\n",
       "    </tr>\n",
       "    <tr>\n",
       "      <th>75%</th>\n",
       "      <td>7.525953e+10</td>\n",
       "      <td>53.000000</td>\n",
       "      <td>55608.045898</td>\n",
       "    </tr>\n",
       "    <tr>\n",
       "      <th>max</th>\n",
       "      <td>9.995869e+10</td>\n",
       "      <td>65.000000</td>\n",
       "      <td>850432.250000</td>\n",
       "    </tr>\n",
       "  </tbody>\n",
       "</table>\n",
       "</div>"
      ],
      "text/plain": [
       "            pers_id         edad        ingreso\n",
       "count  5.000000e+03  5000.000000    5000.000000\n",
       "mean   5.027691e+10    46.064000   47912.280930\n",
       "std    2.890366e+10     9.481471   50765.829568\n",
       "min    2.781772e+07    19.000000    5000.000000\n",
       "25%    2.511301e+10    41.000000   20862.320800\n",
       "50%    5.112347e+10    46.000000   33270.734375\n",
       "75%    7.525953e+10    53.000000   55608.045898\n",
       "max    9.995869e+10    65.000000  850432.250000"
      ]
     },
     "execution_count": 4,
     "metadata": {},
     "output_type": "execute_result"
    }
   ],
   "source": [
    "tabla1.describe()"
   ]
  },
  {
   "cell_type": "code",
   "execution_count": 5,
   "id": "d253a8bb",
   "metadata": {},
   "outputs": [
    {
     "data": {
      "text/html": [
       "<div>\n",
       "<style scoped>\n",
       "    .dataframe tbody tr th:only-of-type {\n",
       "        vertical-align: middle;\n",
       "    }\n",
       "\n",
       "    .dataframe tbody tr th {\n",
       "        vertical-align: top;\n",
       "    }\n",
       "\n",
       "    .dataframe thead th {\n",
       "        text-align: right;\n",
       "    }\n",
       "</style>\n",
       "<table border=\"1\" class=\"dataframe\">\n",
       "  <thead>\n",
       "    <tr style=\"text-align: right;\">\n",
       "      <th></th>\n",
       "      <th>pers_id</th>\n",
       "      <th>periodo</th>\n",
       "      <th>score</th>\n",
       "    </tr>\n",
       "  </thead>\n",
       "  <tbody>\n",
       "    <tr>\n",
       "      <th>count</th>\n",
       "      <td>1.499700e+04</td>\n",
       "      <td>14997.000000</td>\n",
       "      <td>14997.000000</td>\n",
       "    </tr>\n",
       "    <tr>\n",
       "      <th>mean</th>\n",
       "      <td>5.028696e+10</td>\n",
       "      <td>201909.000000</td>\n",
       "      <td>672.902914</td>\n",
       "    </tr>\n",
       "    <tr>\n",
       "      <th>std</th>\n",
       "      <td>2.889588e+10</td>\n",
       "      <td>2.449571</td>\n",
       "      <td>249.318421</td>\n",
       "    </tr>\n",
       "    <tr>\n",
       "      <th>min</th>\n",
       "      <td>2.781772e+07</td>\n",
       "      <td>201906.000000</td>\n",
       "      <td>-49.000000</td>\n",
       "    </tr>\n",
       "    <tr>\n",
       "      <th>25%</th>\n",
       "      <td>2.511530e+10</td>\n",
       "      <td>201906.000000</td>\n",
       "      <td>556.000000</td>\n",
       "    </tr>\n",
       "    <tr>\n",
       "      <th>50%</th>\n",
       "      <td>5.112520e+10</td>\n",
       "      <td>201909.000000</td>\n",
       "      <td>723.000000</td>\n",
       "    </tr>\n",
       "    <tr>\n",
       "      <th>75%</th>\n",
       "      <td>7.528556e+10</td>\n",
       "      <td>201912.000000</td>\n",
       "      <td>884.000000</td>\n",
       "    </tr>\n",
       "    <tr>\n",
       "      <th>max</th>\n",
       "      <td>9.995869e+10</td>\n",
       "      <td>201912.000000</td>\n",
       "      <td>1011.000000</td>\n",
       "    </tr>\n",
       "  </tbody>\n",
       "</table>\n",
       "</div>"
      ],
      "text/plain": [
       "            pers_id        periodo         score\n",
       "count  1.499700e+04   14997.000000  14997.000000\n",
       "mean   5.028696e+10  201909.000000    672.902914\n",
       "std    2.889588e+10       2.449571    249.318421\n",
       "min    2.781772e+07  201906.000000    -49.000000\n",
       "25%    2.511530e+10  201906.000000    556.000000\n",
       "50%    5.112520e+10  201909.000000    723.000000\n",
       "75%    7.528556e+10  201912.000000    884.000000\n",
       "max    9.995869e+10  201912.000000   1011.000000"
      ]
     },
     "execution_count": 5,
     "metadata": {},
     "output_type": "execute_result"
    }
   ],
   "source": [
    "tabla2.describe()"
   ]
  },
  {
   "cell_type": "code",
   "execution_count": 6,
   "id": "9228b7b5",
   "metadata": {},
   "outputs": [
    {
     "data": {
      "text/plain": [
       "Sin_situacion_declarada     2479\n",
       "Relacion_dependencia        1378\n",
       "Autonomo_Monotributista      942\n",
       "Jubilado                     198\n",
       "Desempleado_o_plansocial       3\n",
       "Name: situacion_lab, dtype: int64"
      ]
     },
     "execution_count": 6,
     "metadata": {},
     "output_type": "execute_result"
    }
   ],
   "source": [
    "tabla1[\"situacion_lab\"].value_counts()"
   ]
  },
  {
   "cell_type": "markdown",
   "id": "18d6e31f",
   "metadata": {},
   "source": [
    "Las personas sin situación declarada, como presentan ingresos en el dataset, vamos a considerarlas como una categoría de personas con empleos informales o situaciones similares."
   ]
  },
  {
   "cell_type": "code",
   "execution_count": 7,
   "id": "a901150b",
   "metadata": {
    "scrolled": true
   },
   "outputs": [
    {
     "data": {
      "text/html": [
       "<div>\n",
       "<style scoped>\n",
       "    .dataframe tbody tr th:only-of-type {\n",
       "        vertical-align: middle;\n",
       "    }\n",
       "\n",
       "    .dataframe tbody tr th {\n",
       "        vertical-align: top;\n",
       "    }\n",
       "\n",
       "    .dataframe thead th {\n",
       "        text-align: right;\n",
       "    }\n",
       "</style>\n",
       "<table border=\"1\" class=\"dataframe\">\n",
       "  <thead>\n",
       "    <tr style=\"text-align: right;\">\n",
       "      <th></th>\n",
       "      <th>pers_id</th>\n",
       "      <th>sexo</th>\n",
       "      <th>edad</th>\n",
       "      <th>ingreso</th>\n",
       "      <th>situacion_lab</th>\n",
       "    </tr>\n",
       "  </thead>\n",
       "  <tbody>\n",
       "    <tr>\n",
       "      <th>259</th>\n",
       "      <td>31643792906</td>\n",
       "      <td>F</td>\n",
       "      <td>58</td>\n",
       "      <td>13340.29199</td>\n",
       "      <td>Desempleado_o_plansocial</td>\n",
       "    </tr>\n",
       "    <tr>\n",
       "      <th>654</th>\n",
       "      <td>43125403763</td>\n",
       "      <td>F</td>\n",
       "      <td>54</td>\n",
       "      <td>18737.06641</td>\n",
       "      <td>Desempleado_o_plansocial</td>\n",
       "    </tr>\n",
       "    <tr>\n",
       "      <th>4484</th>\n",
       "      <td>25052466196</td>\n",
       "      <td>M</td>\n",
       "      <td>24</td>\n",
       "      <td>27586.21484</td>\n",
       "      <td>Desempleado_o_plansocial</td>\n",
       "    </tr>\n",
       "    <tr>\n",
       "      <th>3</th>\n",
       "      <td>21033369421</td>\n",
       "      <td>F</td>\n",
       "      <td>52</td>\n",
       "      <td>30239.54883</td>\n",
       "      <td>Jubilado</td>\n",
       "    </tr>\n",
       "    <tr>\n",
       "      <th>6</th>\n",
       "      <td>34347124153</td>\n",
       "      <td>F</td>\n",
       "      <td>59</td>\n",
       "      <td>21580.17773</td>\n",
       "      <td>Jubilado</td>\n",
       "    </tr>\n",
       "    <tr>\n",
       "      <th>...</th>\n",
       "      <td>...</td>\n",
       "      <td>...</td>\n",
       "      <td>...</td>\n",
       "      <td>...</td>\n",
       "      <td>...</td>\n",
       "    </tr>\n",
       "    <tr>\n",
       "      <th>4898</th>\n",
       "      <td>54988619757</td>\n",
       "      <td>M</td>\n",
       "      <td>60</td>\n",
       "      <td>79162.75781</td>\n",
       "      <td>Jubilado</td>\n",
       "    </tr>\n",
       "    <tr>\n",
       "      <th>4908</th>\n",
       "      <td>35125406196</td>\n",
       "      <td>M</td>\n",
       "      <td>56</td>\n",
       "      <td>11305.06250</td>\n",
       "      <td>Jubilado</td>\n",
       "    </tr>\n",
       "    <tr>\n",
       "      <th>4927</th>\n",
       "      <td>82422415327</td>\n",
       "      <td>M</td>\n",
       "      <td>58</td>\n",
       "      <td>39559.71484</td>\n",
       "      <td>Jubilado</td>\n",
       "    </tr>\n",
       "    <tr>\n",
       "      <th>4947</th>\n",
       "      <td>98535941407</td>\n",
       "      <td>M</td>\n",
       "      <td>51</td>\n",
       "      <td>193396.81250</td>\n",
       "      <td>Jubilado</td>\n",
       "    </tr>\n",
       "    <tr>\n",
       "      <th>4967</th>\n",
       "      <td>75435281587</td>\n",
       "      <td>M</td>\n",
       "      <td>63</td>\n",
       "      <td>66118.07031</td>\n",
       "      <td>Jubilado</td>\n",
       "    </tr>\n",
       "  </tbody>\n",
       "</table>\n",
       "<p>201 rows × 5 columns</p>\n",
       "</div>"
      ],
      "text/plain": [
       "          pers_id sexo  edad       ingreso             situacion_lab\n",
       "259   31643792906    F    58   13340.29199  Desempleado_o_plansocial\n",
       "654   43125403763    F    54   18737.06641  Desempleado_o_plansocial\n",
       "4484  25052466196    M    24   27586.21484  Desempleado_o_plansocial\n",
       "3     21033369421    F    52   30239.54883                  Jubilado\n",
       "6     34347124153    F    59   21580.17773                  Jubilado\n",
       "...           ...  ...   ...           ...                       ...\n",
       "4898  54988619757    M    60   79162.75781                  Jubilado\n",
       "4908  35125406196    M    56   11305.06250                  Jubilado\n",
       "4927  82422415327    M    58   39559.71484                  Jubilado\n",
       "4947  98535941407    M    51  193396.81250                  Jubilado\n",
       "4967  75435281587    M    63   66118.07031                  Jubilado\n",
       "\n",
       "[201 rows x 5 columns]"
      ]
     },
     "execution_count": 7,
     "metadata": {},
     "output_type": "execute_result"
    }
   ],
   "source": [
    "tabla1_desempleados = tabla1[tabla1[\"situacion_lab\"] == \"Desempleado_o_plansocial\"]\n",
    "tabla1_jubilados = tabla1[tabla1[\"situacion_lab\"] == \"Jubilado\"]\n",
    "\n",
    "desocupados=[tabla1_desempleados,tabla1_jubilados]\n",
    "\n",
    "tabla1_aux = pd.concat(desocupados)\n",
    "tabla1_aux"
   ]
  },
  {
   "cell_type": "code",
   "execution_count": 8,
   "id": "13fe666f",
   "metadata": {},
   "outputs": [
    {
     "name": "stdout",
     "output_type": "stream",
     "text": [
      "Cantidad de personas desocupadas:  201\n",
      "Cantidad de personas ocupadas:  4799\n"
     ]
    }
   ],
   "source": [
    "print(\"Cantidad de personas desocupadas: \", len(tabla1_aux))\n",
    "print(\"Cantidad de personas ocupadas: \", len(tabla1) - len(tabla1_aux))"
   ]
  },
  {
   "cell_type": "code",
   "execution_count": 9,
   "id": "1656ef42",
   "metadata": {},
   "outputs": [],
   "source": [
    "##########################################################################################3333"
   ]
  },
  {
   "cell_type": "code",
   "execution_count": 10,
   "id": "542fa73e",
   "metadata": {},
   "outputs": [
    {
     "data": {
      "text/html": [
       "<div>\n",
       "<style scoped>\n",
       "    .dataframe tbody tr th:only-of-type {\n",
       "        vertical-align: middle;\n",
       "    }\n",
       "\n",
       "    .dataframe tbody tr th {\n",
       "        vertical-align: top;\n",
       "    }\n",
       "\n",
       "    .dataframe thead th {\n",
       "        text-align: right;\n",
       "    }\n",
       "</style>\n",
       "<table border=\"1\" class=\"dataframe\">\n",
       "  <thead>\n",
       "    <tr style=\"text-align: right;\">\n",
       "      <th></th>\n",
       "      <th>pers_id</th>\n",
       "      <th>sexo</th>\n",
       "      <th>edad</th>\n",
       "      <th>ingreso</th>\n",
       "      <th>situacion_lab</th>\n",
       "      <th>periodo</th>\n",
       "      <th>score</th>\n",
       "    </tr>\n",
       "  </thead>\n",
       "  <tbody>\n",
       "    <tr>\n",
       "      <th>0</th>\n",
       "      <td>71906556521</td>\n",
       "      <td>F</td>\n",
       "      <td>47</td>\n",
       "      <td>35926.28125</td>\n",
       "      <td>Sin_situacion_declarada</td>\n",
       "      <td>201906</td>\n",
       "      <td>919</td>\n",
       "    </tr>\n",
       "    <tr>\n",
       "      <th>1</th>\n",
       "      <td>71906556521</td>\n",
       "      <td>F</td>\n",
       "      <td>47</td>\n",
       "      <td>35926.28125</td>\n",
       "      <td>Sin_situacion_declarada</td>\n",
       "      <td>201906</td>\n",
       "      <td>919</td>\n",
       "    </tr>\n",
       "    <tr>\n",
       "      <th>2</th>\n",
       "      <td>71906556521</td>\n",
       "      <td>F</td>\n",
       "      <td>47</td>\n",
       "      <td>35926.28125</td>\n",
       "      <td>Sin_situacion_declarada</td>\n",
       "      <td>201909</td>\n",
       "      <td>738</td>\n",
       "    </tr>\n",
       "    <tr>\n",
       "      <th>3</th>\n",
       "      <td>71906556521</td>\n",
       "      <td>F</td>\n",
       "      <td>47</td>\n",
       "      <td>35926.28125</td>\n",
       "      <td>Sin_situacion_declarada</td>\n",
       "      <td>201909</td>\n",
       "      <td>919</td>\n",
       "    </tr>\n",
       "    <tr>\n",
       "      <th>4</th>\n",
       "      <td>71906556521</td>\n",
       "      <td>F</td>\n",
       "      <td>47</td>\n",
       "      <td>35926.28125</td>\n",
       "      <td>Sin_situacion_declarada</td>\n",
       "      <td>201912</td>\n",
       "      <td>919</td>\n",
       "    </tr>\n",
       "    <tr>\n",
       "      <th>...</th>\n",
       "      <td>...</td>\n",
       "      <td>...</td>\n",
       "      <td>...</td>\n",
       "      <td>...</td>\n",
       "      <td>...</td>\n",
       "      <td>...</td>\n",
       "      <td>...</td>\n",
       "    </tr>\n",
       "    <tr>\n",
       "      <th>15871</th>\n",
       "      <td>57646643429</td>\n",
       "      <td>M</td>\n",
       "      <td>33</td>\n",
       "      <td>37955.50781</td>\n",
       "      <td>Relacion_dependencia</td>\n",
       "      <td>201909</td>\n",
       "      <td>683</td>\n",
       "    </tr>\n",
       "    <tr>\n",
       "      <th>15872</th>\n",
       "      <td>57646643429</td>\n",
       "      <td>M</td>\n",
       "      <td>33</td>\n",
       "      <td>37955.50781</td>\n",
       "      <td>Relacion_dependencia</td>\n",
       "      <td>201912</td>\n",
       "      <td>799</td>\n",
       "    </tr>\n",
       "    <tr>\n",
       "      <th>15873</th>\n",
       "      <td>92370836565</td>\n",
       "      <td>M</td>\n",
       "      <td>41</td>\n",
       "      <td>92338.20313</td>\n",
       "      <td>Relacion_dependencia</td>\n",
       "      <td>201906</td>\n",
       "      <td>900</td>\n",
       "    </tr>\n",
       "    <tr>\n",
       "      <th>15874</th>\n",
       "      <td>92370836565</td>\n",
       "      <td>M</td>\n",
       "      <td>41</td>\n",
       "      <td>92338.20313</td>\n",
       "      <td>Relacion_dependencia</td>\n",
       "      <td>201909</td>\n",
       "      <td>763</td>\n",
       "    </tr>\n",
       "    <tr>\n",
       "      <th>15875</th>\n",
       "      <td>92370836565</td>\n",
       "      <td>M</td>\n",
       "      <td>41</td>\n",
       "      <td>92338.20313</td>\n",
       "      <td>Relacion_dependencia</td>\n",
       "      <td>201912</td>\n",
       "      <td>900</td>\n",
       "    </tr>\n",
       "  </tbody>\n",
       "</table>\n",
       "<p>15876 rows × 7 columns</p>\n",
       "</div>"
      ],
      "text/plain": [
       "           pers_id sexo  edad      ingreso            situacion_lab  periodo  \\\n",
       "0      71906556521    F    47  35926.28125  Sin_situacion_declarada   201906   \n",
       "1      71906556521    F    47  35926.28125  Sin_situacion_declarada   201906   \n",
       "2      71906556521    F    47  35926.28125  Sin_situacion_declarada   201909   \n",
       "3      71906556521    F    47  35926.28125  Sin_situacion_declarada   201909   \n",
       "4      71906556521    F    47  35926.28125  Sin_situacion_declarada   201912   \n",
       "...            ...  ...   ...          ...                      ...      ...   \n",
       "15871  57646643429    M    33  37955.50781     Relacion_dependencia   201909   \n",
       "15872  57646643429    M    33  37955.50781     Relacion_dependencia   201912   \n",
       "15873  92370836565    M    41  92338.20313     Relacion_dependencia   201906   \n",
       "15874  92370836565    M    41  92338.20313     Relacion_dependencia   201909   \n",
       "15875  92370836565    M    41  92338.20313     Relacion_dependencia   201912   \n",
       "\n",
       "       score  \n",
       "0        919  \n",
       "1        919  \n",
       "2        738  \n",
       "3        919  \n",
       "4        919  \n",
       "...      ...  \n",
       "15871    683  \n",
       "15872    799  \n",
       "15873    900  \n",
       "15874    763  \n",
       "15875    900  \n",
       "\n",
       "[15876 rows x 7 columns]"
      ]
     },
     "execution_count": 10,
     "metadata": {},
     "output_type": "execute_result"
    }
   ],
   "source": [
    "tabla = tabla1.merge(tabla2, on = \"pers_id\")\n",
    "tabla"
   ]
  },
  {
   "cell_type": "code",
   "execution_count": 11,
   "id": "ed6761e3",
   "metadata": {},
   "outputs": [
    {
     "data": {
      "text/html": [
       "<div>\n",
       "<style scoped>\n",
       "    .dataframe tbody tr th:only-of-type {\n",
       "        vertical-align: middle;\n",
       "    }\n",
       "\n",
       "    .dataframe tbody tr th {\n",
       "        vertical-align: top;\n",
       "    }\n",
       "\n",
       "    .dataframe thead th {\n",
       "        text-align: right;\n",
       "    }\n",
       "</style>\n",
       "<table border=\"1\" class=\"dataframe\">\n",
       "  <thead>\n",
       "    <tr style=\"text-align: right;\">\n",
       "      <th></th>\n",
       "      <th>pers_id</th>\n",
       "      <th>sexo</th>\n",
       "      <th>edad</th>\n",
       "      <th>ingreso</th>\n",
       "      <th>situacion_lab</th>\n",
       "      <th>periodo</th>\n",
       "      <th>score</th>\n",
       "    </tr>\n",
       "  </thead>\n",
       "  <tbody>\n",
       "    <tr>\n",
       "      <th>10</th>\n",
       "      <td>71906556521</td>\n",
       "      <td>F</td>\n",
       "      <td>47</td>\n",
       "      <td>35926.28125</td>\n",
       "      <td>Sin_situacion_declarada</td>\n",
       "      <td>201912</td>\n",
       "      <td>919</td>\n",
       "    </tr>\n",
       "    <tr>\n",
       "      <th>17</th>\n",
       "      <td>73861260912</td>\n",
       "      <td>F</td>\n",
       "      <td>41</td>\n",
       "      <td>16231.12207</td>\n",
       "      <td>Sin_situacion_declarada</td>\n",
       "      <td>201912</td>\n",
       "      <td>557</td>\n",
       "    </tr>\n",
       "    <tr>\n",
       "      <th>35</th>\n",
       "      <td>24939194469</td>\n",
       "      <td>F</td>\n",
       "      <td>40</td>\n",
       "      <td>25068.96484</td>\n",
       "      <td>Relacion_dependencia</td>\n",
       "      <td>201912</td>\n",
       "      <td>1</td>\n",
       "    </tr>\n",
       "    <tr>\n",
       "      <th>47</th>\n",
       "      <td>21033369421</td>\n",
       "      <td>F</td>\n",
       "      <td>52</td>\n",
       "      <td>30239.54883</td>\n",
       "      <td>Jubilado</td>\n",
       "      <td>201912</td>\n",
       "      <td>1</td>\n",
       "    </tr>\n",
       "    <tr>\n",
       "      <th>50</th>\n",
       "      <td>45334163605</td>\n",
       "      <td>F</td>\n",
       "      <td>46</td>\n",
       "      <td>12654.58203</td>\n",
       "      <td>Relacion_dependencia</td>\n",
       "      <td>201912</td>\n",
       "      <td>1</td>\n",
       "    </tr>\n",
       "    <tr>\n",
       "      <th>...</th>\n",
       "      <td>...</td>\n",
       "      <td>...</td>\n",
       "      <td>...</td>\n",
       "      <td>...</td>\n",
       "      <td>...</td>\n",
       "      <td>...</td>\n",
       "      <td>...</td>\n",
       "    </tr>\n",
       "    <tr>\n",
       "      <th>15863</th>\n",
       "      <td>77317158601</td>\n",
       "      <td>M</td>\n",
       "      <td>55</td>\n",
       "      <td>22806.19336</td>\n",
       "      <td>Relacion_dependencia</td>\n",
       "      <td>201912</td>\n",
       "      <td>799</td>\n",
       "    </tr>\n",
       "    <tr>\n",
       "      <th>15866</th>\n",
       "      <td>7865860477</td>\n",
       "      <td>M</td>\n",
       "      <td>42</td>\n",
       "      <td>34291.91016</td>\n",
       "      <td>Relacion_dependencia</td>\n",
       "      <td>201912</td>\n",
       "      <td>799</td>\n",
       "    </tr>\n",
       "    <tr>\n",
       "      <th>15869</th>\n",
       "      <td>2875330898</td>\n",
       "      <td>M</td>\n",
       "      <td>55</td>\n",
       "      <td>19692.85938</td>\n",
       "      <td>Sin_situacion_declarada</td>\n",
       "      <td>201912</td>\n",
       "      <td>799</td>\n",
       "    </tr>\n",
       "    <tr>\n",
       "      <th>15872</th>\n",
       "      <td>57646643429</td>\n",
       "      <td>M</td>\n",
       "      <td>33</td>\n",
       "      <td>37955.50781</td>\n",
       "      <td>Relacion_dependencia</td>\n",
       "      <td>201912</td>\n",
       "      <td>799</td>\n",
       "    </tr>\n",
       "    <tr>\n",
       "      <th>15875</th>\n",
       "      <td>92370836565</td>\n",
       "      <td>M</td>\n",
       "      <td>41</td>\n",
       "      <td>92338.20313</td>\n",
       "      <td>Relacion_dependencia</td>\n",
       "      <td>201912</td>\n",
       "      <td>900</td>\n",
       "    </tr>\n",
       "  </tbody>\n",
       "</table>\n",
       "<p>4853 rows × 7 columns</p>\n",
       "</div>"
      ],
      "text/plain": [
       "           pers_id sexo  edad      ingreso            situacion_lab  periodo  \\\n",
       "10     71906556521    F    47  35926.28125  Sin_situacion_declarada   201912   \n",
       "17     73861260912    F    41  16231.12207  Sin_situacion_declarada   201912   \n",
       "35     24939194469    F    40  25068.96484     Relacion_dependencia   201912   \n",
       "47     21033369421    F    52  30239.54883                 Jubilado   201912   \n",
       "50     45334163605    F    46  12654.58203     Relacion_dependencia   201912   \n",
       "...            ...  ...   ...          ...                      ...      ...   \n",
       "15863  77317158601    M    55  22806.19336     Relacion_dependencia   201912   \n",
       "15866   7865860477    M    42  34291.91016     Relacion_dependencia   201912   \n",
       "15869   2875330898    M    55  19692.85938  Sin_situacion_declarada   201912   \n",
       "15872  57646643429    M    33  37955.50781     Relacion_dependencia   201912   \n",
       "15875  92370836565    M    41  92338.20313     Relacion_dependencia   201912   \n",
       "\n",
       "       score  \n",
       "10       919  \n",
       "17       557  \n",
       "35         1  \n",
       "47         1  \n",
       "50         1  \n",
       "...      ...  \n",
       "15863    799  \n",
       "15866    799  \n",
       "15869    799  \n",
       "15872    799  \n",
       "15875    900  \n",
       "\n",
       "[4853 rows x 7 columns]"
      ]
     },
     "execution_count": 11,
     "metadata": {},
     "output_type": "execute_result"
    }
   ],
   "source": [
    "tabla_ultimo_periodo = tabla.sort_values('periodo', ascending=False).drop_duplicates('pers_id').sort_index()\n",
    "tabla_ultimo_periodo"
   ]
  },
  {
   "cell_type": "code",
   "execution_count": 12,
   "id": "f82f41a1",
   "metadata": {},
   "outputs": [
    {
     "data": {
      "text/html": [
       "<div>\n",
       "<style scoped>\n",
       "    .dataframe tbody tr th:only-of-type {\n",
       "        vertical-align: middle;\n",
       "    }\n",
       "\n",
       "    .dataframe tbody tr th {\n",
       "        vertical-align: top;\n",
       "    }\n",
       "\n",
       "    .dataframe thead th {\n",
       "        text-align: right;\n",
       "    }\n",
       "</style>\n",
       "<table border=\"1\" class=\"dataframe\">\n",
       "  <thead>\n",
       "    <tr style=\"text-align: right;\">\n",
       "      <th></th>\n",
       "      <th>situacion_lab</th>\n",
       "      <th>score</th>\n",
       "    </tr>\n",
       "  </thead>\n",
       "  <tbody>\n",
       "    <tr>\n",
       "      <th>0</th>\n",
       "      <td>Autonomo_Monotributista</td>\n",
       "      <td>717.809368</td>\n",
       "    </tr>\n",
       "    <tr>\n",
       "      <th>1</th>\n",
       "      <td>Desempleado_o_plansocial</td>\n",
       "      <td>406.666667</td>\n",
       "    </tr>\n",
       "    <tr>\n",
       "      <th>2</th>\n",
       "      <td>Jubilado</td>\n",
       "      <td>650.804233</td>\n",
       "    </tr>\n",
       "    <tr>\n",
       "      <th>3</th>\n",
       "      <td>Relacion_dependencia</td>\n",
       "      <td>726.080597</td>\n",
       "    </tr>\n",
       "    <tr>\n",
       "      <th>4</th>\n",
       "      <td>Sin_situacion_declarada</td>\n",
       "      <td>634.517270</td>\n",
       "    </tr>\n",
       "  </tbody>\n",
       "</table>\n",
       "</div>"
      ],
      "text/plain": [
       "              situacion_lab       score\n",
       "0   Autonomo_Monotributista  717.809368\n",
       "1  Desempleado_o_plansocial  406.666667\n",
       "2                  Jubilado  650.804233\n",
       "3      Relacion_dependencia  726.080597\n",
       "4   Sin_situacion_declarada  634.517270"
      ]
     },
     "execution_count": 12,
     "metadata": {},
     "output_type": "execute_result"
    }
   ],
   "source": [
    "means = tabla_ultimo_periodo.groupby(\"situacion_lab\", as_index=False)[\"score\"].mean()\n",
    "means"
   ]
  },
  {
   "cell_type": "code",
   "execution_count": 13,
   "id": "9143a5e8",
   "metadata": {},
   "outputs": [
    {
     "name": "stderr",
     "output_type": "stream",
     "text": [
      "C:\\Users\\mdds2\\anaconda3\\lib\\site-packages\\seaborn\\_decorators.py:36: FutureWarning: Pass the following variables as keyword args: x, y. From version 0.12, the only valid positional argument will be `data`, and passing other arguments without an explicit keyword will result in an error or misinterpretation.\n",
      "  warnings.warn(\n"
     ]
    },
    {
     "data": {
      "text/plain": [
       "<AxesSubplot:xlabel='situacion_lab', ylabel='score'>"
      ]
     },
     "execution_count": 13,
     "metadata": {},
     "output_type": "execute_result"
    },
    {
     "data": {
      "image/png": "[encoded data removed]",
      "text/plain": [
       "<Figure size 432x288 with 1 Axes>"
      ]
     },
     "metadata": {
      "needs_background": "light"
     },
     "output_type": "display_data"
    }
   ],
   "source": [
    "plot = sns.barplot(\"situacion_lab\", \"score\", data = means)\n",
    "plot"
   ]
  },
  {
   "cell_type": "code",
   "execution_count": 14,
   "id": "f545ee44",
   "metadata": {},
   "outputs": [],
   "source": [
    "###########################################################################################################"
   ]
  },
  {
   "cell_type": "code",
   "execution_count": 15,
   "id": "eec0854e",
   "metadata": {},
   "outputs": [],
   "source": [
    "tabla_score_promedio_por_sexo = tabla.groupby(\"sexo\", as_index=False)[\"score\"].mean()\n",
    "tabla_ingreso_promedio_por_sexo = tabla.groupby(\"sexo\", as_index=False)[\"ingreso\"].mean()\n",
    "\n",
    "tabla_score_maximo_por_sexo = tabla.groupby(\"sexo\", as_index=False)[\"score\"].max()\n",
    "tabla_ingreso_maximo_por_sexo = tabla.groupby(\"sexo\", as_index=False)[\"ingreso\"].max()"
   ]
  },
  {
   "cell_type": "code",
   "execution_count": 16,
   "id": "7a6d1873",
   "metadata": {},
   "outputs": [
    {
     "data": {
      "text/html": [
       "<div>\n",
       "<style scoped>\n",
       "    .dataframe tbody tr th:only-of-type {\n",
       "        vertical-align: middle;\n",
       "    }\n",
       "\n",
       "    .dataframe tbody tr th {\n",
       "        vertical-align: top;\n",
       "    }\n",
       "\n",
       "    .dataframe thead th {\n",
       "        text-align: right;\n",
       "    }\n",
       "</style>\n",
       "<table border=\"1\" class=\"dataframe\">\n",
       "  <thead>\n",
       "    <tr style=\"text-align: right;\">\n",
       "      <th></th>\n",
       "      <th>sexo</th>\n",
       "      <th>score</th>\n",
       "    </tr>\n",
       "  </thead>\n",
       "  <tbody>\n",
       "    <tr>\n",
       "      <th>0</th>\n",
       "      <td>F</td>\n",
       "      <td>629.315928</td>\n",
       "    </tr>\n",
       "    <tr>\n",
       "      <th>1</th>\n",
       "      <td>M</td>\n",
       "      <td>772.281111</td>\n",
       "    </tr>\n",
       "  </tbody>\n",
       "</table>\n",
       "</div>"
      ],
      "text/plain": [
       "  sexo       score\n",
       "0    F  629.315928\n",
       "1    M  772.281111"
      ]
     },
     "execution_count": 16,
     "metadata": {},
     "output_type": "execute_result"
    }
   ],
   "source": [
    "tabla_score_promedio_por_sexo"
   ]
  },
  {
   "cell_type": "code",
   "execution_count": 17,
   "id": "ca18c211",
   "metadata": {},
   "outputs": [
    {
     "data": {
      "text/html": [
       "<div>\n",
       "<style scoped>\n",
       "    .dataframe tbody tr th:only-of-type {\n",
       "        vertical-align: middle;\n",
       "    }\n",
       "\n",
       "    .dataframe tbody tr th {\n",
       "        vertical-align: top;\n",
       "    }\n",
       "\n",
       "    .dataframe thead th {\n",
       "        text-align: right;\n",
       "    }\n",
       "</style>\n",
       "<table border=\"1\" class=\"dataframe\">\n",
       "  <thead>\n",
       "    <tr style=\"text-align: right;\">\n",
       "      <th></th>\n",
       "      <th>sexo</th>\n",
       "      <th>ingreso</th>\n",
       "    </tr>\n",
       "  </thead>\n",
       "  <tbody>\n",
       "    <tr>\n",
       "      <th>0</th>\n",
       "      <td>F</td>\n",
       "      <td>44293.007522</td>\n",
       "    </tr>\n",
       "    <tr>\n",
       "      <th>1</th>\n",
       "      <td>M</td>\n",
       "      <td>55543.766640</td>\n",
       "    </tr>\n",
       "  </tbody>\n",
       "</table>\n",
       "</div>"
      ],
      "text/plain": [
       "  sexo       ingreso\n",
       "0    F  44293.007522\n",
       "1    M  55543.766640"
      ]
     },
     "execution_count": 17,
     "metadata": {},
     "output_type": "execute_result"
    }
   ],
   "source": [
    "tabla_ingreso_promedio_por_sexo"
   ]
  },
  {
   "cell_type": "code",
   "execution_count": 18,
   "id": "7e62f924",
   "metadata": {},
   "outputs": [
    {
     "data": {
      "text/html": [
       "<div>\n",
       "<style scoped>\n",
       "    .dataframe tbody tr th:only-of-type {\n",
       "        vertical-align: middle;\n",
       "    }\n",
       "\n",
       "    .dataframe tbody tr th {\n",
       "        vertical-align: top;\n",
       "    }\n",
       "\n",
       "    .dataframe thead th {\n",
       "        text-align: right;\n",
       "    }\n",
       "</style>\n",
       "<table border=\"1\" class=\"dataframe\">\n",
       "  <thead>\n",
       "    <tr style=\"text-align: right;\">\n",
       "      <th></th>\n",
       "      <th>sexo</th>\n",
       "      <th>score</th>\n",
       "    </tr>\n",
       "  </thead>\n",
       "  <tbody>\n",
       "    <tr>\n",
       "      <th>0</th>\n",
       "      <td>F</td>\n",
       "      <td>991</td>\n",
       "    </tr>\n",
       "    <tr>\n",
       "      <th>1</th>\n",
       "      <td>M</td>\n",
       "      <td>1011</td>\n",
       "    </tr>\n",
       "  </tbody>\n",
       "</table>\n",
       "</div>"
      ],
      "text/plain": [
       "  sexo  score\n",
       "0    F    991\n",
       "1    M   1011"
      ]
     },
     "execution_count": 18,
     "metadata": {},
     "output_type": "execute_result"
    }
   ],
   "source": [
    "tabla_score_maximo_por_sexo"
   ]
  },
  {
   "cell_type": "code",
   "execution_count": 19,
   "id": "a8205b39",
   "metadata": {},
   "outputs": [
    {
     "data": {
      "text/html": [
       "<div>\n",
       "<style scoped>\n",
       "    .dataframe tbody tr th:only-of-type {\n",
       "        vertical-align: middle;\n",
       "    }\n",
       "\n",
       "    .dataframe tbody tr th {\n",
       "        vertical-align: top;\n",
       "    }\n",
       "\n",
       "    .dataframe thead th {\n",
       "        text-align: right;\n",
       "    }\n",
       "</style>\n",
       "<table border=\"1\" class=\"dataframe\">\n",
       "  <thead>\n",
       "    <tr style=\"text-align: right;\">\n",
       "      <th></th>\n",
       "      <th>sexo</th>\n",
       "      <th>ingreso</th>\n",
       "    </tr>\n",
       "  </thead>\n",
       "  <tbody>\n",
       "    <tr>\n",
       "      <th>0</th>\n",
       "      <td>F</td>\n",
       "      <td>850432.250</td>\n",
       "    </tr>\n",
       "    <tr>\n",
       "      <th>1</th>\n",
       "      <td>M</td>\n",
       "      <td>669146.625</td>\n",
       "    </tr>\n",
       "  </tbody>\n",
       "</table>\n",
       "</div>"
      ],
      "text/plain": [
       "  sexo     ingreso\n",
       "0    F  850432.250\n",
       "1    M  669146.625"
      ]
     },
     "execution_count": 19,
     "metadata": {},
     "output_type": "execute_result"
    }
   ],
   "source": [
    "tabla_ingreso_maximo_por_sexo"
   ]
  },
  {
   "cell_type": "code",
   "execution_count": 20,
   "id": "e2f4eb15",
   "metadata": {},
   "outputs": [
    {
     "name": "stderr",
     "output_type": "stream",
     "text": [
      "C:\\Users\\mdds2\\anaconda3\\lib\\site-packages\\seaborn\\_decorators.py:36: FutureWarning: Pass the following variables as keyword args: x, y. From version 0.12, the only valid positional argument will be `data`, and passing other arguments without an explicit keyword will result in an error or misinterpretation.\n",
      "  warnings.warn(\n"
     ]
    },
    {
     "data": {
      "text/plain": [
       "<AxesSubplot:xlabel='sexo', ylabel='score'>"
      ]
     },
     "execution_count": 20,
     "metadata": {},
     "output_type": "execute_result"
    },
    {
     "data": {
      "image/png": "[encoded data removed]",
      "text/plain": [
       "<Figure size 432x288 with 1 Axes>"
      ]
     },
     "metadata": {
      "needs_background": "light"
     },
     "output_type": "display_data"
    }
   ],
   "source": [
    "score_promedio_por_sexo = sns.barplot(\"sexo\", \"score\", data = tabla_score_promedio_por_sexo)\n",
    "score_promedio_por_sexo"
   ]
  },
  {
   "cell_type": "code",
   "execution_count": 21,
   "id": "167c9c46",
   "metadata": {},
   "outputs": [
    {
     "name": "stderr",
     "output_type": "stream",
     "text": [
      "C:\\Users\\mdds2\\anaconda3\\lib\\site-packages\\seaborn\\_decorators.py:36: FutureWarning: Pass the following variables as keyword args: x, y. From version 0.12, the only valid positional argument will be `data`, and passing other arguments without an explicit keyword will result in an error or misinterpretation.\n",
      "  warnings.warn(\n"
     ]
    },
    {
     "data": {
      "text/plain": [
       "<AxesSubplot:xlabel='sexo', ylabel='ingreso'>"
      ]
     },
     "execution_count": 21,
     "metadata": {},
     "output_type": "execute_result"
    },
    {
     "data": {
      "image/png": "[encoded data removed]",
      "text/plain": [
       "<Figure size 432x288 with 1 Axes>"
      ]
     },
     "metadata": {
      "needs_background": "light"
     },
     "output_type": "display_data"
    }
   ],
   "source": [
    "ingreso_promedio_por_sexo = sns.barplot(\"sexo\", \"ingreso\", data = tabla_ingreso_promedio_por_sexo)\n",
    "ingreso_promedio_por_sexo"
   ]
  },
  {
   "cell_type": "code",
   "execution_count": 22,
   "id": "9fbb3687",
   "metadata": {},
   "outputs": [
    {
     "name": "stderr",
     "output_type": "stream",
     "text": [
      "C:\\Users\\mdds2\\anaconda3\\lib\\site-packages\\seaborn\\_decorators.py:36: FutureWarning: Pass the following variables as keyword args: x, y. From version 0.12, the only valid positional argument will be `data`, and passing other arguments without an explicit keyword will result in an error or misinterpretation.\n",
      "  warnings.warn(\n"
     ]
    },
    {
     "data": {
      "text/plain": [
       "<AxesSubplot:xlabel='sexo', ylabel='score'>"
      ]
     },
     "execution_count": 22,
     "metadata": {},
     "output_type": "execute_result"
    },
    {
     "data": {
      "image/png": "[encoded data removed]",
      "text/plain": [
       "<Figure size 432x288 with 1 Axes>"
      ]
     },
     "metadata": {
      "needs_background": "light"
     },
     "output_type": "display_data"
    }
   ],
   "source": [
    "score_maximo_por_sexo = sns.barplot(\"sexo\", \"score\", data = tabla_score_maximo_por_sexo)\n",
    "score_maximo_por_sexo"
   ]
  },
  {
   "cell_type": "code",
   "execution_count": 25,
   "id": "d991f22a",
   "metadata": {},
   "outputs": [
    {
     "data": {
      "text/plain": [
       "<AxesSubplot:xlabel='sexo', ylabel='ingreso'>"
      ]
     },
     "execution_count": 25,
     "metadata": {},
     "output_type": "execute_result"
    },
    {
     "data": {
      "image/png": "[encoded data removed]",
      "text/plain": [
       "<Figure size 432x288 with 1 Axes>"
      ]
     },
     "metadata": {
      "needs_background": "light"
     },
     "output_type": "display_data"
    }
   ],
   "source": [
    "ingreso_maximo_por_sexo = sns.barplot(\"sexo\", \"ingreso\", data = tabla_ingreso_maximo_por_sexo)\n",
    "ingreso_maximo_por_sexo"
   ]
  },
  {
   "cell_type": "code",
   "execution_count": null,
   "id": "7aa124e0",
   "metadata": {},
   "outputs": [],
   "source": []
  }
 ],
 "metadata": {
  "kernelspec": {
   "display_name": "Python 3 (ipykernel)",
   "language": "python",
   "name": "python3"
  },
  "language_info": {
   "codemirror_mode": {
    "name": "ipython",
    "version": 3
   },
   "file_extension": ".py",
   "mimetype": "text/x-python",
   "name": "python",
   "nbconvert_exporter": "python",
   "pygments_lexer": "ipython3",
   "version": "3.9.13"
  }
 },
 "nbformat": 4,
 "nbformat_minor": 5
}
