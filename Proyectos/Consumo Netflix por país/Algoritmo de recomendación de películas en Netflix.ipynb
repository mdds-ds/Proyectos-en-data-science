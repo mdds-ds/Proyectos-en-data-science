{
 "cells": [
  {
   "cell_type": "markdown",
   "metadata": {},
   "source": [
    "# Algoritmo de consumo en Netflix por regresión lineal multivariada"
   ]
  },
  {
   "cell_type": "code",
   "execution_count": 2,
   "metadata": {},
   "outputs": [],
   "source": [
    "import pandas as pd   \n",
    "import numpy as np"
   ]
  },
  {
   "cell_type": "markdown",
   "metadata": {},
   "source": [
    "En 2006 Netflix ofreció un premio de 1.000.000 (un millón) de dólares a quién lograra diseñar un buen sistema de recomendaciones de películas (mejorando un 10% el mejor algoritmo existente al momento).\n",
    "\n",
    "https://netflixprize.com/index.html\n",
    "\n",
    "El premio ya fue entregado en 2009.\n",
    "\n",
    "En el archivo netflix.csv se encuentran los puntajes (simulados) que 100 usuarios dieron a 6 películas.\n",
    "\n",
    "Ajustaré por una regresión lineal  $y = c_0 + c_1 x_1 + \\dots + c_n x_n$  el puntaje que estos 100 usuarios asignaron a la película 1917 en base a los puntajes que asignaron a las otras 5 películas.\n",
    "\n",
    "Luego evaluaré la bondad del ajuste y en base al resultado obtenido, veré si el algoritmo es lo suficientemente bueno para recomendar películas."
   ]
  },
  {
   "cell_type": "code",
   "execution_count": 3,
   "metadata": {},
   "outputs": [
    {
     "name": "stdout",
     "output_type": "stream",
     "text": [
      "    Cliente  Avengers  Erase una vez en Hollywood  Parasite  La Despedida  \\\n",
      "0         1         5                           4         4             1   \n",
      "1         2         1                           2         5             5   \n",
      "2         3         3                           4         4             3   \n",
      "3         4         3                           3         4             3   \n",
      "4         5         4                           4         4             2   \n",
      "..      ...       ...                         ...       ...           ...   \n",
      "95       96         4                           4         4             2   \n",
      "96       97         4                           4         4             2   \n",
      "97       98         2                           3         4             4   \n",
      "98       99         2                           3         5             4   \n",
      "99      100         4                           4         4             2   \n",
      "\n",
      "    The Joker  1917  \n",
      "0           4     3  \n",
      "1           1     5  \n",
      "2           5     1  \n",
      "3           4     3  \n",
      "4           4     2  \n",
      "..        ...   ...  \n",
      "95          4     3  \n",
      "96          5     2  \n",
      "97          3     3  \n",
      "98          3     3  \n",
      "99          4     2  \n",
      "\n",
      "[100 rows x 7 columns]\n"
     ]
    }
   ],
   "source": [
    "datos = pd.read_csv(\"netflix.csv\")   # dataFrame\n",
    "print(datos)"
   ]
  },
  {
   "cell_type": "code",
   "execution_count": 4,
   "metadata": {},
   "outputs": [
    {
     "name": "stdout",
     "output_type": "stream",
     "text": [
      "[[  1   5   4   4   1   4   3]\n",
      " [  2   1   2   5   5   1   5]\n",
      " [  3   3   4   4   3   5   1]\n",
      " [  4   3   3   4   3   4   3]\n",
      " [  5   4   4   4   2   4   2]\n",
      " [  6   2   2   5   4   2   4]\n",
      " [  7   3   4   4   3   4   2]\n",
      " [  8   4   4   4   2   4   3]\n",
      " [  9   3   3   4   3   3   3]\n",
      " [ 10   2   3   4   4   3   3]\n",
      " [ 11   3   3   4   3   4   3]\n",
      " [ 12   2   3   5   4   2   4]\n",
      " [ 13   4   3   4   2   3   3]\n",
      " [ 14   2   3   4   4   3   3]\n",
      " [ 15   5   4   4   1   4   3]\n",
      " [ 16   4   4   4   2   5   2]\n",
      " [ 17   2   3   5   4   3   3]\n",
      " [ 18   3   3   4   3   3   3]\n",
      " [ 19   3   3   4   3   3   4]\n",
      " [ 20   2   3   5   4   3   4]\n",
      " [ 21   3   3   4   3   3   4]\n",
      " [ 22   3   4   4   3   4   3]\n",
      " [ 23   4   4   4   2   4   3]\n",
      " [ 24   3   3   4   3   3   3]\n",
      " [ 25   2   3   5   4   2   4]\n",
      " [ 26   2   3   4   4   3   3]\n",
      " [ 27   4   4   4   2   4   3]\n",
      " [ 28   3   3   4   3   3   4]\n",
      " [ 29   3   3   4   3   3   3]\n",
      " [ 30   2   3   5   4   2   4]\n",
      " [ 31   3   3   5   3   3   4]\n",
      " [ 32   3   3   4   3   3   3]\n",
      " [ 33   3   3   4   3   3   3]\n",
      " [ 34   2   3   5   4   3   3]\n",
      " [ 35   3   3   4   3   4   3]\n",
      " [ 36   2   3   4   4   4   2]\n",
      " [ 37   3   3   4   3   3   3]\n",
      " [ 38   3   3   4   3   3   4]\n",
      " [ 39   3   4   4   3   4   3]\n",
      " [ 40   3   4   4   3   4   2]\n",
      " [ 41   3   4   4   3   4   2]\n",
      " [ 42   3   3   4   3   3   3]\n",
      " [ 43   3   3   4   3   3   3]\n",
      " [ 44   2   3   4   4   3   3]\n",
      " [ 45   4   4   4   2   4   3]\n",
      " [ 46   3   3   4   3   3   3]\n",
      " [ 47   3   3   4   3   3   3]\n",
      " [ 48   2   3   4   4   3   3]\n",
      " [ 49   2   2   5   4   1   5]\n",
      " [ 50   3   3   4   3   3   3]\n",
      " [ 51   4   4   4   2   4   3]\n",
      " [ 52   3   3   4   3   3   3]\n",
      " [ 53   3   3   4   3   4   3]\n",
      " [ 54   2   3   4   4   3   3]\n",
      " [ 55   3   4   4   3   4   2]\n",
      " [ 56   4   4   4   2   4   2]\n",
      " [ 57   3   3   4   3   3   3]\n",
      " [ 58   4   4   4   2   4   3]\n",
      " [ 59   3   3   4   3   3   3]\n",
      " [ 60   4   4   4   2   4   3]\n",
      " [ 61   3   3   4   3   3   3]\n",
      " [ 62   3   3   4   3   3   3]\n",
      " [ 63   3   3   4   3   3   3]\n",
      " [ 64   4   4   4   2   4   2]\n",
      " [ 65   4   4   4   2   4   2]\n",
      " [ 66   4   4   4   2   4   2]\n",
      " [ 67   3   4   4   3   4   2]\n",
      " [ 68   3   4   4   3   4   2]\n",
      " [ 69   3   3   4   3   3   4]\n",
      " [ 70   3   3   4   3   3   3]\n",
      " [ 71   3   4   4   3   4   3]\n",
      " [ 72   4   4   4   2   4   3]\n",
      " [ 73   3   3   4   3   3   4]\n",
      " [ 74   2   3   5   4   3   3]\n",
      " [ 75   1   2   5   5   1   5]\n",
      " [ 76   3   3   4   3   3   4]\n",
      " [ 77   2   3   5   4   2   4]\n",
      " [ 78   3   4   4   3   4   2]\n",
      " [ 79   3   3   4   3   3   3]\n",
      " [ 80   3   4   4   3   4   2]\n",
      " [ 81   3   3   4   3   3   3]\n",
      " [ 82   3   3   4   3   3   3]\n",
      " [ 83   3   3   5   3   2   4]\n",
      " [ 84   3   3   4   3   3   3]\n",
      " [ 85   4   4   4   2   4   2]\n",
      " [ 86   3   3   4   3   3   3]\n",
      " [ 87   2   3   5   4   3   4]\n",
      " [ 88   2   2   5   4   2   4]\n",
      " [ 89   4   4   4   2   4   2]\n",
      " [ 90   2   3   4   4   3   3]\n",
      " [ 91   3   3   4   3   3   3]\n",
      " [ 92   3   3   4   3   3   3]\n",
      " [ 93   4   4   4   2   4   2]\n",
      " [ 94   2   3   4   4   3   3]\n",
      " [ 95   3   3   4   3   3   3]\n",
      " [ 96   4   4   4   2   4   3]\n",
      " [ 97   4   4   4   2   5   2]\n",
      " [ 98   2   3   4   4   3   3]\n",
      " [ 99   2   3   5   4   3   3]\n",
      " [100   4   4   4   2   4   2]]\n"
     ]
    }
   ],
   "source": [
    "# Convertimos los datos a np.array\n",
    "datosNP = datos.to_numpy()\n",
    "print(datosNP)"
   ]
  },
  {
   "cell_type": "code",
   "execution_count": 5,
   "metadata": {},
   "outputs": [
    {
     "name": "stdout",
     "output_type": "stream",
     "text": [
      "[[1. 5. 4. 4. 1. 4.]\n",
      " [1. 1. 2. 5. 5. 1.]\n",
      " [1. 3. 4. 4. 3. 5.]\n",
      " [1. 3. 3. 4. 3. 4.]\n",
      " [1. 4. 4. 4. 2. 4.]\n",
      " [1. 2. 2. 5. 4. 2.]\n",
      " [1. 3. 4. 4. 3. 4.]\n",
      " [1. 4. 4. 4. 2. 4.]\n",
      " [1. 3. 3. 4. 3. 3.]\n",
      " [1. 2. 3. 4. 4. 3.]\n",
      " [1. 3. 3. 4. 3. 4.]\n",
      " [1. 2. 3. 5. 4. 2.]\n",
      " [1. 4. 3. 4. 2. 3.]\n",
      " [1. 2. 3. 4. 4. 3.]\n",
      " [1. 5. 4. 4. 1. 4.]\n",
      " [1. 4. 4. 4. 2. 5.]\n",
      " [1. 2. 3. 5. 4. 3.]\n",
      " [1. 3. 3. 4. 3. 3.]\n",
      " [1. 3. 3. 4. 3. 3.]\n",
      " [1. 2. 3. 5. 4. 3.]\n",
      " [1. 3. 3. 4. 3. 3.]\n",
      " [1. 3. 4. 4. 3. 4.]\n",
      " [1. 4. 4. 4. 2. 4.]\n",
      " [1. 3. 3. 4. 3. 3.]\n",
      " [1. 2. 3. 5. 4. 2.]\n",
      " [1. 2. 3. 4. 4. 3.]\n",
      " [1. 4. 4. 4. 2. 4.]\n",
      " [1. 3. 3. 4. 3. 3.]\n",
      " [1. 3. 3. 4. 3. 3.]\n",
      " [1. 2. 3. 5. 4. 2.]\n",
      " [1. 3. 3. 5. 3. 3.]\n",
      " [1. 3. 3. 4. 3. 3.]\n",
      " [1. 3. 3. 4. 3. 3.]\n",
      " [1. 2. 3. 5. 4. 3.]\n",
      " [1. 3. 3. 4. 3. 4.]\n",
      " [1. 2. 3. 4. 4. 4.]\n",
      " [1. 3. 3. 4. 3. 3.]\n",
      " [1. 3. 3. 4. 3. 3.]\n",
      " [1. 3. 4. 4. 3. 4.]\n",
      " [1. 3. 4. 4. 3. 4.]\n",
      " [1. 3. 4. 4. 3. 4.]\n",
      " [1. 3. 3. 4. 3. 3.]\n",
      " [1. 3. 3. 4. 3. 3.]\n",
      " [1. 2. 3. 4. 4. 3.]\n",
      " [1. 4. 4. 4. 2. 4.]\n",
      " [1. 3. 3. 4. 3. 3.]\n",
      " [1. 3. 3. 4. 3. 3.]\n",
      " [1. 2. 3. 4. 4. 3.]\n",
      " [1. 2. 2. 5. 4. 1.]\n",
      " [1. 3. 3. 4. 3. 3.]\n",
      " [1. 4. 4. 4. 2. 4.]\n",
      " [1. 3. 3. 4. 3. 3.]\n",
      " [1. 3. 3. 4. 3. 4.]\n",
      " [1. 2. 3. 4. 4. 3.]\n",
      " [1. 3. 4. 4. 3. 4.]\n",
      " [1. 4. 4. 4. 2. 4.]\n",
      " [1. 3. 3. 4. 3. 3.]\n",
      " [1. 4. 4. 4. 2. 4.]\n",
      " [1. 3. 3. 4. 3. 3.]\n",
      " [1. 4. 4. 4. 2. 4.]\n",
      " [1. 3. 3. 4. 3. 3.]\n",
      " [1. 3. 3. 4. 3. 3.]\n",
      " [1. 3. 3. 4. 3. 3.]\n",
      " [1. 4. 4. 4. 2. 4.]\n",
      " [1. 4. 4. 4. 2. 4.]\n",
      " [1. 4. 4. 4. 2. 4.]\n",
      " [1. 3. 4. 4. 3. 4.]\n",
      " [1. 3. 4. 4. 3. 4.]\n",
      " [1. 3. 3. 4. 3. 3.]\n",
      " [1. 3. 3. 4. 3. 3.]\n",
      " [1. 3. 4. 4. 3. 4.]\n",
      " [1. 4. 4. 4. 2. 4.]\n",
      " [1. 3. 3. 4. 3. 3.]\n",
      " [1. 2. 3. 5. 4. 3.]\n",
      " [1. 1. 2. 5. 5. 1.]\n",
      " [1. 3. 3. 4. 3. 3.]\n",
      " [1. 2. 3. 5. 4. 2.]\n",
      " [1. 3. 4. 4. 3. 4.]\n",
      " [1. 3. 3. 4. 3. 3.]\n",
      " [1. 3. 4. 4. 3. 4.]\n",
      " [1. 3. 3. 4. 3. 3.]\n",
      " [1. 3. 3. 4. 3. 3.]\n",
      " [1. 3. 3. 5. 3. 2.]\n",
      " [1. 3. 3. 4. 3. 3.]\n",
      " [1. 4. 4. 4. 2. 4.]\n",
      " [1. 3. 3. 4. 3. 3.]\n",
      " [1. 2. 3. 5. 4. 3.]\n",
      " [1. 2. 2. 5. 4. 2.]\n",
      " [1. 4. 4. 4. 2. 4.]\n",
      " [1. 2. 3. 4. 4. 3.]\n",
      " [1. 3. 3. 4. 3. 3.]\n",
      " [1. 3. 3. 4. 3. 3.]\n",
      " [1. 4. 4. 4. 2. 4.]\n",
      " [1. 2. 3. 4. 4. 3.]\n",
      " [1. 3. 3. 4. 3. 3.]\n",
      " [1. 4. 4. 4. 2. 4.]\n",
      " [1. 4. 4. 4. 2. 5.]\n",
      " [1. 2. 3. 4. 4. 3.]\n",
      " [1. 2. 3. 5. 4. 3.]\n",
      " [1. 4. 4. 4. 2. 4.]]\n"
     ]
    }
   ],
   "source": [
    "# Construimos la matriz A\n",
    "# A es la matriz del sistema lineal  A * c = y con ecuaciones:\n",
    "# c0 * 1 + c1 * x1,1 + c2 * x1,2 + c3 * x1,3 + ... + cn*x1,n = y1\n",
    "# c0 * 1 + c1 * x2,1 + c2 * x2,2 + c3 * x2,3 + ... + cn*x2,n = y2\n",
    "# ...\n",
    "# c0 * 1 + c1 * xm,1 + c2 * xm,2 + c3 * xm,3 + ... + cn*xm,n = ym\n",
    "# m = 100\n",
    "x = datosNP[:, 1:6]\n",
    "y = datosNP[:, 6]\n",
    "A = np.c_[np.ones(100), x]\n",
    "print(A)"
   ]
  },
  {
   "cell_type": "code",
   "execution_count": 6,
   "metadata": {},
   "outputs": [
    {
     "name": "stdout",
     "output_type": "stream",
     "text": [
      "[-0.41052036  0.95669538 -0.38436893  0.40347155  0.6970516  -0.59374781]\n"
     ]
    }
   ],
   "source": [
    "# Calculo los coeficientes de la regresión\n",
    "# resolviendo el sistema At * A * c = At * y\n",
    "At = np.transpose(A)\n",
    "c = np.linalg.solve(At @ A, At @ y)\n",
    "print(c)"
   ]
  },
  {
   "cell_type": "code",
   "execution_count": 8,
   "metadata": {},
   "outputs": [
    {
     "name": "stdout",
     "output_type": "stream",
     "text": [
      "[2.77142738 4.68630511 1.65839202 2.63650876 2.5117836  4.35220108\n",
      " 2.25213983 2.5117836  3.23025657 2.97061279 2.63650876 3.96783215\n",
      " 3.48990034 2.97061279 2.77142738 1.9180358  3.37408434 3.23025657\n",
      " 3.23025657 3.37408434 3.23025657 2.25213983 2.5117836  3.23025657\n",
      " 3.96783215 2.97061279 2.5117836  3.23025657 3.23025657 3.96783215\n",
      " 3.63372812 3.23025657 3.23025657 3.37408434 2.63650876 2.37686498\n",
      " 3.23025657 3.23025657 2.25213983 2.25213983 2.25213983 3.23025657\n",
      " 3.23025657 2.97061279 2.5117836  3.23025657 3.23025657 2.97061279\n",
      " 4.94594889 3.23025657 2.5117836  3.23025657 2.63650876 2.97061279\n",
      " 2.25213983 2.5117836  3.23025657 2.5117836  3.23025657 2.5117836\n",
      " 3.23025657 3.23025657 3.23025657 2.5117836  2.5117836  2.5117836\n",
      " 2.25213983 2.25213983 3.23025657 3.23025657 2.25213983 2.5117836\n",
      " 3.23025657 3.37408434 4.68630511 3.23025657 3.96783215 2.25213983\n",
      " 3.23025657 2.25213983 3.23025657 3.23025657 4.22747593 3.23025657\n",
      " 2.5117836  3.23025657 3.37408434 4.35220108 2.5117836  2.97061279\n",
      " 3.23025657 3.23025657 2.5117836  2.97061279 3.23025657 2.5117836\n",
      " 1.9180358  2.97061279 3.37408434 2.5117836 ]\n",
      "[3. 5. 2. 3. 3. 4. 2. 3. 3. 3. 3. 4. 3. 3. 3. 2. 3. 3. 3. 3. 3. 2. 3. 3.\n",
      " 4. 3. 3. 3. 3. 4. 4. 3. 3. 3. 3. 2. 3. 3. 2. 2. 2. 3. 3. 3. 3. 3. 3. 3.\n",
      " 5. 3. 3. 3. 3. 3. 2. 3. 3. 3. 3. 3. 3. 3. 3. 3. 3. 3. 2. 2. 3. 3. 2. 3.\n",
      " 3. 3. 5. 3. 4. 2. 3. 2. 3. 3. 4. 3. 3. 3. 3. 4. 3. 3. 3. 3. 3. 3. 3. 3.\n",
      " 2. 3. 3. 3.]\n"
     ]
    }
   ],
   "source": [
    "# Calculo los valores obtenidos por la regresión para la variable respuesta\n",
    "print(A@c)\n",
    "f = np.round(A @ c)\n",
    "print(f)"
   ]
  },
  {
   "cell_type": "code",
   "execution_count": 9,
   "metadata": {},
   "outputs": [
    {
     "name": "stdout",
     "output_type": "stream",
     "text": [
      "[3 5 1 3 2 4 2 3 3 3 3 4 3 3 3 2 3 3 4 4 4 3 3 3 4 3 3 4 3 4 4 3 3 3 3 2 3\n",
      " 4 3 2 2 3 3 3 3 3 3 3 5 3 3 3 3 3 2 2 3 3 3 3 3 3 3 2 2 2 2 2 4 3 3 3 4 3\n",
      " 5 4 4 2 3 2 3 3 4 3 2 3 4 4 2 3 3 3 2 3 3 3 2 3 3 2]\n"
     ]
    }
   ],
   "source": [
    "# Comparamos con la variable respuesta original\n",
    "print(y)"
   ]
  },
  {
   "cell_type": "code",
   "execution_count": 10,
   "metadata": {},
   "outputs": [
    {
     "name": "stdout",
     "output_type": "stream",
     "text": [
      "[ True  True False  True False  True  True  True  True  True  True  True\n",
      "  True  True  True  True  True  True False False False False  True  True\n",
      "  True  True  True False  True  True  True  True  True  True  True  True\n",
      "  True False False  True  True  True  True  True  True  True  True  True\n",
      "  True  True  True  True  True  True  True False  True  True  True  True\n",
      "  True  True  True False False False  True  True False  True False  True\n",
      " False  True  True False  True  True  True  True  True  True  True  True\n",
      " False  True False  True False  True  True  True False  True  True  True\n",
      "  True  True  True False]\n",
      "78\n"
     ]
    }
   ],
   "source": [
    "# Contamos la cantidad de aciertos\n",
    "e = (y==f)\n",
    "print(y==f)\n",
    "print(sum(e))"
   ]
  },
  {
   "cell_type": "markdown",
   "metadata": {},
   "source": [
    "El algoritmo predice con éxito el puntaje en un 78% por lo que tiene un margen de error grande pero aceptable. Sin embargo, para saber si tenemos un buen modelo, tenemos que probarlo en otro conjunto de clientes que no haya sido usado para \"entrenar el modelo\". Una posibildiad es separar el conjunto de datos en un conjunto de entrenamiento, un conjunto de testeo y uno de validación."
   ]
  }
 ],
 "metadata": {
  "kernelspec": {
   "display_name": "Python 3",
   "language": "python",
   "name": "python3"
  },
  "language_info": {
   "codemirror_mode": {
    "name": "ipython",
    "version": 3
   },
   "file_extension": ".py",
   "mimetype": "text/x-python",
   "name": "python",
   "nbconvert_exporter": "python",
   "pygments_lexer": "ipython3",
   "version": "3.8.5"
  }
 },
 "nbformat": 4,
 "nbformat_minor": 4
}
