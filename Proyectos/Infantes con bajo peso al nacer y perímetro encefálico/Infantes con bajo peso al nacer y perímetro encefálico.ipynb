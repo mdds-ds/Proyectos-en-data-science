{
 "cells": [
  {
   "cell_type": "markdown",
   "metadata": {},
   "source": [
    "# PRÁCTICA 5 - Ejercicio 14"
   ]
  },
  {
   "cell_type": "markdown",
   "metadata": {},
   "source": [
    "En el archivo infantesConBajoPesoAlNacer.txt se encuentran los datos correspondientes a\n",
    "mediciones de 100 niños nacidos con bajo peso en Boston (Labor and deliver characteristics and\n",
    "the risk of germinal matrix hemorrhage in low birth weight infants. Journal of child neurology,\n",
    "6(1) , 35-40, (1991))\n",
    "\n",
    "Llamamos\n",
    "\n",
    "Y = perímetro cefálico del bebé al nacer, en centrímetros (columna headcirc)\n",
    "\n",
    "X1 = edad gestacional del bebé al nacer, en semanas (columna gestage)\n",
    "\n",
    "X2 = peso al nacer del bebé, en gramos (columna birthwt)\n",
    "\n",
    "Se quiere predecir el perímetro cefálico de un niño al nacer."
   ]
  },
  {
   "cell_type": "code",
   "execution_count": 2,
   "metadata": {},
   "outputs": [],
   "source": [
    "import numpy as np\n",
    "import pandas as pd\n",
    "import matplotlib.pyplot as plt"
   ]
  },
  {
   "cell_type": "code",
   "execution_count": 3,
   "metadata": {},
   "outputs": [
    {
     "name": "stdout",
     "output_type": "stream",
     "text": [
      "    headcirc   length   gestage   birthwt   momage   toxemia\n",
      "0         27       41        29      1360       37         0\n",
      "1         29       40        31      1490       34         0\n",
      "2         30       38        33      1490       32         0\n",
      "3         28       38        31      1180       37         0\n",
      "4         29       38        30      1200       29         1\n",
      "..       ...      ...       ...       ...      ...       ...\n",
      "95        26       37        31       820       30         1\n",
      "96        27       40        29      1150       28         0\n",
      "97        28       35        32       880       35         1\n",
      "98        28       41        33      1320       36         1\n",
      "99        26       38        28      1080       36         0\n",
      "\n",
      "[100 rows x 6 columns]\n"
     ]
    }
   ],
   "source": [
    "datos = pd.read_csv('infantesConBajoPesoAlNacer.txt', sep = \",\")\n",
    "print(datos)"
   ]
  },
  {
   "cell_type": "code",
   "execution_count": 7,
   "metadata": {},
   "outputs": [],
   "source": [
    "datosNP = datos.to_numpy()\n",
    "x1 = datosNP[:,2]\n",
    "x2 = datosNP[:,3]\n",
    "y = datosNP[:,0]"
   ]
  },
  {
   "cell_type": "code",
   "execution_count": 9,
   "metadata": {},
   "outputs": [
    {
     "data": {
      "text/plain": [
       "<matplotlib.legend.Legend at 0x132948d7940>"
      ]
     },
     "execution_count": 9,
     "metadata": {},
     "output_type": "execute_result"
    },
    {
     "data": {
      "image/png": "[encoded data removed]",
      "text/plain": [
       "<Figure size 432x288 with 1 Axes>"
      ]
     },
     "metadata": {
      "needs_background": "light"
     },
     "output_type": "display_data"
    }
   ],
   "source": [
    "plt.scatter(x1,y,label=\"Edad gestacional al nacer vs Perímetro cefálico al nacer\")\n",
    "plt.legend()"
   ]
  },
  {
   "cell_type": "code",
   "execution_count": 10,
   "metadata": {},
   "outputs": [
    {
     "data": {
      "text/plain": [
       "<matplotlib.legend.Legend at 0x132949bfd00>"
      ]
     },
     "execution_count": 10,
     "metadata": {},
     "output_type": "execute_result"
    },
    {
     "data": {
      "image/png": "[encoded data removed]",
      "text/plain": [
       "<Figure size 432x288 with 1 Axes>"
      ]
     },
     "metadata": {
      "needs_background": "light"
     },
     "output_type": "display_data"
    }
   ],
   "source": [
    "plt.scatter(x2,y,label=\"Peso al nacer vs Perímetro cefálico al nacer\")\n",
    "plt.legend()"
   ]
  },
  {
   "cell_type": "code",
   "execution_count": 11,
   "metadata": {},
   "outputs": [],
   "source": [
    "# En ambos casos la relación parece ser lineal."
   ]
  },
  {
   "cell_type": "code",
   "execution_count": 14,
   "metadata": {},
   "outputs": [
    {
     "name": "stdout",
     "output_type": "stream",
     "text": [
      " \n",
      "0.7801 x + 3.914\n"
     ]
    },
    {
     "data": {
      "text/plain": [
       "poly1d([0.78005316, 3.91426414])"
      ]
     },
     "execution_count": 14,
     "metadata": {},
     "output_type": "execute_result"
    }
   ],
   "source": [
    "def minimosCuadrados(x, y):\n",
    "    n = len(x)\n",
    "    unos = np.ones(n)\n",
    "    At = np.array([unos, x])\n",
    "    A = np.transpose(At)\n",
    "    AtA = np.dot(At, A)\n",
    "    Aty = np.dot(At, y)\n",
    "    s = np.linalg.solve(AtA, Aty)\n",
    "    p = np.poly1d([s[1], s[0]])\n",
    "    print(p)\n",
    "    return(p)\n",
    "minimosCuadrados(x1,y)"
   ]
  },
  {
   "cell_type": "code",
   "execution_count": 20,
   "metadata": {},
   "outputs": [
    {
     "name": "stdout",
     "output_type": "stream",
     "text": [
      "[8.30801539e+00 4.48732848e-01 4.71228341e-03]\n"
     ]
    }
   ],
   "source": [
    "A = np.c_[np.ones(len(x1)),x1,x2]\n",
    "At=np.transpose(A)\n",
    "c = np.linalg.solve(At@A,At@y)\n",
    "print(c)\n",
    "\n",
    "a = np.linspace(np.min(x1),np.max(x1))\n",
    "b = np.linspace(np.min(x2),np.max(x2))\n",
    "xx,yy=np.meshgrid(a,b)\n",
    "\n",
    "\n",
    "\n",
    "z = c[0]+c[1]*xx+c[2]*yy\n",
    "\n",
    "# PerímetroCefálico = 8.308 + 0.448*EdadGestacional + 0.005*Peso"
   ]
  },
  {
   "cell_type": "code",
   "execution_count": 21,
   "metadata": {},
   "outputs": [
    {
     "name": "stdout",
     "output_type": "stream",
     "text": [
      " \n",
      "0.007492 x + 18.22\n"
     ]
    },
    {
     "data": {
      "text/plain": [
       "poly1d([7.49184942e-03, 1.82175813e+01])"
      ]
     },
     "execution_count": 21,
     "metadata": {},
     "output_type": "execute_result"
    }
   ],
   "source": [
    "minimosCuadrados(x2,y) #Mantengo edad cte por lo que el perimetro solo depende del peso."
   ]
  },
  {
   "cell_type": "code",
   "execution_count": 26,
   "metadata": {},
   "outputs": [
    {
     "name": "stdout",
     "output_type": "stream",
     "text": [
      "[28.40912 29.38308 29.38308 27.06056 27.2104  23.31456 22.86504 26.16152\n",
      " 28.10944 24.43836 24.81296 26.68596 26.76088 28.3342  25.3374  27.36024\n",
      " 25.56216 29.30816 27.585   27.585   25.11264 25.86184 23.839   29.30816\n",
      " 26.76088 23.23964 26.8358  25.93676 22.41552 27.65992 24.9628  22.86504\n",
      " 29.00848 28.3342  26.98564 26.98564 26.98564 28.85864 29.2707  27.2104\n",
      " 25.48724 27.13548 28.3342  29.15832 22.49044 22.86504 27.2104  23.16472\n",
      " 27.80976 24.43836 23.31456 23.01488 29.00848 26.8358  24.5882  23.91392\n",
      " 22.86504 23.16472 25.59962 23.38948 27.2104  28.48404 26.98564 27.2104\n",
      " 26.4612  29.30816 28.3342  26.91072 28.18436 25.41232 26.31136 25.712\n",
      " 29.38308 24.81296 28.48404 28.1469  28.7088  27.51008 23.16472 24.06376\n",
      " 25.3374  24.5882  27.2104  29.00848 26.4612  27.585   28.85864 28.7088\n",
      " 28.85864 24.9628  26.91072 24.36344 28.78372 27.9596  26.53612 24.36344\n",
      " 26.8358  24.81296 28.10944 26.31136]\n",
      "El promedio en el aumento del perímetro encefálico es: 26.452584199999997 cm\n"
     ]
    }
   ],
   "source": [
    "Per = 0.007492*x2 + 18.22\n",
    "print(Per)\n",
    "print(\"El promedio en el aumento del perímetro encefálico es:\",np.mean(Per),\"cm\")"
   ]
  },
  {
   "cell_type": "code",
   "execution_count": null,
   "metadata": {},
   "outputs": [],
   "source": []
  }
 ],
 "metadata": {
  "kernelspec": {
   "display_name": "Python 3",
   "language": "python",
   "name": "python3"
  },
  "language_info": {
   "codemirror_mode": {
    "name": "ipython",
    "version": 3
   },
   "file_extension": ".py",
   "mimetype": "text/x-python",
   "name": "python",
   "nbconvert_exporter": "python",
   "pygments_lexer": "ipython3",
   "version": "3.8.5"
  }
 },
 "nbformat": 4,
 "nbformat_minor": 4
}
