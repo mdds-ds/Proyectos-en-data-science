{
 "cells": [
  {
   "cell_type": "markdown",
   "metadata": {},
   "source": [
    "# Variables del Hospital de Algeciras"
   ]
  },
  {
   "cell_type": "markdown",
   "metadata": {},
   "source": [
    "Con el objetivo de obtener índices útiles para la gestión hospitalaria basados en técnicas estadísticas multivariantes descriptivas se recogió información del Hospital de Algeciras correspondiente\n",
    "a los ingresos hospitalarios del período 2007-2008. Se estudiaron las siguientes variables habitualmente monitorizadas por el Servicio Andaluz de Sald del Sistema Nacional de Salud Español:\n",
    "\n",
    "NI: número de ingresos\n",
    "\n",
    "MO: tasa de mortalidad\n",
    "\n",
    "RE: tasa de egresos\n",
    "\n",
    "NE: número de consultas externas\n",
    "\n",
    "ICM: índice cardíaco máximo\n",
    "\n",
    "ES: número de estancias\n",
    "\n",
    "Las variables se midieron en un total de 22486 ingresos."
   ]
  },
  {
   "cell_type": "code",
   "execution_count": 6,
   "metadata": {},
   "outputs": [],
   "source": [
    "import numpy as np\n",
    "import pandas as pd\n",
    "import matplotlib.pyplot as plt\n",
    "from sklearn.decomposition import PCA"
   ]
  },
  {
   "cell_type": "code",
   "execution_count": 7,
   "metadata": {},
   "outputs": [
    {
     "name": "stdout",
     "output_type": "stream",
     "text": [
      "                Servicio        NI     MO        RE        NE       ICM  \\\n",
      "0                Cirugia  0.358385  0.304  0.244275  0.257901  0.564103   \n",
      "1        Tocoginecologia  1.000000  0.024  0.221374  0.065260  0.008547   \n",
      "2            Hematologia  0.000000  0.328  0.503817  0.356053  1.000000   \n",
      "3            Cardiologia  0.040369  0.176  0.282443  0.000000  0.675214   \n",
      "4              Digestivo  0.044879  0.472  0.229008  0.294376  0.470085   \n",
      "5       Medicina.Interna  0.790638  1.000  0.404580  0.781110  0.452991   \n",
      "6             Neumologia  0.015675  0.408  0.320611  0.020049  0.820513   \n",
      "7   Otorrinolaringologia  0.034572  0.168  0.160305  0.799670  0.307692   \n",
      "8           Oftalmologia  0.107580  0.000  0.000000  0.788719  0.264957   \n",
      "9              Pediatria  0.700666  0.024  0.145038  0.246065  0.000000   \n",
      "10           Psiquiatria  0.028559  0.000  1.000000  1.000000  0.735043   \n",
      "11         Traumatologia  0.197767  0.056  0.099237  0.448045  0.555556   \n",
      "12              Urologia  0.144299  0.160  0.282443  0.104916  0.239316   \n",
      "\n",
      "          ES  \n",
      "0   0.443958  \n",
      "1   0.447995  \n",
      "2   0.082968  \n",
      "3   0.160020  \n",
      "4   0.130156  \n",
      "5   1.000000  \n",
      "6   0.085489  \n",
      "7   0.044112  \n",
      "8   0.000000  \n",
      "9   0.236174  \n",
      "10  0.121334  \n",
      "11  0.295901  \n",
      "12  0.167966  \n",
      "[['Cirugia' 0.35838522654069144 0.304 0.24427480916030525\n",
      "  0.25790088167800634 0.564102564102564 0.4439578749492662]\n",
      " ['Tocoginecologia' 1.0 0.024 0.2213740458015267 0.06526027617859012\n",
      "  0.008547008547008515 0.44799521500437917]\n",
      " ['Hematologia' 0.0 0.32799999999999996 0.5038167938931296\n",
      "  0.356052981198921 1.0 0.08296840621194967]\n",
      " ['Cardiologia' 0.04036933648271417 0.176 0.28244274809160297 0.0\n",
      "  0.6752136752136753 0.16001965266058574]\n",
      " ['Digestivo' 0.04487867726003864 0.472 0.22900763358778625\n",
      "  0.2943757800233504 0.4700854700854701 0.13015615320530624]\n",
      " ['Medicina.Interna' 0.7906377496242216 1.0 0.4045801526717556\n",
      "  0.7811103506582392 0.4529914529914529 1.0]\n",
      " ['Neumologia' 0.015675327464032635 0.408 0.32061068702290074\n",
      "  0.020049116309030158 0.8205128205128205 0.08548907354794606]\n",
      " ['Otorrinolaringologia' 0.03457161262615418 0.168 0.16030534351145032\n",
      "  0.7996698739884861 0.30769230769230765 0.04411167837993721]\n",
      " ['Oftalmologia' 0.1075799871161692 0.0 0.0 0.7887193526309435\n",
      "  0.26495726495726496 0.0]\n",
      " ['Pediatria' 0.7006656645909384 0.024 0.14503816793893126\n",
      "  0.2460646563871331 0.0 0.23617371243030785]\n",
      " ['Psiquiatria' 0.028559158256388217 0.0 0.9999999999999998 1.0\n",
      "  0.7350427350427354 0.12133381752931875]\n",
      " ['Traumatologia' 0.19776680266265836 0.056 0.09923664122137404\n",
      "  0.448045412456218 0.5555555555555555 0.2959007113408668]\n",
      " ['Urologia' 0.14429890487438266 0.16 0.28244274809160297\n",
      "  0.10491565682998512 0.2393162393162393 0.16796616324525243]]\n"
     ]
    }
   ],
   "source": [
    "datos = pd.read_csv(\"hospitales-escalado.csv\")   # dataFrame escalado a media cero, más fácil de usar que hospitales.csv\n",
    "datosNP = datos.to_numpy()\n",
    "print(datos)\n",
    "print(datosNP)"
   ]
  },
  {
   "cell_type": "code",
   "execution_count": 8,
   "metadata": {},
   "outputs": [],
   "source": [
    "NI = np.float64(datosNP[:, 1])\n",
    "MO = np.float64(datosNP[:, 2])\n",
    "RE = np.float64(datosNP[:, 3])\n",
    "NE = np.float64(datosNP[:, 4])\n",
    "ICM = np.float64(datosNP[:, 5])\n",
    "ES = np.float64(datosNP[:, 6])"
   ]
  },
  {
   "cell_type": "code",
   "execution_count": 9,
   "metadata": {},
   "outputs": [
    {
     "name": "stdout",
     "output_type": "stream",
     "text": [
      "[[0.35838523 0.304      0.24427481 0.25790088 0.56410256 0.44395787]\n",
      " [1.         0.024      0.22137405 0.06526028 0.00854701 0.44799522]\n",
      " [0.         0.328      0.50381679 0.35605298 1.         0.08296841]\n",
      " [0.04036934 0.176      0.28244275 0.         0.67521368 0.16001965]\n",
      " [0.04487868 0.472      0.22900763 0.29437578 0.47008547 0.13015615]\n",
      " [0.79063775 1.         0.40458015 0.78111035 0.45299145 1.        ]\n",
      " [0.01567533 0.408      0.32061069 0.02004912 0.82051282 0.08548907]\n",
      " [0.03457161 0.168      0.16030534 0.79966987 0.30769231 0.04411168]\n",
      " [0.10757999 0.         0.         0.78871935 0.26495726 0.        ]\n",
      " [0.70066566 0.024      0.14503817 0.24606466 0.         0.23617371]\n",
      " [0.02855916 0.         1.         1.         0.73504274 0.12133382]\n",
      " [0.1977668  0.056      0.09923664 0.44804541 0.55555556 0.29590071]\n",
      " [0.1442989  0.16       0.28244275 0.10491566 0.23931624 0.16796616]]\n"
     ]
    }
   ],
   "source": [
    "X = np.c_[NI,MO,RE,NE,ICM,ES]\n",
    "print(X)"
   ]
  },
  {
   "cell_type": "code",
   "execution_count": 10,
   "metadata": {},
   "outputs": [
    {
     "name": "stdout",
     "output_type": "stream",
     "text": [
      "[[ 0.09197073  0.064      -0.05519671 -0.13918868  0.09533202  0.19656769]\n",
      " [ 0.7335855  -0.216      -0.07809748 -0.33182929 -0.46022354  0.20060503]\n",
      " [-0.2664145   0.088       0.20434527 -0.04103658  0.53122945 -0.16442178]\n",
      " [-0.22604516 -0.064      -0.01702877 -0.39708956  0.20644313 -0.08737054]\n",
      " [-0.22153582  0.232      -0.07046389 -0.10271378  0.00131492 -0.11723404]\n",
      " [ 0.52422325  0.76        0.10510863  0.38402079 -0.01577909  0.75260981]\n",
      " [-0.25073917  0.168       0.02113917 -0.37704045  0.35174227 -0.16190112]\n",
      " [-0.23184288 -0.072      -0.13916618  0.40258031 -0.16107824 -0.20327851]\n",
      " [-0.15883451 -0.24       -0.29947152  0.39162979 -0.20381328 -0.24739019]\n",
      " [ 0.43425117 -0.216      -0.15443335 -0.15102491 -0.46877055 -0.01121648]\n",
      " [-0.23785534 -0.24        0.70052848  0.60291044  0.26627219 -0.12605637]\n",
      " [-0.06864769 -0.184      -0.20023488  0.05095585  0.08678501  0.04851052]\n",
      " [-0.12211559 -0.08       -0.01702877 -0.29217391 -0.22945431 -0.07942403]]\n"
     ]
    }
   ],
   "source": [
    "#Calculo las dos primeras componentes principales\n",
    "N  = len(X)\n",
    "xm = np.ones((1,N))\n",
    "xmedia = (xm@X)/N\n",
    "Xest = X-xmedia\n",
    "XeT = np.transpose(Xest)\n",
    "print(Xest)"
   ]
  },
  {
   "cell_type": "code",
   "execution_count": 11,
   "metadata": {},
   "outputs": [
    {
     "name": "stdout",
     "output_type": "stream",
     "text": [
      "[[ 0.10763009  0.01414182 -0.01427536 -0.01302109 -0.06068581  0.06213842]\n",
      " [ 0.01414182  0.07150277  0.00652496  0.00524592  0.02205391  0.04477477]\n",
      " [-0.01427536  0.00652496  0.05628284  0.02605763  0.03617779  0.0025198 ]\n",
      " [-0.01302109  0.00524592  0.02605763  0.10605741  0.00422965  0.00632821]\n",
      " [-0.06068581  0.02205391  0.03617779  0.00422965  0.08369265 -0.01312707]\n",
      " [ 0.06213842  0.04477477  0.0025198   0.00632821 -0.01312707  0.06516371]]\n"
     ]
    }
   ],
   "source": [
    "A = (XeT@Xest)/N\n",
    "print(A)"
   ]
  },
  {
   "cell_type": "code",
   "execution_count": 12,
   "metadata": {},
   "outputs": [
    {
     "name": "stdout",
     "output_type": "stream",
     "text": [
      "Autovalores=  [0.19544273 0.13403377 0.09911562 0.04479706 0.01249687 0.00444341]\n",
      "Autovectores (matriz U)=\n",
      " [[-0.70987656 -0.09388894  0.05114108 -0.35586285 -0.23297336 -0.55111685]\n",
      " [-0.12902947 -0.52392663 -0.43110381  0.47086118  0.46819274 -0.28650846]\n",
      " [ 0.21334877 -0.37011933  0.01548632 -0.76376791  0.47676026  0.08131668]\n",
      " [ 0.15119256 -0.54404102  0.77438197  0.22002993 -0.14364885 -0.1115553 ]\n",
      " [ 0.48419142 -0.31628427 -0.43013031 -0.14038158 -0.63002624 -0.25272672]\n",
      " [-0.42024809 -0.4285803  -0.16314027 -0.0137773  -0.28574564  0.72887265]]\n"
     ]
    }
   ],
   "source": [
    "e = np.linalg.eigh(A)\n",
    "AVL = np.flip(e[0])\n",
    "print(\"Autovalores= \", AVL)\n",
    "AVC = np.flip(e[1], 1)\n",
    "print(\"Autovectores (matriz U)=\\n\", AVC)\n",
    "U = AVC"
   ]
  },
  {
   "cell_type": "code",
   "execution_count": 13,
   "metadata": {},
   "outputs": [
    {
     "name": "stdout",
     "output_type": "stream",
     "text": [
      "Matriz Z=\n",
      " [[-0.14281444 -0.06040967 -0.20460046 -0.00715308 -0.11401373  0.06119552]\n",
      " [-0.86685707  0.31331282  0.03769206 -0.31428276 -0.0289715  -0.04921251]\n",
      " [ 0.54147388 -0.1719503  -0.28184937 -0.10116837 -0.08111868 -0.11129112]\n",
      " [ 0.24172728  0.24924071 -0.36627606 -0.05183668 -0.03347786  0.06997087]\n",
      " [ 0.14666936  0.03103765 -0.17341659  0.22072469  0.17406367 -0.02443046]\n",
      " [-0.71363325 -1.01279186 -0.11781694  0.16736654  0.02353018  0.01159735]\n",
      " [ 0.34217044  0.0909605  -0.50177689  0.02208026  0.02596734 -0.07306698]\n",
      " [ 0.21248087  0.03004577  0.43122608  0.26888569  0.0556937  -0.01528074]\n",
      " [ 0.14432021  0.20892222  0.52200085  0.29043363 -0.07529696 -0.04054889]\n",
      " [-0.55843734  0.36479119  0.19944621 -0.10555735  0.04431109 -0.06285223]\n",
      " [ 0.62232912 -0.46940519  0.47506545 -0.46638862  0.05868604  0.03038177]\n",
      " [ 0.05909119  0.1009971   0.06692789  0.08908413 -0.24147667  0.08200873]\n",
      " [-0.02852025  0.32524906 -0.08662223 -0.01218806  0.19210337  0.12152869]]\n"
     ]
    }
   ],
   "source": [
    "Z = Xest@U\n",
    "print(\"Matriz Z=\\n\", Z)"
   ]
  },
  {
   "cell_type": "code",
   "execution_count": 14,
   "metadata": {},
   "outputs": [
    {
     "name": "stdout",
     "output_type": "stream",
     "text": [
      "Primera componente principal:  [-0.14281444 -0.86685707  0.54147388  0.24172728  0.14666936 -0.71363325\n",
      "  0.34217044  0.21248087  0.14432021 -0.55843734  0.62232912  0.05909119\n",
      " -0.02852025]\n",
      "Segunda componente principal:  [-0.06040967  0.31331282 -0.1719503   0.24924071  0.03103765 -1.01279186\n",
      "  0.0909605   0.03004577  0.20892222  0.36479119 -0.46940519  0.1009971\n",
      "  0.32524906]\n"
     ]
    }
   ],
   "source": [
    "z1 = Z[:, 0]\n",
    "print(\"Primera componente principal: \", z1)\n",
    "z2 = Z[:, 1]\n",
    "print(\"Segunda componente principal: \", z2)\n",
    "z3 = Z[:, 2]\n",
    "z4 = Z[:, 3]\n",
    "z5 = Z[:, 4]\n",
    "z6 = Z[:, 5]"
   ]
  },
  {
   "cell_type": "code",
   "execution_count": 15,
   "metadata": {},
   "outputs": [
    {
     "name": "stdout",
     "output_type": "stream",
     "text": [
      "Varianza explicada por la CP 1:  0.39859471690680215\n",
      "Varianza explicada por la CP 2:  0.27335451524861154\n",
      "Varianza explicada por la CP 3:  0.2021408526559395\n",
      "Varianza explicada por la CP 4:  0.09136115097188427\n",
      "Varianza explicada por la CP 5:  0.025486670234011275\n"
     ]
    }
   ],
   "source": [
    "# Porcentaje de variabilidad explicada por z1 y z2:\n",
    "print(\"Varianza explicada por la CP 1: \", AVL[0]/sum(AVL))\n",
    "print(\"Varianza explicada por la CP 2: \", AVL[1]/sum(AVL))\n",
    "print(\"Varianza explicada por la CP 3: \", AVL[2]/sum(AVL))\n",
    "print(\"Varianza explicada por la CP 4: \", AVL[3]/sum(AVL))\n",
    "print(\"Varianza explicada por la CP 5: \", AVL[4]/sum(AVL))"
   ]
  },
  {
   "cell_type": "code",
   "execution_count": 16,
   "metadata": {},
   "outputs": [],
   "source": [
    "# Es adecuado tomar dos componentes principales?\n",
    "# No, no es adecuado, una varianza explicada en un 66% deja lugar a mucho error, lo cual puede llevar a una\n",
    "# mala administración hospitalaria. Se deberían tomar las 3 primeras componentes principales, ya que la tercera (z3) explica una\n",
    "# parte de la variabilidad muy grande."
   ]
  },
  {
   "cell_type": "code",
   "execution_count": 17,
   "metadata": {},
   "outputs": [
    {
     "name": "stdout",
     "output_type": "stream",
     "text": [
      " \n",
      "-0.7099 x + 3.849e-17\n",
      "0.9150640463918284\n",
      " \n",
      "-0.5239 x - 2.502e-17\n",
      "0.5145556080666434\n",
      " \n",
      "0.01549 x - 1.925e-17\n",
      "0.0004223404625884382\n",
      " \n",
      "0.22 x - 3.079e-17\n",
      "0.020449000264594855\n",
      " \n",
      "-0.63 x\n",
      "0.05926947203217995\n",
      " \n",
      "0.7289 x + 4.619e-17\n",
      "0.03622547333072977\n"
     ]
    }
   ],
   "source": [
    "# Busco la correlación entre estas nuevas variables y las originales.\n",
    "x1  = X[:, 0]\n",
    "x2  = X[:, 1]\n",
    "x3  = X[:, 2]\n",
    "x4  = X[:, 3]\n",
    "x5  = X[:, 4]\n",
    "x6  = X[:, 5]\n",
    "xe1 = x1-sum(x1)/len(x1)\n",
    "xe2 = x2-sum(x2)/len(x2)\n",
    "xe3 = x3-sum(x3)/len(x3)\n",
    "xe4 = x4-sum(x4)/len(x4)\n",
    "xe5 = x5-sum(x5)/len(x5)\n",
    "xe6 = x6-sum(x6)/len(x6)\n",
    "def CM(x,y):    # Cuadrados minimos con polyfit\n",
    "    coef = np.polyfit(x,y,1)\n",
    "    poli = np.poly1d(coef)\n",
    "    yRL = np.polyval(poli,x)   \n",
    "    print(poli)\n",
    "    # R\" para datos de media cero\n",
    "    R2 = np.linalg.norm(yRL, 2)**2 / np.linalg.norm(y,2)**2\n",
    "    print(R2)\n",
    "    return(poli,R2)\n",
    "[p,R2]=CM(z1,xe1)\n",
    "[p,R2]=CM(z2,xe2)\n",
    "[p,R2]=CM(z3,xe3)\n",
    "[p,R2]=CM(z4,xe4)\n",
    "[p,R2]=CM(z5,xe5)\n",
    "[p,R2]=CM(z6,xe6)"
   ]
  },
  {
   "cell_type": "code",
   "execution_count": 18,
   "metadata": {},
   "outputs": [
    {
     "name": "stdout",
     "output_type": "stream",
     "text": [
      " \n",
      "-0.7099 x + 3.849e-17\n",
      "0.9150640463918284\n",
      " \n",
      "-0.5239 x - 2.502e-17\n",
      "0.5145556080666434\n",
      " \n",
      "0.01549 x - 1.925e-17\n",
      "0.0004223404625884382\n",
      " \n",
      "0.22 x - 3.079e-17\n",
      "0.020449000264594855\n",
      " \n",
      "-0.63 x\n",
      "0.05926947203217995\n",
      " \n",
      "0.7289 x + 4.619e-17\n",
      "0.03622547333072977\n"
     ]
    }
   ],
   "source": [
    "[p,R2]=CM(z1,Xest[:,0])\n",
    "[p,R2]=CM(z2,Xest[:,1])\n",
    "[p,R2]=CM(z3,Xest[:,2])\n",
    "[p,R2]=CM(z4,Xest[:,3])\n",
    "[p,R2]=CM(z5,Xest[:,4])\n",
    "[p,R2]=CM(z6,Xest[:,5]) #De ambas maneras da lo mismo."
   ]
  },
  {
   "cell_type": "code",
   "execution_count": 19,
   "metadata": {},
   "outputs": [
    {
     "name": "stdout",
     "output_type": "stream",
     "text": [
      "                Servicio    NI    MO    RE     NE   ICM     ES\n",
      "0                Cirugia  2158   3.8   3.4   8567  1.17  21879\n",
      "1        Tocoginecologia  5146   0.3   3.1   3782  0.52  22068\n",
      "2            Hematologia   489   4.1   6.8  11005  1.68   4980\n",
      "3            Cardiologia   677   2.2   3.9   2161  1.30   8587\n",
      "4              Digestivo   698   5.9   3.2   9473  1.06   7189\n",
      "5       Medicina.Interna  4171  12.5   5.5  21563  1.04  47909\n",
      "6             Neumologia   562   5.1   4.4   2659  1.47   5098\n",
      "7   Otorrinolaringologia   650   2.1   2.3  22024  0.87   3161\n",
      "8           Oftalmologia   990   0.0   0.2  21752  0.82   1096\n",
      "9              Pediatria  3752   0.3   2.1   8273  0.51  12152\n",
      "10           Psiquiatria   622   0.0  13.3  27000  1.37   6776\n",
      "11         Traumatologia  1410   0.7   1.5  13290  1.16  14948\n",
      "12              Urologia  1161   2.0   3.9   4767  0.79   8959\n",
      "[['Cirugia' 2158 3.8 3.4 8567 1.17 21879]\n",
      " ['Tocoginecologia' 5146 0.3 3.1 3782 0.52 22068]\n",
      " ['Hematologia' 489 4.1 6.8 11005 1.68 4980]\n",
      " ['Cardiologia' 677 2.2 3.9 2161 1.3 8587]\n",
      " ['Digestivo' 698 5.9 3.2 9473 1.06 7189]\n",
      " ['Medicina.Interna' 4171 12.5 5.5 21563 1.04 47909]\n",
      " ['Neumologia' 562 5.1 4.4 2659 1.47 5098]\n",
      " ['Otorrinolaringologia' 650 2.1 2.3 22024 0.87 3161]\n",
      " ['Oftalmologia' 990 0.0 0.2 21752 0.82 1096]\n",
      " ['Pediatria' 3752 0.3 2.1 8273 0.51 12152]\n",
      " ['Psiquiatria' 622 0.0 13.3 27000 1.37 6776]\n",
      " ['Traumatologia' 1410 0.7 1.5 13290 1.16 14948]\n",
      " ['Urologia' 1161 2.0 3.9 4767 0.79 8959]]\n"
     ]
    }
   ],
   "source": [
    "# Se obtienen los mismos resultados sin escalar?\n",
    "datos = pd.read_csv(\"hospitales.csv\")   # dataFrame\n",
    "datosNP = datos.to_numpy()\n",
    "print(datos)\n",
    "print(datosNP)"
   ]
  },
  {
   "cell_type": "code",
   "execution_count": 20,
   "metadata": {},
   "outputs": [],
   "source": [
    "NI = np.float64(datosNP[:, 1])\n",
    "MO = np.float64(datosNP[:, 2])\n",
    "RE = np.float64(datosNP[:, 3])\n",
    "NE = np.float64(datosNP[:, 4])\n",
    "ICM = np.float64(datosNP[:, 5])\n",
    "ES = np.float64(datosNP[:, 6])"
   ]
  },
  {
   "cell_type": "code",
   "execution_count": 21,
   "metadata": {},
   "outputs": [
    {
     "name": "stdout",
     "output_type": "stream",
     "text": [
      "[[2.1580e+03 3.8000e+00 3.4000e+00 8.5670e+03 1.1700e+00 2.1879e+04]\n",
      " [5.1460e+03 3.0000e-01 3.1000e+00 3.7820e+03 5.2000e-01 2.2068e+04]\n",
      " [4.8900e+02 4.1000e+00 6.8000e+00 1.1005e+04 1.6800e+00 4.9800e+03]\n",
      " [6.7700e+02 2.2000e+00 3.9000e+00 2.1610e+03 1.3000e+00 8.5870e+03]\n",
      " [6.9800e+02 5.9000e+00 3.2000e+00 9.4730e+03 1.0600e+00 7.1890e+03]\n",
      " [4.1710e+03 1.2500e+01 5.5000e+00 2.1563e+04 1.0400e+00 4.7909e+04]\n",
      " [5.6200e+02 5.1000e+00 4.4000e+00 2.6590e+03 1.4700e+00 5.0980e+03]\n",
      " [6.5000e+02 2.1000e+00 2.3000e+00 2.2024e+04 8.7000e-01 3.1610e+03]\n",
      " [9.9000e+02 0.0000e+00 2.0000e-01 2.1752e+04 8.2000e-01 1.0960e+03]\n",
      " [3.7520e+03 3.0000e-01 2.1000e+00 8.2730e+03 5.1000e-01 1.2152e+04]\n",
      " [6.2200e+02 0.0000e+00 1.3300e+01 2.7000e+04 1.3700e+00 6.7760e+03]\n",
      " [1.4100e+03 7.0000e-01 1.5000e+00 1.3290e+04 1.1600e+00 1.4948e+04]\n",
      " [1.1610e+03 2.0000e+00 3.9000e+00 4.7670e+03 7.9000e-01 8.9590e+03]]\n"
     ]
    }
   ],
   "source": [
    "X = np.c_[NI,MO,RE,NE,ICM,ES]\n",
    "print(X)"
   ]
  },
  {
   "cell_type": "code",
   "execution_count": 22,
   "metadata": {},
   "outputs": [
    {
     "name": "stdout",
     "output_type": "stream",
     "text": [
      "[[ 4.28307692e+02  8.00000000e-01 -7.23076923e-01 -3.45730769e+03\n",
      "   1.11538462e-01  9.20192308e+03]\n",
      " [ 3.41630769e+03 -2.70000000e+00 -1.02307692e+00 -8.24230769e+03\n",
      "  -5.38461538e-01  9.39092308e+03]\n",
      " [-1.24069231e+03  1.10000000e+00  2.67692308e+00 -1.01930769e+03\n",
      "   6.21538462e-01 -7.69707692e+03]\n",
      " [-1.05269231e+03 -8.00000000e-01 -2.23076923e-01 -9.86330769e+03\n",
      "   2.41538462e-01 -4.09007692e+03]\n",
      " [-1.03169231e+03  2.90000000e+00 -9.23076923e-01 -2.55130769e+03\n",
      "   1.53846154e-03 -5.48807692e+03]\n",
      " [ 2.44130769e+03  9.50000000e+00  1.37692308e+00  9.53869231e+03\n",
      "  -1.84615385e-02  3.52319231e+04]\n",
      " [-1.16769231e+03  2.10000000e+00  2.76923077e-01 -9.36530769e+03\n",
      "   4.11538462e-01 -7.57907692e+03]\n",
      " [-1.07969231e+03 -9.00000000e-01 -1.82307692e+00  9.99969231e+03\n",
      "  -1.88461538e-01 -9.51607692e+03]\n",
      " [-7.39692308e+02 -3.00000000e+00 -3.92307692e+00  9.72769231e+03\n",
      "  -2.38461538e-01 -1.15810769e+04]\n",
      " [ 2.02230769e+03 -2.70000000e+00 -2.02307692e+00 -3.75130769e+03\n",
      "  -5.48461538e-01 -5.25076923e+02]\n",
      " [-1.10769231e+03 -3.00000000e+00  9.17692308e+00  1.49756923e+04\n",
      "   3.11538462e-01 -5.90107692e+03]\n",
      " [-3.19692308e+02 -2.30000000e+00 -2.62307692e+00  1.26569231e+03\n",
      "   1.01538462e-01  2.27092308e+03]\n",
      " [-5.68692308e+02 -1.00000000e+00 -2.23076923e-01 -7.25730769e+03\n",
      "  -2.68461538e-01 -3.71807692e+03]]\n"
     ]
    }
   ],
   "source": [
    "N  = len(X) #Calculo dos primeras componentes principales\n",
    "xm = np.ones((1,N))\n",
    "xmedia = (xm@X)/N\n",
    "Xest = X-xmedia\n",
    "XeT = np.transpose(Xest)\n",
    "print(Xest)"
   ]
  },
  {
   "cell_type": "code",
   "execution_count": 23,
   "metadata": {},
   "outputs": [
    {
     "name": "stdout",
     "output_type": "stream",
     "text": [
      "[[ 2.33424360e+06  8.23230769e+02 -8.70892899e+02 -1.50621806e+06\n",
      "  -3.30658166e+02  1.35466815e+07]\n",
      " [ 8.23230769e+02  1.11723077e+01  1.06846154e+00  1.62879231e+03\n",
      "   3.22538462e-01  2.62005154e+04]\n",
      " [-8.70892899e+02  1.06846154e+00  9.65869822e+00  8.47891598e+03\n",
      "   5.54497041e-01  1.54526746e+03]\n",
      " [-1.50621806e+06  1.62879231e+03  8.47891598e+03  6.54348658e+07\n",
      "   1.22920473e+02  7.35836851e+06]\n",
      " [-3.30658166e+02  3.22538462e-01  5.54497041e-01  1.22920473e+02\n",
      "   1.14566864e-01 -7.18985266e+02]\n",
      " [ 1.35466815e+07  2.62005154e+04  1.54526746e+03  7.35836851e+06\n",
      "  -7.18985266e+02  1.42803462e+08]]\n"
     ]
    }
   ],
   "source": [
    "A = (XeT@Xest)/N\n",
    "print(A)"
   ]
  },
  {
   "cell_type": "code",
   "execution_count": 24,
   "metadata": {},
   "outputs": [
    {
     "name": "stdout",
     "output_type": "stream",
     "text": [
      "Autovalores=  [1.44748533e+08 6.48597481e+07 9.64300468e+05 8.07535863e+00\n",
      " 3.50750848e+00 2.71099463e-02]\n",
      "Autovectores (matriz U)=\n",
      " [[-9.33624002e-02  4.27267285e-02  9.94713214e-01 -5.74185032e-04\n",
      "   1.77130003e-03  2.11115246e-04]\n",
      " [-1.81021307e-04  1.05052138e-05 -1.72249578e-03  1.08522665e-01\n",
      "   9.94028991e-01 -1.12337346e-02]\n",
      " [-1.53081034e-05 -1.28628611e-04 -7.51991001e-04 -9.93170917e-01\n",
      "   1.07927009e-01 -4.43024611e-02]\n",
      " [-9.02173130e-02 -9.95331764e-01  3.42856119e-02  1.08413045e-04\n",
      "   4.17835142e-05  1.04647287e-05]\n",
      " [ 5.06175371e-06 -3.06346101e-06 -2.64557270e-04 -4.28254340e-02\n",
      "   1.59643941e-02  9.98954979e-01]\n",
      " [-9.91536316e-01  8.65395306e-02 -9.67807688e-02  3.95027748e-05\n",
      "  -3.53647356e-04 -1.29961248e-05]]\n"
     ]
    }
   ],
   "source": [
    "e = np.linalg.eigh(A)\n",
    "AVL = np.flip(e[0])\n",
    "print(\"Autovalores= \", AVL)\n",
    "AVC = np.flip(e[1], 1)\n",
    "print(\"Autovectores (matriz U)=\\n\", AVC)\n",
    "U = AVC"
   ]
  },
  {
   "cell_type": "code",
   "execution_count": 25,
   "metadata": {},
   "outputs": [
    {
     "name": "stdout",
     "output_type": "stream",
     "text": [
      "Matriz Z=\n",
      " [[-8.85211986e+03  4.25579855e+03 -5.83062643e+02  5.42936795e-01\n",
      "  -1.92106849e+00  6.91221568e-02]\n",
      " [-8.88679660e+03  9.16248448e+03  2.20679865e+03 -1.73806000e+00\n",
      "  -4.17053896e-01  5.06925896e-02]\n",
      " [ 7.83972427e+03  2.95436841e+02 -5.24155670e+02 -2.26806006e+00\n",
      "   1.87408900e+00  3.17373885e-01]\n",
      " [ 5.04358295e+03  9.41833202e+03 -9.89454217e+02 -5.02049049e-01\n",
      "  -1.64575589e+00 -1.21451911e-02]\n",
      " [ 5.76812046e+03  2.02038130e+03 -5.82575114e+02  1.33041598e+00\n",
      "   2.78988838e+00 -1.63327382e-01]\n",
      " [-3.60222145e+04 -6.34090034e+03 -6.54349074e+02  6.88351049e-01\n",
      "   1.85475992e+00 -2.88251749e-02]\n",
      " [ 8.46886108e+03  8.61580678e+03 -7.49109316e+02 -7.09003310e-01\n",
      "   2.34458995e+00  1.29224756e-01]\n",
      " [ 8.63419334e+03 -1.08226597e+04  1.89837577e+02  3.04915634e+00\n",
      "   7.76304704e-01 -9.70107526e-02]\n",
      " [ 1.06745121e+04 -1.07161063e+04  7.18571880e+02  4.60277445e+00\n",
      "  -2.17442431e-01  6.54372846e-02]\n",
      " [ 6.70258755e+02  3.77476262e+03  1.93382397e+03  1.51126580e-01\n",
      "   7.00084151e-01 -3.34224812e-02]\n",
      " [ 4.60348257e+03 -1.54637879e+04 -1.72764546e+01 -7.42669104e+00\n",
      "  -1.23609371e+00 -6.20892210e-02]\n",
      " [-2.33604236e+03 -1.07691823e+03 -4.94382901e+02  2.76170101e+00\n",
      "  -3.88423839e+00  1.59718712e-01]\n",
      " [ 4.39443776e+03  6.87736989e+03 -4.54666684e+02 -4.82598739e-01\n",
      "  -1.01806329e+00 -3.94749180e-01]]\n"
     ]
    }
   ],
   "source": [
    "Z = Xest@U\n",
    "print(\"Matriz Z=\\n\", Z)"
   ]
  },
  {
   "cell_type": "code",
   "execution_count": 26,
   "metadata": {},
   "outputs": [
    {
     "name": "stdout",
     "output_type": "stream",
     "text": [
      "Primera componente principal:  [ -8852.11986369  -8886.7966019    7839.72427099   5043.58295069\n",
      "   5768.12045722 -36022.21448363   8468.86107909   8634.19333844\n",
      "  10674.51213574    670.2587547    4603.48256889  -2336.04236209\n",
      "   4394.43775554]\n",
      "Segunda componente principal:  [  4255.79855388   9162.48448271    295.43684112   9418.3320245\n",
      "   2020.38129617  -6340.90033857   8615.80677585 -10822.65970464\n",
      " -10716.10625968   3774.76261611 -15463.78794419  -1076.91823324\n",
      "   6877.36988998]\n"
     ]
    }
   ],
   "source": [
    "z1 = Z[:, 0]\n",
    "print(\"Primera componente principal: \", z1)\n",
    "z2 = Z[:, 1]\n",
    "print(\"Segunda componente principal: \", z2)\n",
    "z3 = Z[:, 2]\n",
    "z4 = Z[:, 3]\n",
    "z5 = Z[:, 4]\n",
    "z6 = Z[:, 5]"
   ]
  },
  {
   "cell_type": "code",
   "execution_count": 27,
   "metadata": {},
   "outputs": [
    {
     "name": "stdout",
     "output_type": "stream",
     "text": [
      "Varianza explicada por la CP 1:  0.6874044276344055\n",
      "Varianza explicada por la CP 2:  0.308016096632215\n",
      "Varianza explicada por la CP 3:  0.004579420598108082\n",
      "Varianza explicada por la CP 4:  3.834952368919282e-08\n",
      "Varianza explicada por la CP 5:  1.6657003837277734e-08\n"
     ]
    }
   ],
   "source": [
    "print(\"Varianza explicada por la CP 1: \", AVL[0]/sum(AVL)) #Obtengo varianza explicada\n",
    "print(\"Varianza explicada por la CP 2: \", AVL[1]/sum(AVL))\n",
    "print(\"Varianza explicada por la CP 3: \", AVL[2]/sum(AVL))\n",
    "print(\"Varianza explicada por la CP 4: \", AVL[3]/sum(AVL))\n",
    "print(\"Varianza explicada por la CP 5: \", AVL[4]/sum(AVL))"
   ]
  },
  {
   "cell_type": "code",
   "execution_count": 28,
   "metadata": {},
   "outputs": [
    {
     "name": "stdout",
     "output_type": "stream",
     "text": [
      " \n",
      "-0.09336 x + 1.261e-13\n",
      "0.5405203010264724\n",
      " \n",
      "1.051e-05 x\n",
      "0.0006406814630149032\n",
      " \n",
      "-0.000752 x - 7.842e-17\n",
      "0.05645716517531479\n",
      " \n",
      "0.0001084 x + 1.009e-12\n",
      "1.4505125700551533e-15\n",
      " \n",
      "0.01596 x + 1.232e-16\n",
      "0.007802694262674947\n",
      " \n",
      "-1.299e-05 x - 1.009e-12\n",
      "3.202041893505257e-20\n"
     ]
    }
   ],
   "source": [
    "[p,R2]=CM(z1,Xest[:,0])\n",
    "[p,R2]=CM(z2,Xest[:,1])\n",
    "[p,R2]=CM(z3,Xest[:,2])\n",
    "[p,R2]=CM(z4,Xest[:,3])\n",
    "[p,R2]=CM(z5,Xest[:,4])\n",
    "[p,R2]=CM(z6,Xest[:,5]) #De ambas maneras da lo mismo."
   ]
  },
  {
   "cell_type": "code",
   "execution_count": 29,
   "metadata": {},
   "outputs": [],
   "source": [
    "# NO SE LLEGA A LOS MISMOS RESULTADOS. POR ESO ES IMPORTANTE ESCALAR LAS VARIABLES.\n",
    "# Se obtienen resultados distintos, por ejemplo las dos primeras componentes principales halladas con el archivo sin escalar\n",
    "# representan mucho mas porcentaje de información que las del archivo escalado, ésto es así probablemente porque el no escalado\n",
    "# tenga unos valores mucho más grandes en ciertas columnas que en otras mientras que en el escalado al haber normalizado todos \n",
    "# los datos a media 0 se obtiene una información no tan diferente o dispar.\n",
    "\n",
    "# Además claramente las expresiones de las componentes principales en función de las columnas de Xestrella son diferentes en \n",
    "# ambos casos."
   ]
  },
  {
   "cell_type": "code",
   "execution_count": null,
   "metadata": {},
   "outputs": [],
   "source": []
  }
 ],
 "metadata": {
  "kernelspec": {
   "display_name": "Python 3",
   "language": "python",
   "name": "python3"
  },
  "language_info": {
   "codemirror_mode": {
    "name": "ipython",
    "version": 3
   },
   "file_extension": ".py",
   "mimetype": "text/x-python",
   "name": "python",
   "nbconvert_exporter": "python",
   "pygments_lexer": "ipython3",
   "version": "3.8.5"
  }
 },
 "nbformat": 4,
 "nbformat_minor": 4
}
