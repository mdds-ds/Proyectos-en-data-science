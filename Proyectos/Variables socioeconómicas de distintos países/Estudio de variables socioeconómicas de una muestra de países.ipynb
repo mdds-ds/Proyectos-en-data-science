{
 "cells": [
  {
   "cell_type": "markdown",
   "metadata": {},
   "source": [
    "# Estudio de variables socioeconómicas de una muestra de países"
   ]
  },
  {
   "cell_type": "markdown",
   "metadata": {},
   "source": [
    "En el archivo paises.csv se encuentran 11 variables ecónomicas y sociales asociadas a 21 países. Quiero usar esas variables para visualizar países con comportamientos similares.\n",
    "\n",
    "Para simplificar el análisis, se pueden analizar solo un par de variables y calculamos las componentes principales para ese par de variables."
   ]
  },
  {
   "cell_type": "markdown",
   "metadata": {},
   "source": [
    "Los variables corresponden a los siguientes indicadores:\n",
    "\n",
    "X1 = Tasa anual de crecimiento de la población\n",
    "\n",
    "X2 = Tasa de mortalidad infantil por cada 1000 nacidos vivos,\n",
    "\n",
    "X3 = Porcentaje de mujeres en la población activa,\n",
    "\n",
    "X4 = PNB en 1995 (en millones de dólares),\n",
    "\n",
    "X5 = Producción de electricidad (en millones kW/h),\n",
    "\n",
    "X6 = Líneas telefónicas por cada 1000 habitantes,\n",
    "\n",
    "X7 = Consumo de agua per cápita,\n",
    "\n",
    "X8 = Proporción de la superficie del país cubierta por bosques,\n",
    "\n",
    "X9 = Proporción de deforestación anual,\n",
    "\n",
    "X10 = Consumo de energía per cápita,\n",
    "\n",
    "X11 = Emisión de CO2 per cápita."
   ]
  },
  {
   "cell_type": "code",
   "execution_count": 3,
   "metadata": {},
   "outputs": [
    {
     "name": "stdout",
     "output_type": "stream",
     "text": [
      "            Pais   X1   X2   X3      X4      X5   X6    X7   X8   X9   X10  \\\n",
      "0        Albania  1.0   30   41    2199    3903   12    94   53  0.0   341   \n",
      "1         Angola  3.0  124   46    4422     955    6    57   19  0.7    89   \n",
      "2   Arabia Saudi  4.3   21   13  133540   91019   96   497    1  0.0  4566   \n",
      "3        Argelia  2.5   34   24   44609   19883   42   180    2  0.8   906   \n",
      "4      Argentina  1.3   22   31  278431   65962  160  1043   22  0.1  1504   \n",
      "5      Australia  1.4    6   43  337909  167155  510   933   19  0.0  5341   \n",
      "6        Austria  0.6    6   41  216547   53259  465   304   47 -0.4  3301   \n",
      "7     Bangladesh  2.0   79   42   28599    9891    2   220    6  4.1    64   \n",
      "8        Belgica  0.3    8   40  250710   72236  457   917   20 -0.3  5120   \n",
      "9          Benin  3.0   95   48    2034       6    5    26   45  1.3    20   \n",
      "10     Tailandia  1.3   35   46  159630   71177   59   602   25  3.5   769   \n",
      "11      Tanzania  3.1   82   49    3703    1913    3    40   38  1.2    34   \n",
      "12         Tunez  2.1   39   30   16369    6714   58   381    4 -1.9   595   \n",
      "13       Turquia  1.9   48   35  169452   78322  212   585   26  0.0   957   \n",
      "14       Ucrania  0.1   15   49   84084  202995  157   673   16 -0.3  3180   \n",
      "15       Uruguay  0.6   18   40   16458    7617  196   241    4 -0.6   629   \n",
      "16     Venezuela  2.4   23   33   65382   73116  111   382   52  1.2  2186   \n",
      "17       Vietnam  2.2   41   49   17634   12270   11   414   26  1.5   101   \n",
      "18         Yemen  4.2  100   29    4044    2159   12   335    8  0.0   206   \n",
      "19        Zambia  2.6  109   45    3605    7785    8   186   43  1.1   149   \n",
      "20      Zimbabue  2.8   55   44    5933    7334   14   136   23  0.7   438   \n",
      "\n",
      "     X11  \n",
      "0    1.2  \n",
      "1    0.5  \n",
      "2   13.1  \n",
      "3    3.0  \n",
      "4    3.5  \n",
      "5   15.3  \n",
      "6    7.2  \n",
      "7    0.2  \n",
      "8   10.1  \n",
      "9    0.1  \n",
      "10   2.0  \n",
      "11   0.1  \n",
      "12   1.6  \n",
      "13   2.5  \n",
      "14  11.7  \n",
      "15   1.6  \n",
      "16   5.7  \n",
      "17   0.3  \n",
      "18   0.7  \n",
      "19   0.3  \n",
      "20   1.8  \n"
     ]
    }
   ],
   "source": [
    "import pandas as pd   \n",
    "import numpy as np\n",
    "import matplotlib.pyplot as plt\n",
    "datos = pd.read_csv(\"paises.csv\")   # dataFrame\n",
    "print(datos)"
   ]
  },
  {
   "cell_type": "code",
   "execution_count": 4,
   "metadata": {},
   "outputs": [
    {
     "name": "stdout",
     "output_type": "stream",
     "text": [
      "[['Albania' 1.0 30 41 2199 3903 12 94 53 0.0 341 1.2]\n",
      " ['Angola' 3.0 124 46 4422 955 6 57 19 0.7 89 0.5]\n",
      " ['Arabia Saudi' 4.3 21 13 133540 91019 96 497 1 0.0 4566 13.1]\n",
      " ['Argelia' 2.5 34 24 44609 19883 42 180 2 0.8 906 3.0]\n",
      " ['Argentina' 1.3 22 31 278431 65962 160 1043 22 0.1 1504 3.5]\n",
      " ['Australia' 1.4 6 43 337909 167155 510 933 19 0.0 5341 15.3]\n",
      " ['Austria' 0.6 6 41 216547 53259 465 304 47 -0.4 3301 7.2]\n",
      " ['Bangladesh' 2.0 79 42 28599 9891 2 220 6 4.1 64 0.2]\n",
      " ['Belgica' 0.3 8 40 250710 72236 457 917 20 -0.3 5120 10.1]\n",
      " ['Benin' 3.0 95 48 2034 6 5 26 45 1.3 20 0.1]\n",
      " ['Tailandia' 1.3 35 46 159630 71177 59 602 25 3.5 769 2.0]\n",
      " ['Tanzania' 3.1 82 49 3703 1913 3 40 38 1.2 34 0.1]\n",
      " ['Tunez' 2.1 39 30 16369 6714 58 381 4 -1.9 595 1.6]\n",
      " ['Turquia' 1.9 48 35 169452 78322 212 585 26 0.0 957 2.5]\n",
      " ['Ucrania' 0.1 15 49 84084 202995 157 673 16 -0.3 3180 11.7]\n",
      " ['Uruguay' 0.6 18 40 16458 7617 196 241 4 -0.6 629 1.6]\n",
      " ['Venezuela' 2.4 23 33 65382 73116 111 382 52 1.2 2186 5.7]\n",
      " ['Vietnam' 2.2 41 49 17634 12270 11 414 26 1.5 101 0.3]\n",
      " ['Yemen' 4.2 100 29 4044 2159 12 335 8 0.0 206 0.7]\n",
      " ['Zambia' 2.6 109 45 3605 7785 8 186 43 1.1 149 0.3]\n",
      " ['Zimbabue' 2.8 55 44 5933 7334 14 136 23 0.7 438 1.8]]\n"
     ]
    }
   ],
   "source": [
    "datosNP = datos.to_numpy()\n",
    "print(datosNP)"
   ]
  },
  {
   "cell_type": "code",
   "execution_count": 5,
   "metadata": {},
   "outputs": [
    {
     "name": "stdout",
     "output_type": "stream",
     "text": [
      "[[2.19900e+03 3.90300e+03]\n",
      " [4.42200e+03 9.55000e+02]\n",
      " [1.33540e+05 9.10190e+04]\n",
      " [4.46090e+04 1.98830e+04]\n",
      " [2.78431e+05 6.59620e+04]\n",
      " [3.37909e+05 1.67155e+05]\n",
      " [2.16547e+05 5.32590e+04]\n",
      " [2.85990e+04 9.89100e+03]\n",
      " [2.50710e+05 7.22360e+04]\n",
      " [2.03400e+03 6.00000e+00]\n",
      " [1.59630e+05 7.11770e+04]\n",
      " [3.70300e+03 1.91300e+03]\n",
      " [1.63690e+04 6.71400e+03]\n",
      " [1.69452e+05 7.83220e+04]\n",
      " [8.40840e+04 2.02995e+05]\n",
      " [1.64580e+04 7.61700e+03]\n",
      " [6.53820e+04 7.31160e+04]\n",
      " [1.76340e+04 1.22700e+04]\n",
      " [4.04400e+03 2.15900e+03]\n",
      " [3.60500e+03 7.78500e+03]\n",
      " [5.93300e+03 7.33400e+03]]\n"
     ]
    }
   ],
   "source": [
    "# Leo los datos y convierto las variables numéricas a float de 64 bits.\n",
    "pais = datosNP[:, 0]\n",
    "x1 = np.float64(datosNP[:, 4])   # PNB en 1995 (en millones de dólares),\n",
    "x2 = np.float64(datosNP[:, 5])   # Producción de electricidad (en millones kW/h), \n",
    "\n",
    "# Construyo la matriz X de datos\n",
    "X = np.c_[x1, x2]\n",
    "print(X)"
   ]
  },
  {
   "cell_type": "code",
   "execution_count": 6,
   "metadata": {},
   "outputs": [
    {
     "data": {
      "image/png": "[encoded data removed]",
      "text/plain": [
       "<Figure size 1080x576 with 1 Axes>"
      ]
     },
     "metadata": {
      "needs_background": "light"
     },
     "output_type": "display_data"
    }
   ],
   "source": [
    "plt.figure(figsize=(15,8))\n",
    "plt.plot(x1, x2, '.')\n",
    "\n",
    "for label, x, y in zip(pais, x1, x2):\n",
    "    plt.annotate(\n",
    "        label,\n",
    "        xy=(x, y))\n",
    "\n",
    "plt.show()"
   ]
  },
  {
   "cell_type": "code",
   "execution_count": 7,
   "metadata": {},
   "outputs": [
    {
     "name": "stdout",
     "output_type": "stream",
     "text": [
      "[87871.14285714 45508.14285714]\n"
     ]
    }
   ],
   "source": [
    "# Llevo los datos a media 0, restando a cada columna el promedio de esa columna para tenerlos más prolijos y analizables\n",
    "Xpromedio = np.mean(X, 0)   # El segundo parámetro = 0 indica que queremos promedios por columnas\n",
    "print(Xpromedio)"
   ]
  },
  {
   "cell_type": "code",
   "execution_count": 8,
   "metadata": {
    "scrolled": true
   },
   "outputs": [
    {
     "name": "stdout",
     "output_type": "stream",
     "text": [
      "[[-85672.14285714 -41605.14285714]\n",
      " [-83449.14285714 -44553.14285714]\n",
      " [ 45668.85714286  45510.85714286]\n",
      " [-43262.14285714 -25625.14285714]\n",
      " [190559.85714286  20453.85714286]\n",
      " [250037.85714286 121646.85714286]\n",
      " [128675.85714286   7750.85714286]\n",
      " [-59272.14285714 -35617.14285714]\n",
      " [162838.85714286  26727.85714286]\n",
      " [-85837.14285714 -45502.14285714]\n",
      " [ 71758.85714286  25668.85714286]\n",
      " [-84168.14285714 -43595.14285714]\n",
      " [-71502.14285714 -38794.14285714]\n",
      " [ 81580.85714286  32813.85714286]\n",
      " [ -3787.14285714 157486.85714286]\n",
      " [-71413.14285714 -37891.14285714]\n",
      " [-22489.14285714  27607.85714286]\n",
      " [-70237.14285714 -33238.14285714]\n",
      " [-83827.14285714 -43349.14285714]\n",
      " [-84266.14285714 -37723.14285714]\n",
      " [-81938.14285714 -38174.14285714]]\n"
     ]
    }
   ],
   "source": [
    "B = X - Xpromedio #datos de X pero con media cero\n",
    "print(B)"
   ]
  },
  {
   "cell_type": "code",
   "execution_count": 9,
   "metadata": {},
   "outputs": [
    {
     "name": "stdout",
     "output_type": "stream",
     "text": [
      "[1.24730702e-11 2.77179338e-12]\n"
     ]
    }
   ],
   "source": [
    "print(np.mean(B,0))"
   ]
  },
  {
   "cell_type": "code",
   "execution_count": 10,
   "metadata": {},
   "outputs": [
    {
     "name": "stdout",
     "output_type": "stream",
     "text": [
      "[[1.07830631e+10 3.85122686e+09]\n",
      " [3.85122686e+09 3.03709913e+09]]\n"
     ]
    }
   ],
   "source": [
    "# Calculo la matriz de covarianza:\n",
    "# cov = (X - Xpromedio)^T * (X - Xpromedio) / N\n",
    "Bt = np.transpose(B)\n",
    "N = len(x1)\n",
    "A = (Bt @ B) / N\n",
    "print(A)"
   ]
  },
  {
   "cell_type": "code",
   "execution_count": 11,
   "metadata": {},
   "outputs": [
    {
     "name": "stdout",
     "output_type": "stream",
     "text": [
      "[[1.07830631e+10 3.85122686e+09]\n",
      " [3.85122686e+09 3.03709913e+09]]\n"
     ]
    }
   ],
   "source": [
    "# Puedo hacerlo directamente con el comando cov de numpy\n",
    "print(np.cov(np.transpose(X), bias = 1))\n",
    "\n",
    "# Tenemos que transponer X porque cov requiere variables en filas\n",
    "# El parámetro bias = 1 hace que divida por N. Si no lo ponemos, o ponemos bias = 0, divide por N-1."
   ]
  },
  {
   "cell_type": "markdown",
   "metadata": {},
   "source": [
    "Como obtuve la misma matriz, ahora puedo calcular las componentes principales. Calculo primero los autovalores y autovectores de la matriz de covarianza y los ordeno los autovectores por autovalor."
   ]
  },
  {
   "cell_type": "code",
   "execution_count": 12,
   "metadata": {},
   "outputs": [
    {
     "name": "stdout",
     "output_type": "stream",
     "text": [
      "[1.44821901e+09 1.23719432e+10]\n",
      "[[ 0.38138201 -0.92441753]\n",
      " [-0.92441753 -0.38138201]]\n",
      "0.9999999999999999\n"
     ]
    }
   ],
   "source": [
    "e = np.linalg.eigh(A)  # Uso eigh porque A es simétrica. Podemos usar eig también\n",
    "print(e[0])\n",
    "print(e[1])\n",
    "print(np.linalg.norm(e[1][:,1]))"
   ]
  },
  {
   "cell_type": "code",
   "execution_count": 13,
   "metadata": {},
   "outputs": [
    {
     "name": "stdout",
     "output_type": "stream",
     "text": [
      "[[ 0.92441753 -0.38138201]\n",
      " [ 0.38138201  0.92441753]]\n"
     ]
    }
   ],
   "source": [
    "# Los autovalores están ordenados de menor a mayor.\n",
    "# Doy vuelta las columnas de la matriz de autovectores usando np.flip(-,1)\n",
    "V = -np.flip(e[1], 1)   # V tiene los autovectores de A como columnas\n",
    "print(V)"
   ]
  },
  {
   "cell_type": "code",
   "execution_count": 14,
   "metadata": {},
   "outputs": [
    {
     "name": "stdout",
     "output_type": "stream",
     "text": [
      "[[-95064.28335448  -5786.70927187]\n",
      " [-94133.61735637  -9359.70434603]\n",
      " [ 59574.1140889   24653.75348979]\n",
      " [-49765.2515541   -7188.92820925]\n",
      " [183957.60489998 -53768.19715957]\n",
      " [277533.30018813  17092.54644602]\n",
      " [121906.25503491 -41909.62874164]\n",
      " [-68375.9451871  -10319.78216602]\n",
      " [160724.61737671 -37396.11092282]\n",
      " [-96703.05793607  -9326.23634066]\n",
      " [ 76124.78552621  -3638.79568794]\n",
      " [-94432.90959305  -8199.89869116]\n",
      " [-80893.22217788  -8592.35467517]\n",
      " [ 87929.38892585   -779.76655603]\n",
      " [ 56561.75276315 147027.95906941]\n",
      " [-80466.56106375  -7791.54864766]\n",
      " [-10260.21778438  34098.14149608]\n",
      " [-77604.87556405  -3938.7391402 ]\n",
      " [-94023.8632423   -8102.5432448 ]\n",
      " [-92284.02735279  -2734.34353935]\n",
      " [-90303.98663751  -4039.1131611 ]]\n"
     ]
    }
   ],
   "source": [
    "# V son las direcciones del nuevo espacio\n",
    "# Calculo las componentes principales usando la formula\n",
    "# Z = (X - Xpromedio) * V\n",
    "\n",
    "Z = B @ V\n",
    "print(Z)"
   ]
  },
  {
   "cell_type": "code",
   "execution_count": 15,
   "metadata": {},
   "outputs": [
    {
     "data": {
      "image/png": "[encoded data removed]",
      "text/plain": [
       "<Figure size 1080x720 with 1 Axes>"
      ]
     },
     "metadata": {
      "needs_background": "light"
     },
     "output_type": "display_data"
    }
   ],
   "source": [
    "plt.figure(figsize=(15,10))\n",
    "z1 = Z[:,0]\n",
    "z2 = Z[:,1]\n",
    "plt.plot(z1, z2, '.')\n",
    "\n",
    "for label, x, y in zip(pais, z1, z2):\n",
    "    plt.annotate(\n",
    "        label,\n",
    "        xy=(x, y))\n",
    "\n",
    "plt.show()"
   ]
  },
  {
   "cell_type": "code",
   "execution_count": 16,
   "metadata": {},
   "outputs": [
    {
     "name": "stdout",
     "output_type": "stream",
     "text": [
      "[[-95064.28335448  -5786.70927187]\n",
      " [-94133.61735637  -9359.70434603]\n",
      " [ 59574.1140889   24653.75348979]\n",
      " [-49765.2515541   -7188.92820925]\n",
      " [183957.60489998 -53768.19715957]\n",
      " [277533.30018813  17092.54644602]\n",
      " [121906.25503491 -41909.62874164]\n",
      " [-68375.9451871  -10319.78216602]\n",
      " [160724.61737671 -37396.11092282]\n",
      " [-96703.05793607  -9326.23634066]\n",
      " [ 76124.78552621  -3638.79568794]\n",
      " [-94432.90959305  -8199.89869116]\n",
      " [-80893.22217788  -8592.35467517]\n",
      " [ 87929.38892585   -779.76655603]\n",
      " [ 56561.75276315 147027.95906941]\n",
      " [-80466.56106375  -7791.54864766]\n",
      " [-10260.21778438  34098.14149608]\n",
      " [-77604.87556405  -3938.7391402 ]\n",
      " [-94023.8632423   -8102.5432448 ]\n",
      " [-92284.02735279  -2734.34353935]\n",
      " [-90303.98663751  -4039.1131611 ]]\n",
      "[[ 0.92441753  0.38138201]\n",
      " [-0.38138201  0.92441753]]\n"
     ]
    }
   ],
   "source": [
    "# Pero es más fácil hacer todo con los comandos de Python, repito todo lo mismo usando los comandos de Python\n",
    "\n",
    "pais = datosNP[:, 0]\n",
    "x1 = np.float64(datosNP[:, 4])   # PNB en 1995 (en millones de dólares),\n",
    "x2 = np.float64(datosNP[:, 5])   # Producción de electricidad (en millones kW/h), \n",
    "\n",
    "# Construyo la matriz X de datos\n",
    "X = np.c_[x1, x2]\n",
    "\n",
    "from sklearn.decomposition import PCA\n",
    "pca = PCA()\n",
    "\n",
    "principalComponents = pca.fit_transform(X)\n",
    "print(principalComponents)\n",
    "print(pca.components_)"
   ]
  },
  {
   "cell_type": "code",
   "execution_count": 17,
   "metadata": {},
   "outputs": [
    {
     "data": {
      "image/png": "[encoded data removed]",
      "text/plain": [
       "<Figure size 1080x1080 with 1 Axes>"
      ]
     },
     "metadata": {
      "needs_background": "light"
     },
     "output_type": "display_data"
    }
   ],
   "source": [
    "plt.figure(figsize=(15,15))\n",
    "z1 = principalComponents[:,0]\n",
    "z2 = principalComponents[:,1]\n",
    "plt.plot(z1, z2, '.')\n",
    "\n",
    "for label, x, y in zip(pais, z1, z2):\n",
    "    plt.annotate(\n",
    "        label,\n",
    "        xy=(x, y))\n",
    "\n",
    "plt.show()"
   ]
  },
  {
   "cell_type": "markdown",
   "metadata": {},
   "source": [
    "Se puede observar que Argentina se encuentra debajo de la media en cuanto a producción de electricidad (eje Y) pero por encima de la media en cuanto a PNB en 1995."
   ]
  },
  {
   "cell_type": "code",
   "execution_count": 18,
   "metadata": {},
   "outputs": [
    {
     "data": {
      "text/plain": [
       "array([[ 0.92441753,  0.38138201],\n",
       "       [-0.38138201,  0.92441753]])"
      ]
     },
     "execution_count": 18,
     "metadata": {},
     "output_type": "execute_result"
    }
   ],
   "source": [
    "# Veamos que variables aparecen más fuertemente en cada componente\n",
    "pca.components_"
   ]
  }
 ],
 "metadata": {
  "kernelspec": {
   "display_name": "Python 3",
   "language": "python",
   "name": "python3"
  },
  "language_info": {
   "codemirror_mode": {
    "name": "ipython",
    "version": 3
   },
   "file_extension": ".py",
   "mimetype": "text/x-python",
   "name": "python",
   "nbconvert_exporter": "python",
   "pygments_lexer": "ipython3",
   "version": "3.8.5"
  }
 },
 "nbformat": 4,
 "nbformat_minor": 4
}
