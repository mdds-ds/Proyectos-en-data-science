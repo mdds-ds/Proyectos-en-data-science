{
 "cells": [
  {
   "cell_type": "markdown",
   "metadata": {},
   "source": [
    "# Evolución de los casos confirmados de COVID-19"
   ]
  },
  {
   "cell_type": "markdown",
   "metadata": {},
   "source": [
    "Despliego datos:"
   ]
  },
  {
   "cell_type": "code",
   "execution_count": 3,
   "metadata": {},
   "outputs": [],
   "source": [
    "import pandas as pd\n",
    "import numpy as np\n",
    "import matplotlib.pyplot as plt"
   ]
  },
  {
   "cell_type": "code",
   "execution_count": 4,
   "metadata": {},
   "outputs": [],
   "source": [
    "datos = pd.read_csv(\"casos_coronavirus.csv\") #datos desde el inicio de la pandemia hasta junio 2020"
   ]
  },
  {
   "cell_type": "code",
   "execution_count": 5,
   "metadata": {},
   "outputs": [
    {
     "name": "stdout",
     "output_type": "stream",
     "text": [
      "       fecha  confirmados_Nuevos  confirmados_Acumulado\n",
      "0   3-3-2020                   1                      1\n",
      "1   4-3-2020                   0                      1\n",
      "2   5-3-2020                   1                      2\n",
      "3   6-3-2020                   6                      8\n",
      "4   7-3-2020                   0                      8\n",
      "..       ...                 ...                    ...\n",
      "91  2-6-2020                 904                  18319\n",
      "92  3-6-2020                 949                  19268\n",
      "93  4-6-2020                 929                  20197\n",
      "94  5-6-2020                 840                  21037\n",
      "95  6-6-2020                 983                  22020\n",
      "\n",
      "[96 rows x 3 columns]\n"
     ]
    }
   ],
   "source": [
    "print(datos)"
   ]
  },
  {
   "cell_type": "code",
   "execution_count": 7,
   "metadata": {},
   "outputs": [
    {
     "name": "stdout",
     "output_type": "stream",
     "text": [
      "[['3-3-2020' 1 1]\n",
      " ['4-3-2020' 0 1]\n",
      " ['5-3-2020' 1 2]\n",
      " ['6-3-2020' 6 8]\n",
      " ['7-3-2020' 0 8]\n",
      " ['8-3-2020' 3 12]\n",
      " ['9-3-2020' 5 17]\n",
      " ['10-3-2020' 2 19]\n",
      " ['11-3-2020' 2 21]\n",
      " ['12-3-2020' 10 31]\n",
      " ['13-3-2020' 3 34]\n",
      " ['14-3-2020' 11 45]\n",
      " ['15-3-2020' 11 56]\n",
      " ['16-3-2020' 9 65]\n",
      " ['17-3-2020' 14 79]\n",
      " ['18-3-2020' 19 97]\n",
      " ['19-3-2020' 31 128]\n",
      " ['20-3-2020' 30 158]\n",
      " ['21-3-2020' 67 225]\n",
      " ['22-3-2020' 41 266]\n",
      " ['23-3-2020' 36 301]\n",
      " ['24-3-2020' 86 387]\n",
      " ['25-3-2020' 117 502]\n",
      " ['26-3-2020' 87 589]\n",
      " ['27-3-2020' 101 690]\n",
      " ['28-3-2020' 55 745]\n",
      " ['29-3-2020' 75 820]\n",
      " ['30-3-2020' 146 966]\n",
      " ['31-3-2020' 88 1054]\n",
      " ['1-4-2020' 79 1133]\n",
      " ['2-4-2020' 132 1265]\n",
      " ['3-4-2020' 88 1353]\n",
      " ['4-4-2020' 98 1451]\n",
      " ['5-4-2020' 103 1554]\n",
      " ['6-4-2020' 74 1628]\n",
      " ['7-4-2020' 87 1715]\n",
      " ['8-4-2020' 80 1795]\n",
      " ['9-4-2020' 99 1894]\n",
      " ['10-4-2020' 81 1975]\n",
      " ['11-4-2020' 167 2142]\n",
      " ['12-4-2020' 66 2208]\n",
      " ['13-4-2020' 69 2277]\n",
      " ['14-4-2020' 166 2443]\n",
      " ['15-4-2020' 128 2571]\n",
      " ['16-4-2020' 98 2669]\n",
      " ['17-4-2020' 88 2758]\n",
      " ['18-4-2020' 81 2839]\n",
      " ['19-4-2020' 102 2941]\n",
      " ['20-4-2020' 90 3031]\n",
      " ['21-4-2020' 112 3144]\n",
      " ['22-4-2020' 144 3288]\n",
      " ['23-4-2020' 147 3435]\n",
      " ['24-4-2020' 172 3607]\n",
      " ['25-4-2020' 173 3780]\n",
      " ['26-4-2020' 112 3892]\n",
      " ['27-4-2020' 111 4003]\n",
      " ['28-4-2020' 124 4127]\n",
      " ['29-4-2020' 158 4285]\n",
      " ['30-4-2020' 143 4428]\n",
      " ['1-5-2020' 105 4532]\n",
      " ['2-5-2020' 149 4681]\n",
      " ['3-5-2020' 103 4783]\n",
      " ['4-5-2020' 104 4887]\n",
      " ['5-5-2020' 133 5020]\n",
      " ['6-5-2020' 188 5208]\n",
      " ['7-5-2020' 163 5371]\n",
      " ['8-5-2020' 240 5611]\n",
      " ['9-5-2020' 165 5776]\n",
      " ['10-5-2020' 258 6034]\n",
      " ['11-5-2020' 244 6278]\n",
      " ['12-5-2020' 285 6563]\n",
      " ['13-5-2020' 316 6879]\n",
      " ['14-5-2020' 255 7134]\n",
      " ['15-5-2020' 345 7479]\n",
      " ['16-5-2020' 326 7805]\n",
      " ['17-5-2020' 263 8068]\n",
      " ['18-5-2020' 303 8371]\n",
      " ['19-5-2020' 438 8809]\n",
      " ['20-5-2020' 474 9283]\n",
      " ['21-5-2020' 648 9931]\n",
      " ['22-5-2020' 718 10649]\n",
      " ['23-5-2020' 704 11353]\n",
      " ['24-5-2020' 723 12076]\n",
      " ['25-5-2020' 552 12628]\n",
      " ['26-5-2020' 600 13228]\n",
      " ['27-5-2020' 706 13933]\n",
      " ['28-5-2020' 769 14702]\n",
      " ['29-5-2020' 717 15419]\n",
      " ['30-5-2020' 795 16214]\n",
      " ['31-5-2020' 637 16851]\n",
      " ['1-6-2020' 564 17415]\n",
      " ['2-6-2020' 904 18319]\n",
      " ['3-6-2020' 949 19268]\n",
      " ['4-6-2020' 929 20197]\n",
      " ['5-6-2020' 840 21037]\n",
      " ['6-6-2020' 983 22020]]\n"
     ]
    }
   ],
   "source": [
    "# Convertimos los datos a np.array\n",
    "datosNP = datos.to_numpy()\n",
    "print(datosNP)"
   ]
  },
  {
   "cell_type": "code",
   "execution_count": 8,
   "metadata": {},
   "outputs": [
    {
     "name": "stdout",
     "output_type": "stream",
     "text": [
      "[ 1.  2.  3.  4.  5.  6.  7.  8.  9. 10. 11. 12. 13. 14. 15. 16. 17. 18.\n",
      " 19. 20. 21. 22. 23. 24. 25. 26. 27. 28. 29. 30. 31. 32. 33. 34. 35. 36.\n",
      " 37. 38. 39. 40. 41. 42. 43. 44. 45. 46. 47. 48. 49. 50. 51. 52. 53. 54.\n",
      " 55. 56. 57. 58. 59. 60. 61. 62. 63. 64. 65. 66. 67. 68. 69. 70. 71. 72.\n",
      " 73. 74. 75. 76. 77. 78. 79. 80. 81. 82. 83. 84. 85. 86. 87. 88. 89. 90.\n",
      " 91. 92. 93. 94. 95. 96.]\n"
     ]
    },
    {
     "data": {
      "text/plain": [
       "[<matplotlib.lines.Line2D at 0x2c38a2e78e0>]"
      ]
     },
     "execution_count": 8,
     "metadata": {},
     "output_type": "execute_result"
    },
    {
     "data": {
      "image/png": "[encoded data removed]",
      "text/plain": [
       "<Figure size 432x288 with 1 Axes>"
      ]
     },
     "metadata": {
      "needs_background": "light"
     },
     "output_type": "display_data"
    }
   ],
   "source": [
    "x = np.linspace(1,96,96)\n",
    "print(x)\n",
    "\n",
    "plt.plot(x, datosNP[:,2])"
   ]
  },
  {
   "cell_type": "code",
   "execution_count": 9,
   "metadata": {},
   "outputs": [
    {
     "data": {
      "text/plain": [
       "[<matplotlib.lines.Line2D at 0x2c38a3cb8e0>]"
      ]
     },
     "execution_count": 9,
     "metadata": {},
     "output_type": "execute_result"
    },
    {
     "data": {
      "image/png": "[encoded data removed]",
      "text/plain": [
       "<Figure size 432x288 with 1 Axes>"
      ]
     },
     "metadata": {
      "needs_background": "light"
     },
     "output_type": "display_data"
    }
   ],
   "source": [
    "# Tomamos logaritmos para linealizar\n",
    "y = np.log(np.float64(datosNP[:,2]))\n",
    "#print(y)\n",
    "plt.plot(x,y)"
   ]
  },
  {
   "cell_type": "code",
   "execution_count": 10,
   "metadata": {},
   "outputs": [],
   "source": [
    "def RegresionLinealMinimosCuadrados(x, y):\n",
    "    n = len(x)\n",
    "    unos = np.ones(n)\n",
    "    A = np.c_[unos, x]\n",
    "    At = np.transpose(A)\n",
    "    s = np.linalg.solve(At @ A, At @ y)\n",
    "    p = np.poly1d([s[1], s[0]])\n",
    "    return(p)"
   ]
  },
  {
   "cell_type": "markdown",
   "metadata": {},
   "source": [
    "Utilizando la fórmula \n",
    "$$\n",
    "A^tA x = A^ty\n",
    "$$\n",
    "para una matriz $A$ apropiada."
   ]
  },
  {
   "cell_type": "code",
   "execution_count": 11,
   "metadata": {
    "scrolled": true
   },
   "outputs": [
    {
     "name": "stdout",
     "output_type": "stream",
     "text": [
      " \n",
      "0.07737 x + 3.496\n"
     ]
    },
    {
     "data": {
      "text/plain": [
       "[<matplotlib.lines.Line2D at 0x2c38a42edc0>]"
      ]
     },
     "execution_count": 11,
     "metadata": {},
     "output_type": "execute_result"
    },
    {
     "data": {
      "image/png": "[encoded data removed]",
      "text/plain": [
       "<Figure size 432x288 with 1 Axes>"
      ]
     },
     "metadata": {
      "needs_background": "light"
     },
     "output_type": "display_data"
    }
   ],
   "source": [
    "p = RegresionLinealMinimosCuadrados(x, y)\n",
    "print(p)\n",
    "plt.plot(x,y)\n",
    "plt.plot(x, p(x))"
   ]
  },
  {
   "cell_type": "code",
   "execution_count": 12,
   "metadata": {},
   "outputs": [
    {
     "data": {
      "text/plain": [
       "[<matplotlib.lines.Line2D at 0x2c38a6dd6a0>]"
      ]
     },
     "execution_count": 12,
     "metadata": {},
     "output_type": "execute_result"
    },
    {
     "data": {
      "image/png": "[encoded data removed]",
      "text/plain": [
       "<Figure size 432x288 with 1 Axes>"
      ]
     },
     "metadata": {
      "needs_background": "light"
     },
     "output_type": "display_data"
    }
   ],
   "source": [
    "x30 = x[30:96]\n",
    "y30 = y[30:96]\n",
    "plt.plot(x30, y30)\n",
    "#Tomo los datos a partir del registro 30 porque no se corresponden bien con la curva de los 1ros 30 días."
   ]
  },
  {
   "cell_type": "code",
   "execution_count": 14,
   "metadata": {},
   "outputs": [
    {
     "name": "stdout",
     "output_type": "stream",
     "text": [
      " \n",
      "0.0412 x + 5.957\n"
     ]
    },
    {
     "data": {
      "image/png": "[encoded data removed]",
      "text/plain": [
       "<Figure size 432x288 with 1 Axes>"
      ]
     },
     "metadata": {
      "needs_background": "light"
     },
     "output_type": "display_data"
    }
   ],
   "source": [
    "p = RegresionLinealMinimosCuadrados(x30, y30)\n",
    "plt.plot(x, y)\n",
    "plt.plot(x, p(x))\n",
    "print(p)"
   ]
  },
  {
   "cell_type": "code",
   "execution_count": 42,
   "metadata": {},
   "outputs": [
    {
     "name": "stdout",
     "output_type": "stream",
     "text": [
      "Según el modelo, para el día 6/6/2020 (el registro 96) habría unos 19378.431153842183 casos acumulados, lo cual representa un error del 11.99622545939063\n"
     ]
    }
   ],
   "source": [
    "print(\"Según el modelo, para el día 6/6/2020 (el registro 96) habría unos\",np.e**p(95),\"casos acumulados, lo cual representa un error del\",(-np.e**p(95)*100)/22020 + 100)"
   ]
  },
  {
   "cell_type": "code",
   "execution_count": null,
   "metadata": {},
   "outputs": [],
   "source": []
  }
 ],
 "metadata": {
  "kernelspec": {
   "display_name": "Python 3",
   "language": "python",
   "name": "python3"
  },
  "language_info": {
   "codemirror_mode": {
    "name": "ipython",
    "version": 3
   },
   "file_extension": ".py",
   "mimetype": "text/x-python",
   "name": "python",
   "nbconvert_exporter": "python",
   "pygments_lexer": "ipython3",
   "version": "3.8.5"
  }
 },
 "nbformat": 4,
 "nbformat_minor": 4
}
