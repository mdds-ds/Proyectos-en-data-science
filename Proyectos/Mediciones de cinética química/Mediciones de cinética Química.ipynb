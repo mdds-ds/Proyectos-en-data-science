{
 "cells": [
  {
   "cell_type": "markdown",
   "metadata": {},
   "source": [
    "# Mediciones de cinética química"
   ]
  },
  {
   "cell_type": "markdown",
   "metadata": {},
   "source": [
    "El archivo velocidades.txt contiene datos correspondientes a un estudio de hidrólisis de pnitrofenil palmitato catalizada por la actividad lipásica de células enteras de la levadura Yarrowia lipolytica. \n",
    "Se midió en él, a distintos tiempos de reacción, la absorbancia de la muestra debida al\n",
    "p-nitrofenol liberado (400 nm), previo congelado de la reacción al tiempo de muestreo y centrifugación de las células que interferirían en la medida de absorbancia. \n",
    "Se hicieron 3 réplicas a cada tiempo y el resultado se expresó en velocidad actual (mmol/min/mg Pesohumedo de células)."
   ]
  },
  {
   "cell_type": "code",
   "execution_count": 1,
   "metadata": {},
   "outputs": [],
   "source": [
    "import numpy as np\n",
    "import pandas as pd\n",
    "import matplotlib.pyplot as plt"
   ]
  },
  {
   "cell_type": "code",
   "execution_count": 2,
   "metadata": {},
   "outputs": [
    {
     "name": "stdout",
     "output_type": "stream",
     "text": [
      "    Tiempo  velocidad\n",
      "0        0       0.00\n",
      "1        0       0.00\n",
      "2        0       0.00\n",
      "3        1       1.38\n",
      "4        1       1.40\n",
      "5        1       1.42\n",
      "6        2       2.49\n",
      "7        2       2.51\n",
      "8        2       2.41\n",
      "9        3       3.46\n",
      "10       3       3.24\n",
      "11       3       3.31\n",
      "12       4       4.19\n",
      "13       4       4.17\n",
      "14       4       4.13\n",
      "15       5       4.77\n",
      "16       5       4.67\n",
      "17       5       4.69\n",
      "18       6       5.23\n",
      "19       6       5.12\n",
      "20       6       5.03\n",
      "21       7       5.64\n",
      "22       7       5.72\n",
      "23       7       5.67\n",
      "24       8       6.07\n",
      "25       8       5.72\n",
      "26       8       5.57\n",
      "27       9       6.30\n",
      "28       9       5.80\n",
      "29       9       6.00\n"
     ]
    }
   ],
   "source": [
    "datos = pd.read_csv('velocidades.txt', sep=\" \")\n",
    "print(datos)\n",
    "datosNP = datos.to_numpy()\n",
    "x = datosNP[:,0]\n",
    "y = datosNP[:,1]"
   ]
  },
  {
   "cell_type": "code",
   "execution_count": 3,
   "metadata": {},
   "outputs": [
    {
     "name": "stdout",
     "output_type": "stream",
     "text": [
      " \n",
      "0.6482 x + 0.9533\n"
     ]
    },
    {
     "data": {
      "text/plain": [
       "[<matplotlib.lines.Line2D at 0x1c282cfaaf0>]"
      ]
     },
     "execution_count": 3,
     "metadata": {},
     "output_type": "execute_result"
    },
    {
     "data": {
      "image/png": "[encoded data removed]",
      "text/plain": [
       "<Figure size 432x288 with 1 Axes>"
      ]
     },
     "metadata": {
      "needs_background": "light"
     },
     "output_type": "display_data"
    }
   ],
   "source": [
    "def minimosCuadrados(x, y):\n",
    "    n = len(x)\n",
    "    unos = np.ones(n)\n",
    "    At = np.array([unos, x])\n",
    "    A = np.transpose(At)\n",
    "    AtA = np.dot(At, A)\n",
    "    Aty = np.dot(At, y)\n",
    "    s = np.linalg.solve(AtA, Aty)\n",
    "    p = np.poly1d([s[1], s[0]])\n",
    "    return(p)\n",
    "\n",
    "lineal = minimosCuadrados(x, y)\n",
    "print(lineal)\n",
    "\n",
    "plt.scatter(x, y, c = \"g\")\n",
    "x_plot = np.linspace(0, 10, 1000)\n",
    "plt.plot(x_plot, lineal(x_plot))"
   ]
  },
  {
   "cell_type": "code",
   "execution_count": 4,
   "metadata": {},
   "outputs": [
    {
     "name": "stdout",
     "output_type": "stream",
     "text": [
      "[ 7.55309656 -7.44598286]\n"
     ]
    },
    {
     "data": {
      "text/plain": [
       "[<matplotlib.lines.Line2D at 0x1c282df6fd0>]"
      ]
     },
     "execution_count": 4,
     "metadata": {},
     "output_type": "execute_result"
    },
    {
     "data": {
      "image/png": "[encoded data removed]",
      "text/plain": [
       "<Figure size 432x288 with 1 Axes>"
      ]
     },
     "metadata": {
      "needs_background": "light"
     },
     "output_type": "display_data"
    }
   ],
   "source": [
    "# Mínimos cuadrados para un modelo exponencial:\n",
    "A = np.c_[np.ones(len(x)),np.e**(-0.1879*x)]\n",
    "c = np.linalg.solve(A.T@A,A.T@y)\n",
    "\n",
    "print(c)\n",
    "\n",
    "def f(x):\n",
    "    y=c[0]+c[1]*np.e**(-0.1879*x)\n",
    "    return(y)\n",
    "x_plt = np.linspace(0,10,1000)\n",
    "plt.scatter(x,y,c=\"r\")\n",
    "plt.plot(x_plt,f(x_plt))"
   ]
  },
  {
   "cell_type": "code",
   "execution_count": 5,
   "metadata": {},
   "outputs": [
    {
     "name": "stdout",
     "output_type": "stream",
     "text": [
      "R2 lineal =  0.9264557977499788\n",
      "R2 exponencial =  0.9949650499154663\n"
     ]
    }
   ],
   "source": [
    "# Para decidir cual es mejor, calculo su R^2\n",
    "# PARA MODELO LINEAL:\n",
    "yRaya = sum(y)/len(y)\n",
    "c = np.polyfit(x, y, 1)\n",
    "p = np.poly1d(c)\n",
    "yAsterisco = p(x)\n",
    "R2 = np.linalg.norm(yAsterisco - yRaya, 2)**2 / np.linalg.norm(y - yRaya, 2)**2\n",
    "print(\"R2 lineal = \", R2)\n",
    "\n",
    "\n",
    "# PARA MODELO EXPONENCIAL:\n",
    "A = np.c_[np.ones(len(x)),np.e**(-0.1879*x)]\n",
    "c = np.linalg.solve(A.T@A,A.T@y)\n",
    "yRaya = sum(y)/len(y)\n",
    "p = c[0]+c[1]*np.e**(-0.1879*x)\n",
    "R2 = np.linalg.norm(p - yRaya, 2)**2 / np.linalg.norm(y - yRaya, 2)**2\n",
    "print(\"R2 exponencial = \", R2)"
   ]
  },
  {
   "cell_type": "markdown",
   "metadata": {},
   "source": [
    "Según el R cuadrado, el modelo que mejor ajusta a los datos es el modelo exponencial."
   ]
  },
  {
   "cell_type": "code",
   "execution_count": null,
   "metadata": {},
   "outputs": [],
   "source": []
  }
 ],
 "metadata": {
  "kernelspec": {
   "display_name": "Python 3",
   "language": "python",
   "name": "python3"
  },
  "language_info": {
   "codemirror_mode": {
    "name": "ipython",
    "version": 3
   },
   "file_extension": ".py",
   "mimetype": "text/x-python",
   "name": "python",
   "nbconvert_exporter": "python",
   "pygments_lexer": "ipython3",
   "version": "3.8.5"
  }
 },
 "nbformat": 4,
 "nbformat_minor": 4
}
