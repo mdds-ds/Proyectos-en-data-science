{
 "cells": [
  {
   "cell_type": "markdown",
   "metadata": {
    "id": "Nb-1wsIe69mE"
   },
   "source": [
    "# Análisis de eficiencia de estrategia de marketing de un banco portugués, proyecto de Ciencia de Datos\n",
    "#### Matías Daniel Díaz Sarmiento"
   ]
  },
  {
   "cell_type": "code",
   "execution_count": null,
   "metadata": {
    "id": "nkWaoeFF69mG"
   },
   "outputs": [],
   "source": [
    "import pandas as pd\n",
    "import numpy as np\n",
    "import matplotlib.pyplot as plt"
   ]
  },
  {
   "cell_type": "markdown",
   "metadata": {
    "id": "Y4JaM6oo69mI"
   },
   "source": [
    "## Variables:\n",
    "#### Client data:\n",
    "1 - age (numeric)  \n",
    "2 - job : type of job (categorical: 'admin.','blue-collar','entrepreneur','housemaid','management','retired','self-employed','services','student','technician','unemployed','unknown')  \n",
    "3 - marital : marital status (categorical: 'divorced','married','single','unknown'; note: 'divorced' means divorced or widowed)  \n",
    "4 - education (categorical: 'basic.4y','basic.6y','basic.9y','high.school','illiterate','professional.course','university.degree','unknown')  \n",
    "5 - default: has credit in default? (categorical: 'no','yes','unknown')  \n",
    "6 - housing: has housing loan? (categorical: 'no','yes','unknown')  \n",
    "7 - loan: has personal loan? (categorical: 'no','yes','unknown')  \n",
    "#### Related with the last contact of the current campaign:\n",
    "8 - contact: contact communication type (categorical: 'cellular','telephone')  \n",
    "9 - month: last contact month of year (categorical: 'jan', 'feb', 'mar', ..., 'nov', 'dec')  \n",
    "10 - day_of_week: last contact day of the week (categorical: 'mon','tue','wed','thu','fri')  \n",
    "11 - duration: last contact duration, in seconds (numeric). Important note: this attribute highly affects the output target (e.g., if duration=0 then y='no'). Yet, the duration is not known before a call is performed. Also, after the end of the call y is obviously known. Thus, this input should only be included for benchmark purposes and should be discarded if the intention is to have a realistic predictive model.  \n",
    "#### other attributes:\n",
    "12 - campaign: number of contacts performed during this campaign and for this client (numeric, includes last contact)  \n",
    "13 - pdays: number of days that passed by after the client was last contacted from a previous campaign (numeric; 999 means client was not previously contacted)  \n",
    "14 - previous: number of contacts performed before this campaign and for this client (numeric)  \n",
    "15 - poutcome: outcome of the previous marketing campaign (categorical: 'failure','nonexistent','success')  \n",
    "#### social and economic context attributes\n",
    "16 - emp.var.rate: employment variation rate - quarterly indicator (numeric)  \n",
    "17 - cons.price.idx: consumer price index - monthly indicator (numeric)  \n",
    "18 - cons.conf.idx: consumer confidence index - monthly indicator (numeric)  \n",
    "19 - euribor3m: euribor 3 month rate - daily indicator (numeric)  \n",
    "20 - nr.employed: number of employees - quarterly indicator (numeric)  \n",
    "#### Output variable (desired target):\n",
    "21 - y - has the client subscribed a term deposit? (binary: 'yes','no')  \n"
   ]
  },
  {
   "cell_type": "code",
   "execution_count": null,
   "metadata": {
    "id": "EpnzRRBG69mJ",
    "outputId": "c77c0be6-4c7d-47d8-a1d7-5544d2468aa7"
   },
   "outputs": [
    {
     "name": "stdout",
     "output_type": "stream",
     "text": [
      "       age          job  marital            education  default housing loan  \\\n",
      "0       56    housemaid  married             basic.4y       no      no   no   \n",
      "1       57     services  married          high.school  unknown      no   no   \n",
      "2       37     services  married          high.school       no     yes   no   \n",
      "3       40       admin.  married             basic.6y       no      no   no   \n",
      "4       56     services  married          high.school       no      no  yes   \n",
      "...    ...          ...      ...                  ...      ...     ...  ...   \n",
      "41183   73      retired  married  professional.course       no     yes   no   \n",
      "41184   46  blue-collar  married  professional.course       no      no   no   \n",
      "41185   56      retired  married    university.degree       no     yes   no   \n",
      "41186   44   technician  married  professional.course       no      no   no   \n",
      "41187   74      retired  married  professional.course       no     yes   no   \n",
      "\n",
      "         contact month day_of_week  ...  campaign  pdays  previous  \\\n",
      "0      telephone   may         mon  ...         1    999         0   \n",
      "1      telephone   may         mon  ...         1    999         0   \n",
      "2      telephone   may         mon  ...         1    999         0   \n",
      "3      telephone   may         mon  ...         1    999         0   \n",
      "4      telephone   may         mon  ...         1    999         0   \n",
      "...          ...   ...         ...  ...       ...    ...       ...   \n",
      "41183   cellular   nov         fri  ...         1    999         0   \n",
      "41184   cellular   nov         fri  ...         1    999         0   \n",
      "41185   cellular   nov         fri  ...         2    999         0   \n",
      "41186   cellular   nov         fri  ...         1    999         0   \n",
      "41187   cellular   nov         fri  ...         3    999         1   \n",
      "\n",
      "          poutcome emp.var.rate  cons.price.idx  cons.conf.idx  euribor3m  \\\n",
      "0      nonexistent          1.1          93.994          -36.4      4.857   \n",
      "1      nonexistent          1.1          93.994          -36.4      4.857   \n",
      "2      nonexistent          1.1          93.994          -36.4      4.857   \n",
      "3      nonexistent          1.1          93.994          -36.4      4.857   \n",
      "4      nonexistent          1.1          93.994          -36.4      4.857   \n",
      "...            ...          ...             ...            ...        ...   \n",
      "41183  nonexistent         -1.1          94.767          -50.8      1.028   \n",
      "41184  nonexistent         -1.1          94.767          -50.8      1.028   \n",
      "41185  nonexistent         -1.1          94.767          -50.8      1.028   \n",
      "41186  nonexistent         -1.1          94.767          -50.8      1.028   \n",
      "41187      failure         -1.1          94.767          -50.8      1.028   \n",
      "\n",
      "       nr.employed    y  \n",
      "0           5191.0   no  \n",
      "1           5191.0   no  \n",
      "2           5191.0   no  \n",
      "3           5191.0   no  \n",
      "4           5191.0   no  \n",
      "...            ...  ...  \n",
      "41183       4963.6  yes  \n",
      "41184       4963.6   no  \n",
      "41185       4963.6   no  \n",
      "41186       4963.6  yes  \n",
      "41187       4963.6   no  \n",
      "\n",
      "[41188 rows x 21 columns]\n"
     ]
    }
   ],
   "source": [
    "data = pd.read_csv(\"dataset.csv\", sep=\";\")\n",
    "print(data)"
   ]
  },
  {
   "cell_type": "code",
   "execution_count": null,
   "metadata": {
    "id": "piSS6Gka69mK",
    "outputId": "45f34b59-d645-4870-db79-9845f59a2d9f",
    "scrolled": true
   },
   "outputs": [
    {
     "data": {
      "text/html": [
       "<div>\n",
       "<style scoped>\n",
       "    .dataframe tbody tr th:only-of-type {\n",
       "        vertical-align: middle;\n",
       "    }\n",
       "\n",
       "    .dataframe tbody tr th {\n",
       "        vertical-align: top;\n",
       "    }\n",
       "\n",
       "    .dataframe thead th {\n",
       "        text-align: right;\n",
       "    }\n",
       "</style>\n",
       "<table border=\"1\" class=\"dataframe\">\n",
       "  <thead>\n",
       "    <tr style=\"text-align: right;\">\n",
       "      <th></th>\n",
       "      <th>age</th>\n",
       "      <th>job</th>\n",
       "      <th>marital</th>\n",
       "      <th>education</th>\n",
       "      <th>default</th>\n",
       "      <th>housing</th>\n",
       "      <th>loan</th>\n",
       "      <th>contact</th>\n",
       "      <th>month</th>\n",
       "      <th>day_of_week</th>\n",
       "      <th>...</th>\n",
       "      <th>campaign</th>\n",
       "      <th>pdays</th>\n",
       "      <th>previous</th>\n",
       "      <th>poutcome</th>\n",
       "      <th>emp.var.rate</th>\n",
       "      <th>cons.price.idx</th>\n",
       "      <th>cons.conf.idx</th>\n",
       "      <th>euribor3m</th>\n",
       "      <th>nr.employed</th>\n",
       "      <th>y</th>\n",
       "    </tr>\n",
       "  </thead>\n",
       "  <tbody>\n",
       "    <tr>\n",
       "      <th>0</th>\n",
       "      <td>56</td>\n",
       "      <td>housemaid</td>\n",
       "      <td>married</td>\n",
       "      <td>basic.4y</td>\n",
       "      <td>no</td>\n",
       "      <td>no</td>\n",
       "      <td>no</td>\n",
       "      <td>telephone</td>\n",
       "      <td>may</td>\n",
       "      <td>mon</td>\n",
       "      <td>...</td>\n",
       "      <td>1</td>\n",
       "      <td>999</td>\n",
       "      <td>0</td>\n",
       "      <td>nonexistent</td>\n",
       "      <td>1.1</td>\n",
       "      <td>93.994</td>\n",
       "      <td>-36.4</td>\n",
       "      <td>4.857</td>\n",
       "      <td>5191.0</td>\n",
       "      <td>no</td>\n",
       "    </tr>\n",
       "    <tr>\n",
       "      <th>1</th>\n",
       "      <td>57</td>\n",
       "      <td>services</td>\n",
       "      <td>married</td>\n",
       "      <td>high.school</td>\n",
       "      <td>unknown</td>\n",
       "      <td>no</td>\n",
       "      <td>no</td>\n",
       "      <td>telephone</td>\n",
       "      <td>may</td>\n",
       "      <td>mon</td>\n",
       "      <td>...</td>\n",
       "      <td>1</td>\n",
       "      <td>999</td>\n",
       "      <td>0</td>\n",
       "      <td>nonexistent</td>\n",
       "      <td>1.1</td>\n",
       "      <td>93.994</td>\n",
       "      <td>-36.4</td>\n",
       "      <td>4.857</td>\n",
       "      <td>5191.0</td>\n",
       "      <td>no</td>\n",
       "    </tr>\n",
       "    <tr>\n",
       "      <th>2</th>\n",
       "      <td>37</td>\n",
       "      <td>services</td>\n",
       "      <td>married</td>\n",
       "      <td>high.school</td>\n",
       "      <td>no</td>\n",
       "      <td>yes</td>\n",
       "      <td>no</td>\n",
       "      <td>telephone</td>\n",
       "      <td>may</td>\n",
       "      <td>mon</td>\n",
       "      <td>...</td>\n",
       "      <td>1</td>\n",
       "      <td>999</td>\n",
       "      <td>0</td>\n",
       "      <td>nonexistent</td>\n",
       "      <td>1.1</td>\n",
       "      <td>93.994</td>\n",
       "      <td>-36.4</td>\n",
       "      <td>4.857</td>\n",
       "      <td>5191.0</td>\n",
       "      <td>no</td>\n",
       "    </tr>\n",
       "    <tr>\n",
       "      <th>3</th>\n",
       "      <td>40</td>\n",
       "      <td>admin.</td>\n",
       "      <td>married</td>\n",
       "      <td>basic.6y</td>\n",
       "      <td>no</td>\n",
       "      <td>no</td>\n",
       "      <td>no</td>\n",
       "      <td>telephone</td>\n",
       "      <td>may</td>\n",
       "      <td>mon</td>\n",
       "      <td>...</td>\n",
       "      <td>1</td>\n",
       "      <td>999</td>\n",
       "      <td>0</td>\n",
       "      <td>nonexistent</td>\n",
       "      <td>1.1</td>\n",
       "      <td>93.994</td>\n",
       "      <td>-36.4</td>\n",
       "      <td>4.857</td>\n",
       "      <td>5191.0</td>\n",
       "      <td>no</td>\n",
       "    </tr>\n",
       "    <tr>\n",
       "      <th>4</th>\n",
       "      <td>56</td>\n",
       "      <td>services</td>\n",
       "      <td>married</td>\n",
       "      <td>high.school</td>\n",
       "      <td>no</td>\n",
       "      <td>no</td>\n",
       "      <td>yes</td>\n",
       "      <td>telephone</td>\n",
       "      <td>may</td>\n",
       "      <td>mon</td>\n",
       "      <td>...</td>\n",
       "      <td>1</td>\n",
       "      <td>999</td>\n",
       "      <td>0</td>\n",
       "      <td>nonexistent</td>\n",
       "      <td>1.1</td>\n",
       "      <td>93.994</td>\n",
       "      <td>-36.4</td>\n",
       "      <td>4.857</td>\n",
       "      <td>5191.0</td>\n",
       "      <td>no</td>\n",
       "    </tr>\n",
       "  </tbody>\n",
       "</table>\n",
       "<p>5 rows × 21 columns</p>\n",
       "</div>"
      ],
      "text/plain": [
       "   age        job  marital    education  default housing loan    contact  \\\n",
       "0   56  housemaid  married     basic.4y       no      no   no  telephone   \n",
       "1   57   services  married  high.school  unknown      no   no  telephone   \n",
       "2   37   services  married  high.school       no     yes   no  telephone   \n",
       "3   40     admin.  married     basic.6y       no      no   no  telephone   \n",
       "4   56   services  married  high.school       no      no  yes  telephone   \n",
       "\n",
       "  month day_of_week  ...  campaign  pdays  previous     poutcome emp.var.rate  \\\n",
       "0   may         mon  ...         1    999         0  nonexistent          1.1   \n",
       "1   may         mon  ...         1    999         0  nonexistent          1.1   \n",
       "2   may         mon  ...         1    999         0  nonexistent          1.1   \n",
       "3   may         mon  ...         1    999         0  nonexistent          1.1   \n",
       "4   may         mon  ...         1    999         0  nonexistent          1.1   \n",
       "\n",
       "   cons.price.idx  cons.conf.idx  euribor3m  nr.employed   y  \n",
       "0          93.994          -36.4      4.857       5191.0  no  \n",
       "1          93.994          -36.4      4.857       5191.0  no  \n",
       "2          93.994          -36.4      4.857       5191.0  no  \n",
       "3          93.994          -36.4      4.857       5191.0  no  \n",
       "4          93.994          -36.4      4.857       5191.0  no  \n",
       "\n",
       "[5 rows x 21 columns]"
      ]
     },
     "execution_count": 9,
     "metadata": {},
     "output_type": "execute_result"
    }
   ],
   "source": [
    "data.head() # Devuelve el encabezado del dataset para ver más o menos como se ven los datos bien separados y ordenados, \n",
    "            # y compruebo la correcta carga de datos."
   ]
  },
  {
   "cell_type": "markdown",
   "metadata": {
    "id": "yaUfcfCo69mL"
   },
   "source": [
    "### Exploración de datos"
   ]
  },
  {
   "cell_type": "code",
   "execution_count": null,
   "metadata": {
    "id": "xa2PJHsW69mL",
    "outputId": "d95c7abc-8032-44bd-955b-646727b408cc"
   },
   "outputs": [
    {
     "data": {
      "text/plain": [
       "Index(['age', 'job', 'marital', 'education', 'default', 'housing', 'loan',\n",
       "       'contact', 'month', 'day_of_week', 'duration', 'campaign', 'pdays',\n",
       "       'previous', 'poutcome', 'emp.var.rate', 'cons.price.idx',\n",
       "       'cons.conf.idx', 'euribor3m', 'nr.employed', 'y'],\n",
       "      dtype='object')"
      ]
     },
     "execution_count": 11,
     "metadata": {},
     "output_type": "execute_result"
    }
   ],
   "source": [
    "data.columns # Me fijo qué columnas tienen los datos, y ubico a la variable de interés \"y\""
   ]
  },
  {
   "cell_type": "code",
   "execution_count": null,
   "metadata": {
    "id": "endVyt5a69mM",
    "outputId": "0b3b6e32-4611-4b7f-d237-ab1ffade2b14"
   },
   "outputs": [
    {
     "data": {
      "text/plain": [
       "(41188, 21)"
      ]
     },
     "execution_count": 12,
     "metadata": {},
     "output_type": "execute_result"
    }
   ],
   "source": [
    "data.shape # Del print(data) podíamos ver que los datos son una matriz de 41188 rows x 21 columns"
   ]
  },
  {
   "cell_type": "code",
   "execution_count": null,
   "metadata": {
    "id": "ZyNYv5Zv69mN",
    "outputId": "24d5f9dc-861e-4293-ee27-fedb9ea4f42f"
   },
   "outputs": [
    {
     "name": "stdout",
     "output_type": "stream",
     "text": [
      "<class 'pandas.core.frame.DataFrame'>\n",
      "RangeIndex: 41188 entries, 0 to 41187\n",
      "Data columns (total 21 columns):\n",
      " #   Column          Non-Null Count  Dtype  \n",
      "---  ------          --------------  -----  \n",
      " 0   age             41188 non-null  int64  \n",
      " 1   job             41188 non-null  object \n",
      " 2   marital         41188 non-null  object \n",
      " 3   education       41188 non-null  object \n",
      " 4   default         41188 non-null  object \n",
      " 5   housing         41188 non-null  object \n",
      " 6   loan            41188 non-null  object \n",
      " 7   contact         41188 non-null  object \n",
      " 8   month           41188 non-null  object \n",
      " 9   day_of_week     41188 non-null  object \n",
      " 10  duration        41188 non-null  int64  \n",
      " 11  campaign        41188 non-null  int64  \n",
      " 12  pdays           41188 non-null  int64  \n",
      " 13  previous        41188 non-null  int64  \n",
      " 14  poutcome        41188 non-null  object \n",
      " 15  emp.var.rate    41188 non-null  float64\n",
      " 16  cons.price.idx  41188 non-null  float64\n",
      " 17  cons.conf.idx   41188 non-null  float64\n",
      " 18  euribor3m       41188 non-null  float64\n",
      " 19  nr.employed     41188 non-null  float64\n",
      " 20  y               41188 non-null  object \n",
      "dtypes: float64(5), int64(5), object(11)\n",
      "memory usage: 6.6+ MB\n"
     ]
    }
   ],
   "source": [
    "data.info() # Es absolutamente necesario comprobar que no haya datos nulos en el dataset para continuar, y además\n",
    "            # así veo qué tipo de dato contiene cada columna."
   ]
  },
  {
   "cell_type": "markdown",
   "metadata": {
    "id": "1R9gmN8V69mO"
   },
   "source": [
    "No hay datos nulos, puedo proceder con tranquilidad."
   ]
  },
  {
   "cell_type": "code",
   "execution_count": null,
   "metadata": {
    "id": "A7hS79OO69mP",
    "outputId": "86406232-799d-46cc-eb7b-a08edab034cb",
    "scrolled": true
   },
   "outputs": [
    {
     "data": {
      "text/html": [
       "<div>\n",
       "<style scoped>\n",
       "    .dataframe tbody tr th:only-of-type {\n",
       "        vertical-align: middle;\n",
       "    }\n",
       "\n",
       "    .dataframe tbody tr th {\n",
       "        vertical-align: top;\n",
       "    }\n",
       "\n",
       "    .dataframe thead th {\n",
       "        text-align: right;\n",
       "    }\n",
       "</style>\n",
       "<table border=\"1\" class=\"dataframe\">\n",
       "  <thead>\n",
       "    <tr style=\"text-align: right;\">\n",
       "      <th></th>\n",
       "      <th>age</th>\n",
       "      <th>duration</th>\n",
       "      <th>campaign</th>\n",
       "      <th>pdays</th>\n",
       "      <th>previous</th>\n",
       "      <th>emp.var.rate</th>\n",
       "      <th>cons.price.idx</th>\n",
       "      <th>cons.conf.idx</th>\n",
       "      <th>euribor3m</th>\n",
       "      <th>nr.employed</th>\n",
       "    </tr>\n",
       "  </thead>\n",
       "  <tbody>\n",
       "    <tr>\n",
       "      <th>count</th>\n",
       "      <td>40898.000000</td>\n",
       "      <td>40898.000000</td>\n",
       "      <td>40898.000000</td>\n",
       "      <td>40898.000000</td>\n",
       "      <td>40898.00000</td>\n",
       "      <td>40898.000000</td>\n",
       "      <td>40898.000000</td>\n",
       "      <td>40898.000000</td>\n",
       "      <td>40898.000000</td>\n",
       "      <td>40898.000000</td>\n",
       "    </tr>\n",
       "    <tr>\n",
       "      <th>mean</th>\n",
       "      <td>40.035405</td>\n",
       "      <td>260.066165</td>\n",
       "      <td>2.547068</td>\n",
       "      <td>962.313414</td>\n",
       "      <td>0.17304</td>\n",
       "      <td>0.086075</td>\n",
       "      <td>93.575149</td>\n",
       "      <td>-40.488075</td>\n",
       "      <td>3.628004</td>\n",
       "      <td>5167.361727</td>\n",
       "    </tr>\n",
       "    <tr>\n",
       "      <th>std</th>\n",
       "      <td>10.423732</td>\n",
       "      <td>259.329531</td>\n",
       "      <td>2.728991</td>\n",
       "      <td>187.309653</td>\n",
       "      <td>0.49499</td>\n",
       "      <td>1.571174</td>\n",
       "      <td>0.578517</td>\n",
       "      <td>4.630305</td>\n",
       "      <td>1.731863</td>\n",
       "      <td>71.978096</td>\n",
       "    </tr>\n",
       "    <tr>\n",
       "      <th>min</th>\n",
       "      <td>17.000000</td>\n",
       "      <td>10.000000</td>\n",
       "      <td>1.000000</td>\n",
       "      <td>0.000000</td>\n",
       "      <td>0.00000</td>\n",
       "      <td>-3.400000</td>\n",
       "      <td>92.201000</td>\n",
       "      <td>-50.800000</td>\n",
       "      <td>0.634000</td>\n",
       "      <td>4963.600000</td>\n",
       "    </tr>\n",
       "    <tr>\n",
       "      <th>25%</th>\n",
       "      <td>32.000000</td>\n",
       "      <td>104.000000</td>\n",
       "      <td>1.000000</td>\n",
       "      <td>999.000000</td>\n",
       "      <td>0.00000</td>\n",
       "      <td>-1.800000</td>\n",
       "      <td>93.075000</td>\n",
       "      <td>-42.700000</td>\n",
       "      <td>1.344000</td>\n",
       "      <td>5099.100000</td>\n",
       "    </tr>\n",
       "    <tr>\n",
       "      <th>50%</th>\n",
       "      <td>38.000000</td>\n",
       "      <td>181.000000</td>\n",
       "      <td>2.000000</td>\n",
       "      <td>999.000000</td>\n",
       "      <td>0.00000</td>\n",
       "      <td>1.100000</td>\n",
       "      <td>93.749000</td>\n",
       "      <td>-41.800000</td>\n",
       "      <td>4.857000</td>\n",
       "      <td>5191.000000</td>\n",
       "    </tr>\n",
       "    <tr>\n",
       "      <th>75%</th>\n",
       "      <td>47.000000</td>\n",
       "      <td>321.000000</td>\n",
       "      <td>3.000000</td>\n",
       "      <td>999.000000</td>\n",
       "      <td>0.00000</td>\n",
       "      <td>1.400000</td>\n",
       "      <td>93.994000</td>\n",
       "      <td>-36.400000</td>\n",
       "      <td>4.961000</td>\n",
       "      <td>5228.100000</td>\n",
       "    </tr>\n",
       "    <tr>\n",
       "      <th>max</th>\n",
       "      <td>98.000000</td>\n",
       "      <td>4918.000000</td>\n",
       "      <td>56.000000</td>\n",
       "      <td>999.000000</td>\n",
       "      <td>7.00000</td>\n",
       "      <td>1.400000</td>\n",
       "      <td>94.767000</td>\n",
       "      <td>-26.900000</td>\n",
       "      <td>5.045000</td>\n",
       "      <td>5228.100000</td>\n",
       "    </tr>\n",
       "  </tbody>\n",
       "</table>\n",
       "</div>"
      ],
      "text/plain": [
       "                age      duration      campaign         pdays     previous  \\\n",
       "count  40898.000000  40898.000000  40898.000000  40898.000000  40898.00000   \n",
       "mean      40.035405    260.066165      2.547068    962.313414      0.17304   \n",
       "std       10.423732    259.329531      2.728991    187.309653      0.49499   \n",
       "min       17.000000     10.000000      1.000000      0.000000      0.00000   \n",
       "25%       32.000000    104.000000      1.000000    999.000000      0.00000   \n",
       "50%       38.000000    181.000000      2.000000    999.000000      0.00000   \n",
       "75%       47.000000    321.000000      3.000000    999.000000      0.00000   \n",
       "max       98.000000   4918.000000     56.000000    999.000000      7.00000   \n",
       "\n",
       "       emp.var.rate  cons.price.idx  cons.conf.idx     euribor3m   nr.employed  \n",
       "count  40898.000000    40898.000000   40898.000000  40898.000000  40898.000000  \n",
       "mean       0.086075       93.575149     -40.488075      3.628004   5167.361727  \n",
       "std        1.571174        0.578517       4.630305      1.731863     71.978096  \n",
       "min       -3.400000       92.201000     -50.800000      0.634000   4963.600000  \n",
       "25%       -1.800000       93.075000     -42.700000      1.344000   5099.100000  \n",
       "50%        1.100000       93.749000     -41.800000      4.857000   5191.000000  \n",
       "75%        1.400000       93.994000     -36.400000      4.961000   5228.100000  \n",
       "max        1.400000       94.767000     -26.900000      5.045000   5228.100000  "
      ]
     },
     "execution_count": 163,
     "metadata": {},
     "output_type": "execute_result"
    }
   ],
   "source": [
    "df = data[data['duration']>=10]\n",
    "df.describe() # Hago un análisis de los datos en las columnas donde tengo variables numéricas."
   ]
  },
  {
   "cell_type": "markdown",
   "metadata": {
    "id": "67xg_7u169mQ"
   },
   "source": [
    "Variables como la edad, índices de confianza, número de empleados y pdays parecen seguir una distribución normal (la media es muy similar a la mediana)"
   ]
  },
  {
   "cell_type": "markdown",
   "metadata": {
    "id": "yd2uRMiM69mQ"
   },
   "source": [
    "Notar que 'duration' es recomendable que sea descartada para tener un modelo realista de eficiencia del telemarketing,\n",
    "ya que los valores para duration==0 derivan en y==\"no\", lo cual es esperable, si no hubo llamada, no hubo contratación.\n",
    "Sin embargo para hacer un análisis refinado no la descarto, sino que elimino los valores conflictivos. Entonces, debería de incluir los registros donde duration >= 10, pues 10 segundos considero que es un tiempo prudencial\n",
    "ya que el cerebro tarda hasta 10 segundos en hacer decisiones (https://www.nature.com/articles/news.2008.751#:~:text=Brain%20activity%20predicts%20decisions%20before%20they%20are%20consciously%20made.&text=Your%20brain%20makes%20up%20its,realize%20it%2C%20according%20to%20researchers.).\n",
    "Es decir, tomando duration>=10 estaríamos trabajando con los clientes que ya tomaron una decisión."
   ]
  },
  {
   "cell_type": "markdown",
   "metadata": {
    "id": "g8aAU2OH69mQ"
   },
   "source": [
    "Entonces los datos sobre los que trabajaré serán los datos de df. Repito la exploración preliminar."
   ]
  },
  {
   "cell_type": "code",
   "execution_count": null,
   "metadata": {
    "id": "Xij4f1uy69mR",
    "outputId": "23d1e17e-589a-456d-ec91-c046153f8373"
   },
   "outputs": [
    {
     "data": {
      "text/plain": [
       "Index(['age', 'job', 'marital', 'education', 'default', 'housing', 'loan',\n",
       "       'contact', 'month', 'day_of_week', 'duration', 'campaign', 'pdays',\n",
       "       'previous', 'poutcome', 'emp.var.rate', 'cons.price.idx',\n",
       "       'cons.conf.idx', 'euribor3m', 'nr.employed', 'y'],\n",
       "      dtype='object')"
      ]
     },
     "execution_count": 40,
     "metadata": {},
     "output_type": "execute_result"
    }
   ],
   "source": [
    "df.columns"
   ]
  },
  {
   "cell_type": "code",
   "execution_count": null,
   "metadata": {
    "id": "2d5yVFwP69mR",
    "outputId": "6862d0fc-48b9-4fd4-b578-facf40110027"
   },
   "outputs": [
    {
     "data": {
      "text/plain": [
       "(41165, 21)"
      ]
     },
     "execution_count": 39,
     "metadata": {},
     "output_type": "execute_result"
    }
   ],
   "source": [
    "df.shape"
   ]
  },
  {
   "cell_type": "code",
   "execution_count": null,
   "metadata": {
    "id": "rul2KA7R69mS",
    "outputId": "cdda0f01-c959-4261-b7be-6a1e726770e1"
   },
   "outputs": [
    {
     "name": "stdout",
     "output_type": "stream",
     "text": [
      "<class 'pandas.core.frame.DataFrame'>\n",
      "Int64Index: 41165 entries, 0 to 41187\n",
      "Data columns (total 21 columns):\n",
      " #   Column          Non-Null Count  Dtype  \n",
      "---  ------          --------------  -----  \n",
      " 0   age             41165 non-null  int64  \n",
      " 1   job             41165 non-null  object \n",
      " 2   marital         41165 non-null  object \n",
      " 3   education       41165 non-null  object \n",
      " 4   default         41165 non-null  object \n",
      " 5   housing         41165 non-null  object \n",
      " 6   loan            41165 non-null  object \n",
      " 7   contact         41165 non-null  object \n",
      " 8   month           41165 non-null  object \n",
      " 9   day_of_week     41165 non-null  object \n",
      " 10  duration        41165 non-null  int64  \n",
      " 11  campaign        41165 non-null  int64  \n",
      " 12  pdays           41165 non-null  int64  \n",
      " 13  previous        41165 non-null  int64  \n",
      " 14  poutcome        41165 non-null  object \n",
      " 15  emp.var.rate    41165 non-null  float64\n",
      " 16  cons.price.idx  41165 non-null  float64\n",
      " 17  cons.conf.idx   41165 non-null  float64\n",
      " 18  euribor3m       41165 non-null  float64\n",
      " 19  nr.employed     41165 non-null  float64\n",
      " 20  y               41165 non-null  object \n",
      "dtypes: float64(5), int64(5), object(11)\n",
      "memory usage: 6.9+ MB\n"
     ]
    }
   ],
   "source": [
    "df.info()"
   ]
  },
  {
   "cell_type": "code",
   "execution_count": null,
   "metadata": {
    "id": "ROtrQeZG69mS",
    "outputId": "8518bcf4-402a-4ca9-cd79-ad5e91d1d8df"
   },
   "outputs": [
    {
     "data": {
      "text/html": [
       "<div>\n",
       "<style scoped>\n",
       "    .dataframe tbody tr th:only-of-type {\n",
       "        vertical-align: middle;\n",
       "    }\n",
       "\n",
       "    .dataframe tbody tr th {\n",
       "        vertical-align: top;\n",
       "    }\n",
       "\n",
       "    .dataframe thead th {\n",
       "        text-align: right;\n",
       "    }\n",
       "</style>\n",
       "<table border=\"1\" class=\"dataframe\">\n",
       "  <thead>\n",
       "    <tr style=\"text-align: right;\">\n",
       "      <th></th>\n",
       "      <th>job</th>\n",
       "      <th>marital</th>\n",
       "      <th>education</th>\n",
       "      <th>default</th>\n",
       "      <th>housing</th>\n",
       "      <th>loan</th>\n",
       "      <th>contact</th>\n",
       "      <th>month</th>\n",
       "      <th>day_of_week</th>\n",
       "      <th>poutcome</th>\n",
       "      <th>y</th>\n",
       "    </tr>\n",
       "  </thead>\n",
       "  <tbody>\n",
       "    <tr>\n",
       "      <th>count</th>\n",
       "      <td>41165</td>\n",
       "      <td>41165</td>\n",
       "      <td>41165</td>\n",
       "      <td>41165</td>\n",
       "      <td>41165</td>\n",
       "      <td>41165</td>\n",
       "      <td>41165</td>\n",
       "      <td>41165</td>\n",
       "      <td>41165</td>\n",
       "      <td>41165</td>\n",
       "      <td>41165</td>\n",
       "    </tr>\n",
       "    <tr>\n",
       "      <th>unique</th>\n",
       "      <td>12</td>\n",
       "      <td>4</td>\n",
       "      <td>8</td>\n",
       "      <td>3</td>\n",
       "      <td>3</td>\n",
       "      <td>3</td>\n",
       "      <td>2</td>\n",
       "      <td>10</td>\n",
       "      <td>5</td>\n",
       "      <td>3</td>\n",
       "      <td>2</td>\n",
       "    </tr>\n",
       "    <tr>\n",
       "      <th>top</th>\n",
       "      <td>admin.</td>\n",
       "      <td>married</td>\n",
       "      <td>university.degree</td>\n",
       "      <td>no</td>\n",
       "      <td>yes</td>\n",
       "      <td>no</td>\n",
       "      <td>cellular</td>\n",
       "      <td>may</td>\n",
       "      <td>thu</td>\n",
       "      <td>nonexistent</td>\n",
       "      <td>no</td>\n",
       "    </tr>\n",
       "    <tr>\n",
       "      <th>freq</th>\n",
       "      <td>10415</td>\n",
       "      <td>24913</td>\n",
       "      <td>12162</td>\n",
       "      <td>32565</td>\n",
       "      <td>21561</td>\n",
       "      <td>33930</td>\n",
       "      <td>26138</td>\n",
       "      <td>13760</td>\n",
       "      <td>8620</td>\n",
       "      <td>35543</td>\n",
       "      <td>36525</td>\n",
       "    </tr>\n",
       "  </tbody>\n",
       "</table>\n",
       "</div>"
      ],
      "text/plain": [
       "           job  marital          education default housing   loan   contact  \\\n",
       "count    41165    41165              41165   41165   41165  41165     41165   \n",
       "unique      12        4                  8       3       3      3         2   \n",
       "top     admin.  married  university.degree      no     yes     no  cellular   \n",
       "freq     10415    24913              12162   32565   21561  33930     26138   \n",
       "\n",
       "        month day_of_week     poutcome      y  \n",
       "count   41165       41165        41165  41165  \n",
       "unique     10           5            3      2  \n",
       "top       may         thu  nonexistent     no  \n",
       "freq    13760        8620        35543  36525  "
      ]
     },
     "execution_count": 34,
     "metadata": {},
     "output_type": "execute_result"
    }
   ],
   "source": [
    "df.describe(include=[object]) # Como las variables categóricas están en formato objeto, uso esto."
   ]
  },
  {
   "cell_type": "markdown",
   "metadata": {
    "id": "sBjv_G2969mS"
   },
   "source": [
    "Más de la mitad son casados, la mayoría no tiene créditos en default ni préstamos, a más de la mitad se los contactó por celular\n",
    "la mayoría no participó de la anterior campaña de marketing y la mayoría dijo que no le interesaba contratar el servicio."
   ]
  },
  {
   "cell_type": "markdown",
   "metadata": {
    "id": "x42JojVd69mT"
   },
   "source": [
    "Ahora estudiaré como se comportaron los clientes respecto a la variable target relacionando variables entre sí."
   ]
  },
  {
   "cell_type": "markdown",
   "metadata": {
    "id": "Jhi5t41l69mT"
   },
   "source": [
    "#### ¿Como se comportan las variables respecto al target?"
   ]
  },
  {
   "cell_type": "code",
   "execution_count": null,
   "metadata": {
    "id": "QNE0xi-Q69mT",
    "outputId": "8b4f1499-f6ef-4a3c-e564-4429fd1248f9",
    "scrolled": false
   },
   "outputs": [
    {
     "data": {
      "text/plain": [
       "y\n",
       "no     36258\n",
       "yes     4640\n",
       "Name: duration, dtype: int64"
      ]
     },
     "execution_count": 49,
     "metadata": {},
     "output_type": "execute_result"
    }
   ],
   "source": [
    "df.groupby(['y']).count()['duration']"
   ]
  },
  {
   "cell_type": "markdown",
   "metadata": {
    "id": "MWNRkoPI69mU"
   },
   "source": [
    "Hubo 36258 clientes que dijeron que no les interesaba contratar el servicio y 4640 que sí."
   ]
  },
  {
   "cell_type": "code",
   "execution_count": null,
   "metadata": {
    "id": "KNzUl2dk69mU",
    "outputId": "35f5cbfd-3bac-42b8-83e0-802a7b871665"
   },
   "outputs": [
    {
     "name": "stdout",
     "output_type": "stream",
     "text": [
      "0.11296003886797036\n"
     ]
    }
   ],
   "source": [
    "# SuccessRate = Personas que dicen que sí / Total de personas de la misma categoría\n",
    "SuccessRate = 4650/41165\n",
    "print(SuccessRate)"
   ]
  },
  {
   "cell_type": "code",
   "execution_count": null,
   "metadata": {
    "id": "oyOOZplC69mU",
    "outputId": "758ef96a-0c4f-46bc-df75-cd39a26ce1d2",
    "scrolled": true
   },
   "outputs": [
    {
     "data": {
      "text/plain": [
       "poutcome\n",
       "failure         4218\n",
       "nonexistent    35311\n",
       "success         1369\n",
       "Name: duration, dtype: int64"
      ]
     },
     "execution_count": 70,
     "metadata": {},
     "output_type": "execute_result"
    }
   ],
   "source": [
    "df.groupby(['poutcome']).count()['duration']"
   ]
  },
  {
   "cell_type": "code",
   "execution_count": null,
   "metadata": {
    "id": "PBMC6IB-69mV",
    "outputId": "1d202c16-252d-47b5-9ed0-a5eb9431a3d3"
   },
   "outputs": [
    {
     "name": "stdout",
     "output_type": "stream",
     "text": [
      "0.24503311258278146\n"
     ]
    }
   ],
   "source": [
    "PrevSuccessRate = 1369/(4218+1369)\n",
    "print(PrevSuccessRate)"
   ]
  },
  {
   "cell_type": "markdown",
   "metadata": {
    "id": "ooPlVIad69mV"
   },
   "source": [
    "De los participantes de la anterior campaña, se muestra un resultado bastante más favorable en cuanto a la tasa de éxito, \n",
    "lo cual indicaría que esta campaña no fue tan buena como la anterior."
   ]
  },
  {
   "cell_type": "code",
   "execution_count": null,
   "metadata": {
    "id": "p4r46MBi69mV",
    "outputId": "36ef7cc7-4d46-46cd-8500-84ac30dbc24d"
   },
   "outputs": [
    {
     "data": {
      "text/plain": [
       "y    poutcome   \n",
       "no   failure         3613\n",
       "     nonexistent    32170\n",
       "     success          475\n",
       "yes  failure          605\n",
       "     nonexistent     3141\n",
       "     success          894\n",
       "Name: duration, dtype: int64"
      ]
     },
     "execution_count": 51,
     "metadata": {},
     "output_type": "execute_result"
    }
   ],
   "source": [
    "df.groupby(['y','poutcome']).count()['duration']"
   ]
  },
  {
   "cell_type": "markdown",
   "metadata": {
    "id": "0LoxVPJu69mV"
   },
   "source": [
    "Respecto a la campaña de marketing anterior, la grandísima mayoría no había participado.\n",
    "Sin embargo es interesante observar que de quienes participaron, a simple vista pareciera que no cambiaron mucho su decisión.\n",
    "Esto da cuenta de una estrategia de marketing que tal vez haya sido poco innovadora."
   ]
  },
  {
   "cell_type": "code",
   "execution_count": null,
   "metadata": {
    "id": "3nLTp73G69mW",
    "outputId": "32a2cae0-6f0f-406c-e555-5f9abdf2f74d"
   },
   "outputs": [
    {
     "data": {
      "text/plain": [
       "marital\n",
       "divorced     4581\n",
       "married     24784\n",
       "single      11454\n",
       "unknown        79\n",
       "Name: duration, dtype: int64"
      ]
     },
     "execution_count": 64,
     "metadata": {},
     "output_type": "execute_result"
    }
   ],
   "source": [
    "df.groupby(['marital']).count()['duration']"
   ]
  },
  {
   "cell_type": "code",
   "execution_count": null,
   "metadata": {
    "id": "tG6BdUNb69mW",
    "outputId": "3d2da584-92b9-424a-9097-0744233e6657",
    "scrolled": true
   },
   "outputs": [
    {
     "data": {
      "text/plain": [
       "y    marital \n",
       "no   divorced     4105\n",
       "     married     22252\n",
       "     single       9834\n",
       "     unknown        67\n",
       "yes  divorced      476\n",
       "     married      2532\n",
       "     single       1620\n",
       "     unknown        12\n",
       "Name: duration, dtype: int64"
      ]
     },
     "execution_count": 62,
     "metadata": {},
     "output_type": "execute_result"
    }
   ],
   "source": [
    "df.groupby(['y','marital']).count()['duration'] #Vamos a comparar si el estar casado o no influye en la toma de la decisión"
   ]
  },
  {
   "cell_type": "code",
   "execution_count": null,
   "metadata": {
    "id": "AQ61Dt_A69mW",
    "outputId": "d377eb63-e8e9-4b90-88b4-9873a61a1f58"
   },
   "outputs": [
    {
     "name": "stdout",
     "output_type": "stream",
     "text": [
      "0.10216268560361523\n",
      "0.13081792230358694\n"
     ]
    }
   ],
   "source": [
    "MarriedSuccessRate = 2532/(22252+2532)\n",
    "SingleSuccessRate = (1620+476+12)/(9834+1620+4105+476+67+12)\n",
    "print(MarriedSuccessRate)\n",
    "print(SingleSuccessRate)"
   ]
  },
  {
   "cell_type": "markdown",
   "metadata": {
    "id": "Dm424LHV69mW"
   },
   "source": [
    "Aquí vemos que la casi totalidad de casados dijeron que no, lo cual va en concordancia con la hipótesis que venía manejando, que es esperable que esto pase en un entorno marital, pues las decisiones\n",
    "suelen ser consultadas con la pareja.  \n",
    "Sin embargo, se observan números similares para quienes se encuentran en alguna forma de soltería (soltero, divorciado/viudo).\n",
    "Esto indicaría que en este caso, el estar casado o no, no estaría influyendo en la decisión de la contratación del servicio."
   ]
  },
  {
   "cell_type": "code",
   "execution_count": null,
   "metadata": {
    "id": "hhaeHCWT69mX",
    "outputId": "85a3fd05-ed0d-4268-ce86-9f882d035540",
    "scrolled": true
   },
   "outputs": [
    {
     "data": {
      "text/plain": [
       "y    job          \n",
       "no   admin.           8990\n",
       "     blue-collar      8552\n",
       "     entrepreneur     1315\n",
       "     housemaid         947\n",
       "     management       2581\n",
       "     retired          1281\n",
       "     self-employed    1264\n",
       "     services         3620\n",
       "     student           590\n",
       "     technician       5965\n",
       "     unemployed        861\n",
       "     unknown           292\n",
       "yes  admin.           1352\n",
       "     blue-collar       638\n",
       "     entrepreneur      124\n",
       "     housemaid         106\n",
       "     management        328\n",
       "     retired           434\n",
       "     self-employed     149\n",
       "     services          323\n",
       "     student           275\n",
       "     technician        730\n",
       "     unemployed        144\n",
       "     unknown            37\n",
       "Name: duration, dtype: int64"
      ]
     },
     "execution_count": 67,
     "metadata": {},
     "output_type": "execute_result"
    }
   ],
   "source": [
    "df.groupby(['y','job']).count()['duration'] #Vamos a comparar si el tipo de trabajo influye en la toma de la decisión"
   ]
  },
  {
   "cell_type": "code",
   "execution_count": null,
   "metadata": {
    "id": "phnvVVLc69mX",
    "outputId": "a1dbf1fc-25c4-454e-8173-f3ff53298fea",
    "scrolled": false
   },
   "outputs": [
    {
     "data": {
      "image/png": "[encoded data removed]",
      "text/plain": [
       "<Figure size 432x288 with 1 Axes>"
      ]
     },
     "metadata": {
      "needs_background": "light"
     },
     "output_type": "display_data"
    }
   ],
   "source": [
    "grouped_job = df.groupby(['y','job']).count()['duration']\n",
    "(grouped_job.unstack(level=0).plot.bar())\n",
    "plt.show()"
   ]
  },
  {
   "cell_type": "code",
   "execution_count": null,
   "metadata": {
    "id": "424tnXxJ69mX",
    "outputId": "cc4868c1-3fd5-4b76-96b3-095bc6441fbf"
   },
   "outputs": [
    {
     "data": {
      "text/html": [
       "<div>\n",
       "<style scoped>\n",
       "    .dataframe tbody tr th:only-of-type {\n",
       "        vertical-align: middle;\n",
       "    }\n",
       "\n",
       "    .dataframe tbody tr th {\n",
       "        vertical-align: top;\n",
       "    }\n",
       "\n",
       "    .dataframe thead th {\n",
       "        text-align: right;\n",
       "    }\n",
       "</style>\n",
       "<table border=\"1\" class=\"dataframe\">\n",
       "  <thead>\n",
       "    <tr style=\"text-align: right;\">\n",
       "      <th>y</th>\n",
       "      <th>no</th>\n",
       "      <th>yes</th>\n",
       "    </tr>\n",
       "    <tr>\n",
       "      <th>job</th>\n",
       "      <th></th>\n",
       "      <th></th>\n",
       "    </tr>\n",
       "  </thead>\n",
       "  <tbody>\n",
       "    <tr>\n",
       "      <th>admin.</th>\n",
       "      <td>8990</td>\n",
       "      <td>1352</td>\n",
       "    </tr>\n",
       "    <tr>\n",
       "      <th>blue-collar</th>\n",
       "      <td>8552</td>\n",
       "      <td>638</td>\n",
       "    </tr>\n",
       "    <tr>\n",
       "      <th>entrepreneur</th>\n",
       "      <td>1315</td>\n",
       "      <td>124</td>\n",
       "    </tr>\n",
       "    <tr>\n",
       "      <th>housemaid</th>\n",
       "      <td>947</td>\n",
       "      <td>106</td>\n",
       "    </tr>\n",
       "    <tr>\n",
       "      <th>management</th>\n",
       "      <td>2581</td>\n",
       "      <td>328</td>\n",
       "    </tr>\n",
       "    <tr>\n",
       "      <th>retired</th>\n",
       "      <td>1281</td>\n",
       "      <td>434</td>\n",
       "    </tr>\n",
       "    <tr>\n",
       "      <th>self-employed</th>\n",
       "      <td>1264</td>\n",
       "      <td>149</td>\n",
       "    </tr>\n",
       "    <tr>\n",
       "      <th>services</th>\n",
       "      <td>3620</td>\n",
       "      <td>323</td>\n",
       "    </tr>\n",
       "    <tr>\n",
       "      <th>student</th>\n",
       "      <td>590</td>\n",
       "      <td>275</td>\n",
       "    </tr>\n",
       "    <tr>\n",
       "      <th>technician</th>\n",
       "      <td>5965</td>\n",
       "      <td>730</td>\n",
       "    </tr>\n",
       "    <tr>\n",
       "      <th>unemployed</th>\n",
       "      <td>861</td>\n",
       "      <td>144</td>\n",
       "    </tr>\n",
       "    <tr>\n",
       "      <th>unknown</th>\n",
       "      <td>292</td>\n",
       "      <td>37</td>\n",
       "    </tr>\n",
       "  </tbody>\n",
       "</table>\n",
       "</div>"
      ],
      "text/plain": [
       "y                no   yes\n",
       "job                      \n",
       "admin.         8990  1352\n",
       "blue-collar    8552   638\n",
       "entrepreneur   1315   124\n",
       "housemaid       947   106\n",
       "management     2581   328\n",
       "retired        1281   434\n",
       "self-employed  1264   149\n",
       "services       3620   323\n",
       "student         590   275\n",
       "technician     5965   730\n",
       "unemployed      861   144\n",
       "unknown         292    37"
      ]
     },
     "execution_count": 80,
     "metadata": {},
     "output_type": "execute_result"
    }
   ],
   "source": [
    "grouped_job.unstack(level=0)"
   ]
  },
  {
   "cell_type": "markdown",
   "metadata": {
    "id": "Qj0BV8Hr69mY"
   },
   "source": [
    "Observamos que la tasa de éxito aparentemente es mayor en estudiantes y que los grupos mayoritarios en cuanto al trabajo son\n",
    "los empleados administrativos, los blue-collar (obreros) y técnicos."
   ]
  },
  {
   "cell_type": "code",
   "execution_count": null,
   "metadata": {
    "id": "gD19Kcy069mY",
    "outputId": "3b03b737-a574-47cb-b7f9-62085380fbbe",
    "scrolled": true
   },
   "outputs": [
    {
     "data": {
      "text/plain": [
       "y    education          \n",
       "no   basic.4y                3731\n",
       "     basic.6y                2086\n",
       "     basic.9y                5524\n",
       "     high.school             8407\n",
       "     illiterate                14\n",
       "     professional.course     4609\n",
       "     university.degree      10420\n",
       "     unknown                 1467\n",
       "yes  basic.4y                 428\n",
       "     basic.6y                 188\n",
       "     basic.9y                 473\n",
       "     high.school             1031\n",
       "     illiterate                 4\n",
       "     professional.course      595\n",
       "     university.degree       1670\n",
       "     unknown                  251\n",
       "Name: duration, dtype: int64"
      ]
     },
     "execution_count": 72,
     "metadata": {},
     "output_type": "execute_result"
    }
   ],
   "source": [
    "df.groupby(['y','education']).count()['duration'] #Vamos a comparar si el tipo de educacion influye en la toma de la decisión"
   ]
  },
  {
   "cell_type": "code",
   "execution_count": null,
   "metadata": {
    "id": "tONVerze69mY",
    "outputId": "77f86d29-54b4-4b82-c5c2-b71594c41e23",
    "scrolled": true
   },
   "outputs": [
    {
     "data": {
      "image/png": "[encoded data removed]",
      "text/plain": [
       "<Figure size 432x288 with 1 Axes>"
      ]
     },
     "metadata": {
      "needs_background": "light"
     },
     "output_type": "display_data"
    }
   ],
   "source": [
    "grouped_ed = df.groupby(['y','education']).count()['duration']\n",
    "(grouped_ed.unstack(level=0).plot.bar())\n",
    "plt.show()"
   ]
  },
  {
   "cell_type": "code",
   "execution_count": null,
   "metadata": {
    "id": "ZG907F0Z69mY",
    "outputId": "222f65a8-f8ab-434b-f25c-a31c3bf9cb28",
    "scrolled": false
   },
   "outputs": [
    {
     "data": {
      "text/html": [
       "<div>\n",
       "<style scoped>\n",
       "    .dataframe tbody tr th:only-of-type {\n",
       "        vertical-align: middle;\n",
       "    }\n",
       "\n",
       "    .dataframe tbody tr th {\n",
       "        vertical-align: top;\n",
       "    }\n",
       "\n",
       "    .dataframe thead th {\n",
       "        text-align: right;\n",
       "    }\n",
       "</style>\n",
       "<table border=\"1\" class=\"dataframe\">\n",
       "  <thead>\n",
       "    <tr style=\"text-align: right;\">\n",
       "      <th>y</th>\n",
       "      <th>no</th>\n",
       "      <th>yes</th>\n",
       "    </tr>\n",
       "    <tr>\n",
       "      <th>education</th>\n",
       "      <th></th>\n",
       "      <th></th>\n",
       "    </tr>\n",
       "  </thead>\n",
       "  <tbody>\n",
       "    <tr>\n",
       "      <th>basic.4y</th>\n",
       "      <td>3731</td>\n",
       "      <td>428</td>\n",
       "    </tr>\n",
       "    <tr>\n",
       "      <th>basic.6y</th>\n",
       "      <td>2086</td>\n",
       "      <td>188</td>\n",
       "    </tr>\n",
       "    <tr>\n",
       "      <th>basic.9y</th>\n",
       "      <td>5524</td>\n",
       "      <td>473</td>\n",
       "    </tr>\n",
       "    <tr>\n",
       "      <th>high.school</th>\n",
       "      <td>8407</td>\n",
       "      <td>1031</td>\n",
       "    </tr>\n",
       "    <tr>\n",
       "      <th>illiterate</th>\n",
       "      <td>14</td>\n",
       "      <td>4</td>\n",
       "    </tr>\n",
       "    <tr>\n",
       "      <th>professional.course</th>\n",
       "      <td>4609</td>\n",
       "      <td>595</td>\n",
       "    </tr>\n",
       "    <tr>\n",
       "      <th>university.degree</th>\n",
       "      <td>10420</td>\n",
       "      <td>1670</td>\n",
       "    </tr>\n",
       "    <tr>\n",
       "      <th>unknown</th>\n",
       "      <td>1467</td>\n",
       "      <td>251</td>\n",
       "    </tr>\n",
       "  </tbody>\n",
       "</table>\n",
       "</div>"
      ],
      "text/plain": [
       "y                       no   yes\n",
       "education                       \n",
       "basic.4y              3731   428\n",
       "basic.6y              2086   188\n",
       "basic.9y              5524   473\n",
       "high.school           8407  1031\n",
       "illiterate              14     4\n",
       "professional.course   4609   595\n",
       "university.degree    10420  1670\n",
       "unknown               1467   251"
      ]
     },
     "execution_count": 95,
     "metadata": {},
     "output_type": "execute_result"
    }
   ],
   "source": [
    "grouped_ed.unstack(level=0)"
   ]
  },
  {
   "cell_type": "markdown",
   "metadata": {
    "id": "unZVfExA69ma"
   },
   "source": [
    "De nuevo, el tipo de educación no parece influir en la toma de la decisión.  \n",
    "Sigamos viendo si hay otra variable que lo explique (tal vez el medio de contacto y/o el día de la semana?)."
   ]
  },
  {
   "cell_type": "code",
   "execution_count": null,
   "metadata": {
    "id": "KzkOyqpl69ma",
    "outputId": "35de25d1-bb7f-4bf8-eed1-bf3b8b70373b"
   },
   "outputs": [
    {
     "data": {
      "text/plain": [
       "y    contact  \n",
       "no   cellular     22157\n",
       "     telephone    14101\n",
       "yes  cellular      3853\n",
       "     telephone      787\n",
       "Name: duration, dtype: int64"
      ]
     },
     "execution_count": 98,
     "metadata": {},
     "output_type": "execute_result"
    }
   ],
   "source": [
    "df.groupby(['y','contact']).count()['duration'] #Vamos a comparar si el tipo de contacto influye en la toma de la decisión"
   ]
  },
  {
   "cell_type": "code",
   "execution_count": null,
   "metadata": {
    "id": "LfJwlA2n69ma",
    "outputId": "27e45199-2d0f-4727-9142-f5943dfae1f7"
   },
   "outputs": [
    {
     "data": {
      "image/png": "[encoded data removed]",
      "text/plain": [
       "<Figure size 432x288 with 1 Axes>"
      ]
     },
     "metadata": {
      "needs_background": "light"
     },
     "output_type": "display_data"
    }
   ],
   "source": [
    "grouped_contact = df.groupby(['y','contact']).count()['duration']\n",
    "(grouped_contact.unstack(level=0).plot.bar())\n",
    "plt.show()"
   ]
  },
  {
   "cell_type": "code",
   "execution_count": null,
   "metadata": {
    "id": "17XeixW469ma",
    "outputId": "d5bea529-72ce-41b0-e8f2-a48520ae2651"
   },
   "outputs": [
    {
     "data": {
      "text/html": [
       "<div>\n",
       "<style scoped>\n",
       "    .dataframe tbody tr th:only-of-type {\n",
       "        vertical-align: middle;\n",
       "    }\n",
       "\n",
       "    .dataframe tbody tr th {\n",
       "        vertical-align: top;\n",
       "    }\n",
       "\n",
       "    .dataframe thead th {\n",
       "        text-align: right;\n",
       "    }\n",
       "</style>\n",
       "<table border=\"1\" class=\"dataframe\">\n",
       "  <thead>\n",
       "    <tr style=\"text-align: right;\">\n",
       "      <th>y</th>\n",
       "      <th>no</th>\n",
       "      <th>yes</th>\n",
       "    </tr>\n",
       "    <tr>\n",
       "      <th>contact</th>\n",
       "      <th></th>\n",
       "      <th></th>\n",
       "    </tr>\n",
       "  </thead>\n",
       "  <tbody>\n",
       "    <tr>\n",
       "      <th>cellular</th>\n",
       "      <td>22157</td>\n",
       "      <td>3853</td>\n",
       "    </tr>\n",
       "    <tr>\n",
       "      <th>telephone</th>\n",
       "      <td>14101</td>\n",
       "      <td>787</td>\n",
       "    </tr>\n",
       "  </tbody>\n",
       "</table>\n",
       "</div>"
      ],
      "text/plain": [
       "y             no   yes\n",
       "contact               \n",
       "cellular   22157  3853\n",
       "telephone  14101   787"
      ]
     },
     "execution_count": 100,
     "metadata": {},
     "output_type": "execute_result"
    }
   ],
   "source": [
    "grouped_contact.unstack(level=0)"
   ]
  },
  {
   "cell_type": "code",
   "execution_count": null,
   "metadata": {
    "id": "F72NL3LA69mg",
    "outputId": "e3b7cd22-e738-416e-af0d-2c69dbaca321"
   },
   "outputs": [
    {
     "name": "stdout",
     "output_type": "stream",
     "text": [
      "0.14813533256439831\n",
      "0.05286136485760344\n"
     ]
    }
   ],
   "source": [
    "CellPhoneSuccessRate = 3853/(22157+3853)\n",
    "PhoneSuccessRate = 787/(14101+787)\n",
    "print(CellPhoneSuccessRate)\n",
    "print(PhoneSuccessRate)"
   ]
  },
  {
   "cell_type": "markdown",
   "metadata": {
    "id": "3WL-Mv7269mh"
   },
   "source": [
    "Parece ser que las personas que fueron contactadas por celular estuvieron más dispuestas a suscribirse al producto."
   ]
  },
  {
   "cell_type": "code",
   "execution_count": null,
   "metadata": {
    "id": "xVbjGFzo69mi",
    "outputId": "5df9487b-d426-4920-d5f9-44ef3a071a26"
   },
   "outputs": [
    {
     "data": {
      "text/plain": [
       "y    day_of_week\n",
       "no   fri            6892\n",
       "     mon            7590\n",
       "     thu            7520\n",
       "     tue            7096\n",
       "     wed            7160\n",
       "yes  fri             846\n",
       "     mon             847\n",
       "     thu            1045\n",
       "     tue             953\n",
       "     wed             949\n",
       "Name: duration, dtype: int64"
      ]
     },
     "execution_count": 102,
     "metadata": {},
     "output_type": "execute_result"
    }
   ],
   "source": [
    "df.groupby(['y','day_of_week']).count()['duration'] # Vamos a comparar si el día de la semana en que fueron contactados\n",
    "                                                # influye en la toma de la decisión"
   ]
  },
  {
   "cell_type": "code",
   "execution_count": null,
   "metadata": {
    "id": "6k5aw5CM69mi",
    "outputId": "3b89ad50-f6a9-4824-c85a-8af10a79be32",
    "scrolled": true
   },
   "outputs": [
    {
     "data": {
      "image/png": "[encoded data removed]",
      "text/plain": [
       "<Figure size 432x288 with 1 Axes>"
      ]
     },
     "metadata": {
      "needs_background": "light"
     },
     "output_type": "display_data"
    }
   ],
   "source": [
    "grouped_day = df.groupby(['y','day_of_week']).count()['duration']\n",
    "(grouped_day.unstack(level=0).plot.bar())\n",
    "plt.show()"
   ]
  },
  {
   "cell_type": "markdown",
   "metadata": {
    "id": "nAHqir8G69mi"
   },
   "source": [
    "El día de la semana tampoco influye en la contratación del servicio.\n",
    "Un factor determinante para contratar el servicio podría ser la edad, ya vimos que por ejemplo los estudiantes (un grupo etario típicamente joven) estaban más dispuestos a contratarlo. Para eso, separemos la edad en intervalos más trabajables y creemos una nueva variable \"age_group\" que sería el grupo etario."
   ]
  },
  {
   "cell_type": "code",
   "execution_count": null,
   "metadata": {
    "id": "kXPjgHKW69mj"
   },
   "outputs": [],
   "source": [
    "data['age_group'] = pd.cut(x=data['age'], bins=[19, 29, 39, 49, 59, 69, 79, 89, 99])"
   ]
  },
  {
   "cell_type": "code",
   "execution_count": null,
   "metadata": {
    "id": "OoifMjzW69mj"
   },
   "outputs": [],
   "source": [
    "data[\"age_group\"] = data[\"age_group\"].astype(object)"
   ]
  },
  {
   "cell_type": "code",
   "execution_count": null,
   "metadata": {
    "id": "aZftjUr569mj",
    "outputId": "8fb2b6e1-fa4d-4a45-f1dd-2504e018a5f3"
   },
   "outputs": [
    {
     "name": "stdout",
     "output_type": "stream",
     "text": [
      "       age          job  marital            education  default housing loan  \\\n",
      "0       56    housemaid  married             basic.4y       no      no   no   \n",
      "1       57     services  married          high.school  unknown      no   no   \n",
      "2       37     services  married          high.school       no     yes   no   \n",
      "3       40       admin.  married             basic.6y       no      no   no   \n",
      "4       56     services  married          high.school       no      no  yes   \n",
      "...    ...          ...      ...                  ...      ...     ...  ...   \n",
      "41183   73      retired  married  professional.course       no     yes   no   \n",
      "41184   46  blue-collar  married  professional.course       no      no   no   \n",
      "41185   56      retired  married    university.degree       no     yes   no   \n",
      "41186   44   technician  married  professional.course       no      no   no   \n",
      "41187   74      retired  married  professional.course       no     yes   no   \n",
      "\n",
      "         contact month day_of_week  ...  pdays  previous     poutcome  \\\n",
      "0      telephone   may         mon  ...    999         0  nonexistent   \n",
      "1      telephone   may         mon  ...    999         0  nonexistent   \n",
      "2      telephone   may         mon  ...    999         0  nonexistent   \n",
      "3      telephone   may         mon  ...    999         0  nonexistent   \n",
      "4      telephone   may         mon  ...    999         0  nonexistent   \n",
      "...          ...   ...         ...  ...    ...       ...          ...   \n",
      "41183   cellular   nov         fri  ...    999         0  nonexistent   \n",
      "41184   cellular   nov         fri  ...    999         0  nonexistent   \n",
      "41185   cellular   nov         fri  ...    999         0  nonexistent   \n",
      "41186   cellular   nov         fri  ...    999         0  nonexistent   \n",
      "41187   cellular   nov         fri  ...    999         1      failure   \n",
      "\n",
      "       emp.var.rate cons.price.idx  cons.conf.idx  euribor3m  nr.employed  \\\n",
      "0               1.1         93.994          -36.4      4.857       5191.0   \n",
      "1               1.1         93.994          -36.4      4.857       5191.0   \n",
      "2               1.1         93.994          -36.4      4.857       5191.0   \n",
      "3               1.1         93.994          -36.4      4.857       5191.0   \n",
      "4               1.1         93.994          -36.4      4.857       5191.0   \n",
      "...             ...            ...            ...        ...          ...   \n",
      "41183          -1.1         94.767          -50.8      1.028       4963.6   \n",
      "41184          -1.1         94.767          -50.8      1.028       4963.6   \n",
      "41185          -1.1         94.767          -50.8      1.028       4963.6   \n",
      "41186          -1.1         94.767          -50.8      1.028       4963.6   \n",
      "41187          -1.1         94.767          -50.8      1.028       4963.6   \n",
      "\n",
      "         y     age_group  \n",
      "0       no  (49.0, 59.0]  \n",
      "1       no  (49.0, 59.0]  \n",
      "2       no  (29.0, 39.0]  \n",
      "3       no  (39.0, 49.0]  \n",
      "4       no  (49.0, 59.0]  \n",
      "...    ...           ...  \n",
      "41183  yes  (69.0, 79.0]  \n",
      "41184   no  (39.0, 49.0]  \n",
      "41185   no  (49.0, 59.0]  \n",
      "41186  yes  (39.0, 49.0]  \n",
      "41187   no  (69.0, 79.0]  \n",
      "\n",
      "[41188 rows x 22 columns]\n"
     ]
    }
   ],
   "source": [
    "print(data)"
   ]
  },
  {
   "cell_type": "code",
   "execution_count": null,
   "metadata": {
    "id": "sQ0_aarl69mk",
    "outputId": "c86fa4ee-7f45-4d3a-dd9c-c25333e5e4e0",
    "scrolled": false
   },
   "outputs": [
    {
     "data": {
      "text/html": [
       "<div>\n",
       "<style scoped>\n",
       "    .dataframe tbody tr th:only-of-type {\n",
       "        vertical-align: middle;\n",
       "    }\n",
       "\n",
       "    .dataframe tbody tr th {\n",
       "        vertical-align: top;\n",
       "    }\n",
       "\n",
       "    .dataframe thead th {\n",
       "        text-align: right;\n",
       "    }\n",
       "</style>\n",
       "<table border=\"1\" class=\"dataframe\">\n",
       "  <thead>\n",
       "    <tr style=\"text-align: right;\">\n",
       "      <th></th>\n",
       "      <th>age</th>\n",
       "      <th>duration</th>\n",
       "      <th>campaign</th>\n",
       "      <th>pdays</th>\n",
       "      <th>previous</th>\n",
       "      <th>emp.var.rate</th>\n",
       "      <th>cons.price.idx</th>\n",
       "      <th>cons.conf.idx</th>\n",
       "      <th>euribor3m</th>\n",
       "      <th>nr.employed</th>\n",
       "    </tr>\n",
       "  </thead>\n",
       "  <tbody>\n",
       "    <tr>\n",
       "      <th>count</th>\n",
       "      <td>40898.000000</td>\n",
       "      <td>40898.000000</td>\n",
       "      <td>40898.000000</td>\n",
       "      <td>40898.000000</td>\n",
       "      <td>40898.00000</td>\n",
       "      <td>40898.000000</td>\n",
       "      <td>40898.000000</td>\n",
       "      <td>40898.000000</td>\n",
       "      <td>40898.000000</td>\n",
       "      <td>40898.000000</td>\n",
       "    </tr>\n",
       "    <tr>\n",
       "      <th>mean</th>\n",
       "      <td>40.035405</td>\n",
       "      <td>260.066165</td>\n",
       "      <td>2.547068</td>\n",
       "      <td>962.313414</td>\n",
       "      <td>0.17304</td>\n",
       "      <td>0.086075</td>\n",
       "      <td>93.575149</td>\n",
       "      <td>-40.488075</td>\n",
       "      <td>3.628004</td>\n",
       "      <td>5167.361727</td>\n",
       "    </tr>\n",
       "    <tr>\n",
       "      <th>std</th>\n",
       "      <td>10.423732</td>\n",
       "      <td>259.329531</td>\n",
       "      <td>2.728991</td>\n",
       "      <td>187.309653</td>\n",
       "      <td>0.49499</td>\n",
       "      <td>1.571174</td>\n",
       "      <td>0.578517</td>\n",
       "      <td>4.630305</td>\n",
       "      <td>1.731863</td>\n",
       "      <td>71.978096</td>\n",
       "    </tr>\n",
       "    <tr>\n",
       "      <th>min</th>\n",
       "      <td>17.000000</td>\n",
       "      <td>10.000000</td>\n",
       "      <td>1.000000</td>\n",
       "      <td>0.000000</td>\n",
       "      <td>0.00000</td>\n",
       "      <td>-3.400000</td>\n",
       "      <td>92.201000</td>\n",
       "      <td>-50.800000</td>\n",
       "      <td>0.634000</td>\n",
       "      <td>4963.600000</td>\n",
       "    </tr>\n",
       "    <tr>\n",
       "      <th>25%</th>\n",
       "      <td>32.000000</td>\n",
       "      <td>104.000000</td>\n",
       "      <td>1.000000</td>\n",
       "      <td>999.000000</td>\n",
       "      <td>0.00000</td>\n",
       "      <td>-1.800000</td>\n",
       "      <td>93.075000</td>\n",
       "      <td>-42.700000</td>\n",
       "      <td>1.344000</td>\n",
       "      <td>5099.100000</td>\n",
       "    </tr>\n",
       "    <tr>\n",
       "      <th>50%</th>\n",
       "      <td>38.000000</td>\n",
       "      <td>181.000000</td>\n",
       "      <td>2.000000</td>\n",
       "      <td>999.000000</td>\n",
       "      <td>0.00000</td>\n",
       "      <td>1.100000</td>\n",
       "      <td>93.749000</td>\n",
       "      <td>-41.800000</td>\n",
       "      <td>4.857000</td>\n",
       "      <td>5191.000000</td>\n",
       "    </tr>\n",
       "    <tr>\n",
       "      <th>75%</th>\n",
       "      <td>47.000000</td>\n",
       "      <td>321.000000</td>\n",
       "      <td>3.000000</td>\n",
       "      <td>999.000000</td>\n",
       "      <td>0.00000</td>\n",
       "      <td>1.400000</td>\n",
       "      <td>93.994000</td>\n",
       "      <td>-36.400000</td>\n",
       "      <td>4.961000</td>\n",
       "      <td>5228.100000</td>\n",
       "    </tr>\n",
       "    <tr>\n",
       "      <th>max</th>\n",
       "      <td>98.000000</td>\n",
       "      <td>4918.000000</td>\n",
       "      <td>56.000000</td>\n",
       "      <td>999.000000</td>\n",
       "      <td>7.00000</td>\n",
       "      <td>1.400000</td>\n",
       "      <td>94.767000</td>\n",
       "      <td>-26.900000</td>\n",
       "      <td>5.045000</td>\n",
       "      <td>5228.100000</td>\n",
       "    </tr>\n",
       "  </tbody>\n",
       "</table>\n",
       "</div>"
      ],
      "text/plain": [
       "                age      duration      campaign         pdays     previous  \\\n",
       "count  40898.000000  40898.000000  40898.000000  40898.000000  40898.00000   \n",
       "mean      40.035405    260.066165      2.547068    962.313414      0.17304   \n",
       "std       10.423732    259.329531      2.728991    187.309653      0.49499   \n",
       "min       17.000000     10.000000      1.000000      0.000000      0.00000   \n",
       "25%       32.000000    104.000000      1.000000    999.000000      0.00000   \n",
       "50%       38.000000    181.000000      2.000000    999.000000      0.00000   \n",
       "75%       47.000000    321.000000      3.000000    999.000000      0.00000   \n",
       "max       98.000000   4918.000000     56.000000    999.000000      7.00000   \n",
       "\n",
       "       emp.var.rate  cons.price.idx  cons.conf.idx     euribor3m   nr.employed  \n",
       "count  40898.000000    40898.000000   40898.000000  40898.000000  40898.000000  \n",
       "mean       0.086075       93.575149     -40.488075      3.628004   5167.361727  \n",
       "std        1.571174        0.578517       4.630305      1.731863     71.978096  \n",
       "min       -3.400000       92.201000     -50.800000      0.634000   4963.600000  \n",
       "25%       -1.800000       93.075000     -42.700000      1.344000   5099.100000  \n",
       "50%        1.100000       93.749000     -41.800000      4.857000   5191.000000  \n",
       "75%        1.400000       93.994000     -36.400000      4.961000   5228.100000  \n",
       "max        1.400000       94.767000     -26.900000      5.045000   5228.100000  "
      ]
     },
     "execution_count": 158,
     "metadata": {},
     "output_type": "execute_result"
    }
   ],
   "source": [
    "# Vuelvo a indicar quién es df, así se carga la nueva columna de grupo etario\n",
    "df = data[data['duration']>=10]\n",
    "df.describe()"
   ]
  },
  {
   "cell_type": "code",
   "execution_count": null,
   "metadata": {
    "id": "GQgDcgfH69mk",
    "outputId": "b11d5a88-4c8f-42cd-e267-23b1b5ca3b35",
    "scrolled": true
   },
   "outputs": [
    {
     "data": {
      "text/html": [
       "<div>\n",
       "<style scoped>\n",
       "    .dataframe tbody tr th:only-of-type {\n",
       "        vertical-align: middle;\n",
       "    }\n",
       "\n",
       "    .dataframe tbody tr th {\n",
       "        vertical-align: top;\n",
       "    }\n",
       "\n",
       "    .dataframe thead th {\n",
       "        text-align: right;\n",
       "    }\n",
       "</style>\n",
       "<table border=\"1\" class=\"dataframe\">\n",
       "  <thead>\n",
       "    <tr style=\"text-align: right;\">\n",
       "      <th></th>\n",
       "      <th>job</th>\n",
       "      <th>marital</th>\n",
       "      <th>education</th>\n",
       "      <th>default</th>\n",
       "      <th>housing</th>\n",
       "      <th>loan</th>\n",
       "      <th>contact</th>\n",
       "      <th>month</th>\n",
       "      <th>day_of_week</th>\n",
       "      <th>poutcome</th>\n",
       "      <th>y</th>\n",
       "      <th>age_group</th>\n",
       "    </tr>\n",
       "  </thead>\n",
       "  <tbody>\n",
       "    <tr>\n",
       "      <th>count</th>\n",
       "      <td>40898</td>\n",
       "      <td>40898</td>\n",
       "      <td>40898</td>\n",
       "      <td>40898</td>\n",
       "      <td>40898</td>\n",
       "      <td>40898</td>\n",
       "      <td>40898</td>\n",
       "      <td>40898</td>\n",
       "      <td>40898</td>\n",
       "      <td>40898</td>\n",
       "      <td>40898</td>\n",
       "      <td>40823</td>\n",
       "    </tr>\n",
       "    <tr>\n",
       "      <th>unique</th>\n",
       "      <td>12</td>\n",
       "      <td>4</td>\n",
       "      <td>8</td>\n",
       "      <td>3</td>\n",
       "      <td>3</td>\n",
       "      <td>3</td>\n",
       "      <td>2</td>\n",
       "      <td>10</td>\n",
       "      <td>5</td>\n",
       "      <td>3</td>\n",
       "      <td>2</td>\n",
       "      <td>8</td>\n",
       "    </tr>\n",
       "    <tr>\n",
       "      <th>top</th>\n",
       "      <td>admin.</td>\n",
       "      <td>married</td>\n",
       "      <td>university.degree</td>\n",
       "      <td>no</td>\n",
       "      <td>yes</td>\n",
       "      <td>no</td>\n",
       "      <td>cellular</td>\n",
       "      <td>may</td>\n",
       "      <td>thu</td>\n",
       "      <td>nonexistent</td>\n",
       "      <td>no</td>\n",
       "      <td>(29.0, 39.0]</td>\n",
       "    </tr>\n",
       "    <tr>\n",
       "      <th>freq</th>\n",
       "      <td>10342</td>\n",
       "      <td>24784</td>\n",
       "      <td>12090</td>\n",
       "      <td>32340</td>\n",
       "      <td>21411</td>\n",
       "      <td>33716</td>\n",
       "      <td>26010</td>\n",
       "      <td>13668</td>\n",
       "      <td>8565</td>\n",
       "      <td>35311</td>\n",
       "      <td>36258</td>\n",
       "      <td>16828</td>\n",
       "    </tr>\n",
       "  </tbody>\n",
       "</table>\n",
       "</div>"
      ],
      "text/plain": [
       "           job  marital          education default housing   loan   contact  \\\n",
       "count    40898    40898              40898   40898   40898  40898     40898   \n",
       "unique      12        4                  8       3       3      3         2   \n",
       "top     admin.  married  university.degree      no     yes     no  cellular   \n",
       "freq     10342    24784              12090   32340   21411  33716     26010   \n",
       "\n",
       "        month day_of_week     poutcome      y     age_group  \n",
       "count   40898       40898        40898  40898         40823  \n",
       "unique     10           5            3      2             8  \n",
       "top       may         thu  nonexistent     no  (29.0, 39.0]  \n",
       "freq    13668        8565        35311  36258         16828  "
      ]
     },
     "execution_count": 160,
     "metadata": {},
     "output_type": "execute_result"
    }
   ],
   "source": [
    "df.describe(include=[object])"
   ]
  },
  {
   "cell_type": "code",
   "execution_count": null,
   "metadata": {
    "id": "wX0qYdc069mk",
    "outputId": "f74c43eb-308c-4f1b-838e-e4a17732d9bc",
    "scrolled": true
   },
   "outputs": [
    {
     "data": {
      "text/plain": [
       "y    age_group   \n",
       "no   (19.0, 29.0]     4645\n",
       "     (29.0, 39.0]    15113\n",
       "     (39.0, 49.0]     9619\n",
       "     (49.0, 59.0]     6121\n",
       "     (59.0, 69.0]      472\n",
       "     (69.0, 79.0]      174\n",
       "     (79.0, 89.0]       68\n",
       "     (89.0, 99.0]        5\n",
       "yes  (19.0, 29.0]      888\n",
       "     (29.0, 39.0]     1715\n",
       "     (39.0, 49.0]      834\n",
       "     (49.0, 59.0]      697\n",
       "     (59.0, 69.0]      251\n",
       "     (69.0, 79.0]      144\n",
       "     (79.0, 89.0]       72\n",
       "     (89.0, 99.0]        5\n",
       "Name: duration, dtype: int64"
      ]
     },
     "execution_count": 161,
     "metadata": {},
     "output_type": "execute_result"
    }
   ],
   "source": [
    "df.groupby(['y','age_group']).count()['duration'] # Vamos a comparar si el grupo etario influye en la toma de la decisión"
   ]
  },
  {
   "cell_type": "code",
   "execution_count": null,
   "metadata": {
    "id": "9ROR-8Uk69ml",
    "outputId": "7d7c7bc2-6d69-4321-a277-da0617e48ad2",
    "scrolled": false
   },
   "outputs": [
    {
     "data": {
      "image/png": "[encoded data removed]",
      "text/plain": [
       "<Figure size 432x288 with 1 Axes>"
      ]
     },
     "metadata": {
      "needs_background": "light"
     },
     "output_type": "display_data"
    }
   ],
   "source": [
    "grouped_age = df.groupby(['y','age_group']).count()['duration']\n",
    "(grouped_age.unstack(level=0).plot.bar())\n",
    "plt.show()"
   ]
  },
  {
   "cell_type": "markdown",
   "metadata": {
    "id": "QFmwClV-69ml"
   },
   "source": [
    "La edad tampoco parece ser un factor importante, sino más bien la ocupación (como vimos, los estudiantes están más dispuestos).  Ya analizamos datos del cliente y no encontramos relaciones muy fuertes. Concentrémonos en el análisis de otras variables más globales, tales como contextos socioeconómicos, y la relación del cliente con el banco (sería de esperar que aquellos que más cercanía tienen ya sea por la duración de la llamada o si ya confió al banco depósitos anteriores o préstamos sean más propensos a suscribirse al producto)."
   ]
  },
  {
   "cell_type": "markdown",
   "metadata": {
    "id": "FbSQF4Ot69ml"
   },
   "source": [
    "Analicemos primero la duración de último contacto (a mayor duración, podríamos interpretar que el cliente más interesado está). Dividamos la duración en intervalos."
   ]
  },
  {
   "cell_type": "code",
   "execution_count": null,
   "metadata": {
    "id": "ztWSoXHq69ml"
   },
   "outputs": [],
   "source": [
    "data['duration_interval'] = pd.cut(x=data['duration'], bins=[30, 60, 120, 300, 600, 4920]) \n",
    "#En segundos, el último intervalo sería \"10 min o más\""
   ]
  },
  {
   "cell_type": "code",
   "execution_count": null,
   "metadata": {
    "id": "aEYS_cAc69mm"
   },
   "outputs": [],
   "source": [
    "data[\"duration_interval\"] = data[\"duration_interval\"].astype(object)"
   ]
  },
  {
   "cell_type": "code",
   "execution_count": null,
   "metadata": {
    "id": "KeKu_OfM69mm",
    "outputId": "038a8b17-e5f4-4e05-be54-39dca175cb8a"
   },
   "outputs": [
    {
     "name": "stdout",
     "output_type": "stream",
     "text": [
      "       age          job  marital            education  default housing loan  \\\n",
      "0       56    housemaid  married             basic.4y       no      no   no   \n",
      "1       57     services  married          high.school  unknown      no   no   \n",
      "2       37     services  married          high.school       no     yes   no   \n",
      "3       40       admin.  married             basic.6y       no      no   no   \n",
      "4       56     services  married          high.school       no      no  yes   \n",
      "...    ...          ...      ...                  ...      ...     ...  ...   \n",
      "41183   73      retired  married  professional.course       no     yes   no   \n",
      "41184   46  blue-collar  married  professional.course       no      no   no   \n",
      "41185   56      retired  married    university.degree       no     yes   no   \n",
      "41186   44   technician  married  professional.course       no      no   no   \n",
      "41187   74      retired  married  professional.course       no     yes   no   \n",
      "\n",
      "         contact month day_of_week  ...  pdays  previous     poutcome  \\\n",
      "0      telephone   may         mon  ...    999         0  nonexistent   \n",
      "1      telephone   may         mon  ...    999         0  nonexistent   \n",
      "2      telephone   may         mon  ...    999         0  nonexistent   \n",
      "3      telephone   may         mon  ...    999         0  nonexistent   \n",
      "4      telephone   may         mon  ...    999         0  nonexistent   \n",
      "...          ...   ...         ...  ...    ...       ...          ...   \n",
      "41183   cellular   nov         fri  ...    999         0  nonexistent   \n",
      "41184   cellular   nov         fri  ...    999         0  nonexistent   \n",
      "41185   cellular   nov         fri  ...    999         0  nonexistent   \n",
      "41186   cellular   nov         fri  ...    999         0  nonexistent   \n",
      "41187   cellular   nov         fri  ...    999         1      failure   \n",
      "\n",
      "       emp.var.rate cons.price.idx  cons.conf.idx  euribor3m  nr.employed  \\\n",
      "0               1.1         93.994          -36.4      4.857       5191.0   \n",
      "1               1.1         93.994          -36.4      4.857       5191.0   \n",
      "2               1.1         93.994          -36.4      4.857       5191.0   \n",
      "3               1.1         93.994          -36.4      4.857       5191.0   \n",
      "4               1.1         93.994          -36.4      4.857       5191.0   \n",
      "...             ...            ...            ...        ...          ...   \n",
      "41183          -1.1         94.767          -50.8      1.028       4963.6   \n",
      "41184          -1.1         94.767          -50.8      1.028       4963.6   \n",
      "41185          -1.1         94.767          -50.8      1.028       4963.6   \n",
      "41186          -1.1         94.767          -50.8      1.028       4963.6   \n",
      "41187          -1.1         94.767          -50.8      1.028       4963.6   \n",
      "\n",
      "         y  duration_interval  \n",
      "0       no     (120.0, 300.0]  \n",
      "1       no     (120.0, 300.0]  \n",
      "2       no     (120.0, 300.0]  \n",
      "3       no     (120.0, 300.0]  \n",
      "4       no     (300.0, 600.0]  \n",
      "...    ...                ...  \n",
      "41183  yes     (300.0, 600.0]  \n",
      "41184   no     (300.0, 600.0]  \n",
      "41185   no     (120.0, 300.0]  \n",
      "41186  yes     (300.0, 600.0]  \n",
      "41187   no     (120.0, 300.0]  \n",
      "\n",
      "[41188 rows x 22 columns]\n"
     ]
    }
   ],
   "source": [
    "print(data)"
   ]
  },
  {
   "cell_type": "code",
   "execution_count": null,
   "metadata": {
    "id": "08w_6n9B69mm",
    "outputId": "758a9dc5-e86d-49dc-9681-4882a4e81e27",
    "scrolled": true
   },
   "outputs": [
    {
     "data": {
      "text/plain": [
       "y    duration_interval\n",
       "no   (30.0, 60.0]          2561\n",
       "     (60.0, 120.0]         8466\n",
       "     (120.0, 300.0]       15715\n",
       "     (300.0, 600.0]        6302\n",
       "     (600.0, 4920.0]       1780\n",
       "yes  (30.0, 60.0]             1\n",
       "     (60.0, 120.0]          165\n",
       "     (120.0, 300.0]        1352\n",
       "     (300.0, 600.0]        1438\n",
       "     (600.0, 4920.0]       1684\n",
       "Name: duration, dtype: int64"
      ]
     },
     "execution_count": 170,
     "metadata": {},
     "output_type": "execute_result"
    }
   ],
   "source": [
    "df = data[data['duration']>=10]\n",
    "df.groupby(['y','duration_interval']).count()['duration'] # Vamos a comparar si la duración influye en la toma de la decisión"
   ]
  },
  {
   "cell_type": "code",
   "execution_count": null,
   "metadata": {
    "id": "JCp4xgoY69mn",
    "outputId": "c8573c2f-1052-44f5-b67f-fac921a0232e",
    "scrolled": true
   },
   "outputs": [
    {
     "data": {
      "image/png": "[encoded data removed]",
      "text/plain": [
       "<Figure size 432x288 with 1 Axes>"
      ]
     },
     "metadata": {
      "needs_background": "light"
     },
     "output_type": "display_data"
    }
   ],
   "source": [
    "grouped_duration = df.groupby(['y','duration_interval']).count()['duration']\n",
    "(grouped_duration.unstack(level=0).plot.bar())\n",
    "plt.show()"
   ]
  },
  {
   "cell_type": "markdown",
   "metadata": {
    "id": "qStrgSEu69mn"
   },
   "source": [
    "Aquí vemos de forma clara que mientras más dure la llamada, más probable es que acepte suscribirse.  \n",
    "El número de gente que acepta suscribirse crece con cuanto duró su llamada."
   ]
  },
  {
   "cell_type": "markdown",
   "metadata": {
    "id": "WtGy6W9T69mn"
   },
   "source": [
    "También podría ser que el mes en el que se hace la última llamada sea un factor determinante a la hora de suscribirse, veamos:"
   ]
  },
  {
   "cell_type": "code",
   "execution_count": null,
   "metadata": {
    "id": "Pt66G0Ev69mn",
    "outputId": "af14ed69-9979-40c4-9ec6-f3eea0b1a805"
   },
   "outputs": [
    {
     "data": {
      "text/plain": [
       "y    month\n",
       "no   apr       2069\n",
       "     aug       5497\n",
       "     dec         93\n",
       "     jul       6483\n",
       "     jun       4710\n",
       "     mar        270\n",
       "     may      12782\n",
       "     nov       3667\n",
       "     oct        392\n",
       "     sep        295\n",
       "yes  apr        539\n",
       "     aug        655\n",
       "     dec         89\n",
       "     jul        649\n",
       "     jun        559\n",
       "     mar        276\n",
       "     may        886\n",
       "     nov        416\n",
       "     oct        315\n",
       "     sep        256\n",
       "Name: duration, dtype: int64"
      ]
     },
     "execution_count": 173,
     "metadata": {},
     "output_type": "execute_result"
    }
   ],
   "source": [
    "df.groupby(['y','month']).count()['duration'] # Vamos a comparar si el mes influye en la toma de la decisión"
   ]
  },
  {
   "cell_type": "code",
   "execution_count": null,
   "metadata": {
    "id": "rDIrdgn469mo",
    "outputId": "79acc3e3-8315-46a9-ea42-7887a83a4e22"
   },
   "outputs": [
    {
     "data": {
      "text/plain": [
       "[]"
      ]
     },
     "execution_count": 185,
     "metadata": {},
     "output_type": "execute_result"
    },
    {
     "data": {
      "image/png": "[encoded data removed]",
      "text/plain": [
       "<Figure size 432x288 with 1 Axes>"
      ]
     },
     "metadata": {
      "needs_background": "light"
     },
     "output_type": "display_data"
    }
   ],
   "source": [
    "grouped_month = df.groupby(['y','month']).count()['duration']\n",
    "(grouped_month.unstack(level=0).plot.bar())\n",
    "plt.plot()"
   ]
  },
  {
   "cell_type": "markdown",
   "metadata": {
    "id": "5JnYmNQ669mo"
   },
   "source": [
    "Parece que el mes de mayo es el que se hicieron más llamadas y donde menos se hicieron (pero más aceptaron) fue en octubre y septiembre, vamos viendo un patrón, podemos confirmar las correlaciones entre variables numéricas con una matriz de correlación:"
   ]
  },
  {
   "cell_type": "code",
   "execution_count": null,
   "metadata": {
    "id": "EJFRzKnS69mo"
   },
   "outputs": [],
   "source": [
    "corMat = df.corr()"
   ]
  },
  {
   "cell_type": "code",
   "execution_count": null,
   "metadata": {
    "id": "DrIb63bD69mp",
    "outputId": "33217520-96b4-43ae-d0f3-6cc83d592c88"
   },
   "outputs": [
    {
     "data": {
      "text/html": [
       "<div>\n",
       "<style scoped>\n",
       "    .dataframe tbody tr th:only-of-type {\n",
       "        vertical-align: middle;\n",
       "    }\n",
       "\n",
       "    .dataframe tbody tr th {\n",
       "        vertical-align: top;\n",
       "    }\n",
       "\n",
       "    .dataframe thead th {\n",
       "        text-align: right;\n",
       "    }\n",
       "</style>\n",
       "<table border=\"1\" class=\"dataframe\">\n",
       "  <thead>\n",
       "    <tr style=\"text-align: right;\">\n",
       "      <th></th>\n",
       "      <th>age</th>\n",
       "      <th>duration</th>\n",
       "      <th>campaign</th>\n",
       "      <th>pdays</th>\n",
       "      <th>previous</th>\n",
       "      <th>emp.var.rate</th>\n",
       "      <th>cons.price.idx</th>\n",
       "      <th>cons.conf.idx</th>\n",
       "      <th>euribor3m</th>\n",
       "      <th>nr.employed</th>\n",
       "    </tr>\n",
       "  </thead>\n",
       "  <tbody>\n",
       "    <tr>\n",
       "      <th>age</th>\n",
       "      <td>1.000000</td>\n",
       "      <td>-0.001933</td>\n",
       "      <td>0.005188</td>\n",
       "      <td>-0.034405</td>\n",
       "      <td>0.024332</td>\n",
       "      <td>-0.001760</td>\n",
       "      <td>0.000908</td>\n",
       "      <td>0.129729</td>\n",
       "      <td>0.009000</td>\n",
       "      <td>-0.020387</td>\n",
       "    </tr>\n",
       "    <tr>\n",
       "      <th>duration</th>\n",
       "      <td>-0.001933</td>\n",
       "      <td>1.000000</td>\n",
       "      <td>-0.065970</td>\n",
       "      <td>-0.046964</td>\n",
       "      <td>0.020633</td>\n",
       "      <td>-0.030761</td>\n",
       "      <td>0.006225</td>\n",
       "      <td>-0.011279</td>\n",
       "      <td>-0.036958</td>\n",
       "      <td>-0.049610</td>\n",
       "    </tr>\n",
       "    <tr>\n",
       "      <th>campaign</th>\n",
       "      <td>0.005188</td>\n",
       "      <td>-0.065970</td>\n",
       "      <td>1.000000</td>\n",
       "      <td>0.052153</td>\n",
       "      <td>-0.078878</td>\n",
       "      <td>0.151097</td>\n",
       "      <td>0.129118</td>\n",
       "      <td>-0.009816</td>\n",
       "      <td>0.135501</td>\n",
       "      <td>0.142669</td>\n",
       "    </tr>\n",
       "    <tr>\n",
       "      <th>pdays</th>\n",
       "      <td>-0.034405</td>\n",
       "      <td>-0.046964</td>\n",
       "      <td>0.052153</td>\n",
       "      <td>1.000000</td>\n",
       "      <td>-0.588106</td>\n",
       "      <td>0.272333</td>\n",
       "      <td>0.079465</td>\n",
       "      <td>-0.091401</td>\n",
       "      <td>0.298797</td>\n",
       "      <td>0.375589</td>\n",
       "    </tr>\n",
       "    <tr>\n",
       "      <th>previous</th>\n",
       "      <td>0.024332</td>\n",
       "      <td>0.020633</td>\n",
       "      <td>-0.078878</td>\n",
       "      <td>-0.588106</td>\n",
       "      <td>1.000000</td>\n",
       "      <td>-0.421752</td>\n",
       "      <td>-0.203761</td>\n",
       "      <td>-0.050857</td>\n",
       "      <td>-0.456413</td>\n",
       "      <td>-0.504617</td>\n",
       "    </tr>\n",
       "    <tr>\n",
       "      <th>emp.var.rate</th>\n",
       "      <td>-0.001760</td>\n",
       "      <td>-0.030761</td>\n",
       "      <td>0.151097</td>\n",
       "      <td>0.272333</td>\n",
       "      <td>-0.421752</td>\n",
       "      <td>1.000000</td>\n",
       "      <td>0.777630</td>\n",
       "      <td>0.193540</td>\n",
       "      <td>0.972430</td>\n",
       "      <td>0.908377</td>\n",
       "    </tr>\n",
       "    <tr>\n",
       "      <th>cons.price.idx</th>\n",
       "      <td>0.000908</td>\n",
       "      <td>0.006225</td>\n",
       "      <td>0.129118</td>\n",
       "      <td>0.079465</td>\n",
       "      <td>-0.203761</td>\n",
       "      <td>0.777630</td>\n",
       "      <td>1.000000</td>\n",
       "      <td>0.056435</td>\n",
       "      <td>0.691915</td>\n",
       "      <td>0.528372</td>\n",
       "    </tr>\n",
       "    <tr>\n",
       "      <th>cons.conf.idx</th>\n",
       "      <td>0.129729</td>\n",
       "      <td>-0.011279</td>\n",
       "      <td>-0.009816</td>\n",
       "      <td>-0.091401</td>\n",
       "      <td>-0.050857</td>\n",
       "      <td>0.193540</td>\n",
       "      <td>0.056435</td>\n",
       "      <td>1.000000</td>\n",
       "      <td>0.275754</td>\n",
       "      <td>0.098812</td>\n",
       "    </tr>\n",
       "    <tr>\n",
       "      <th>euribor3m</th>\n",
       "      <td>0.009000</td>\n",
       "      <td>-0.036958</td>\n",
       "      <td>0.135501</td>\n",
       "      <td>0.298797</td>\n",
       "      <td>-0.456413</td>\n",
       "      <td>0.972430</td>\n",
       "      <td>0.691915</td>\n",
       "      <td>0.275754</td>\n",
       "      <td>1.000000</td>\n",
       "      <td>0.945578</td>\n",
       "    </tr>\n",
       "    <tr>\n",
       "      <th>nr.employed</th>\n",
       "      <td>-0.020387</td>\n",
       "      <td>-0.049610</td>\n",
       "      <td>0.142669</td>\n",
       "      <td>0.375589</td>\n",
       "      <td>-0.504617</td>\n",
       "      <td>0.908377</td>\n",
       "      <td>0.528372</td>\n",
       "      <td>0.098812</td>\n",
       "      <td>0.945578</td>\n",
       "      <td>1.000000</td>\n",
       "    </tr>\n",
       "  </tbody>\n",
       "</table>\n",
       "</div>"
      ],
      "text/plain": [
       "                     age  duration  campaign     pdays  previous  \\\n",
       "age             1.000000 -0.001933  0.005188 -0.034405  0.024332   \n",
       "duration       -0.001933  1.000000 -0.065970 -0.046964  0.020633   \n",
       "campaign        0.005188 -0.065970  1.000000  0.052153 -0.078878   \n",
       "pdays          -0.034405 -0.046964  0.052153  1.000000 -0.588106   \n",
       "previous        0.024332  0.020633 -0.078878 -0.588106  1.000000   \n",
       "emp.var.rate   -0.001760 -0.030761  0.151097  0.272333 -0.421752   \n",
       "cons.price.idx  0.000908  0.006225  0.129118  0.079465 -0.203761   \n",
       "cons.conf.idx   0.129729 -0.011279 -0.009816 -0.091401 -0.050857   \n",
       "euribor3m       0.009000 -0.036958  0.135501  0.298797 -0.456413   \n",
       "nr.employed    -0.020387 -0.049610  0.142669  0.375589 -0.504617   \n",
       "\n",
       "                emp.var.rate  cons.price.idx  cons.conf.idx  euribor3m  \\\n",
       "age                -0.001760        0.000908       0.129729   0.009000   \n",
       "duration           -0.030761        0.006225      -0.011279  -0.036958   \n",
       "campaign            0.151097        0.129118      -0.009816   0.135501   \n",
       "pdays               0.272333        0.079465      -0.091401   0.298797   \n",
       "previous           -0.421752       -0.203761      -0.050857  -0.456413   \n",
       "emp.var.rate        1.000000        0.777630       0.193540   0.972430   \n",
       "cons.price.idx      0.777630        1.000000       0.056435   0.691915   \n",
       "cons.conf.idx       0.193540        0.056435       1.000000   0.275754   \n",
       "euribor3m           0.972430        0.691915       0.275754   1.000000   \n",
       "nr.employed         0.908377        0.528372       0.098812   0.945578   \n",
       "\n",
       "                nr.employed  \n",
       "age               -0.020387  \n",
       "duration          -0.049610  \n",
       "campaign           0.142669  \n",
       "pdays              0.375589  \n",
       "previous          -0.504617  \n",
       "emp.var.rate       0.908377  \n",
       "cons.price.idx     0.528372  \n",
       "cons.conf.idx      0.098812  \n",
       "euribor3m          0.945578  \n",
       "nr.employed        1.000000  "
      ]
     },
     "execution_count": 176,
     "metadata": {},
     "output_type": "execute_result"
    }
   ],
   "source": [
    "corMat"
   ]
  },
  {
   "cell_type": "code",
   "execution_count": null,
   "metadata": {
    "id": "2otFprbn69mp"
   },
   "outputs": [],
   "source": [
    "import seaborn as sns"
   ]
  },
  {
   "cell_type": "code",
   "execution_count": null,
   "metadata": {
    "id": "mQ6NU9X_69mp",
    "outputId": "f6660823-e1fc-4437-c203-172ce88472e2",
    "scrolled": true
   },
   "outputs": [
    {
     "data": {
      "image/png": "[encoded data removed]",
      "text/plain": [
       "<Figure size 432x288 with 2 Axes>"
      ]
     },
     "metadata": {
      "needs_background": "light"
     },
     "output_type": "display_data"
    }
   ],
   "source": [
    "ax = sns.heatmap(corMat)"
   ]
  },
  {
   "cell_type": "markdown",
   "metadata": {
    "id": "xwQTAKEV69mp"
   },
   "source": [
    "Aquí vemos que el número de empleados, el euribor y la tasa de variación de empleo presentan una correlación interesante entre las tres. Veamos qué se puede extraer de esa relación."
   ]
  },
  {
   "cell_type": "code",
   "execution_count": null,
   "metadata": {
    "id": "Y2fRxgnE69mp",
    "outputId": "11385ef9-9727-4eaf-e45a-a1ab8b63528b",
    "scrolled": false
   },
   "outputs": [
    {
     "data": {
      "text/plain": [
       "<seaborn.axisgrid.FacetGrid at 0x1e4b34d8310>"
      ]
     },
     "execution_count": 179,
     "metadata": {},
     "output_type": "execute_result"
    },
    {
     "data": {
      "image/png": "[encoded data removed]",
      "text/plain": [
       "<Figure size 360x360 with 1 Axes>"
      ]
     },
     "metadata": {
      "needs_background": "light"
     },
     "output_type": "display_data"
    }
   ],
   "source": [
    "sns.catplot(x=\"y\", y=\"euribor3m\", kind=\"box\", data=df)"
   ]
  },
  {
   "cell_type": "markdown",
   "metadata": {
    "id": "e50lWZYI69mq"
   },
   "source": [
    "Que la gente sea más propensa a decir que sí cuando el Euribor está bajo es un resultado interesante, y es de esperar que el Euribor varíe a lo largo del año, pues este es la tasa de interés interbancario europea, veamos si hay una relación entre el decir que sí, el mes y la tasa de variación del Euribor."
   ]
  },
  {
   "cell_type": "code",
   "execution_count": null,
   "metadata": {
    "id": "9nYNUaMh69mq",
    "outputId": "60033c49-4aec-4185-fc03-d23af2f40875"
   },
   "outputs": [
    {
     "data": {
      "text/plain": [
       "<seaborn.axisgrid.FacetGrid at 0x1e4b8377a00>"
      ]
     },
     "execution_count": 189,
     "metadata": {},
     "output_type": "execute_result"
    },
    {
     "data": {
      "image/png": "[encoded data removed]",
      "text/plain": [
       "<Figure size 360x360 with 1 Axes>"
      ]
     },
     "metadata": {
      "needs_background": "light"
     },
     "output_type": "display_data"
    }
   ],
   "source": [
    "sns.catplot(x=\"month\", y=\"euribor3m\", kind=\"box\", data=df)"
   ]
  },
  {
   "cell_type": "code",
   "execution_count": null,
   "metadata": {
    "id": "i_1aBQ3L69mq",
    "outputId": "adffb360-5a64-4eea-d954-c8cfcca8f4f4"
   },
   "outputs": [
    {
     "data": {
      "text/plain": [
       "<seaborn.axisgrid.FacetGrid at 0x1e4b7daceb0>"
      ]
     },
     "execution_count": 191,
     "metadata": {},
     "output_type": "execute_result"
    },
    {
     "data": {
      "image/png": "[encoded data removed]",
      "text/plain": [
       "<Figure size 417.625x360 with 1 Axes>"
      ]
     },
     "metadata": {
      "needs_background": "light"
     },
     "output_type": "display_data"
    }
   ],
   "source": [
    "sns.catplot(x=\"y\", y=\"euribor3m\", hue=\"month\", kind=\"point\", data=df)"
   ]
  },
  {
   "cell_type": "markdown",
   "metadata": {
    "id": "DkaOX7SV69mq"
   },
   "source": [
    "Aquí vemos que en meses en los que el Euribor está más alto (como en mayo y julio) la gente es más propensa a decir que no (lo cual mostrábamos en el gráfico de barras anterior, que donde más llamadas se hacían era en mayo y era donde más se rechazaba el producto). En los meses en los que está más bajo, la gente es más propensa a decir que sí."
   ]
  },
  {
   "cell_type": "code",
   "execution_count": null,
   "metadata": {
    "id": "vgRsw-J669mq",
    "outputId": "16a750cd-6ca1-4e61-c5aa-ea0e76178aad",
    "scrolled": true
   },
   "outputs": [
    {
     "data": {
      "text/plain": [
       "<seaborn.axisgrid.FacetGrid at 0x1e4b34d88b0>"
      ]
     },
     "execution_count": 180,
     "metadata": {},
     "output_type": "execute_result"
    },
    {
     "data": {
      "image/png": "[encoded data removed]",
      "text/plain": [
       "<Figure size 360x360 with 1 Axes>"
      ]
     },
     "metadata": {
      "needs_background": "light"
     },
     "output_type": "display_data"
    }
   ],
   "source": [
    "sns.catplot(x=\"y\", y=\"nr.employed\", kind=\"box\", data=df)"
   ]
  },
  {
   "cell_type": "markdown",
   "metadata": {
    "id": "tARWu6-M69mq"
   },
   "source": [
    "Vimos en el heatmap una clara correlación entre el euribor a 3 meses (tipo de interés del mercado interbancario del Euro) y el número de empleados. Cuando el euribor es más bajo, pareciera que los clientes son más propensos a decir que sí que cuando es más alto (pues a menor interés de préstamo bancario europeo, tal vez más seguridad sienten). A la vez, vemos que los clientes son más propensos a decir que sí cuando hay alrededor de 5100 empleados."
   ]
  },
  {
   "cell_type": "markdown",
   "metadata": {
    "id": "o3MHcEKI69mr"
   },
   "source": [
    "A su vez, como el número de empleados está correlacionado con la tasa de variación de los mismos, veamos como es la relación entre la tasa de variación de empleados y la suscripción al producto."
   ]
  },
  {
   "cell_type": "code",
   "execution_count": null,
   "metadata": {
    "id": "gBSyEJdC69mr",
    "outputId": "ec336b90-7e86-4f4e-e633-5c936ff5adac"
   },
   "outputs": [
    {
     "data": {
      "text/plain": [
       "<seaborn.axisgrid.FacetGrid at 0x1e4b3477820>"
      ]
     },
     "execution_count": 181,
     "metadata": {},
     "output_type": "execute_result"
    },
    {
     "data": {
      "image/png": "[encoded data removed]",
      "text/plain": [
       "<Figure size 360x360 with 1 Axes>"
      ]
     },
     "metadata": {
      "needs_background": "light"
     },
     "output_type": "display_data"
    }
   ],
   "source": [
    "sns.catplot(x=\"y\", y=\"emp.var.rate\", kind=\"box\", data=df)"
   ]
  },
  {
   "cell_type": "markdown",
   "metadata": {
    "id": "GOt9Vxc069mr"
   },
   "source": [
    "Se puede ver que cuando la tasa de variación de empleo es negativa, los clientes son más propensos a decir que sí.  \n",
    "Ya encontramos algunas variables que explican bastante fuertemente la tendencia. Tratemos ahora de considerar algunas variables que no tengan que ver tanto con el contexto sino con la confianza del cliente hacia el banco (tales como si solicitó un préstamo de algún tipo, o el número de días que el cliente fue contactado por última vez en una campaña anterior)."
   ]
  },
  {
   "cell_type": "code",
   "execution_count": null,
   "metadata": {
    "id": "7P_PBBOo69mr",
    "outputId": "26e052f3-2750-4ab5-c0e8-85b31a17eb63"
   },
   "outputs": [
    {
     "data": {
      "text/plain": [
       "y    housing\n",
       "no   no         16477\n",
       "     unknown      877\n",
       "     yes        18904\n",
       "yes  no          2026\n",
       "     unknown      107\n",
       "     yes         2507\n",
       "Name: duration, dtype: int64"
      ]
     },
     "execution_count": 192,
     "metadata": {},
     "output_type": "execute_result"
    }
   ],
   "source": [
    "df.groupby(['y','housing']).count()['duration'] # Vamos a comparar si un préstamo hipotecario influye en la toma de la decisión"
   ]
  },
  {
   "cell_type": "code",
   "execution_count": null,
   "metadata": {
    "id": "0tFRgsvE69mr",
    "outputId": "78e37fa9-3ff9-404f-9490-3a5fdb27da16",
    "scrolled": true
   },
   "outputs": [
    {
     "data": {
      "image/png": "[encoded data removed]",
      "text/plain": [
       "<Figure size 432x288 with 1 Axes>"
      ]
     },
     "metadata": {
      "needs_background": "light"
     },
     "output_type": "display_data"
    }
   ],
   "source": [
    "grouped_housing = df.groupby(['y','housing']).count()['duration']\n",
    "(grouped_housing.unstack(level=0).plot.bar())\n",
    "plt.show()"
   ]
  },
  {
   "cell_type": "code",
   "execution_count": null,
   "metadata": {
    "id": "ttxsOJtv69ms",
    "outputId": "01a38e08-312c-4bee-ca2a-030cbe675f15"
   },
   "outputs": [
    {
     "data": {
      "text/plain": [
       "y    loan   \n",
       "no   no         29866\n",
       "     unknown      877\n",
       "     yes         5515\n",
       "yes  no          3850\n",
       "     unknown      107\n",
       "     yes          683\n",
       "Name: duration, dtype: int64"
      ]
     },
     "execution_count": 194,
     "metadata": {},
     "output_type": "execute_result"
    }
   ],
   "source": [
    "df.groupby(['y','loan']).count()['duration'] # Vamos a comparar si un préstamo influye en la toma de la decisión"
   ]
  },
  {
   "cell_type": "code",
   "execution_count": null,
   "metadata": {
    "id": "CYvFAunk69ms",
    "outputId": "a0320f6a-347c-4873-dbfd-759c367b7e2f"
   },
   "outputs": [
    {
     "data": {
      "image/png": "[encoded data removed]",
      "text/plain": [
       "<Figure size 432x288 with 1 Axes>"
      ]
     },
     "metadata": {
      "needs_background": "light"
     },
     "output_type": "display_data"
    }
   ],
   "source": [
    "grouped_loan = df.groupby(['y','loan']).count()['duration']\n",
    "(grouped_loan.unstack(level=0).plot.bar())\n",
    "plt.show()"
   ]
  },
  {
   "cell_type": "markdown",
   "metadata": {
    "id": "USEHPySm69ms"
   },
   "source": [
    "Tener un préstamo hipotecario o un préstamo ordinario no pareciera influir mucho en que acepten o no suscribirse al producto.  Hasta ahora lo que estamos teniendo es que la confianza del cliente en el banco no influye en la suscripción. Confirmémoslo con un análisis respecto al último contacto con el cliente (hipótesis: es de esperar que los clientes que se contactaron hace poco sean los más fieles)."
   ]
  },
  {
   "cell_type": "code",
   "execution_count": null,
   "metadata": {
    "id": "D9AZD5Tm69ms"
   },
   "outputs": [],
   "source": [
    "data['pdays_last'] = pd.cut(x=data['pdays'], bins=[7, 15, 30, 60, 90, 180, 365, 545, 1000]) #En días, el último intervalo sería \"año y medio o más (incluyendo sin contactar)\""
   ]
  },
  {
   "cell_type": "code",
   "execution_count": null,
   "metadata": {
    "id": "rWqyKDgd69mt"
   },
   "outputs": [],
   "source": [
    "data[\"pdays_last\"] = data[\"pdays_last\"].astype(object) #Intervalos de días de último contacto"
   ]
  },
  {
   "cell_type": "code",
   "execution_count": null,
   "metadata": {
    "id": "gKO8rWqo69mt",
    "outputId": "f03b9857-22d1-4d4d-9d3c-e3f3fef951e1",
    "scrolled": true
   },
   "outputs": [
    {
     "name": "stdout",
     "output_type": "stream",
     "text": [
      "       age          job  marital            education  default housing loan  \\\n",
      "0       56    housemaid  married             basic.4y       no      no   no   \n",
      "1       57     services  married          high.school  unknown      no   no   \n",
      "2       37     services  married          high.school       no     yes   no   \n",
      "3       40       admin.  married             basic.6y       no      no   no   \n",
      "4       56     services  married          high.school       no      no  yes   \n",
      "...    ...          ...      ...                  ...      ...     ...  ...   \n",
      "41183   73      retired  married  professional.course       no     yes   no   \n",
      "41184   46  blue-collar  married  professional.course       no      no   no   \n",
      "41185   56      retired  married    university.degree       no     yes   no   \n",
      "41186   44   technician  married  professional.course       no      no   no   \n",
      "41187   74      retired  married  professional.course       no     yes   no   \n",
      "\n",
      "         contact month day_of_week  ...  pdays  previous     poutcome  \\\n",
      "0      telephone   may         mon  ...    999         0  nonexistent   \n",
      "1      telephone   may         mon  ...    999         0  nonexistent   \n",
      "2      telephone   may         mon  ...    999         0  nonexistent   \n",
      "3      telephone   may         mon  ...    999         0  nonexistent   \n",
      "4      telephone   may         mon  ...    999         0  nonexistent   \n",
      "...          ...   ...         ...  ...    ...       ...          ...   \n",
      "41183   cellular   nov         fri  ...    999         0  nonexistent   \n",
      "41184   cellular   nov         fri  ...    999         0  nonexistent   \n",
      "41185   cellular   nov         fri  ...    999         0  nonexistent   \n",
      "41186   cellular   nov         fri  ...    999         0  nonexistent   \n",
      "41187   cellular   nov         fri  ...    999         1      failure   \n",
      "\n",
      "       emp.var.rate cons.price.idx  cons.conf.idx  euribor3m  nr.employed  \\\n",
      "0               1.1         93.994          -36.4      4.857       5191.0   \n",
      "1               1.1         93.994          -36.4      4.857       5191.0   \n",
      "2               1.1         93.994          -36.4      4.857       5191.0   \n",
      "3               1.1         93.994          -36.4      4.857       5191.0   \n",
      "4               1.1         93.994          -36.4      4.857       5191.0   \n",
      "...             ...            ...            ...        ...          ...   \n",
      "41183          -1.1         94.767          -50.8      1.028       4963.6   \n",
      "41184          -1.1         94.767          -50.8      1.028       4963.6   \n",
      "41185          -1.1         94.767          -50.8      1.028       4963.6   \n",
      "41186          -1.1         94.767          -50.8      1.028       4963.6   \n",
      "41187          -1.1         94.767          -50.8      1.028       4963.6   \n",
      "\n",
      "         y       pdays_last  \n",
      "0       no  (545.0, 1000.0]  \n",
      "1       no  (545.0, 1000.0]  \n",
      "2       no  (545.0, 1000.0]  \n",
      "3       no  (545.0, 1000.0]  \n",
      "4       no  (545.0, 1000.0]  \n",
      "...    ...              ...  \n",
      "41183  yes  (545.0, 1000.0]  \n",
      "41184   no  (545.0, 1000.0]  \n",
      "41185   no  (545.0, 1000.0]  \n",
      "41186  yes  (545.0, 1000.0]  \n",
      "41187   no  (545.0, 1000.0]  \n",
      "\n",
      "[41188 rows x 22 columns]\n"
     ]
    }
   ],
   "source": [
    "print(data)"
   ]
  },
  {
   "cell_type": "code",
   "execution_count": 2,
   "metadata": {
    "colab": {
     "base_uri": "https://localhost:8080/",
     "height": 185
    },
    "executionInfo": {
     "elapsed": 311,
     "status": "error",
     "timestamp": 1649199649754,
     "user": {
      "displayName": "Matías Díaz Sarmiento",
      "userId": "14455629378622881983"
     },
     "user_tz": 180
    },
    "id": "matzlcuF69mt",
    "outputId": "5c6076e0-9327-4135-d517-92aa47f458d6"
   },
   "outputs": [
    {
     "ename": "NameError",
     "evalue": "ignored",
     "output_type": "error",
     "traceback": [
      "\u001b[0;31m---------------------------------------------------------------------------\u001b[0m",
      "\u001b[0;31mNameError\u001b[0m                                 Traceback (most recent call last)",
      "\u001b[0;32m<ipython-input-2-7c39f51ec9cb>\u001b[0m in \u001b[0;36m<module>\u001b[0;34m()\u001b[0m\n\u001b[0;32m----> 1\u001b[0;31m \u001b[0mdf\u001b[0m \u001b[0;34m=\u001b[0m \u001b[0mdata\u001b[0m\u001b[0;34m[\u001b[0m\u001b[0mdata\u001b[0m\u001b[0;34m[\u001b[0m\u001b[0;34m'duration'\u001b[0m\u001b[0;34m]\u001b[0m\u001b[0;34m>=\u001b[0m\u001b[0;36m10\u001b[0m\u001b[0;34m]\u001b[0m\u001b[0;34m\u001b[0m\u001b[0;34m\u001b[0m\u001b[0m\n\u001b[0m\u001b[1;32m      2\u001b[0m \u001b[0mdf\u001b[0m\u001b[0;34m.\u001b[0m\u001b[0mgroupby\u001b[0m\u001b[0;34m(\u001b[0m\u001b[0;34m[\u001b[0m\u001b[0;34m'y'\u001b[0m\u001b[0;34m,\u001b[0m\u001b[0;34m'pdays_last'\u001b[0m\u001b[0;34m]\u001b[0m\u001b[0;34m)\u001b[0m\u001b[0;34m.\u001b[0m\u001b[0mcount\u001b[0m\u001b[0;34m(\u001b[0m\u001b[0;34m)\u001b[0m\u001b[0;34m[\u001b[0m\u001b[0;34m'duration'\u001b[0m\u001b[0;34m]\u001b[0m \u001b[0;31m# Vamos a comparar si la cantidad de días desde el último contacto influye en la toma de la decisión\u001b[0m\u001b[0;34m\u001b[0m\u001b[0;34m\u001b[0m\u001b[0m\n",
      "\u001b[0;31mNameError\u001b[0m: name 'data' is not defined"
     ]
    }
   ],
   "source": [
    "df = data[data['duration']>=10]\n",
    "df.groupby(['y','pdays_last']).count()['duration'] # Vamos a comparar si la cantidad de días desde el último contacto influye en la toma de la decisión"
   ]
  },
  {
   "cell_type": "code",
   "execution_count": null,
   "metadata": {
    "id": "uz31PWMK69mt",
    "outputId": "50475188-86e2-4aab-c97b-477d8bc66603"
   },
   "outputs": [
    {
     "data": {
      "image/png": "[encoded data removed]",
      "text/plain": [
       "<Figure size 432x288 with 1 Axes>"
      ]
     },
     "metadata": {
      "needs_background": "light"
     },
     "output_type": "display_data"
    }
   ],
   "source": [
    "grouped_pdays_last = df.groupby(['y','pdays_last']).count()['duration']\n",
    "(grouped_pdays_last.unstack(level=0).plot.bar())\n",
    "plt.show()"
   ]
  },
  {
   "cell_type": "markdown",
   "metadata": {
    "id": "L0hFyE0p69mu"
   },
   "source": [
    "No se alcanza a apreciar relación de ningún tipo entre la cantidad de días atrás que fue contactado un cliente y su suscripción. Sin embargo, mirando los datos numéricos, vemos que la cantidad de clientes que dijeron sí o no y que fueron contactados en un rango de una semana a un mes atrás es casi la misma."
   ]
  },
  {
   "cell_type": "markdown",
   "metadata": {
    "id": "UHd5uSdU69mv"
   },
   "source": [
    "### CONCLUSIONES:\n",
    "1) De los participantes de la anterior campaña, se muestra un resultado bastante más favorable en cuanto a la tasa de éxito, lo cual indicaría que esta campaña no fue tan buena como la anterior. Sin embargo, no tenemos todos los datos de la campaña anterior para comprobar esta hipótesis.  \n",
    "2) Respecto a la campaña de marketing anterior, la grandísima mayoría de los participantes actuales no había participado. Sin embargo es interesante observar que de quienes participaron, a simple vista pareciera que no cambiaron mucho su decisión. Esto da cuenta de una estrategia de marketing que tal vez haya sido poco innovadora.  \n",
    "3)  La casi totalidad de casados dijeron que no, lo cual es esperable pues en un entorno marital, las decisiones deberían ser consultadas con la pareja. Sin embargo, se observan números similares para quienes se encuentran en alguna forma de soltería (soltero, divorciado/viudo). Esto indicaría que en este caso, el estar casado o no, no estaría influyendo en la decisión de la contratación del servicio.  \n",
    "4) Los estudiantes parecieran estar ligeramente más inclinados a contratar el servicio, sin embargo esta hipótesis pareciera descartarse mirando un gráfico de puntos.  \n",
    "5) El tipo de educación pareciera no influir en la toma de la decisión, pero se observa una tendencia interesante al \"sí\" en los grupos basic.6y y basic.9y.  \n",
    "6) Las personas contactadas por celular estuvieron algo más dispuestas a contratar el servicio.  \n",
    "7) El día de la semana o la edad tampoco influyen en la contratación del servicio.  \n",
    "8) La probabilidad de suscribirse aumenta con la duración de la llamada (se podría interpretar como que a mayor duración, mayor interés).    \n",
    "9) En meses en los que el Euribor está más alto (como en mayo) la gente es más propensa a decir que no (lo cual mostrábamos en el gráfico de barras anterior, que donde más llamadas se hacían era en mayo y era donde más se rechazaba el producto). En los meses en los que está más bajo, la gente es más propensa a decir que sí.  \n",
    "10) Los clientes son más propensos a decir que sí cuando la cantidad de empleados es cercana a 5100 y cuando la tasa de variación de empleo es negativa. Esto último sobre todo tiene sentido ya que se trata de suscripciones a plazos fijos. Es de esperar que en épocas donde aumenta el desempleo (variación de empleo negativa) y euribor bajo (tasa interbancaria baja) los clientes quieran resguardar sus ahorros.   \n",
    "11) La confianza del cliente hacia el banco (tales como si solicitó un préstamo de algún tipo, o el número de días que el cliente fue contactado por última vez en una campaña anterior) no influye en la toma de la decisión.  \n",
    "\n",
    "##### Por lo tanto, el euribor, el mes de la llamada, la cantidad de empleados y la tasa de variación de empleo son factores importantes para tomar la decisión según los datos. Es decir, los factores que juegan un rol en la decisión de suscribirse a un plazo fijo (bank term deposit) son factores socioeconómicos y contextuales, no personales ni particulares.\n",
    "\n",
    "##### La recomendación al banco sería que esté atento a los meses en los que el euribor es bajo, la cantidad de empleados sea de alrededor de 5100 y la tasa de variación de empleo sea negativa para lanzar su campaña de marketing. Dado que el euribor, la tasa de variación de empleo y el número de empleados están correlacionados entre sí, las condiciones favorables para dicha campaña se dan en los meses de marzo, abril, septiembre, octubre y diciembre."
   ]
  },
  {
   "cell_type": "code",
   "execution_count": null,
   "metadata": {
    "id": "jyyWHiTZ69mv",
    "outputId": "40415b4b-9ac8-472a-9dd8-73d9eee7410b"
   },
   "outputs": [
    {
     "data": {
      "text/plain": [
       "<seaborn.axisgrid.FacetGrid at 0x1e4b433bfa0>"
      ]
     },
     "execution_count": 212,
     "metadata": {},
     "output_type": "execute_result"
    },
    {
     "data": {
      "image/png": "[encoded data removed]",
      "text/plain": [
       "<Figure size 417.625x360 with 1 Axes>"
      ]
     },
     "metadata": {
      "needs_background": "light"
     },
     "output_type": "display_data"
    }
   ],
   "source": [
    "sns.catplot(x=\"y\", y=\"emp.var.rate\", hue=\"month\", kind=\"point\", data=df)"
   ]
  },
  {
   "cell_type": "code",
   "execution_count": null,
   "metadata": {
    "id": "2TZ2X_5W69mv",
    "outputId": "c2debb90-13f3-40cf-8e14-3a0ecb5f2292"
   },
   "outputs": [
    {
     "data": {
      "text/plain": [
       "<seaborn.axisgrid.FacetGrid at 0x1e4b1ae0df0>"
      ]
     },
     "execution_count": 211,
     "metadata": {},
     "output_type": "execute_result"
    },
    {
     "data": {
      "image/png": "[encoded data removed]",
      "text/plain": [
       "<Figure size 417.625x360 with 1 Axes>"
      ]
     },
     "metadata": {
      "needs_background": "light"
     },
     "output_type": "display_data"
    }
   ],
   "source": [
    "sns.catplot(x=\"y\", y=\"nr.employed\", hue=\"month\", kind=\"point\", data=df)"
   ]
  },
  {
   "cell_type": "code",
   "execution_count": null,
   "metadata": {
    "id": "i7bvaHEb69mv",
    "outputId": "28377564-31cb-4f15-8e2c-ef64ebe22ee9"
   },
   "outputs": [
    {
     "data": {
      "text/plain": [
       "<seaborn.axisgrid.FacetGrid at 0x1e4b387c160>"
      ]
     },
     "execution_count": 210,
     "metadata": {},
     "output_type": "execute_result"
    },
    {
     "data": {
      "image/png": "[encoded data removed]",
      "text/plain": [
       "<Figure size 417.625x360 with 1 Axes>"
      ]
     },
     "metadata": {
      "needs_background": "light"
     },
     "output_type": "display_data"
    }
   ],
   "source": [
    "sns.catplot(x=\"y\", y=\"euribor3m\", hue=\"month\", kind=\"point\", data=df)"
   ]
  },
  {
   "cell_type": "code",
   "execution_count": null,
   "metadata": {
    "id": "nfvHDt8M69mx",
    "outputId": "481ea691-5de9-429b-b128-1ebc5882b9c5"
   },
   "outputs": [
    {
     "data": {
      "text/plain": [
       "<seaborn.axisgrid.FacetGrid at 0x1e4b7e04d90>"
      ]
     },
     "execution_count": 209,
     "metadata": {},
     "output_type": "execute_result"
    },
    {
     "data": {
      "image/png": "[encoded data removed]",
      "text/plain": [
       "<Figure size 441.375x360 with 1 Axes>"
      ]
     },
     "metadata": {
      "needs_background": "light"
     },
     "output_type": "display_data"
    }
   ],
   "source": [
    "sns.catplot(x=\"y\", y=\"euribor3m\", hue=\"marital\", kind=\"point\", data=df)"
   ]
  },
  {
   "cell_type": "code",
   "execution_count": null,
   "metadata": {
    "id": "JA16tXK669mx",
    "outputId": "bf7e6400-0188-4551-bae1-44f891f6416a"
   },
   "outputs": [
    {
     "data": {
      "text/plain": [
       "<seaborn.axisgrid.FacetGrid at 0x1e4b4482130>"
      ]
     },
     "execution_count": 207,
     "metadata": {},
     "output_type": "execute_result"
    },
    {
     "data": {
      "image/png": "[encoded data removed]",
      "text/plain": [
       "<Figure size 466.25x360 with 1 Axes>"
      ]
     },
     "metadata": {
      "needs_background": "light"
     },
     "output_type": "display_data"
    }
   ],
   "source": [
    "sns.catplot(x=\"y\", y=\"euribor3m\", hue=\"job\", kind=\"point\", data=df)"
   ]
  },
  {
   "cell_type": "code",
   "execution_count": null,
   "metadata": {
    "id": "CFqmSdJE69my",
    "outputId": "c6fdb85f-998f-4aa9-f61a-aa424ff6ecf8",
    "scrolled": true
   },
   "outputs": [
    {
     "data": {
      "text/plain": [
       "<seaborn.axisgrid.FacetGrid at 0x1e4b29a7ac0>"
      ]
     },
     "execution_count": 208,
     "metadata": {},
     "output_type": "execute_result"
    },
    {
     "data": {
      "image/png": "[encoded data removed]",
      "text/plain": [
       "<Figure size 493.25x360 with 1 Axes>"
      ]
     },
     "metadata": {
      "needs_background": "light"
     },
     "output_type": "display_data"
    }
   ],
   "source": [
    "sns.catplot(x=\"y\", y=\"euribor3m\", hue=\"education\", kind=\"point\", data=df)"
   ]
  },
  {
   "cell_type": "markdown",
   "metadata": {
    "id": "P1MEi2xN69my"
   },
   "source": [
    "### MODELOS"
   ]
  },
  {
   "cell_type": "markdown",
   "metadata": {
    "id": "9WGaBlOS69mz"
   },
   "source": [
    "Antes de hacer los modelos, conviene estandarizar datos y conviene convertir a \"y\" en una variable numérica que llamaremos \"dummy\" agregando una nueva columna. También conviene convertir al mes en numérico ordinal."
   ]
  },
  {
   "cell_type": "markdown",
   "metadata": {
    "id": "Tk2ysPsw69m0"
   },
   "source": [
    "Divido el dataframe en train y test:"
   ]
  },
  {
   "cell_type": "code",
   "execution_count": null,
   "metadata": {
    "id": "4MkhEKCe69m0"
   },
   "outputs": [],
   "source": [
    "# selección de modelos\n",
    "from sklearn.model_selection import train_test_split\n",
    "# normalización de datos\n",
    "from sklearn.preprocessing import StandardScaler\n",
    "# clasificador: red neuronal (perceptron multicapa, 100 capas por defecto, activación por ReLu)\n",
    "from sklearn.neural_network import MLPClassifier\n",
    "# clasificador: support vector classifier\n",
    "from sklearn.svm import SVC\n",
    "# clasificador: árbol de decisión\n",
    "from sklearn.tree import DecisionTreeClassifier\n",
    "# clasificador: Regresión Logística\n",
    "from sklearn.linear_model import LogisticRegression"
   ]
  },
  {
   "cell_type": "code",
   "execution_count": null,
   "metadata": {
    "id": "NrxufSC269m0"
   },
   "outputs": [],
   "source": [
    "data = pd.read_csv(\"dataset.csv\", sep=\";\")\n",
    "data[\"dummy\"] = np.where(data[\"y\"].str.contains(\"yes\"), 1, 0)\n",
    "df = data[data['duration']>=10]\n",
    "\n",
    "num_month = {\"month\":     {\"mar\":3,\"apr\": 4, \"may\": 5, \"jun\":6, \"jul\":7, \"aug\":8, \"sep\":9, \"oct\":10, \"nov\":11,\"dec\":12}}\n",
    "# reescribo al mes como variable ordinal.\n",
    "df = df.replace(num_month)"
   ]
  },
  {
   "cell_type": "code",
   "execution_count": null,
   "metadata": {
    "id": "qsWEQeOB69m0",
    "outputId": "af6757e8-d714-47a7-de58-b80e9f6fa167"
   },
   "outputs": [
    {
     "data": {
      "text/html": [
       "<div>\n",
       "<style scoped>\n",
       "    .dataframe tbody tr th:only-of-type {\n",
       "        vertical-align: middle;\n",
       "    }\n",
       "\n",
       "    .dataframe tbody tr th {\n",
       "        vertical-align: top;\n",
       "    }\n",
       "\n",
       "    .dataframe thead th {\n",
       "        text-align: right;\n",
       "    }\n",
       "</style>\n",
       "<table border=\"1\" class=\"dataframe\">\n",
       "  <thead>\n",
       "    <tr style=\"text-align: right;\">\n",
       "      <th></th>\n",
       "      <th>age</th>\n",
       "      <th>month</th>\n",
       "      <th>duration</th>\n",
       "      <th>campaign</th>\n",
       "      <th>pdays</th>\n",
       "      <th>previous</th>\n",
       "      <th>emp.var.rate</th>\n",
       "      <th>cons.price.idx</th>\n",
       "      <th>cons.conf.idx</th>\n",
       "      <th>euribor3m</th>\n",
       "      <th>nr.employed</th>\n",
       "      <th>dummy</th>\n",
       "    </tr>\n",
       "  </thead>\n",
       "  <tbody>\n",
       "    <tr>\n",
       "      <th>count</th>\n",
       "      <td>40898.000000</td>\n",
       "      <td>40898.000000</td>\n",
       "      <td>40898.000000</td>\n",
       "      <td>40898.000000</td>\n",
       "      <td>40898.000000</td>\n",
       "      <td>40898.00000</td>\n",
       "      <td>40898.000000</td>\n",
       "      <td>40898.000000</td>\n",
       "      <td>40898.000000</td>\n",
       "      <td>40898.000000</td>\n",
       "      <td>40898.000000</td>\n",
       "      <td>40898.000000</td>\n",
       "    </tr>\n",
       "    <tr>\n",
       "      <th>mean</th>\n",
       "      <td>40.035405</td>\n",
       "      <td>6.608881</td>\n",
       "      <td>260.066165</td>\n",
       "      <td>2.547068</td>\n",
       "      <td>962.313414</td>\n",
       "      <td>0.17304</td>\n",
       "      <td>0.086075</td>\n",
       "      <td>93.575149</td>\n",
       "      <td>-40.488075</td>\n",
       "      <td>3.628004</td>\n",
       "      <td>5167.361727</td>\n",
       "      <td>0.113453</td>\n",
       "    </tr>\n",
       "    <tr>\n",
       "      <th>std</th>\n",
       "      <td>10.423732</td>\n",
       "      <td>2.041753</td>\n",
       "      <td>259.329531</td>\n",
       "      <td>2.728991</td>\n",
       "      <td>187.309653</td>\n",
       "      <td>0.49499</td>\n",
       "      <td>1.571174</td>\n",
       "      <td>0.578517</td>\n",
       "      <td>4.630305</td>\n",
       "      <td>1.731863</td>\n",
       "      <td>71.978096</td>\n",
       "      <td>0.317150</td>\n",
       "    </tr>\n",
       "    <tr>\n",
       "      <th>min</th>\n",
       "      <td>17.000000</td>\n",
       "      <td>3.000000</td>\n",
       "      <td>10.000000</td>\n",
       "      <td>1.000000</td>\n",
       "      <td>0.000000</td>\n",
       "      <td>0.00000</td>\n",
       "      <td>-3.400000</td>\n",
       "      <td>92.201000</td>\n",
       "      <td>-50.800000</td>\n",
       "      <td>0.634000</td>\n",
       "      <td>4963.600000</td>\n",
       "      <td>0.000000</td>\n",
       "    </tr>\n",
       "    <tr>\n",
       "      <th>25%</th>\n",
       "      <td>32.000000</td>\n",
       "      <td>5.000000</td>\n",
       "      <td>104.000000</td>\n",
       "      <td>1.000000</td>\n",
       "      <td>999.000000</td>\n",
       "      <td>0.00000</td>\n",
       "      <td>-1.800000</td>\n",
       "      <td>93.075000</td>\n",
       "      <td>-42.700000</td>\n",
       "      <td>1.344000</td>\n",
       "      <td>5099.100000</td>\n",
       "      <td>0.000000</td>\n",
       "    </tr>\n",
       "    <tr>\n",
       "      <th>50%</th>\n",
       "      <td>38.000000</td>\n",
       "      <td>6.000000</td>\n",
       "      <td>181.000000</td>\n",
       "      <td>2.000000</td>\n",
       "      <td>999.000000</td>\n",
       "      <td>0.00000</td>\n",
       "      <td>1.100000</td>\n",
       "      <td>93.749000</td>\n",
       "      <td>-41.800000</td>\n",
       "      <td>4.857000</td>\n",
       "      <td>5191.000000</td>\n",
       "      <td>0.000000</td>\n",
       "    </tr>\n",
       "    <tr>\n",
       "      <th>75%</th>\n",
       "      <td>47.000000</td>\n",
       "      <td>8.000000</td>\n",
       "      <td>321.000000</td>\n",
       "      <td>3.000000</td>\n",
       "      <td>999.000000</td>\n",
       "      <td>0.00000</td>\n",
       "      <td>1.400000</td>\n",
       "      <td>93.994000</td>\n",
       "      <td>-36.400000</td>\n",
       "      <td>4.961000</td>\n",
       "      <td>5228.100000</td>\n",
       "      <td>0.000000</td>\n",
       "    </tr>\n",
       "    <tr>\n",
       "      <th>max</th>\n",
       "      <td>98.000000</td>\n",
       "      <td>12.000000</td>\n",
       "      <td>4918.000000</td>\n",
       "      <td>56.000000</td>\n",
       "      <td>999.000000</td>\n",
       "      <td>7.00000</td>\n",
       "      <td>1.400000</td>\n",
       "      <td>94.767000</td>\n",
       "      <td>-26.900000</td>\n",
       "      <td>5.045000</td>\n",
       "      <td>5228.100000</td>\n",
       "      <td>1.000000</td>\n",
       "    </tr>\n",
       "  </tbody>\n",
       "</table>\n",
       "</div>"
      ],
      "text/plain": [
       "                age         month      duration      campaign         pdays  \\\n",
       "count  40898.000000  40898.000000  40898.000000  40898.000000  40898.000000   \n",
       "mean      40.035405      6.608881    260.066165      2.547068    962.313414   \n",
       "std       10.423732      2.041753    259.329531      2.728991    187.309653   \n",
       "min       17.000000      3.000000     10.000000      1.000000      0.000000   \n",
       "25%       32.000000      5.000000    104.000000      1.000000    999.000000   \n",
       "50%       38.000000      6.000000    181.000000      2.000000    999.000000   \n",
       "75%       47.000000      8.000000    321.000000      3.000000    999.000000   \n",
       "max       98.000000     12.000000   4918.000000     56.000000    999.000000   \n",
       "\n",
       "          previous  emp.var.rate  cons.price.idx  cons.conf.idx     euribor3m  \\\n",
       "count  40898.00000  40898.000000    40898.000000   40898.000000  40898.000000   \n",
       "mean       0.17304      0.086075       93.575149     -40.488075      3.628004   \n",
       "std        0.49499      1.571174        0.578517       4.630305      1.731863   \n",
       "min        0.00000     -3.400000       92.201000     -50.800000      0.634000   \n",
       "25%        0.00000     -1.800000       93.075000     -42.700000      1.344000   \n",
       "50%        0.00000      1.100000       93.749000     -41.800000      4.857000   \n",
       "75%        0.00000      1.400000       93.994000     -36.400000      4.961000   \n",
       "max        7.00000      1.400000       94.767000     -26.900000      5.045000   \n",
       "\n",
       "        nr.employed         dummy  \n",
       "count  40898.000000  40898.000000  \n",
       "mean    5167.361727      0.113453  \n",
       "std       71.978096      0.317150  \n",
       "min     4963.600000      0.000000  \n",
       "25%     5099.100000      0.000000  \n",
       "50%     5191.000000      0.000000  \n",
       "75%     5228.100000      0.000000  \n",
       "max     5228.100000      1.000000  "
      ]
     },
     "execution_count": 239,
     "metadata": {},
     "output_type": "execute_result"
    }
   ],
   "source": [
    "df.describe()"
   ]
  },
  {
   "cell_type": "code",
   "execution_count": null,
   "metadata": {
    "id": "8enWH01b69m0",
    "outputId": "6332e0d1-2dc6-4072-927e-66588a028214",
    "scrolled": true
   },
   "outputs": [
    {
     "name": "stdout",
     "output_type": "stream",
     "text": [
      "       euribor3m  month  nr.employed  emp.var.rate\n",
      "0          4.857      5       5191.0           1.1\n",
      "1          4.857      5       5191.0           1.1\n",
      "2          4.857      5       5191.0           1.1\n",
      "3          4.857      5       5191.0           1.1\n",
      "4          4.857      5       5191.0           1.1\n",
      "...          ...    ...          ...           ...\n",
      "41183      1.028     11       4963.6          -1.1\n",
      "41184      1.028     11       4963.6          -1.1\n",
      "41185      1.028     11       4963.6          -1.1\n",
      "41186      1.028     11       4963.6          -1.1\n",
      "41187      1.028     11       4963.6          -1.1\n",
      "\n",
      "[40898 rows x 4 columns]\n",
      "(40898,) (40898, 4)\n"
     ]
    }
   ],
   "source": [
    "Y = df[\"dummy\"] # Variable a evaluar\n",
    "features = [\"euribor3m\",\"month\",\"nr.employed\",\"emp.var.rate\"] # Variables explicatorias = [\"euribor3m\",\"month\",\"nr.employed\",\"emp.var.rate\"]\n",
    "X = df[features]\n",
    "\n",
    "print(X)\n",
    "print(Y.shape, X.shape)"
   ]
  },
  {
   "cell_type": "markdown",
   "metadata": {
    "id": "fkkoXAXG69m1"
   },
   "source": [
    "Estas son las variables (\"euribor3m\",\"month\",\"nr.employed\",\"emp.var.rate\") que vimos que influyen en la decisión tomada. Uso estas para hacer los modelos."
   ]
  },
  {
   "cell_type": "code",
   "execution_count": null,
   "metadata": {
    "id": "cuwTaeln69m1"
   },
   "outputs": [],
   "source": [
    "X = StandardScaler().fit_transform(X) # lo escalo"
   ]
  },
  {
   "cell_type": "code",
   "execution_count": null,
   "metadata": {
    "id": "bb5zNuDc69m1",
    "outputId": "2477d60c-01b7-497d-a8c8-26926be4a78f",
    "scrolled": true
   },
   "outputs": [
    {
     "name": "stdout",
     "output_type": "stream",
     "text": [
      "[[ 0.70964662 -0.78799932  0.32841328  0.64533721]\n",
      " [ 0.70964662 -0.78799932  0.32841328  0.64533721]\n",
      " [ 0.70964662 -0.78799932  0.32841328  0.64533721]\n",
      " ...\n",
      " [-1.5012945   2.15068726 -2.83091982 -0.75490642]\n",
      " [-1.5012945   2.15068726 -2.83091982 -0.75490642]\n",
      " [-1.5012945   2.15068726 -2.83091982 -0.75490642]]\n"
     ]
    }
   ],
   "source": [
    "print(X)"
   ]
  },
  {
   "cell_type": "code",
   "execution_count": null,
   "metadata": {
    "id": "Whhb9gV569m1"
   },
   "outputs": [],
   "source": [
    "X_train, X_test, y_train, y_test = train_test_split(X, Y, test_size=.3, random_state=42) # divido train y test"
   ]
  },
  {
   "cell_type": "code",
   "execution_count": null,
   "metadata": {
    "id": "HRh2lCdj69m1",
    "outputId": "2398087e-52e5-4a2c-e7a5-3caa595c0aab",
    "scrolled": true
   },
   "outputs": [
    {
     "data": {
      "text/plain": [
       "0.002891846962997009"
      ]
     },
     "execution_count": 244,
     "metadata": {},
     "output_type": "execute_result"
    }
   ],
   "source": [
    "X_train.mean()"
   ]
  },
  {
   "cell_type": "code",
   "execution_count": null,
   "metadata": {
    "id": "tWcpm6Bt69m2",
    "outputId": "eec92034-6bd5-4446-adab-6fefe6a20a97"
   },
   "outputs": [
    {
     "data": {
      "text/plain": [
       "1.0000619724149917"
      ]
     },
     "execution_count": 245,
     "metadata": {},
     "output_type": "execute_result"
    }
   ],
   "source": [
    "X_train.var()"
   ]
  },
  {
   "cell_type": "markdown",
   "metadata": {
    "id": "6E1WOPuS69m2"
   },
   "source": [
    "Con media cero y varianza uno, puedo decir que están normalizados los datos."
   ]
  },
  {
   "cell_type": "markdown",
   "metadata": {
    "id": "ERqS85fl69m2"
   },
   "source": [
    "No tomo modelos de aprendizaje no supervisado puesto que quiero evaluar la eficiencia por sus matrices de confusión, y la función confusion_matrix de sklearn solo soporta clasificadores. Tomo modelos de aprendizaje supervisado (Árboles de Decisión, SVCs, MultiLayerPerceptron y Modelo Logístico), entrenamos los modelos, empezando con modelo de Regresión Logística."
   ]
  },
  {
   "cell_type": "markdown",
   "metadata": {
    "id": "TBKH3DE-69m2"
   },
   "source": [
    "Los datos escalados cobran especial importancia para el modelo SVC y el modelo de Red Neuronal, ya que las regresiones o los árboles de decisión no se ven afectados por la normalización de datos. Sin embargo, es una buena práctica escalar datos siempre."
   ]
  },
  {
   "cell_type": "code",
   "execution_count": null,
   "metadata": {
    "id": "VHLMiOdM69m2",
    "outputId": "462f3c50-ae35-4a33-9e37-95a021c679fc"
   },
   "outputs": [
    {
     "data": {
      "text/plain": [
       "LogisticRegression()"
      ]
     },
     "execution_count": 246,
     "metadata": {},
     "output_type": "execute_result"
    }
   ],
   "source": [
    "logreg = LogisticRegression()\n",
    "logreg.fit(X_train,y_train)"
   ]
  },
  {
   "cell_type": "code",
   "execution_count": null,
   "metadata": {
    "id": "JbOJxAN769m2",
    "outputId": "a4ddd15f-4d34-447b-dfbc-83e92bc8a678"
   },
   "outputs": [
    {
     "data": {
      "text/plain": [
       "DecisionTreeClassifier(max_depth=5)"
      ]
     },
     "execution_count": 247,
     "metadata": {},
     "output_type": "execute_result"
    }
   ],
   "source": [
    "decision_tree = DecisionTreeClassifier(max_depth=5)\n",
    "decision_tree.fit(X_train,y_train)"
   ]
  },
  {
   "cell_type": "code",
   "execution_count": null,
   "metadata": {
    "id": "mzy3Vkf069m3",
    "outputId": "e1424da9-0232-4eff-bd83-f9620da7f133"
   },
   "outputs": [
    {
     "data": {
      "text/plain": [
       "MLPClassifier(alpha=1, max_iter=1000)"
      ]
     },
     "execution_count": 248,
     "metadata": {},
     "output_type": "execute_result"
    }
   ],
   "source": [
    "neural_network = MLPClassifier(alpha=1, max_iter=1000)\n",
    "neural_network.fit(X_train,y_train)"
   ]
  },
  {
   "cell_type": "code",
   "execution_count": null,
   "metadata": {
    "id": "DFO2aU3p69m3",
    "outputId": "9077d535-282a-4193-f537-5b753f9e2608"
   },
   "outputs": [
    {
     "data": {
      "text/plain": [
       "SVC(C=0.025)"
      ]
     },
     "execution_count": 342,
     "metadata": {},
     "output_type": "execute_result"
    }
   ],
   "source": [
    "sup_vec_cla = SVC(C=0.025)\n",
    "sup_vec_cla.fit(X_train,y_train)"
   ]
  },
  {
   "cell_type": "markdown",
   "metadata": {
    "id": "iNJiIlUQ69m3"
   },
   "source": [
    "Una vez que tengo los modelos entrenados, evalúo los más eficientes mirando sus Matrices de Confusión (qué predicen los modelos vs qué sucede en realidad)."
   ]
  },
  {
   "cell_type": "markdown",
   "metadata": {
    "id": "cSBFM4bC69m4"
   },
   "source": [
    "### EVALUACIÓN DE MODELOS"
   ]
  },
  {
   "cell_type": "code",
   "execution_count": null,
   "metadata": {
    "id": "GyIA4xCw69m4"
   },
   "outputs": [],
   "source": [
    "from sklearn.metrics import confusion_matrix\n",
    "from sklearn.metrics import plot_confusion_matrix"
   ]
  },
  {
   "cell_type": "code",
   "execution_count": null,
   "metadata": {
    "id": "PsVY9Q0v69m4"
   },
   "outputs": [],
   "source": [
    "def CM(model,x,y):\n",
    "    disp = plot_confusion_matrix(model,x,y,\n",
    "        cmap = plt.cm.Greens, values_format=\"d\")\n",
    "    pred = disp.confusion_matrix[0,0]+disp.confusion_matrix[1,1]\n",
    "    total_data = np.sum(disp.confusion_matrix)\n",
    "    model_accuracy = pred/total_data\n",
    "    score = model.score(x, y) # evaluo\n",
    "    print(score) # evaluo\n",
    "    print(\"La precisión del modelo es:\",np.round(model_accuracy,3))\n",
    "    plt.show()"
   ]
  },
  {
   "cell_type": "code",
   "execution_count": null,
   "metadata": {
    "id": "FVa6jsYV69m4",
    "outputId": "6080e91a-3fe8-4f88-a212-229d13329202"
   },
   "outputs": [
    {
     "name": "stdout",
     "output_type": "stream",
     "text": [
      "0.8849378231102417\n",
      "La precisión del modelo es: 0.885\n"
     ]
    },
    {
     "data": {
      "image/png": "[encoded data removed]",
      "text/plain": [
       "<Figure size 432x288 with 2 Axes>"
      ]
     },
     "metadata": {
      "needs_background": "light"
     },
     "output_type": "display_data"
    }
   ],
   "source": [
    "CM(logreg,X_train,y_train)"
   ]
  },
  {
   "cell_type": "code",
   "execution_count": null,
   "metadata": {
    "id": "XF9pentG69m5",
    "outputId": "de41bcb6-5d02-437d-fb1f-7cf77fa8c082",
    "scrolled": true
   },
   "outputs": [
    {
     "name": "stdout",
     "output_type": "stream",
     "text": [
      "0.8931465697918122\n",
      "La precisión del modelo es: 0.893\n"
     ]
    },
    {
     "data": {
      "image/png": "[encoded data removed]",
      "text/plain": [
       "<Figure size 432x288 with 2 Axes>"
      ]
     },
     "metadata": {
      "needs_background": "light"
     },
     "output_type": "display_data"
    }
   ],
   "source": [
    "CM(decision_tree,X_train,y_train)"
   ]
  },
  {
   "cell_type": "code",
   "execution_count": null,
   "metadata": {
    "id": "nu2Sb4nb69m5",
    "outputId": "feaf606b-b978-4c28-8d3a-2b2acfc26319",
    "scrolled": true
   },
   "outputs": [
    {
     "name": "stdout",
     "output_type": "stream",
     "text": [
      "0.8859158865446416\n",
      "La precisión del modelo es: 0.886\n"
     ]
    },
    {
     "data": {
      "image/png": "[encoded data removed]",
      "text/plain": [
       "<Figure size 432x288 with 2 Axes>"
      ]
     },
     "metadata": {
      "needs_background": "light"
     },
     "output_type": "display_data"
    }
   ],
   "source": [
    "CM(neural_network,X_train,y_train)"
   ]
  },
  {
   "cell_type": "code",
   "execution_count": null,
   "metadata": {
    "id": "LlDz04pm69m5",
    "outputId": "4fcc9218-c956-40b7-abb2-6a17d68a3d8f",
    "scrolled": true
   },
   "outputs": [
    {
     "name": "stdout",
     "output_type": "stream",
     "text": [
      "0.8892343160542127\n",
      "La precisión del modelo es: 0.889\n"
     ]
    },
    {
     "data": {
      "image/png": "[encoded data removed]",
      "text/plain": [
       "<Figure size 432x288 with 2 Axes>"
      ]
     },
     "metadata": {
      "needs_background": "light"
     },
     "output_type": "display_data"
    }
   ],
   "source": [
    "CM(sup_vec_cla,X_train,y_train)"
   ]
  },
  {
   "cell_type": "markdown",
   "metadata": {
    "id": "hv0Q_Cb469m5"
   },
   "source": [
    "Ahora quiero mirar cómo actúan los modelos cuando les paso el test:"
   ]
  },
  {
   "cell_type": "code",
   "execution_count": null,
   "metadata": {
    "id": "4wA68-F169m5"
   },
   "outputs": [],
   "source": [
    "test = [X_test,y_test]"
   ]
  },
  {
   "cell_type": "code",
   "execution_count": null,
   "metadata": {
    "id": "IdZFZpE969m5"
   },
   "outputs": [],
   "source": [
    "y_score_logreg = logreg.score(X_test,y_test)\n",
    "y_score_dec_tree = decision_tree.score(X_test,y_test)\n",
    "y_score_nn = neural_network.score(X_test,y_test)\n",
    "y_score_svc = sup_vec_cla.score(X_test,y_test)"
   ]
  },
  {
   "cell_type": "code",
   "execution_count": null,
   "metadata": {
    "id": "dWIhq9Co69m6"
   },
   "outputs": [],
   "source": [
    "y_predict_logreg = logreg.predict(X_test)\n",
    "y_predict_dec_tree = decision_tree.predict(X_test)\n",
    "y_predict_nn = neural_network.predict(X_test)\n",
    "y_predict_svc = sup_vec_cla.predict(X_test)"
   ]
  },
  {
   "cell_type": "code",
   "execution_count": null,
   "metadata": {
    "id": "GWFJdfrJ69m6",
    "outputId": "b68f3006-e464-48f2-9c6b-46b794feeac4"
   },
   "outputs": [
    {
     "data": {
      "text/plain": [
       "count    12270.000000\n",
       "mean         0.111491\n",
       "std          0.314753\n",
       "min          0.000000\n",
       "25%          0.000000\n",
       "50%          0.000000\n",
       "75%          0.000000\n",
       "max          1.000000\n",
       "Name: dummy, dtype: float64"
      ]
     },
     "execution_count": 328,
     "metadata": {},
     "output_type": "execute_result"
    }
   ],
   "source": [
    "y_test.describe()"
   ]
  },
  {
   "cell_type": "code",
   "execution_count": null,
   "metadata": {
    "id": "lyv-mbSI69m6",
    "outputId": "1c4c447d-d677-477b-f504-6ceaa2f97be5"
   },
   "outputs": [
    {
     "name": "stdout",
     "output_type": "stream",
     "text": [
      "[[10827    75]\n",
      " [ 1276    92]]\n"
     ]
    }
   ],
   "source": [
    "cm_logreg = confusion_matrix(y_test, y_predict_logreg)\n",
    "print(cm_logreg)"
   ]
  },
  {
   "cell_type": "code",
   "execution_count": null,
   "metadata": {
    "id": "w97lyWmW69m6",
    "outputId": "9f374827-334e-44c6-ac05-4e9420e3d7ac",
    "scrolled": true
   },
   "outputs": [
    {
     "name": "stdout",
     "output_type": "stream",
     "text": [
      "[[10646   256]\n",
      " [ 1061   307]]\n"
     ]
    }
   ],
   "source": [
    "cm_dec_tree = confusion_matrix(y_test, y_predict_dec_tree)\n",
    "print(cm_dec_tree)"
   ]
  },
  {
   "cell_type": "code",
   "execution_count": null,
   "metadata": {
    "id": "F9AVwuOG69m6",
    "outputId": "cab5886c-4ef1-46d2-a4cd-c9fd91f7ea75",
    "scrolled": true
   },
   "outputs": [
    {
     "name": "stdout",
     "output_type": "stream",
     "text": [
      "[[10868    34]\n",
      " [ 1324    44]]\n"
     ]
    }
   ],
   "source": [
    "cm_nn = confusion_matrix(y_test, y_predict_nn)\n",
    "print(cm_nn)"
   ]
  },
  {
   "cell_type": "code",
   "execution_count": null,
   "metadata": {
    "id": "twv9U22569m7",
    "outputId": "5e862bdf-2d35-4578-e6df-e2f74f0790c3"
   },
   "outputs": [
    {
     "name": "stdout",
     "output_type": "stream",
     "text": [
      "[[10827    75]\n",
      " [ 1276    92]]\n"
     ]
    }
   ],
   "source": [
    "cm_svc = confusion_matrix(y_test, y_predict_svc)\n",
    "print(cm_svc)"
   ]
  },
  {
   "cell_type": "code",
   "execution_count": null,
   "metadata": {
    "id": "wAcOdnec69m7",
    "outputId": "bf9475e4-792a-4d90-f7e5-0f62f449017d"
   },
   "outputs": [
    {
     "name": "stdout",
     "output_type": "stream",
     "text": [
      "Test Accuracy for LogReg: 0.8898940505297473\n",
      "Test Accuracy for DecTre: 0.8926650366748167\n",
      "Test Accuracy for NeuNet: 0.8893235533822331\n",
      "Test Accuracy for SupVecMac: 0.8898940505297473\n"
     ]
    }
   ],
   "source": [
    "print(\"Test Accuracy for LogReg:\",y_score_logreg)\n",
    "print(\"Test Accuracy for DecTre:\",y_score_dec_tree)\n",
    "print(\"Test Accuracy for NeuNet:\",y_score_nn)\n",
    "print(\"Test Accuracy for SupVecMac:\",y_score_svc)"
   ]
  },
  {
   "cell_type": "markdown",
   "metadata": {
    "id": "Ee0MbTgl69m7"
   },
   "source": [
    "### CONCLUSIONES DE LOS MODELOS:\n",
    "1) Al parecer, las conclusiones a las que llegamos en el análisis exploratorio fueron bastante acertadas y las variables tomadas como features lograron explicar y predecir aceptablemente la columna 21, obteniendo los modelos unos puntajes superiores al 85%.  \n",
    "2) De los modelos implementados, quien tuvo mejor score en la fase de entrenamiento fue el Árbol de Decisión, seguido del SVM, de la Red Neuronal y por último, la Regresión Logística. Sin embargo, había que implementar una fase de testeo para asegurarnos que fuera ese quien mejor hiciera las predicciones.  \n",
    "3) En la fase de testeo, el Árbol de Decisión nuevamente marcó el mejor puntaje, aunque similar al obtenido anteriormente. Sin embargo, se puede observar que la tendencia cambió, y la Regresión Logística y el SVC quedan en segundo lugar empatados, seguido de la Red Neuronal.\n",
    "\n",
    "##### La recomendación sería seguir entrenando al árbol de decisión y afinar el modelo para futuras predicciones, aunque los 4 tuvieron eficiencias muy similares.\n",
    "##### También, aunque no lo sabemos, con más variables en juego tales como sexo, cantidad de dinero en banco, etc. el resultado podría haber sido diferente."
   ]
  },
  {
   "cell_type": "code",
   "execution_count": null,
   "metadata": {
    "id": "NzfMOHPs-EuH"
   },
   "outputs": [],
   "source": []
  }
 ],
 "metadata": {
  "colab": {
   "collapsed_sections": [],
   "name": "Análisis de eficiencia de estrategia de marketing de un banco portugués, proyecto de Ciencias de Datos - MATÍAS DANIEL DÍAZ SARMIENTO.ipynb",
   "provenance": []
  },
  "kernelspec": {
   "display_name": "Python 3 (ipykernel)",
   "language": "python",
   "name": "python3"
  },
  "language_info": {
   "codemirror_mode": {
    "name": "ipython",
    "version": 3
   },
   "file_extension": ".py",
   "mimetype": "text/x-python",
   "name": "python",
   "nbconvert_exporter": "python",
   "pygments_lexer": "ipython3",
   "version": "3.9.13"
  }
 },
 "nbformat": 4,
 "nbformat_minor": 1
}
