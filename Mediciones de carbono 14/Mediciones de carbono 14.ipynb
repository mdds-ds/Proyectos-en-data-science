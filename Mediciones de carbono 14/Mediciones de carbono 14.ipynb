{
 "cells": [
  {
   "cell_type": "markdown",
   "metadata": {},
   "source": [
    "# Mediciones de carbono 14 de una muestra"
   ]
  },
  {
   "cell_type": "code",
   "execution_count": 1,
   "metadata": {},
   "outputs": [],
   "source": [
    "import numpy as np\n",
    "import pandas as pd\n",
    "from matplotlib import pyplot as plt\n",
    "from sklearn.datasets import make_blobs\n",
    "from sklearn.cluster import KMeans\n",
    "from sklearn.cluster import DBSCAN\n",
    "from scipy.linalg import block_diag\n",
    "import scipy.cluster.hierarchy as shc\n",
    "from sklearn.cluster import AgglomerativeClustering\n",
    "from scipy.cluster.hierarchy import dendrogram, linkage, fcluster"
   ]
  },
  {
   "cell_type": "markdown",
   "metadata": {},
   "source": [
    "El radiocarbono, o isotopo 14 del carbono (14C) se crea permanentemente\n",
    "en la atmosfera, se incorpora a las plantas a traves de la fotosintesis y a los animales a traves de las plantas que ingieren. Una\n",
    "vez que la planta o el animal muere, el 14C decae radioactivamente\n",
    "siguiendo una ley exponencial decreciente. El archivo carbono14.csv\n",
    "contiene datos simulados de la cantidad de 14C en una muestra de materia\n",
    "organica, desde el momento de la muerte (t = 0). El tiempo se\n",
    "mide en años."
   ]
  },
  {
   "cell_type": "code",
   "execution_count": 3,
   "metadata": {},
   "outputs": [
    {
     "name": "stdout",
     "output_type": "stream",
     "text": [
      "        A?o    C14\n",
      "0       0.0  178.0\n",
      "1     630.0  174.0\n",
      "2    1320.0  154.0\n",
      "3    2080.0  140.0\n",
      "4    2870.0  126.0\n",
      "5    3620.0  122.0\n",
      "6    4380.0  113.0\n",
      "7    5220.0   95.0\n",
      "8    6170.0   86.0\n",
      "9    6950.0   80.0\n",
      "10   7470.0   75.0\n",
      "11   8280.0   60.0\n",
      "12   9040.0   69.0\n",
      "13   9750.0   56.0\n",
      "14  10580.0   50.0\n",
      "15  11410.0   41.0\n",
      "16  12390.0   43.0\n",
      "17  13280.0   33.0\n",
      "18  14110.0   28.0\n"
     ]
    }
   ],
   "source": [
    "C_14 = pd.read_csv(\"carbono14.csv\")\n",
    "datosC_14 = C_14.to_numpy()\n",
    "X = datosC_14\n",
    "print(C_14)"
   ]
  },
  {
   "cell_type": "code",
   "execution_count": 4,
   "metadata": {},
   "outputs": [
    {
     "data": {
      "text/plain": [
       "<matplotlib.collections.PathCollection at 0x22fbeb08820>"
      ]
     },
     "execution_count": 4,
     "metadata": {},
     "output_type": "execute_result"
    },
    {
     "data": {
      "image/png": "[encoded data removed]",
      "text/plain": [
       "<Figure size 432x288 with 1 Axes>"
      ]
     },
     "metadata": {
      "needs_background": "light"
     },
     "output_type": "display_data"
    }
   ],
   "source": [
    "x = X[:,0]\n",
    "y = X[:,1]\n",
    "plt.scatter(x,y)"
   ]
  },
  {
   "cell_type": "code",
   "execution_count": 5,
   "metadata": {},
   "outputs": [
    {
     "name": "stdout",
     "output_type": "stream",
     "text": [
      "alfa 162.349798754359 beta= -0.01051058414768677\n"
     ]
    }
   ],
   "source": [
    "unos = np.ones(len(x))\n",
    "At = np.array([unos, x])\n",
    "A = np.transpose(At)\n",
    "# Ecuaciones Normales\n",
    "AtA = np.dot(At, A)\n",
    "Aty = np.dot(At, y)\n",
    "coef = np.linalg.solve(AtA, Aty)\n",
    "alfa=coef[0]\n",
    "beta=coef[1]\n",
    "print(\"alfa\",coef[0],\"beta=\",coef[1]) # alfa* , beta*"
   ]
  },
  {
   "cell_type": "markdown",
   "metadata": {},
   "source": [
    "Debo ajustar a un polinomio lineal  𝑝  de la forma  𝑦=𝛼+𝛽𝑥"
   ]
  },
  {
   "cell_type": "code",
   "execution_count": 6,
   "metadata": {},
   "outputs": [
    {
     "name": "stdout",
     "output_type": "stream",
     "text": [
      "Polinomio lineal:  \n",
      "-0.01051 x + 162.3\n"
     ]
    },
    {
     "data": {
      "text/plain": [
       "[<matplotlib.lines.Line2D at 0x22fbee5ce50>]"
      ]
     },
     "execution_count": 6,
     "metadata": {},
     "output_type": "execute_result"
    },
    {
     "data": {
      "image/png": "[encoded data removed]",
      "text/plain": [
       "<Figure size 432x288 with 1 Axes>"
      ]
     },
     "metadata": {
      "needs_background": "light"
     },
     "output_type": "display_data"
    }
   ],
   "source": [
    "c = np.flipud(coef) #Lo doy vuelta porque sino no da bien\n",
    "p = np.poly1d(c)\n",
    "print(\"Polinomio lineal:\",p)\n",
    "plt.plot(x,y,'.r')\n",
    "y_plt = np.polyval(p,x)\n",
    "plt.plot(x,y_plt)"
   ]
  },
  {
   "cell_type": "markdown",
   "metadata": {},
   "source": [
    "El ajuste por un polinomio lineal es relativamente bueno, se observa que los datos no se alejan mucho de la recta."
   ]
  },
  {
   "cell_type": "markdown",
   "metadata": {},
   "source": [
    "Ajusto los datos con una funcion del tipo f(x) = ae^(bx) utilizando\n",
    "cuadrados minimos ordinarios, y calculo el error"
   ]
  },
  {
   "cell_type": "code",
   "execution_count": 7,
   "metadata": {
    "scrolled": true
   },
   "outputs": [
    {
     "data": {
      "text/plain": [
       "[<matplotlib.lines.Line2D at 0x22fbeec5880>]"
      ]
     },
     "execution_count": 7,
     "metadata": {},
     "output_type": "execute_result"
    },
    {
     "data": {
      "image/png": "[encoded data removed]",
      "text/plain": [
       "<Figure size 432x288 with 1 Axes>"
      ]
     },
     "metadata": {
      "needs_background": "light"
     },
     "output_type": "display_data"
    }
   ],
   "source": [
    "z = np.log(y)\n",
    "plt.plot(x,z,'r*')"
   ]
  },
  {
   "cell_type": "code",
   "execution_count": 8,
   "metadata": {},
   "outputs": [
    {
     "name": "stdout",
     "output_type": "stream",
     "text": [
      "alfa 5.231356635692732 beta= -0.0001268359898120327\n"
     ]
    }
   ],
   "source": [
    "unos = np.ones(len(x))\n",
    "At = np.array([unos, x])\n",
    "A = np.transpose(At)\n",
    "# Ecuaciones Normales\n",
    "AtA = np.dot(At, A)\n",
    "Atz = np.dot(At, z)\n",
    "coef_O = np.linalg.solve(AtA, Atz)\n",
    "alfa_O=coef_O[0]\n",
    "beta_O=coef_O[1]\n",
    "print(\"alfa\",coef_O[0],\"beta=\",coef_O[1]) # alfa* , beta*"
   ]
  },
  {
   "cell_type": "code",
   "execution_count": 9,
   "metadata": {},
   "outputs": [
    {
     "name": "stdout",
     "output_type": "stream",
     "text": [
      "Polinomio lineal de la transformacion exponencial:  \n",
      "-0.0001268 x + 5.231\n"
     ]
    },
    {
     "data": {
      "text/plain": [
       "[<matplotlib.lines.Line2D at 0x22fbef313d0>]"
      ]
     },
     "execution_count": 9,
     "metadata": {},
     "output_type": "execute_result"
    },
    {
     "data": {
      "image/png": "[encoded data removed]",
      "text/plain": [
       "<Figure size 432x288 with 1 Axes>"
      ]
     },
     "metadata": {
      "needs_background": "light"
     },
     "output_type": "display_data"
    }
   ],
   "source": [
    "c_O = np.flipud(coef_O) #Lo doy vuelta porque sino no da bien\n",
    "p_O = np.poly1d(c_O)\n",
    "print(\"Polinomio lineal de la transformacion exponencial:\",p_O)\n",
    "plt.plot(x,z,'*r')\n",
    "z_plt = np.polyval(p_O,x)\n",
    "plt.plot(x,z_plt)"
   ]
  },
  {
   "cell_type": "code",
   "execution_count": 10,
   "metadata": {},
   "outputs": [
    {
     "name": "stdout",
     "output_type": "stream",
     "text": [
      "a= 187.0463852747064 b= -0.0001268359898120327\n"
     ]
    },
    {
     "data": {
      "text/plain": [
       "[<matplotlib.lines.Line2D at 0x22fbef8ceb0>]"
      ]
     },
     "execution_count": 10,
     "metadata": {},
     "output_type": "execute_result"
    },
    {
     "data": {
      "image/png": "[encoded data removed]",
      "text/plain": [
       "<Figure size 432x288 with 1 Axes>"
      ]
     },
     "metadata": {
      "needs_background": "light"
     },
     "output_type": "display_data"
    }
   ],
   "source": [
    "b=beta_O\n",
    "a=np.exp(alfa_O)\n",
    "print('a=',a,'b=',b)\n",
    "y_plt_O=a*np.e**(b*x)\n",
    "x_plt=np.linspace(0,15000,100)\n",
    "y_plot_O=a*np.e**(b*x_plt)\n",
    "plt.plot(x,y,'r*')\n",
    "plt.plot(x,y_plt_O,'b')"
   ]
  },
  {
   "cell_type": "code",
   "execution_count": 12,
   "metadata": {},
   "outputs": [
    {
     "name": "stdout",
     "output_type": "stream",
     "text": [
      "El error cometido por cuadrados mínimos ordinarios es de 357.33289302336533\n"
     ]
    }
   ],
   "source": [
    "# Calculo el error\n",
    "Error_CMO = (y - a*np.e**(b*x))**2\n",
    "print(\"El error cometido por cuadrados mínimos ordinarios es de\",sum(Error_CMO))"
   ]
  },
  {
   "cell_type": "markdown",
   "metadata": {},
   "source": [
    "Repito el análisis anterior pero por Cuadrados Mínimos Generalizados (CMG):"
   ]
  },
  {
   "cell_type": "code",
   "execution_count": 13,
   "metadata": {},
   "outputs": [
    {
     "name": "stdout",
     "output_type": "stream",
     "text": [
      "[31684. 30276. 23716. 19600. 15876. 14884. 12769.  9025.  7396.  6400.\n",
      "  5625.  3600.  4761.  3136.  2500.  1681.  1849.  1089.   784.]\n"
     ]
    }
   ],
   "source": [
    "z = np.log(y)\n",
    "unos = np.ones(len(x))\n",
    "At = np.array([unos, x])\n",
    "A = np.transpose(At)\n",
    "\n",
    "# Ecuaciones Normales\n",
    "AtA = np.dot(At, A)\n",
    "Atz = np.dot(At, z)\n",
    "\n",
    "w=y**2\n",
    "print(w)"
   ]
  },
  {
   "cell_type": "code",
   "execution_count": 14,
   "metadata": {},
   "outputs": [
    {
     "name": "stdout",
     "output_type": "stream",
     "text": [
      "alfa con pesos 5.207035589583903 beta con pesos= -0.0001208831619941256\n"
     ]
    }
   ],
   "source": [
    "W=np.diag(w)\n",
    "AtWA = At@W@A\n",
    "AtWz = At@W@z\n",
    "coef_G = np.linalg.solve(AtWA, AtWz)\n",
    "alfa_G=coef_G[0]\n",
    "beta_G=coef_G[1]\n",
    "print(\"alfa con pesos\",coef_G[0],\"beta con pesos=\",coef_G[1])"
   ]
  },
  {
   "cell_type": "code",
   "execution_count": 15,
   "metadata": {},
   "outputs": [
    {
     "name": "stdout",
     "output_type": "stream",
     "text": [
      "Polinomio lineal de la transformacion exponencial por cuadrados mínimos generalizados:  \n",
      "-0.0001209 x + 5.207\n"
     ]
    },
    {
     "data": {
      "text/plain": [
       "[<matplotlib.lines.Line2D at 0x22fbeff6bb0>]"
      ]
     },
     "execution_count": 15,
     "metadata": {},
     "output_type": "execute_result"
    },
    {
     "data": {
      "image/png": "[encoded data removed]",
      "text/plain": [
       "<Figure size 432x288 with 1 Axes>"
      ]
     },
     "metadata": {
      "needs_background": "light"
     },
     "output_type": "display_data"
    }
   ],
   "source": [
    "c_G = np.flipud(coef_G) #Lo doy vuelta porque sino no da bien\n",
    "p_G = np.poly1d(c_G)\n",
    "print(\"Polinomio lineal de la transformacion exponencial por cuadrados mínimos generalizados:\",p_G)\n",
    "plt.plot(x,z,'*r')\n",
    "z_plt_G = np.polyval(p_G,x)\n",
    "plt.plot(x,z_plt_G)"
   ]
  },
  {
   "cell_type": "code",
   "execution_count": 16,
   "metadata": {
    "scrolled": true
   },
   "outputs": [
    {
     "name": "stdout",
     "output_type": "stream",
     "text": [
      "a generalizado= 182.55209595661833 b generalizado= -0.0001208831619941256\n"
     ]
    },
    {
     "data": {
      "text/plain": [
       "[<matplotlib.lines.Line2D at 0x22fbeef7130>]"
      ]
     },
     "execution_count": 16,
     "metadata": {},
     "output_type": "execute_result"
    },
    {
     "data": {
      "image/png": "[encoded data removed]",
      "text/plain": [
       "<Figure size 432x288 with 1 Axes>"
      ]
     },
     "metadata": {
      "needs_background": "light"
     },
     "output_type": "display_data"
    }
   ],
   "source": [
    "b_G=beta_G\n",
    "a_G=np.exp(alfa_G)\n",
    "print('a generalizado=',a_G,'b generalizado=',b_G)\n",
    "y_plt_G=a_G*np.e**(b_G*x)\n",
    "x_plt=np.linspace(0,15000,100)\n",
    "y_plot_G=a_G*np.e**(b_G*x_plt)\n",
    "plt.plot(x,y,'r*')\n",
    "plt.plot(x,y_plt_G,'b')"
   ]
  },
  {
   "cell_type": "code",
   "execution_count": 17,
   "metadata": {},
   "outputs": [
    {
     "name": "stdout",
     "output_type": "stream",
     "text": [
      "El error cometido por cuadrados mínimos generalizados es de 295.6583161330731\n"
     ]
    }
   ],
   "source": [
    "# Calculo error por CMG\n",
    "Error_CMG = (y - a_G*np.e**(b_G*x))**2\n",
    "print(\"El error cometido por cuadrados mínimos generalizados es de\",sum(Error_CMG))"
   ]
  },
  {
   "cell_type": "markdown",
   "metadata": {},
   "source": [
    "El error cometido por Cuadrados Mínimos Generalizados es menor al error cometido por Cuadrados Mínimos Ordinarios."
   ]
  },
  {
   "cell_type": "code",
   "execution_count": 18,
   "metadata": {},
   "outputs": [
    {
     "data": {
      "text/plain": [
       "<matplotlib.legend.Legend at 0x22fbf0a4310>"
      ]
     },
     "execution_count": 18,
     "metadata": {},
     "output_type": "execute_result"
    },
    {
     "data": {
      "image/png": "[encoded data removed]",
      "text/plain": [
       "<Figure size 432x288 with 1 Axes>"
      ]
     },
     "metadata": {
      "needs_background": "light"
     },
     "output_type": "display_data"
    }
   ],
   "source": [
    "# Grafico los ajustes\n",
    "plt.plot(x,y,\"r*\",label=\"Datos\")\n",
    "plt.plot(x,y_plt,\"b\",label=\"Ajuste lineal\")\n",
    "plt.plot(x,y_plt_O,\"g\",label=\"Ajuste por CMO\")\n",
    "plt.plot(x,y_plt_G,\"y\",label=\"Ajuste por CMG\")\n",
    "plt.legend()"
   ]
  }
 ],
 "metadata": {
  "kernelspec": {
   "display_name": "Python 3",
   "language": "python",
   "name": "python3"
  },
  "language_info": {
   "codemirror_mode": {
    "name": "ipython",
    "version": 3
   },
   "file_extension": ".py",
   "mimetype": "text/x-python",
   "name": "python",
   "nbconvert_exporter": "python",
   "pygments_lexer": "ipython3",
   "version": "3.8.5"
  }
 },
 "nbformat": 4,
 "nbformat_minor": 4
}
