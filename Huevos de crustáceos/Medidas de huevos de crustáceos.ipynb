{
 "cells": [
  {
   "cell_type": "markdown",
   "metadata": {},
   "source": [
    "# Medidas de huevos de crustáceos"
   ]
  },
  {
   "cell_type": "code",
   "execution_count": 1,
   "metadata": {},
   "outputs": [],
   "source": [
    "import numpy as np\n",
    "import matplotlib.pyplot as plt\n",
    "import pandas as pd "
   ]
  },
  {
   "cell_type": "markdown",
   "metadata": {},
   "source": [
    "Para una especie de crustáceos, se capturaron hembras en la playa y se midió el peso de cada una y la cantidad de huevos que transportaban. En el archivo crustaceo_huevos.csv se encuentran las mediciones obtenidas.\n",
    "\n",
    "Fuente: http://www.biostathandbook.com/linearregression.html\n",
    "\n",
    "Se hace un análisis leyendo los datos del archivo, graficando cantidad de huevos en función del peso y realizando un ajuste linear por mínimos cuadrados."
   ]
  },
  {
   "cell_type": "code",
   "execution_count": 2,
   "metadata": {},
   "outputs": [
    {
     "name": "stdout",
     "output_type": "stream",
     "text": [
      "    Peso  Huevos\n",
      "0   5.38      29\n",
      "1   7.36      23\n",
      "2   6.13      22\n",
      "3   4.75      20\n",
      "4   8.10      25\n",
      "5   8.62      25\n",
      "6   6.30      17\n",
      "7   7.44      24\n",
      "8   7.26      20\n",
      "9   7.17      27\n",
      "10  7.78      24\n",
      "11  6.23      21\n",
      "12  5.42      22\n",
      "13  7.87      22\n",
      "14  5.25      23\n",
      "15  7.37      35\n",
      "16  8.01      27\n",
      "17  4.92      23\n",
      "18  7.03      25\n",
      "19  6.45      24\n",
      "20  5.06      19\n",
      "21  6.72      21\n",
      "22  7.00      20\n",
      "23  9.39      33\n",
      "24  6.49      17\n",
      "25  6.34      21\n",
      "26  6.16      25\n",
      "27  5.74      22\n"
     ]
    }
   ],
   "source": [
    "datos = pd.read_csv(\"crustaceo_huevos.csv\")   # dataFrame\n",
    "print(datos)"
   ]
  },
  {
   "cell_type": "code",
   "execution_count": 3,
   "metadata": {},
   "outputs": [
    {
     "name": "stdout",
     "output_type": "stream",
     "text": [
      "[[ 5.38 29.  ]\n",
      " [ 7.36 23.  ]\n",
      " [ 6.13 22.  ]\n",
      " [ 4.75 20.  ]\n",
      " [ 8.1  25.  ]\n",
      " [ 8.62 25.  ]\n",
      " [ 6.3  17.  ]\n",
      " [ 7.44 24.  ]\n",
      " [ 7.26 20.  ]\n",
      " [ 7.17 27.  ]\n",
      " [ 7.78 24.  ]\n",
      " [ 6.23 21.  ]\n",
      " [ 5.42 22.  ]\n",
      " [ 7.87 22.  ]\n",
      " [ 5.25 23.  ]\n",
      " [ 7.37 35.  ]\n",
      " [ 8.01 27.  ]\n",
      " [ 4.92 23.  ]\n",
      " [ 7.03 25.  ]\n",
      " [ 6.45 24.  ]\n",
      " [ 5.06 19.  ]\n",
      " [ 6.72 21.  ]\n",
      " [ 7.   20.  ]\n",
      " [ 9.39 33.  ]\n",
      " [ 6.49 17.  ]\n",
      " [ 6.34 21.  ]\n",
      " [ 6.16 25.  ]\n",
      " [ 5.74 22.  ]]\n"
     ]
    }
   ],
   "source": [
    "datosNP = datos.to_numpy()\n",
    "print(datosNP) #convierto datos a un array"
   ]
  },
  {
   "cell_type": "code",
   "execution_count": 4,
   "metadata": {},
   "outputs": [
    {
     "data": {
      "text/plain": [
       "<matplotlib.collections.PathCollection at 0x260d69144c0>"
      ]
     },
     "execution_count": 4,
     "metadata": {},
     "output_type": "execute_result"
    },
    {
     "data": {
      "image/png": "[encoded data removed]",
      "text/plain": [
       "<Figure size 432x288 with 1 Axes>"
      ]
     },
     "metadata": {
      "needs_background": "light"
     },
     "output_type": "display_data"
    }
   ],
   "source": [
    "plt.scatter(datosNP[:,0], datosNP[:,1])"
   ]
  },
  {
   "cell_type": "code",
   "execution_count": 5,
   "metadata": {
    "scrolled": false
   },
   "outputs": [
    {
     "name": "stdout",
     "output_type": "stream",
     "text": [
      " \n",
      "1.602 x + 12.69\n"
     ]
    },
    {
     "data": {
      "text/plain": [
       "<matplotlib.collections.PathCollection at 0x260d6c60910>"
      ]
     },
     "execution_count": 5,
     "metadata": {},
     "output_type": "execute_result"
    },
    {
     "data": {
      "image/png": "[encoded data removed]",
      "text/plain": [
       "<Figure size 432x288 with 1 Axes>"
      ]
     },
     "metadata": {
      "needs_background": "light"
     },
     "output_type": "display_data"
    }
   ],
   "source": [
    "#uso polyfit\n",
    "x = datosNP[:,0]\n",
    "y = datosNP[:,1]\n",
    "c = np.polyfit(x, y, 1)\n",
    "p = np.poly1d(c)\n",
    "print(p)\n",
    "\n",
    "x_plot = np.linspace(4,10,100)\n",
    "plt.plot(x_plot, p(x_plot))\n",
    "plt.scatter(x, y, c=\"g\")"
   ]
  },
  {
   "cell_type": "markdown",
   "metadata": {},
   "source": [
    "$R^2$ del ajuste (coeficiente de determinación), por la fórmula\n",
    "$$\n",
    "R^2 = \\frac{\\|y^* - \\bar y\\|^2}{\\|y - \\bar y\\|^2}\n",
    "$$\n",
    "donde $y$ es el vector de datos , $\\bar y$ es el vector con valor constante igual al valor promedio de los datos e $y^*$ son los valores obtenidos por la regresión lineal."
   ]
  },
  {
   "cell_type": "code",
   "execution_count": 6,
   "metadata": {},
   "outputs": [
    {
     "name": "stdout",
     "output_type": "stream",
     "text": [
      "yRaya =  23.428571428571427\n",
      "R2 =  0.20551932711133872\n"
     ]
    }
   ],
   "source": [
    "#Calculo R^2 para ver bondad de ajuste\n",
    "x = datosNP[:,0]\n",
    "y = datosNP[:,1]\n",
    "yRaya = sum(y)/len(y)\n",
    "print(\"yRaya = \", yRaya)\n",
    "\n",
    "yAsterisco = p(x) # f(x)\n",
    "R2 = np.linalg.norm(yAsterisco - yRaya, 2)**2 / np.linalg.norm(y - yRaya, 2)**2\n",
    "print(\"R2 = \", R2)"
   ]
  },
  {
   "cell_type": "markdown",
   "metadata": {},
   "source": [
    "Como se puede ver, no es conveniente ajustar esos datos a una función lineal dado el valor de R^2."
   ]
  },
  {
   "cell_type": "code",
   "execution_count": null,
   "metadata": {},
   "outputs": [],
   "source": []
  },
  {
   "cell_type": "code",
   "execution_count": null,
   "metadata": {},
   "outputs": [],
   "source": []
  }
 ],
 "metadata": {
  "kernelspec": {
   "display_name": "Python 3",
   "language": "python",
   "name": "python3"
  },
  "language_info": {
   "codemirror_mode": {
    "name": "ipython",
    "version": 3
   },
   "file_extension": ".py",
   "mimetype": "text/x-python",
   "name": "python",
   "nbconvert_exporter": "python",
   "pygments_lexer": "ipython3",
   "version": "3.8.5"
  }
 },
 "nbformat": 4,
 "nbformat_minor": 4
}
